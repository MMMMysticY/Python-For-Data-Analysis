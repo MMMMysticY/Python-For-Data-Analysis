{
 "cells": [
  {
   "cell_type": "code",
   "execution_count": 1,
   "metadata": {
    "collapsed": true
   },
   "outputs": [],
   "source": [
    "import numpy as np\n",
    "import pandas as pd\n",
    "from pandas import Series,DataFrame"
   ]
  },
  {
   "cell_type": "code",
   "execution_count": 4,
   "outputs": [
    {
     "data": {
      "text/plain": "               AA    AAPL     GE     IBM    JNJ   MSFT    PEP      SPX    XOM\n1990-02-01   4.98    7.86   2.87   16.79   4.27   0.51   6.04   328.79   6.12\n1990-02-02   5.04    8.00   2.87   16.89   4.37   0.51   6.09   330.92   6.24\n1990-02-05   5.07    8.18   2.87   17.32   4.34   0.51   6.05   331.85   6.25\n1990-02-06   5.01    8.12   2.88   17.56   4.32   0.51   6.15   329.66   6.23\n1990-02-07   5.04    7.77   2.91   17.93   4.38   0.51   6.17   333.75   6.33\n...           ...     ...    ...     ...    ...    ...    ...      ...    ...\n2011-10-10  10.09  388.81  16.14  186.62  64.43  26.94  61.87  1194.89  76.28\n2011-10-11  10.30  400.29  16.14  185.00  63.96  27.00  60.95  1195.54  76.27\n2011-10-12  10.05  402.19  16.40  186.12  64.33  26.96  62.70  1207.25  77.16\n2011-10-13  10.10  408.43  16.22  186.82  64.23  27.18  62.36  1203.66  76.37\n2011-10-14  10.26  422.00  16.60  190.53  64.72  27.27  62.24  1224.58  78.11\n\n[5472 rows x 9 columns]",
      "text/html": "<div>\n<style scoped>\n    .dataframe tbody tr th:only-of-type {\n        vertical-align: middle;\n    }\n\n    .dataframe tbody tr th {\n        vertical-align: top;\n    }\n\n    .dataframe thead th {\n        text-align: right;\n    }\n</style>\n<table border=\"1\" class=\"dataframe\">\n  <thead>\n    <tr style=\"text-align: right;\">\n      <th></th>\n      <th>AA</th>\n      <th>AAPL</th>\n      <th>GE</th>\n      <th>IBM</th>\n      <th>JNJ</th>\n      <th>MSFT</th>\n      <th>PEP</th>\n      <th>SPX</th>\n      <th>XOM</th>\n    </tr>\n  </thead>\n  <tbody>\n    <tr>\n      <th>1990-02-01</th>\n      <td>4.98</td>\n      <td>7.86</td>\n      <td>2.87</td>\n      <td>16.79</td>\n      <td>4.27</td>\n      <td>0.51</td>\n      <td>6.04</td>\n      <td>328.79</td>\n      <td>6.12</td>\n    </tr>\n    <tr>\n      <th>1990-02-02</th>\n      <td>5.04</td>\n      <td>8.00</td>\n      <td>2.87</td>\n      <td>16.89</td>\n      <td>4.37</td>\n      <td>0.51</td>\n      <td>6.09</td>\n      <td>330.92</td>\n      <td>6.24</td>\n    </tr>\n    <tr>\n      <th>1990-02-05</th>\n      <td>5.07</td>\n      <td>8.18</td>\n      <td>2.87</td>\n      <td>17.32</td>\n      <td>4.34</td>\n      <td>0.51</td>\n      <td>6.05</td>\n      <td>331.85</td>\n      <td>6.25</td>\n    </tr>\n    <tr>\n      <th>1990-02-06</th>\n      <td>5.01</td>\n      <td>8.12</td>\n      <td>2.88</td>\n      <td>17.56</td>\n      <td>4.32</td>\n      <td>0.51</td>\n      <td>6.15</td>\n      <td>329.66</td>\n      <td>6.23</td>\n    </tr>\n    <tr>\n      <th>1990-02-07</th>\n      <td>5.04</td>\n      <td>7.77</td>\n      <td>2.91</td>\n      <td>17.93</td>\n      <td>4.38</td>\n      <td>0.51</td>\n      <td>6.17</td>\n      <td>333.75</td>\n      <td>6.33</td>\n    </tr>\n    <tr>\n      <th>...</th>\n      <td>...</td>\n      <td>...</td>\n      <td>...</td>\n      <td>...</td>\n      <td>...</td>\n      <td>...</td>\n      <td>...</td>\n      <td>...</td>\n      <td>...</td>\n    </tr>\n    <tr>\n      <th>2011-10-10</th>\n      <td>10.09</td>\n      <td>388.81</td>\n      <td>16.14</td>\n      <td>186.62</td>\n      <td>64.43</td>\n      <td>26.94</td>\n      <td>61.87</td>\n      <td>1194.89</td>\n      <td>76.28</td>\n    </tr>\n    <tr>\n      <th>2011-10-11</th>\n      <td>10.30</td>\n      <td>400.29</td>\n      <td>16.14</td>\n      <td>185.00</td>\n      <td>63.96</td>\n      <td>27.00</td>\n      <td>60.95</td>\n      <td>1195.54</td>\n      <td>76.27</td>\n    </tr>\n    <tr>\n      <th>2011-10-12</th>\n      <td>10.05</td>\n      <td>402.19</td>\n      <td>16.40</td>\n      <td>186.12</td>\n      <td>64.33</td>\n      <td>26.96</td>\n      <td>62.70</td>\n      <td>1207.25</td>\n      <td>77.16</td>\n    </tr>\n    <tr>\n      <th>2011-10-13</th>\n      <td>10.10</td>\n      <td>408.43</td>\n      <td>16.22</td>\n      <td>186.82</td>\n      <td>64.23</td>\n      <td>27.18</td>\n      <td>62.36</td>\n      <td>1203.66</td>\n      <td>76.37</td>\n    </tr>\n    <tr>\n      <th>2011-10-14</th>\n      <td>10.26</td>\n      <td>422.00</td>\n      <td>16.60</td>\n      <td>190.53</td>\n      <td>64.72</td>\n      <td>27.27</td>\n      <td>62.24</td>\n      <td>1224.58</td>\n      <td>78.11</td>\n    </tr>\n  </tbody>\n</table>\n<p>5472 rows × 9 columns</p>\n</div>"
     },
     "execution_count": 4,
     "metadata": {},
     "output_type": "execute_result"
    }
   ],
   "source": [
    "#pandas提供了自动的数据对齐功能\n",
    "\n",
    "data = pd.read_csv('../examples/stock_px.csv',parse_dates=True,index_col=0)\n",
    "data"
   ],
   "metadata": {
    "collapsed": false,
    "pycharm": {
     "name": "#%%\n"
    }
   }
  },
  {
   "cell_type": "code",
   "execution_count": 7,
   "outputs": [
    {
     "data": {
      "text/plain": "              AAPL    JNJ      SPX    XOM\n1990-02-01    7.86   4.27   328.79   6.12\n1990-02-02    8.00   4.37   330.92   6.24\n1990-02-05    8.18   4.34   331.85   6.25\n1990-02-06    8.12   4.32   329.66   6.23\n1990-02-07    7.77   4.38   333.75   6.33\n...            ...    ...      ...    ...\n2011-10-10  388.81  64.43  1194.89  76.28\n2011-10-11  400.29  63.96  1195.54  76.27\n2011-10-12  402.19  64.33  1207.25  77.16\n2011-10-13  408.43  64.23  1203.66  76.37\n2011-10-14  422.00  64.72  1224.58  78.11\n\n[5472 rows x 4 columns]",
      "text/html": "<div>\n<style scoped>\n    .dataframe tbody tr th:only-of-type {\n        vertical-align: middle;\n    }\n\n    .dataframe tbody tr th {\n        vertical-align: top;\n    }\n\n    .dataframe thead th {\n        text-align: right;\n    }\n</style>\n<table border=\"1\" class=\"dataframe\">\n  <thead>\n    <tr style=\"text-align: right;\">\n      <th></th>\n      <th>AAPL</th>\n      <th>JNJ</th>\n      <th>SPX</th>\n      <th>XOM</th>\n    </tr>\n  </thead>\n  <tbody>\n    <tr>\n      <th>1990-02-01</th>\n      <td>7.86</td>\n      <td>4.27</td>\n      <td>328.79</td>\n      <td>6.12</td>\n    </tr>\n    <tr>\n      <th>1990-02-02</th>\n      <td>8.00</td>\n      <td>4.37</td>\n      <td>330.92</td>\n      <td>6.24</td>\n    </tr>\n    <tr>\n      <th>1990-02-05</th>\n      <td>8.18</td>\n      <td>4.34</td>\n      <td>331.85</td>\n      <td>6.25</td>\n    </tr>\n    <tr>\n      <th>1990-02-06</th>\n      <td>8.12</td>\n      <td>4.32</td>\n      <td>329.66</td>\n      <td>6.23</td>\n    </tr>\n    <tr>\n      <th>1990-02-07</th>\n      <td>7.77</td>\n      <td>4.38</td>\n      <td>333.75</td>\n      <td>6.33</td>\n    </tr>\n    <tr>\n      <th>...</th>\n      <td>...</td>\n      <td>...</td>\n      <td>...</td>\n      <td>...</td>\n    </tr>\n    <tr>\n      <th>2011-10-10</th>\n      <td>388.81</td>\n      <td>64.43</td>\n      <td>1194.89</td>\n      <td>76.28</td>\n    </tr>\n    <tr>\n      <th>2011-10-11</th>\n      <td>400.29</td>\n      <td>63.96</td>\n      <td>1195.54</td>\n      <td>76.27</td>\n    </tr>\n    <tr>\n      <th>2011-10-12</th>\n      <td>402.19</td>\n      <td>64.33</td>\n      <td>1207.25</td>\n      <td>77.16</td>\n    </tr>\n    <tr>\n      <th>2011-10-13</th>\n      <td>408.43</td>\n      <td>64.23</td>\n      <td>1203.66</td>\n      <td>76.37</td>\n    </tr>\n    <tr>\n      <th>2011-10-14</th>\n      <td>422.00</td>\n      <td>64.72</td>\n      <td>1224.58</td>\n      <td>78.11</td>\n    </tr>\n  </tbody>\n</table>\n<p>5472 rows × 4 columns</p>\n</div>"
     },
     "execution_count": 7,
     "metadata": {},
     "output_type": "execute_result"
    }
   ],
   "source": [
    "prices1 = data[['AAPL','JNJ','SPX','XOM']]\n",
    "prices1"
   ],
   "metadata": {
    "collapsed": false,
    "pycharm": {
     "name": "#%%\n"
    }
   }
  },
  {
   "cell_type": "code",
   "execution_count": 8,
   "outputs": [
    {
     "data": {
      "text/plain": "              AAPL    JNJ      SPX    XOM\n2011-09-06  379.74  64.64  1165.24  71.15\n2011-09-07  383.93  65.43  1198.62  73.65\n2011-09-08  384.14  64.95  1185.90  72.82\n2011-09-09  377.48  63.64  1154.23  71.01\n2011-09-12  379.94  63.59  1162.27  71.84\n2011-09-13  384.62  63.61  1172.87  71.65\n2011-09-14  389.30  63.73  1188.68  72.64",
      "text/html": "<div>\n<style scoped>\n    .dataframe tbody tr th:only-of-type {\n        vertical-align: middle;\n    }\n\n    .dataframe tbody tr th {\n        vertical-align: top;\n    }\n\n    .dataframe thead th {\n        text-align: right;\n    }\n</style>\n<table border=\"1\" class=\"dataframe\">\n  <thead>\n    <tr style=\"text-align: right;\">\n      <th></th>\n      <th>AAPL</th>\n      <th>JNJ</th>\n      <th>SPX</th>\n      <th>XOM</th>\n    </tr>\n  </thead>\n  <tbody>\n    <tr>\n      <th>2011-09-06</th>\n      <td>379.74</td>\n      <td>64.64</td>\n      <td>1165.24</td>\n      <td>71.15</td>\n    </tr>\n    <tr>\n      <th>2011-09-07</th>\n      <td>383.93</td>\n      <td>65.43</td>\n      <td>1198.62</td>\n      <td>73.65</td>\n    </tr>\n    <tr>\n      <th>2011-09-08</th>\n      <td>384.14</td>\n      <td>64.95</td>\n      <td>1185.90</td>\n      <td>72.82</td>\n    </tr>\n    <tr>\n      <th>2011-09-09</th>\n      <td>377.48</td>\n      <td>63.64</td>\n      <td>1154.23</td>\n      <td>71.01</td>\n    </tr>\n    <tr>\n      <th>2011-09-12</th>\n      <td>379.94</td>\n      <td>63.59</td>\n      <td>1162.27</td>\n      <td>71.84</td>\n    </tr>\n    <tr>\n      <th>2011-09-13</th>\n      <td>384.62</td>\n      <td>63.61</td>\n      <td>1172.87</td>\n      <td>71.65</td>\n    </tr>\n    <tr>\n      <th>2011-09-14</th>\n      <td>389.30</td>\n      <td>63.73</td>\n      <td>1188.68</td>\n      <td>72.64</td>\n    </tr>\n  </tbody>\n</table>\n</div>"
     },
     "execution_count": 8,
     "metadata": {},
     "output_type": "execute_result"
    }
   ],
   "source": [
    "price = prices1.loc['2011-09-06':'2011-09-14']\n",
    "price"
   ],
   "metadata": {
    "collapsed": false,
    "pycharm": {
     "name": "#%%\n"
    }
   }
  },
  {
   "cell_type": "code",
   "execution_count": 9,
   "outputs": [
    {
     "data": {
      "text/plain": "              AAPL    JNJ    XOM\n2011-09-06  379.74  64.64  71.15\n2011-09-07  383.93  65.43  73.65\n2011-09-08  384.14  64.95  72.82\n2011-09-09  377.48  63.64  71.01\n2011-09-12  379.94  63.59  71.84",
      "text/html": "<div>\n<style scoped>\n    .dataframe tbody tr th:only-of-type {\n        vertical-align: middle;\n    }\n\n    .dataframe tbody tr th {\n        vertical-align: top;\n    }\n\n    .dataframe thead th {\n        text-align: right;\n    }\n</style>\n<table border=\"1\" class=\"dataframe\">\n  <thead>\n    <tr style=\"text-align: right;\">\n      <th></th>\n      <th>AAPL</th>\n      <th>JNJ</th>\n      <th>XOM</th>\n    </tr>\n  </thead>\n  <tbody>\n    <tr>\n      <th>2011-09-06</th>\n      <td>379.74</td>\n      <td>64.64</td>\n      <td>71.15</td>\n    </tr>\n    <tr>\n      <th>2011-09-07</th>\n      <td>383.93</td>\n      <td>65.43</td>\n      <td>73.65</td>\n    </tr>\n    <tr>\n      <th>2011-09-08</th>\n      <td>384.14</td>\n      <td>64.95</td>\n      <td>72.82</td>\n    </tr>\n    <tr>\n      <th>2011-09-09</th>\n      <td>377.48</td>\n      <td>63.64</td>\n      <td>71.01</td>\n    </tr>\n    <tr>\n      <th>2011-09-12</th>\n      <td>379.94</td>\n      <td>63.59</td>\n      <td>71.84</td>\n    </tr>\n  </tbody>\n</table>\n</div>"
     },
     "execution_count": 9,
     "metadata": {},
     "output_type": "execute_result"
    }
   ],
   "source": [
    "volume = data[['AAPL','JNJ','XOM']].loc['2011-09-06':'2011-09-12']\n",
    "volume"
   ],
   "metadata": {
    "collapsed": false,
    "pycharm": {
     "name": "#%%\n"
    }
   }
  },
  {
   "cell_type": "code",
   "execution_count": 10,
   "outputs": [
    {
     "data": {
      "text/plain": "                AAPL      JNJ      XOM\n2011-09-06  379740.0  64640.0  71150.0\n2011-09-07  383930.0  65430.0  73650.0\n2011-09-08  384140.0  64950.0  72820.0\n2011-09-09  377480.0  63640.0  71010.0\n2011-09-12  379940.0  63590.0  71840.0",
      "text/html": "<div>\n<style scoped>\n    .dataframe tbody tr th:only-of-type {\n        vertical-align: middle;\n    }\n\n    .dataframe tbody tr th {\n        vertical-align: top;\n    }\n\n    .dataframe thead th {\n        text-align: right;\n    }\n</style>\n<table border=\"1\" class=\"dataframe\">\n  <thead>\n    <tr style=\"text-align: right;\">\n      <th></th>\n      <th>AAPL</th>\n      <th>JNJ</th>\n      <th>XOM</th>\n    </tr>\n  </thead>\n  <tbody>\n    <tr>\n      <th>2011-09-06</th>\n      <td>379740.0</td>\n      <td>64640.0</td>\n      <td>71150.0</td>\n    </tr>\n    <tr>\n      <th>2011-09-07</th>\n      <td>383930.0</td>\n      <td>65430.0</td>\n      <td>73650.0</td>\n    </tr>\n    <tr>\n      <th>2011-09-08</th>\n      <td>384140.0</td>\n      <td>64950.0</td>\n      <td>72820.0</td>\n    </tr>\n    <tr>\n      <th>2011-09-09</th>\n      <td>377480.0</td>\n      <td>63640.0</td>\n      <td>71010.0</td>\n    </tr>\n    <tr>\n      <th>2011-09-12</th>\n      <td>379940.0</td>\n      <td>63590.0</td>\n      <td>71840.0</td>\n    </tr>\n  </tbody>\n</table>\n</div>"
     },
     "execution_count": 10,
     "metadata": {},
     "output_type": "execute_result"
    }
   ],
   "source": [
    "volume = volume*1000\n",
    "volume"
   ],
   "metadata": {
    "collapsed": false,
    "pycharm": {
     "name": "#%%\n"
    }
   }
  },
  {
   "cell_type": "code",
   "execution_count": 11,
   "outputs": [
    {
     "data": {
      "text/plain": "                   AAPL        JNJ  SPX        XOM\n2011-09-06  144202467.6  4178329.6  NaN  5062322.5\n2011-09-07  147402244.9  4281084.9  NaN  5424322.5\n2011-09-08  147563539.6  4218502.5  NaN  5302752.4\n2011-09-09  142491150.4  4050049.6  NaN  5042420.1\n2011-09-12  144354403.6  4043688.1  NaN  5160985.6\n2011-09-13          NaN        NaN  NaN        NaN\n2011-09-14          NaN        NaN  NaN        NaN",
      "text/html": "<div>\n<style scoped>\n    .dataframe tbody tr th:only-of-type {\n        vertical-align: middle;\n    }\n\n    .dataframe tbody tr th {\n        vertical-align: top;\n    }\n\n    .dataframe thead th {\n        text-align: right;\n    }\n</style>\n<table border=\"1\" class=\"dataframe\">\n  <thead>\n    <tr style=\"text-align: right;\">\n      <th></th>\n      <th>AAPL</th>\n      <th>JNJ</th>\n      <th>SPX</th>\n      <th>XOM</th>\n    </tr>\n  </thead>\n  <tbody>\n    <tr>\n      <th>2011-09-06</th>\n      <td>144202467.6</td>\n      <td>4178329.6</td>\n      <td>NaN</td>\n      <td>5062322.5</td>\n    </tr>\n    <tr>\n      <th>2011-09-07</th>\n      <td>147402244.9</td>\n      <td>4281084.9</td>\n      <td>NaN</td>\n      <td>5424322.5</td>\n    </tr>\n    <tr>\n      <th>2011-09-08</th>\n      <td>147563539.6</td>\n      <td>4218502.5</td>\n      <td>NaN</td>\n      <td>5302752.4</td>\n    </tr>\n    <tr>\n      <th>2011-09-09</th>\n      <td>142491150.4</td>\n      <td>4050049.6</td>\n      <td>NaN</td>\n      <td>5042420.1</td>\n    </tr>\n    <tr>\n      <th>2011-09-12</th>\n      <td>144354403.6</td>\n      <td>4043688.1</td>\n      <td>NaN</td>\n      <td>5160985.6</td>\n    </tr>\n    <tr>\n      <th>2011-09-13</th>\n      <td>NaN</td>\n      <td>NaN</td>\n      <td>NaN</td>\n      <td>NaN</td>\n    </tr>\n    <tr>\n      <th>2011-09-14</th>\n      <td>NaN</td>\n      <td>NaN</td>\n      <td>NaN</td>\n      <td>NaN</td>\n    </tr>\n  </tbody>\n</table>\n</div>"
     },
     "execution_count": 11,
     "metadata": {},
     "output_type": "execute_result"
    }
   ],
   "source": [
    "#假设我们经过处理之后得到 prices是当日的股价 而volume是当日的成交额（因为我没找到volume对应的数据）\n",
    "\n",
    "#如果要计算成交量加权平均价格 由于pandas的自动对齐机制可以比较简单实现\n",
    "price*volume"
   ],
   "metadata": {
    "collapsed": false,
    "pycharm": {
     "name": "#%%\n"
    }
   }
  },
  {
   "cell_type": "code",
   "execution_count": 13,
   "outputs": [
    {
     "data": {
      "text/plain": "AAPL    381.063602\nJNJ      64.458199\nSPX            NaN\nXOM      72.108090\ndtype: float64"
     },
     "execution_count": 13,
     "metadata": {},
     "output_type": "execute_result"
    }
   ],
   "source": [
    "vwap = (price*volume).sum()/volume.sum()\n",
    "vwap\n",
    "#乘的时候就会对齐 使用sum也会排除缺失数据"
   ],
   "metadata": {
    "collapsed": false,
    "pycharm": {
     "name": "#%%\n"
    }
   }
  },
  {
   "cell_type": "code",
   "execution_count": 14,
   "outputs": [
    {
     "data": {
      "text/plain": "AAPL    381.063602\nJNJ      64.458199\nXOM      72.108090\ndtype: float64"
     },
     "execution_count": 14,
     "metadata": {},
     "output_type": "execute_result"
    }
   ],
   "source": [
    "vwap.dropna()"
   ],
   "metadata": {
    "collapsed": false,
    "pycharm": {
     "name": "#%%\n"
    }
   }
  },
  {
   "cell_type": "code",
   "execution_count": 15,
   "outputs": [
    {
     "data": {
      "text/plain": "(              AAPL    JNJ    XOM\n 2011-09-06  379.74  64.64  71.15\n 2011-09-07  383.93  65.43  73.65\n 2011-09-08  384.14  64.95  72.82\n 2011-09-09  377.48  63.64  71.01\n 2011-09-12  379.94  63.59  71.84,\n                 AAPL      JNJ      XOM\n 2011-09-06  379740.0  64640.0  71150.0\n 2011-09-07  383930.0  65430.0  73650.0\n 2011-09-08  384140.0  64950.0  72820.0\n 2011-09-09  377480.0  63640.0  71010.0\n 2011-09-12  379940.0  63590.0  71840.0)"
     },
     "execution_count": 15,
     "metadata": {},
     "output_type": "execute_result"
    }
   ],
   "source": [
    "#使用手工对齐方法 align\n",
    "price.align(volume,join='inner')\n",
    "#align用以手动对齐，得到的结果是一个元组 含有两个对象的重索引版本"
   ],
   "metadata": {
    "collapsed": false,
    "pycharm": {
     "name": "#%%\n"
    }
   }
  },
  {
   "cell_type": "code",
   "execution_count": 16,
   "outputs": [],
   "source": [
    "s1 = Series(range(3),index=['a','b','c'])\n",
    "s2 = Series(range(4),index=['d','b','c','e'])\n",
    "s3 = Series(range(3),index=['f','a','c'])"
   ],
   "metadata": {
    "collapsed": false,
    "pycharm": {
     "name": "#%%\n"
    }
   }
  },
  {
   "cell_type": "code",
   "execution_count": 17,
   "outputs": [
    {
     "data": {
      "text/plain": "   one  two  three\na  0.0  NaN    1.0\nb  1.0  1.0    NaN\nc  2.0  2.0    2.0\nd  NaN  0.0    NaN\ne  NaN  3.0    NaN\nf  NaN  NaN    0.0",
      "text/html": "<div>\n<style scoped>\n    .dataframe tbody tr th:only-of-type {\n        vertical-align: middle;\n    }\n\n    .dataframe tbody tr th {\n        vertical-align: top;\n    }\n\n    .dataframe thead th {\n        text-align: right;\n    }\n</style>\n<table border=\"1\" class=\"dataframe\">\n  <thead>\n    <tr style=\"text-align: right;\">\n      <th></th>\n      <th>one</th>\n      <th>two</th>\n      <th>three</th>\n    </tr>\n  </thead>\n  <tbody>\n    <tr>\n      <th>a</th>\n      <td>0.0</td>\n      <td>NaN</td>\n      <td>1.0</td>\n    </tr>\n    <tr>\n      <th>b</th>\n      <td>1.0</td>\n      <td>1.0</td>\n      <td>NaN</td>\n    </tr>\n    <tr>\n      <th>c</th>\n      <td>2.0</td>\n      <td>2.0</td>\n      <td>2.0</td>\n    </tr>\n    <tr>\n      <th>d</th>\n      <td>NaN</td>\n      <td>0.0</td>\n      <td>NaN</td>\n    </tr>\n    <tr>\n      <th>e</th>\n      <td>NaN</td>\n      <td>3.0</td>\n      <td>NaN</td>\n    </tr>\n    <tr>\n      <th>f</th>\n      <td>NaN</td>\n      <td>NaN</td>\n      <td>0.0</td>\n    </tr>\n  </tbody>\n</table>\n</div>"
     },
     "execution_count": 17,
     "metadata": {},
     "output_type": "execute_result"
    }
   ],
   "source": [
    "#通过索引不同的多个Series构建一个DataFrame\n",
    "DataFrame({'one':s1,'two':s2,'three':s3})\n",
    "#此时就进行了合并对齐 没有的用NaN代替"
   ],
   "metadata": {
    "collapsed": false,
    "pycharm": {
     "name": "#%%\n"
    }
   }
  },
  {
   "cell_type": "code",
   "execution_count": 19,
   "outputs": [
    {
     "data": {
      "text/plain": "   one  two  three\nf  NaN  NaN    0.0\na  0.0  NaN    1.0\nc  2.0  2.0    2.0\ne  NaN  3.0    NaN",
      "text/html": "<div>\n<style scoped>\n    .dataframe tbody tr th:only-of-type {\n        vertical-align: middle;\n    }\n\n    .dataframe tbody tr th {\n        vertical-align: top;\n    }\n\n    .dataframe thead th {\n        text-align: right;\n    }\n</style>\n<table border=\"1\" class=\"dataframe\">\n  <thead>\n    <tr style=\"text-align: right;\">\n      <th></th>\n      <th>one</th>\n      <th>two</th>\n      <th>three</th>\n    </tr>\n  </thead>\n  <tbody>\n    <tr>\n      <th>f</th>\n      <td>NaN</td>\n      <td>NaN</td>\n      <td>0.0</td>\n    </tr>\n    <tr>\n      <th>a</th>\n      <td>0.0</td>\n      <td>NaN</td>\n      <td>1.0</td>\n    </tr>\n    <tr>\n      <th>c</th>\n      <td>2.0</td>\n      <td>2.0</td>\n      <td>2.0</td>\n    </tr>\n    <tr>\n      <th>e</th>\n      <td>NaN</td>\n      <td>3.0</td>\n      <td>NaN</td>\n    </tr>\n  </tbody>\n</table>\n</div>"
     },
     "execution_count": 19,
     "metadata": {},
     "output_type": "execute_result"
    }
   ],
   "source": [
    "DataFrame({'one':s1,'two':s2,'three':s3},index=list('face'))\n",
    "#当然可以显示定义index的值"
   ],
   "metadata": {
    "collapsed": false,
    "pycharm": {
     "name": "#%%\n"
    }
   }
  },
  {
   "cell_type": "code",
   "execution_count": null,
   "outputs": [],
   "source": [
    "#频率不同的时间序列的运算 肯定还是要对齐\n",
    "#对齐方法有两种resample和reindex\n",
    "#resample将数据统一到固定频率（比如统一到月/季/年进行计算）\n",
    "#reindex自然就更广泛了 定为一个新的索引上\n",
    "#resample和reindex都支持插值（ffill bfill）"
   ],
   "metadata": {
    "collapsed": false,
    "pycharm": {
     "name": "#%%\n"
    }
   }
  },
  {
   "cell_type": "code",
   "execution_count": 20,
   "outputs": [
    {
     "data": {
      "text/plain": "2012-06-13   -0.127052\n2012-06-20    0.033869\n2012-06-27    0.319417\nFreq: W-WED, dtype: float64"
     },
     "execution_count": 20,
     "metadata": {},
     "output_type": "execute_result"
    }
   ],
   "source": [
    "ts1 = Series(np.random.randn(3),\n",
    "             index=pd.date_range('2012-6-13',periods=3,freq='W-WED'))\n",
    "ts1"
   ],
   "metadata": {
    "collapsed": false,
    "pycharm": {
     "name": "#%%\n"
    }
   }
  },
  {
   "cell_type": "code",
   "execution_count": 22,
   "outputs": [
    {
     "data": {
      "text/plain": "2012-06-13    1\n2012-06-14    0\n2012-06-15    0\n2012-06-18    0\n2012-06-19    0\n2012-06-20    1\n2012-06-21    0\n2012-06-22    0\n2012-06-25    0\n2012-06-26    0\n2012-06-27    1\nFreq: B, dtype: int64"
     },
     "execution_count": 22,
     "metadata": {},
     "output_type": "execute_result"
    }
   ],
   "source": [
    "#将其重采样到所有的工作日上\n",
    "ts1.resample('B').size()\n",
    "#其他的部分会补NaN"
   ],
   "metadata": {
    "collapsed": false,
    "pycharm": {
     "name": "#%%\n"
    }
   }
  },
  {
   "cell_type": "code",
   "execution_count": 24,
   "outputs": [
    {
     "data": {
      "text/plain": "2012-06-13   -0.127052\n2012-06-14   -0.127052\n2012-06-15   -0.127052\n2012-06-18   -0.127052\n2012-06-19   -0.127052\n2012-06-20    0.033869\n2012-06-21    0.033869\n2012-06-22    0.033869\n2012-06-25    0.033869\n2012-06-26    0.033869\n2012-06-27    0.319417\nFreq: B, dtype: float64"
     },
     "execution_count": 24,
     "metadata": {},
     "output_type": "execute_result"
    }
   ],
   "source": [
    "ts1.resample('B').ffill()\n",
    "#向前插值"
   ],
   "metadata": {
    "collapsed": false,
    "pycharm": {
     "name": "#%%\n"
    }
   }
  },
  {
   "cell_type": "code",
   "execution_count": 25,
   "outputs": [
    {
     "data": {
      "text/plain": "2012-06-12   -0.424680\n2012-06-17   -1.953922\n2012-06-18   -1.395956\n2012-06-21    0.733669\n2012-06-22   -0.332718\n2012-06-29    0.369660\ndtype: float64"
     },
     "execution_count": 25,
     "metadata": {},
     "output_type": "execute_result"
    }
   ],
   "source": [
    "dates = pd.DatetimeIndex(['2012-6-12','2012-6-17','2012-6-18','2012-6-21','2012-6-22','2012-6-29'])\n",
    "ts2 = Series(np.random.randn(6),index=dates)\n",
    "ts2"
   ],
   "metadata": {
    "collapsed": false,
    "pycharm": {
     "name": "#%%\n"
    }
   }
  },
  {
   "cell_type": "code",
   "execution_count": 28,
   "outputs": [
    {
     "data": {
      "text/plain": "2012-06-12         NaN\n2012-06-13   -0.551732\n2012-06-14   -0.551732\n2012-06-15   -0.551732\n2012-06-18   -1.523008\n2012-06-19   -1.523008\n2012-06-20   -1.362086\n2012-06-21    0.767539\n2012-06-22   -0.298849\n2012-06-25   -0.298849\n2012-06-26   -0.298849\n2012-06-27   -0.013301\n2012-06-28         NaN\n2012-06-29         NaN\nFreq: B, dtype: float64"
     },
     "execution_count": 28,
     "metadata": {},
     "output_type": "execute_result"
    }
   ],
   "source": [
    "#如果要将ts1和ts2相加 可以使用resample\n",
    "ts3 = ts1.resample('B').ffill()+ts2.resample('B').ffill()\n",
    "ts3\n",
    "#这样自然是可以的"
   ],
   "metadata": {
    "collapsed": false,
    "pycharm": {
     "name": "#%%\n"
    }
   }
  },
  {
   "cell_type": "code",
   "execution_count": 29,
   "outputs": [
    {
     "data": {
      "text/plain": "2012-06-12         NaN\n2012-06-17         NaN\n2012-06-18   -1.523008\n2012-06-21    0.767539\n2012-06-22   -0.298849\n2012-06-29         NaN\ndtype: float64"
     },
     "execution_count": 29,
     "metadata": {},
     "output_type": "execute_result"
    }
   ],
   "source": [
    "#但是如果要保证保留ts2的索引 就需要用到reindex\n",
    "ts3.reindex(ts2.index)"
   ],
   "metadata": {
    "collapsed": false,
    "pycharm": {
     "name": "#%%\n"
    }
   }
  },
  {
   "cell_type": "code",
   "execution_count": 30,
   "outputs": [
    {
     "data": {
      "text/plain": "2012-06-12         NaN\n2012-06-17   -0.127052\n2012-06-18   -0.127052\n2012-06-21    0.033869\n2012-06-22    0.033869\n2012-06-29    0.319417\ndtype: float64"
     },
     "execution_count": 30,
     "metadata": {},
     "output_type": "execute_result"
    }
   ],
   "source": [
    "ts1.reindex(ts2.index,method='ffill')"
   ],
   "metadata": {
    "collapsed": false,
    "pycharm": {
     "name": "#%%\n"
    }
   }
  },
  {
   "cell_type": "code",
   "execution_count": 31,
   "outputs": [
    {
     "data": {
      "text/plain": "2012-06-12         NaN\n2012-06-17   -2.080974\n2012-06-18   -1.523008\n2012-06-21    0.767539\n2012-06-22   -0.298849\n2012-06-29    0.689077\ndtype: float64"
     },
     "execution_count": 31,
     "metadata": {},
     "output_type": "execute_result"
    }
   ],
   "source": [
    "ts2+ts1.reindex(ts2.index,method='ffill')\n",
    "#都是合理的"
   ],
   "metadata": {
    "collapsed": false,
    "pycharm": {
     "name": "#%%\n"
    }
   }
  },
  {
   "cell_type": "code",
   "execution_count": 32,
   "outputs": [
    {
     "data": {
      "text/plain": "1984-06-30    1.78\n1984-09-30    1.95\n1984-12-31    3.53\n1985-03-31    3.22\n1985-06-30    2.43\n1985-09-30    2.53\n1985-12-31    5.43\nFreq: Q-SEP, dtype: float64"
     },
     "execution_count": 32,
     "metadata": {},
     "output_type": "execute_result"
    }
   ],
   "source": [
    "#对于不同的freq的对齐 asfreq\n",
    "gdp = Series([1.78,1.95,3.53,3.22,2.43,2.53,5.43],index=pd.date_range('1984Q2',periods=7,freq='Q-SEP'))\n",
    "gdp\n",
    "#Q是按照季度来的"
   ],
   "metadata": {
    "collapsed": false,
    "pycharm": {
     "name": "#%%\n"
    }
   }
  },
  {
   "cell_type": "code",
   "execution_count": 33,
   "outputs": [
    {
     "data": {
      "text/plain": "1982-12-31    0.025\n1983-12-31    0.034\n1984-12-31    0.053\n1985-12-31    0.040\nFreq: A-DEC, dtype: float64"
     },
     "execution_count": 33,
     "metadata": {},
     "output_type": "execute_result"
    }
   ],
   "source": [
    "infl = Series([0.025,0.034,0.053,0.04],index=pd.date_range('1982',periods=4,freq='A-DEC'))\n",
    "infl\n",
    "#这是按照年来的"
   ],
   "metadata": {
    "collapsed": false,
    "pycharm": {
     "name": "#%%\n"
    }
   }
  },
  {
   "cell_type": "code",
   "execution_count": 43,
   "outputs": [
    {
     "data": {
      "text/plain": "1982-12-31    0.025\n1983-03-31      NaN\n1983-06-30      NaN\n1983-09-30      NaN\n1983-12-31    0.034\n1984-03-31      NaN\n1984-06-30      NaN\n1984-09-30      NaN\n1984-12-31    0.053\n1985-03-31      NaN\n1985-06-30      NaN\n1985-09-30      NaN\n1985-12-31    0.040\nFreq: Q-SEP, dtype: float64"
     },
     "execution_count": 43,
     "metadata": {},
     "output_type": "execute_result"
    }
   ],
   "source": [
    "#如果要对齐二者可以使用asfreq\n",
    "infl_q = infl.asfreq('Q-SEP',how='end')\n",
    "infl_q"
   ],
   "metadata": {
    "collapsed": false,
    "pycharm": {
     "name": "#%%\n"
    }
   }
  },
  {
   "cell_type": "code",
   "execution_count": 46,
   "outputs": [
    {
     "data": {
      "text/plain": "1984-06-30    0.053\n1984-09-30    0.053\n1984-12-31    0.053\n1985-03-31    0.040\n1985-06-30    0.040\n1985-09-30    0.040\n1985-12-31    0.040\nFreq: Q-SEP, dtype: float64"
     },
     "execution_count": 46,
     "metadata": {},
     "output_type": "execute_result"
    }
   ],
   "source": [
    "infl_q.reindex(gdp.index).bfill()"
   ],
   "metadata": {
    "collapsed": false,
    "pycharm": {
     "name": "#%%\n"
    }
   }
  },
  {
   "cell_type": "code",
   "execution_count": 54,
   "outputs": [
    {
     "data": {
      "text/plain": "DatetimeIndex(['2012-06-01 09:30:00', '2012-06-01 09:31:00',\n               '2012-06-01 09:32:00', '2012-06-01 09:33:00',\n               '2012-06-01 09:34:00', '2012-06-01 09:35:00',\n               '2012-06-01 09:36:00', '2012-06-01 09:37:00',\n               '2012-06-01 09:38:00', '2012-06-01 09:39:00',\n               ...\n               '2012-06-06 15:50:00', '2012-06-06 15:51:00',\n               '2012-06-06 15:52:00', '2012-06-06 15:53:00',\n               '2012-06-06 15:54:00', '2012-06-06 15:55:00',\n               '2012-06-06 15:56:00', '2012-06-06 15:57:00',\n               '2012-06-06 15:58:00', '2012-06-06 15:59:00'],\n              dtype='datetime64[ns]', length=1560, freq=None)"
     },
     "execution_count": 54,
     "metadata": {},
     "output_type": "execute_result"
    }
   ],
   "source": [
    "rng = pd.date_range('2012-06-01 09:30','2012-06-01 15:59',freq='T')\n",
    "rng = rng.append([rng+pd.offsets.BDay(i) for i in range(1,4)])\n",
    "rng"
   ],
   "metadata": {
    "collapsed": false,
    "pycharm": {
     "name": "#%%\n"
    }
   }
  },
  {
   "cell_type": "code",
   "execution_count": 55,
   "outputs": [
    {
     "data": {
      "text/plain": "2012-06-01 09:30:00       0.0\n2012-06-01 09:31:00       1.0\n2012-06-01 09:32:00       2.0\n2012-06-01 09:33:00       3.0\n2012-06-01 09:34:00       4.0\n                        ...  \n2012-06-06 15:55:00    1555.0\n2012-06-06 15:56:00    1556.0\n2012-06-06 15:57:00    1557.0\n2012-06-06 15:58:00    1558.0\n2012-06-06 15:59:00    1559.0\nLength: 1560, dtype: float64"
     },
     "execution_count": 55,
     "metadata": {},
     "output_type": "execute_result"
    }
   ],
   "source": [
    "ts = Series(np.arange(len(rng),dtype=float),index=rng)\n",
    "ts"
   ],
   "metadata": {
    "collapsed": false,
    "pycharm": {
     "name": "#%%\n"
    }
   }
  },
  {
   "cell_type": "code",
   "execution_count": 56,
   "outputs": [
    {
     "data": {
      "text/plain": "2012-06-01 10:00:00      30.0\n2012-06-04 10:00:00     420.0\n2012-06-05 10:00:00     810.0\n2012-06-06 10:00:00    1200.0\ndtype: float64"
     },
     "execution_count": 56,
     "metadata": {},
     "output_type": "execute_result"
    }
   ],
   "source": [
    "from datetime import time\n",
    "ts[time(10,0)]\n",
    "#通过使用datetime.time作为索引就可以取出特定时间点上的值"
   ],
   "metadata": {
    "collapsed": false,
    "pycharm": {
     "name": "#%%\n"
    }
   }
  },
  {
   "cell_type": "code",
   "execution_count": 57,
   "outputs": [
    {
     "data": {
      "text/plain": "2012-06-01 10:00:00      30.0\n2012-06-04 10:00:00     420.0\n2012-06-05 10:00:00     810.0\n2012-06-06 10:00:00    1200.0\ndtype: float64"
     },
     "execution_count": 57,
     "metadata": {},
     "output_type": "execute_result"
    }
   ],
   "source": [
    "ts.at_time(time(10,0))\n",
    "#实际上是使用了at_time方法"
   ],
   "metadata": {
    "collapsed": false,
    "pycharm": {
     "name": "#%%\n"
    }
   }
  },
  {
   "cell_type": "code",
   "execution_count": 58,
   "outputs": [
    {
     "data": {
      "text/plain": "2012-06-01 10:00:00      30.0\n2012-06-01 10:01:00      31.0\n2012-06-04 10:00:00     420.0\n2012-06-04 10:01:00     421.0\n2012-06-05 10:00:00     810.0\n2012-06-05 10:01:00     811.0\n2012-06-06 10:00:00    1200.0\n2012-06-06 10:01:00    1201.0\ndtype: float64"
     },
     "execution_count": 58,
     "metadata": {},
     "output_type": "execute_result"
    }
   ],
   "source": [
    "\n",
    "ts.between_time(time(10,0),time(10,1))\n",
    "#都是闭区间"
   ],
   "metadata": {
    "collapsed": false,
    "pycharm": {
     "name": "#%%\n"
    }
   }
  },
  {
   "cell_type": "code",
   "execution_count": 61,
   "outputs": [
    {
     "data": {
      "text/plain": "2012-06-01 09:50:00     NaN\n2012-06-01 09:51:00     NaN\n2012-06-01 09:52:00     NaN\n2012-06-01 09:53:00     NaN\n2012-06-01 09:54:00     NaN\n2012-06-01 09:55:00     NaN\n2012-06-01 09:56:00    26.0\n2012-06-01 09:57:00    27.0\n2012-06-01 09:58:00    28.0\n2012-06-01 09:59:00    29.0\n2012-06-01 10:00:00     NaN\ndtype: float64"
     },
     "execution_count": 61,
     "metadata": {},
     "output_type": "execute_result"
    }
   ],
   "source": [
    "indexer = np.sort(np.random.permutation(len(ts))[700:])\n",
    "irr_ts = ts.copy()\n",
    "irr_ts[indexer] = np.nan\n",
    "irr_ts['2012-06-01 09:50':'2012-06-01 10:00']\n",
    "#随机将一部分值变为nan"
   ],
   "metadata": {
    "collapsed": false,
    "pycharm": {
     "name": "#%%\n"
    }
   }
  },
  {
   "cell_type": "code",
   "execution_count": 62,
   "outputs": [
    {
     "data": {
      "text/plain": "2012-06-01 10:00:00      29.0\n2012-06-04 10:00:00     420.0\n2012-06-05 10:00:00     810.0\n2012-06-06 10:00:00    1200.0\nFreq: B, dtype: float64"
     },
     "execution_count": 62,
     "metadata": {},
     "output_type": "execute_result"
    }
   ],
   "source": [
    "#当前情况就是 如果很多数据恰好没有落在需要的点上 应该如何处理 可以使用asof方法\n",
    "selection = pd.date_range('2012-06-01 10:00',periods=4,freq='B')\n",
    "irr_ts.asof(selection)\n",
    "#asof会得到这些时间处 或者距离最近的有效值 6.1 10:00的就变成了29.0"
   ],
   "metadata": {
    "collapsed": false,
    "pycharm": {
     "name": "#%%\n"
    }
   }
  },
  {
   "cell_type": "code",
   "execution_count": 64,
   "outputs": [
    {
     "data": {
      "text/plain": "              a    b    c\n2012-06-12  1.0  1.0  1.0\n2012-06-13  1.0  1.0  1.0\n2012-06-14  1.0  1.0  1.0\n2012-06-15  2.0  2.0  2.0\n2012-06-16  2.0  2.0  2.0\n2012-06-17  2.0  2.0  2.0\n2012-06-18  2.0  2.0  2.0",
      "text/html": "<div>\n<style scoped>\n    .dataframe tbody tr th:only-of-type {\n        vertical-align: middle;\n    }\n\n    .dataframe tbody tr th {\n        vertical-align: top;\n    }\n\n    .dataframe thead th {\n        text-align: right;\n    }\n</style>\n<table border=\"1\" class=\"dataframe\">\n  <thead>\n    <tr style=\"text-align: right;\">\n      <th></th>\n      <th>a</th>\n      <th>b</th>\n      <th>c</th>\n    </tr>\n  </thead>\n  <tbody>\n    <tr>\n      <th>2012-06-12</th>\n      <td>1.0</td>\n      <td>1.0</td>\n      <td>1.0</td>\n    </tr>\n    <tr>\n      <th>2012-06-13</th>\n      <td>1.0</td>\n      <td>1.0</td>\n      <td>1.0</td>\n    </tr>\n    <tr>\n      <th>2012-06-14</th>\n      <td>1.0</td>\n      <td>1.0</td>\n      <td>1.0</td>\n    </tr>\n    <tr>\n      <th>2012-06-15</th>\n      <td>2.0</td>\n      <td>2.0</td>\n      <td>2.0</td>\n    </tr>\n    <tr>\n      <th>2012-06-16</th>\n      <td>2.0</td>\n      <td>2.0</td>\n      <td>2.0</td>\n    </tr>\n    <tr>\n      <th>2012-06-17</th>\n      <td>2.0</td>\n      <td>2.0</td>\n      <td>2.0</td>\n    </tr>\n    <tr>\n      <th>2012-06-18</th>\n      <td>2.0</td>\n      <td>2.0</td>\n      <td>2.0</td>\n    </tr>\n  </tbody>\n</table>\n</div>"
     },
     "execution_count": 64,
     "metadata": {},
     "output_type": "execute_result"
    }
   ],
   "source": [
    "#在一个特定的时间点上，从一个数据源切换到另一个数据源 使用concat就行\n",
    "#merge是连接 笛卡尔积 数据库风格\n",
    "#concat是拼接 无需交集\n",
    "data1 = DataFrame(np.ones((6,3),dtype=float),\n",
    "                  columns=['a','b','c'],\n",
    "                  index=pd.date_range('6/12/2012',periods=6))\n",
    "data2 = DataFrame(np.ones((6,3),dtype=float)*2,\n",
    "                  columns=['a','b','c'],\n",
    "                  index=pd.date_range('6/13/2012',periods=6))\n",
    "spliced = pd.concat([data1.loc[:'2012-06-14'],data2.loc['2012-06-15':]])\n",
    "spliced"
   ],
   "metadata": {
    "collapsed": false,
    "pycharm": {
     "name": "#%%\n"
    }
   }
  },
  {
   "cell_type": "code",
   "execution_count": 66,
   "outputs": [],
   "source": [
    "#假设A有一部分没有 B在那部分有数据 但是选择了A拼接 可以使用combine_first进行处理\n",
    "data2 = DataFrame(np.ones((6,4),dtype=float)*2,\n",
    "                  columns=['a','b','c','d'],\n",
    "                  index=pd.date_range('6/13/2012',periods=6))\n",
    "spliced = pd.concat([data1.loc[:'2012-06-14'],data2.loc['2012-06-15':]])\n",
    "spliced\n",
    "#可以看到在前面部分data1是NaN 但是其实这部分数据在Data2中是有的"
   ],
   "metadata": {
    "collapsed": false,
    "pycharm": {
     "name": "#%%\n"
    }
   }
  },
  {
   "cell_type": "code",
   "execution_count": 67,
   "outputs": [
    {
     "data": {
      "text/plain": "              a    b    c    d\n2012-06-12  1.0  1.0  1.0  NaN\n2012-06-13  1.0  1.0  1.0  2.0\n2012-06-14  1.0  1.0  1.0  2.0\n2012-06-15  2.0  2.0  2.0  2.0\n2012-06-16  2.0  2.0  2.0  2.0\n2012-06-17  2.0  2.0  2.0  2.0\n2012-06-18  2.0  2.0  2.0  2.0",
      "text/html": "<div>\n<style scoped>\n    .dataframe tbody tr th:only-of-type {\n        vertical-align: middle;\n    }\n\n    .dataframe tbody tr th {\n        vertical-align: top;\n    }\n\n    .dataframe thead th {\n        text-align: right;\n    }\n</style>\n<table border=\"1\" class=\"dataframe\">\n  <thead>\n    <tr style=\"text-align: right;\">\n      <th></th>\n      <th>a</th>\n      <th>b</th>\n      <th>c</th>\n      <th>d</th>\n    </tr>\n  </thead>\n  <tbody>\n    <tr>\n      <th>2012-06-12</th>\n      <td>1.0</td>\n      <td>1.0</td>\n      <td>1.0</td>\n      <td>NaN</td>\n    </tr>\n    <tr>\n      <th>2012-06-13</th>\n      <td>1.0</td>\n      <td>1.0</td>\n      <td>1.0</td>\n      <td>2.0</td>\n    </tr>\n    <tr>\n      <th>2012-06-14</th>\n      <td>1.0</td>\n      <td>1.0</td>\n      <td>1.0</td>\n      <td>2.0</td>\n    </tr>\n    <tr>\n      <th>2012-06-15</th>\n      <td>2.0</td>\n      <td>2.0</td>\n      <td>2.0</td>\n      <td>2.0</td>\n    </tr>\n    <tr>\n      <th>2012-06-16</th>\n      <td>2.0</td>\n      <td>2.0</td>\n      <td>2.0</td>\n      <td>2.0</td>\n    </tr>\n    <tr>\n      <th>2012-06-17</th>\n      <td>2.0</td>\n      <td>2.0</td>\n      <td>2.0</td>\n      <td>2.0</td>\n    </tr>\n    <tr>\n      <th>2012-06-18</th>\n      <td>2.0</td>\n      <td>2.0</td>\n      <td>2.0</td>\n      <td>2.0</td>\n    </tr>\n  </tbody>\n</table>\n</div>"
     },
     "execution_count": 67,
     "metadata": {},
     "output_type": "execute_result"
    }
   ],
   "source": [
    "#如果要默认继续填上data2的数据\n",
    "spliced_filled = spliced.combine_first(data2)\n",
    "spliced_filled"
   ],
   "metadata": {
    "collapsed": false,
    "pycharm": {
     "name": "#%%\n"
    }
   }
  },
  {
   "cell_type": "code",
   "execution_count": 70,
   "outputs": [
    {
     "data": {
      "text/plain": "              a    b    c    d\n2012-06-12  1.0  1.0  1.0  NaN\n2012-06-13  1.0  1.0  1.0  2.0\n2012-06-14  1.0  1.0  1.0  2.0\n2012-06-15  2.0  2.0  2.0  2.0\n2012-06-16  2.0  2.0  2.0  2.0\n2012-06-17  2.0  2.0  2.0  2.0\n2012-06-18  2.0  2.0  2.0  2.0",
      "text/html": "<div>\n<style scoped>\n    .dataframe tbody tr th:only-of-type {\n        vertical-align: middle;\n    }\n\n    .dataframe tbody tr th {\n        vertical-align: top;\n    }\n\n    .dataframe thead th {\n        text-align: right;\n    }\n</style>\n<table border=\"1\" class=\"dataframe\">\n  <thead>\n    <tr style=\"text-align: right;\">\n      <th></th>\n      <th>a</th>\n      <th>b</th>\n      <th>c</th>\n      <th>d</th>\n    </tr>\n  </thead>\n  <tbody>\n    <tr>\n      <th>2012-06-12</th>\n      <td>1.0</td>\n      <td>1.0</td>\n      <td>1.0</td>\n      <td>NaN</td>\n    </tr>\n    <tr>\n      <th>2012-06-13</th>\n      <td>1.0</td>\n      <td>1.0</td>\n      <td>1.0</td>\n      <td>2.0</td>\n    </tr>\n    <tr>\n      <th>2012-06-14</th>\n      <td>1.0</td>\n      <td>1.0</td>\n      <td>1.0</td>\n      <td>2.0</td>\n    </tr>\n    <tr>\n      <th>2012-06-15</th>\n      <td>2.0</td>\n      <td>2.0</td>\n      <td>2.0</td>\n      <td>2.0</td>\n    </tr>\n    <tr>\n      <th>2012-06-16</th>\n      <td>2.0</td>\n      <td>2.0</td>\n      <td>2.0</td>\n      <td>2.0</td>\n    </tr>\n    <tr>\n      <th>2012-06-17</th>\n      <td>2.0</td>\n      <td>2.0</td>\n      <td>2.0</td>\n      <td>2.0</td>\n    </tr>\n    <tr>\n      <th>2012-06-18</th>\n      <td>2.0</td>\n      <td>2.0</td>\n      <td>2.0</td>\n      <td>2.0</td>\n    </tr>\n  </tbody>\n</table>\n</div>"
     },
     "execution_count": 70,
     "metadata": {},
     "output_type": "execute_result"
    }
   ],
   "source": [
    "#还有一个类似的update方法\n",
    "spliced.update(data2,overwrite=False)\n",
    "spliced"
   ],
   "metadata": {
    "collapsed": false,
    "pycharm": {
     "name": "#%%\n"
    }
   }
  },
  {
   "cell_type": "code",
   "execution_count": 71,
   "outputs": [
    {
     "data": {
      "text/plain": "Date\n2010-12-31     9.922909\n2011-01-03    10.138556\n2011-01-04    10.191467\n2011-01-05    10.274836\n2011-01-06    10.266529\n                ...    \n2012-07-23    18.575605\n2012-07-24    18.486088\n2012-07-25    17.687792\n2012-07-26    17.685022\n2012-07-27    18.001268\nName: Adj Close, Length: 397, dtype: float64"
     },
     "execution_count": 71,
     "metadata": {},
     "output_type": "execute_result"
    }
   ],
   "source": [
    "import pandas_datareader as web\n",
    "price = web.get_data_yahoo('AAPL','2011-01-01','2012-07-27')['Adj Close']\n",
    "price"
   ],
   "metadata": {
    "collapsed": false,
    "pycharm": {
     "name": "#%%\n"
    }
   }
  },
  {
   "cell_type": "code",
   "execution_count": 72,
   "outputs": [
    {
     "data": {
      "text/plain": "0.07240017021948808"
     },
     "execution_count": 72,
     "metadata": {},
     "output_type": "execute_result"
    }
   ],
   "source": [
    "#计算累计收益\n",
    "price['2011-10-03']/price['2011-03-01']-1"
   ],
   "metadata": {
    "collapsed": false,
    "pycharm": {
     "name": "#%%\n"
    }
   }
  },
  {
   "cell_type": "code",
   "execution_count": 73,
   "outputs": [
    {
     "data": {
      "text/plain": "Date\n2010-12-31         NaN\n2011-01-03    0.021732\n2011-01-04    0.005219\n2011-01-05    0.008180\n2011-01-06   -0.000808\n                ...   \n2012-07-23   -0.000778\n2012-07-24   -0.004819\n2012-07-25   -0.043184\n2012-07-26   -0.000157\n2012-07-27    0.017882\nName: Adj Close, Length: 397, dtype: float64"
     },
     "execution_count": 73,
     "metadata": {},
     "output_type": "execute_result"
    }
   ],
   "source": [
    "returns = price.pct_change()\n",
    "returns\n",
    "#为什么会提供这种函数啊 injustice"
   ],
   "metadata": {
    "collapsed": false,
    "pycharm": {
     "name": "#%%\n"
    }
   }
  },
  {
   "cell_type": "code",
   "execution_count": 75,
   "outputs": [
    {
     "data": {
      "text/plain": "Date\n2010-12-31         NaN\n2011-01-03    1.021732\n2011-01-04    1.027064\n2011-01-05    1.035466\n2011-01-06    1.034629\n                ...   \n2012-07-23    1.871992\n2012-07-24    1.862971\n2012-07-25    1.782521\n2012-07-26    1.782242\n2012-07-27    1.814112\nName: Adj Close, Length: 397, dtype: float64"
     },
     "execution_count": 75,
     "metadata": {},
     "output_type": "execute_result"
    }
   ],
   "source": [
    "ret_index = (1+returns).cumprod()\n",
    "#收益系数函数...........这...\n",
    "ret_index"
   ],
   "metadata": {
    "collapsed": false,
    "pycharm": {
     "name": "#%%\n"
    }
   }
  },
  {
   "cell_type": "code",
   "execution_count": 77,
   "outputs": [
    {
     "data": {
      "text/plain": "Date\n2010-12-31    1.000000\n2011-01-03    1.021732\n2011-01-04    1.027064\n2011-01-05    1.035466\n2011-01-06    1.034629\n                ...   \n2012-07-23    1.871992\n2012-07-24    1.862971\n2012-07-25    1.782521\n2012-07-26    1.782242\n2012-07-27    1.814112\nName: Adj Close, Length: 397, dtype: float64"
     },
     "execution_count": 77,
     "metadata": {},
     "output_type": "execute_result"
    }
   ],
   "source": [
    "ret_index[0]=1\n",
    "ret_index"
   ],
   "metadata": {
    "collapsed": false,
    "pycharm": {
     "name": "#%%\n"
    }
   }
  },
  {
   "cell_type": "code",
   "execution_count": 81,
   "outputs": [
    {
     "data": {
      "text/plain": "Date\n2010-12-31         NaN\n2011-01-31    0.051959\n2011-02-28    0.040935\n2011-03-31   -0.013307\n2011-04-29    0.004649\n2011-05-31   -0.006569\n2011-06-30   -0.034959\n2011-07-29    0.163285\n2011-08-31   -0.014469\n2011-09-30   -0.009121\n2011-10-31    0.061523\n2011-11-30   -0.055784\n2011-12-30    0.059655\n2012-01-31    0.127111\n2012-02-29    0.188311\n2012-03-30    0.105283\n2012-04-30   -0.025970\n2012-05-31   -0.010702\n2012-06-29    0.010853\n2012-07-31    0.001986\nFreq: BM, Name: Adj Close, dtype: float64"
     },
     "execution_count": 81,
     "metadata": {},
     "output_type": "execute_result"
    }
   ],
   "source": [
    "m_returns = ret_index.resample('BM').last().pct_change()\n",
    "m_returns"
   ],
   "metadata": {
    "collapsed": false,
    "pycharm": {
     "name": "#%%\n"
    }
   }
  }
 ],
 "metadata": {
  "kernelspec": {
   "display_name": "Python 3",
   "language": "python",
   "name": "python3"
  },
  "language_info": {
   "codemirror_mode": {
    "name": "ipython",
    "version": 2
   },
   "file_extension": ".py",
   "mimetype": "text/x-python",
   "name": "python",
   "nbconvert_exporter": "python",
   "pygments_lexer": "ipython2",
   "version": "2.7.6"
  }
 },
 "nbformat": 4,
 "nbformat_minor": 0
}