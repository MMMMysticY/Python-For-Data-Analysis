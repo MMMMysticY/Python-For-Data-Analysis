{
 "cells": [
  {
   "cell_type": "code",
   "execution_count": 1,
   "metadata": {
    "collapsed": true
   },
   "outputs": [],
   "source": [
    "import numpy as np\n",
    "import pandas as pd\n",
    "from pandas import Series,DataFrame"
   ]
  },
  {
   "cell_type": "code",
   "execution_count": 2,
   "outputs": [],
   "source": [
    "import random;random.seed(0)\n",
    "import string\n",
    "\n",
    "N = 1000\n",
    "def rands(n):\n",
    "    choices = string.ascii_uppercase\n",
    "    return ''.join([random.choice(choices) for _ in range(n)])\n",
    "tickers = np.array([rands(5) for _ in range(N)])\n",
    "#生成了1000个股票代码"
   ],
   "metadata": {
    "collapsed": false,
    "pycharm": {
     "name": "#%%\n"
    }
   }
  },
  {
   "cell_type": "code",
   "execution_count": 4,
   "outputs": [
    {
     "data": {
      "text/plain": "       Momentum     Value  ShortInterest\nMYNBI  0.040798  0.068616      -0.009571\nQPMZJ  0.032002  0.074741      -0.026487\nPLSGQ  0.025549  0.082999      -0.019458\nEJEYD  0.022874  0.076285      -0.010060\nTZIRW  0.033326  0.089083      -0.017111\n...         ...       ...            ...\nJPHKQ  0.028812  0.071238      -0.029125\nVACPK  0.031778  0.074782      -0.019415\nMHNBS  0.028709  0.083447      -0.021417\nYBNCI  0.036305  0.085010      -0.010984\nGXKFD  0.031352  0.086497      -0.028347\n\n[500 rows x 3 columns]",
      "text/html": "<div>\n<style scoped>\n    .dataframe tbody tr th:only-of-type {\n        vertical-align: middle;\n    }\n\n    .dataframe tbody tr th {\n        vertical-align: top;\n    }\n\n    .dataframe thead th {\n        text-align: right;\n    }\n</style>\n<table border=\"1\" class=\"dataframe\">\n  <thead>\n    <tr style=\"text-align: right;\">\n      <th></th>\n      <th>Momentum</th>\n      <th>Value</th>\n      <th>ShortInterest</th>\n    </tr>\n  </thead>\n  <tbody>\n    <tr>\n      <th>MYNBI</th>\n      <td>0.040798</td>\n      <td>0.068616</td>\n      <td>-0.009571</td>\n    </tr>\n    <tr>\n      <th>QPMZJ</th>\n      <td>0.032002</td>\n      <td>0.074741</td>\n      <td>-0.026487</td>\n    </tr>\n    <tr>\n      <th>PLSGQ</th>\n      <td>0.025549</td>\n      <td>0.082999</td>\n      <td>-0.019458</td>\n    </tr>\n    <tr>\n      <th>EJEYD</th>\n      <td>0.022874</td>\n      <td>0.076285</td>\n      <td>-0.010060</td>\n    </tr>\n    <tr>\n      <th>TZIRW</th>\n      <td>0.033326</td>\n      <td>0.089083</td>\n      <td>-0.017111</td>\n    </tr>\n    <tr>\n      <th>...</th>\n      <td>...</td>\n      <td>...</td>\n      <td>...</td>\n    </tr>\n    <tr>\n      <th>JPHKQ</th>\n      <td>0.028812</td>\n      <td>0.071238</td>\n      <td>-0.029125</td>\n    </tr>\n    <tr>\n      <th>VACPK</th>\n      <td>0.031778</td>\n      <td>0.074782</td>\n      <td>-0.019415</td>\n    </tr>\n    <tr>\n      <th>MHNBS</th>\n      <td>0.028709</td>\n      <td>0.083447</td>\n      <td>-0.021417</td>\n    </tr>\n    <tr>\n      <th>YBNCI</th>\n      <td>0.036305</td>\n      <td>0.085010</td>\n      <td>-0.010984</td>\n    </tr>\n    <tr>\n      <th>GXKFD</th>\n      <td>0.031352</td>\n      <td>0.086497</td>\n      <td>-0.028347</td>\n    </tr>\n  </tbody>\n</table>\n<p>500 rows × 3 columns</p>\n</div>"
     },
     "execution_count": 4,
     "metadata": {},
     "output_type": "execute_result"
    }
   ],
   "source": [
    "M = 500\n",
    "df = DataFrame({'Momentum':np.random.randn(M)/200+0.03,\n",
    "                'Value':np.random.randn(M)/200 + 0.08,\n",
    "                'ShortInterest':np.random.randn(M)/200 - 0.02},\n",
    "               index=tickers[:M])\n",
    "df"
   ],
   "metadata": {
    "collapsed": false,
    "pycharm": {
     "name": "#%%\n"
    }
   }
  },
  {
   "cell_type": "code",
   "execution_count": 7,
   "outputs": [],
   "source": [
    "\n",
    "ind_names = np.array(['FINANCIAL','TECH'])\n",
    "sampler = np.random.randint(0,len(ind_names),N)\n",
    "industries = Series(ind_names[sampler],index=tickers,\n",
    "                    name='industry')\n",
    "#分成两个行业分类"
   ],
   "metadata": {
    "collapsed": false,
    "pycharm": {
     "name": "#%%\n"
    }
   }
  },
  {
   "cell_type": "code",
   "execution_count": 8,
   "outputs": [
    {
     "data": {
      "text/plain": "industry\nFINANCIAL    259\nTECH         241\ndtype: int64"
     },
     "execution_count": 8,
     "metadata": {},
     "output_type": "execute_result"
    }
   ],
   "source": [
    "by_industry = df.groupby(industries)\n",
    "#还是经典的groupby方法用参数给index重定义之后进行groupby\n",
    "by_industry.size()"
   ],
   "metadata": {
    "collapsed": false,
    "pycharm": {
     "name": "#%%\n"
    }
   }
  },
  {
   "cell_type": "code",
   "execution_count": 9,
   "outputs": [
    {
     "data": {
      "text/plain": "       Momentum     Value  ShortInterest\nMYNBI  2.234447 -2.375780       2.301695\nQPMZJ  0.370302 -0.980358      -1.289511\nPLSGQ -0.970205  0.589494       0.148263\nEJEYD -1.532244 -0.794692       2.195249\nTZIRW  0.664240  1.843927       0.659563\n...         ...       ...            ...\nJPHKQ -0.255310 -1.685479      -1.797360\nVACPK  0.326267 -0.972038       0.071972\nMHNBS -0.275516  0.772193      -0.313523\nYBNCI  1.213965  1.086921       1.694913\nGXKFD  0.242698  1.386308      -1.647583\n\n[500 rows x 3 columns]",
      "text/html": "<div>\n<style scoped>\n    .dataframe tbody tr th:only-of-type {\n        vertical-align: middle;\n    }\n\n    .dataframe tbody tr th {\n        vertical-align: top;\n    }\n\n    .dataframe thead th {\n        text-align: right;\n    }\n</style>\n<table border=\"1\" class=\"dataframe\">\n  <thead>\n    <tr style=\"text-align: right;\">\n      <th></th>\n      <th>Momentum</th>\n      <th>Value</th>\n      <th>ShortInterest</th>\n    </tr>\n  </thead>\n  <tbody>\n    <tr>\n      <th>MYNBI</th>\n      <td>2.234447</td>\n      <td>-2.375780</td>\n      <td>2.301695</td>\n    </tr>\n    <tr>\n      <th>QPMZJ</th>\n      <td>0.370302</td>\n      <td>-0.980358</td>\n      <td>-1.289511</td>\n    </tr>\n    <tr>\n      <th>PLSGQ</th>\n      <td>-0.970205</td>\n      <td>0.589494</td>\n      <td>0.148263</td>\n    </tr>\n    <tr>\n      <th>EJEYD</th>\n      <td>-1.532244</td>\n      <td>-0.794692</td>\n      <td>2.195249</td>\n    </tr>\n    <tr>\n      <th>TZIRW</th>\n      <td>0.664240</td>\n      <td>1.843927</td>\n      <td>0.659563</td>\n    </tr>\n    <tr>\n      <th>...</th>\n      <td>...</td>\n      <td>...</td>\n      <td>...</td>\n    </tr>\n    <tr>\n      <th>JPHKQ</th>\n      <td>-0.255310</td>\n      <td>-1.685479</td>\n      <td>-1.797360</td>\n    </tr>\n    <tr>\n      <th>VACPK</th>\n      <td>0.326267</td>\n      <td>-0.972038</td>\n      <td>0.071972</td>\n    </tr>\n    <tr>\n      <th>MHNBS</th>\n      <td>-0.275516</td>\n      <td>0.772193</td>\n      <td>-0.313523</td>\n    </tr>\n    <tr>\n      <th>YBNCI</th>\n      <td>1.213965</td>\n      <td>1.086921</td>\n      <td>1.694913</td>\n    </tr>\n    <tr>\n      <th>GXKFD</th>\n      <td>0.242698</td>\n      <td>1.386308</td>\n      <td>-1.647583</td>\n    </tr>\n  </tbody>\n</table>\n<p>500 rows × 3 columns</p>\n</div>"
     },
     "execution_count": 9,
     "metadata": {},
     "output_type": "execute_result"
    }
   ],
   "source": [
    "#行业内标准化处理\n",
    "def zscore(group):\n",
    "    return (group-group.mean())/group.std()\n",
    "df_stand = by_industry.apply(zscore)\n",
    "df_stand"
   ],
   "metadata": {
    "collapsed": false,
    "pycharm": {
     "name": "#%%\n"
    }
   }
  },
  {
   "cell_type": "code",
   "source": [
    "df_stand.groupby(industries).agg(['mean','std'])\n",
    "#结果论可以看到是成功的标准化处理"
   ],
   "metadata": {
    "collapsed": false,
    "pycharm": {
     "name": "#%%\n"
    }
   },
   "execution_count": 10,
   "outputs": [
    {
     "data": {
      "text/plain": "               Momentum              Value      ShortInterest     \n                   mean  std          mean  std          mean  std\nindustry                                                          \nFINANCIAL  6.502735e-16  1.0  2.983456e-16  1.0 -1.565940e-15  1.0\nTECH      -4.120263e-15  1.0 -1.719233e-15  1.0 -1.762537e-15  1.0",
      "text/html": "<div>\n<style scoped>\n    .dataframe tbody tr th:only-of-type {\n        vertical-align: middle;\n    }\n\n    .dataframe tbody tr th {\n        vertical-align: top;\n    }\n\n    .dataframe thead tr th {\n        text-align: left;\n    }\n\n    .dataframe thead tr:last-of-type th {\n        text-align: right;\n    }\n</style>\n<table border=\"1\" class=\"dataframe\">\n  <thead>\n    <tr>\n      <th></th>\n      <th colspan=\"2\" halign=\"left\">Momentum</th>\n      <th colspan=\"2\" halign=\"left\">Value</th>\n      <th colspan=\"2\" halign=\"left\">ShortInterest</th>\n    </tr>\n    <tr>\n      <th></th>\n      <th>mean</th>\n      <th>std</th>\n      <th>mean</th>\n      <th>std</th>\n      <th>mean</th>\n      <th>std</th>\n    </tr>\n    <tr>\n      <th>industry</th>\n      <th></th>\n      <th></th>\n      <th></th>\n      <th></th>\n      <th></th>\n      <th></th>\n    </tr>\n  </thead>\n  <tbody>\n    <tr>\n      <th>FINANCIAL</th>\n      <td>6.502735e-16</td>\n      <td>1.0</td>\n      <td>2.983456e-16</td>\n      <td>1.0</td>\n      <td>-1.565940e-15</td>\n      <td>1.0</td>\n    </tr>\n    <tr>\n      <th>TECH</th>\n      <td>-4.120263e-15</td>\n      <td>1.0</td>\n      <td>-1.719233e-15</td>\n      <td>1.0</td>\n      <td>-1.762537e-15</td>\n      <td>1.0</td>\n    </tr>\n  </tbody>\n</table>\n</div>"
     },
     "execution_count": 10,
     "metadata": {},
     "output_type": "execute_result"
    }
   ]
  },
  {
   "cell_type": "code",
   "execution_count": 11,
   "outputs": [
    {
     "data": {
      "text/plain": "          Momentum        Value        ShortInterest       \n               min    max   min    max           min    max\nindustry                                                   \nFINANCIAL      1.0  259.0   1.0  259.0           1.0  259.0\nTECH           1.0  241.0   1.0  241.0           1.0  241.0",
      "text/html": "<div>\n<style scoped>\n    .dataframe tbody tr th:only-of-type {\n        vertical-align: middle;\n    }\n\n    .dataframe tbody tr th {\n        vertical-align: top;\n    }\n\n    .dataframe thead tr th {\n        text-align: left;\n    }\n\n    .dataframe thead tr:last-of-type th {\n        text-align: right;\n    }\n</style>\n<table border=\"1\" class=\"dataframe\">\n  <thead>\n    <tr>\n      <th></th>\n      <th colspan=\"2\" halign=\"left\">Momentum</th>\n      <th colspan=\"2\" halign=\"left\">Value</th>\n      <th colspan=\"2\" halign=\"left\">ShortInterest</th>\n    </tr>\n    <tr>\n      <th></th>\n      <th>min</th>\n      <th>max</th>\n      <th>min</th>\n      <th>max</th>\n      <th>min</th>\n      <th>max</th>\n    </tr>\n    <tr>\n      <th>industry</th>\n      <th></th>\n      <th></th>\n      <th></th>\n      <th></th>\n      <th></th>\n      <th></th>\n    </tr>\n  </thead>\n  <tbody>\n    <tr>\n      <th>FINANCIAL</th>\n      <td>1.0</td>\n      <td>259.0</td>\n      <td>1.0</td>\n      <td>259.0</td>\n      <td>1.0</td>\n      <td>259.0</td>\n    </tr>\n    <tr>\n      <th>TECH</th>\n      <td>1.0</td>\n      <td>241.0</td>\n      <td>1.0</td>\n      <td>241.0</td>\n      <td>1.0</td>\n      <td>241.0</td>\n    </tr>\n  </tbody>\n</table>\n</div>"
     },
     "execution_count": 11,
     "metadata": {},
     "output_type": "execute_result"
    }
   ],
   "source": [
    "ind_rank = by_industry.rank(ascending=False)\n",
    "ind_rank.groupby(industries).agg(['min','max'])"
   ],
   "metadata": {
    "collapsed": false,
    "pycharm": {
     "name": "#%%\n"
    }
   }
  },
  {
   "cell_type": "code",
   "execution_count": null,
   "outputs": [],
   "source": [
    "#后面的部分都是有很强的金融知识背景 并非我学此书之初衷 也无精力去了解 就略过了"
   ],
   "metadata": {
    "collapsed": false,
    "pycharm": {
     "name": "#%%\n"
    }
   }
  }
 ],
 "metadata": {
  "kernelspec": {
   "display_name": "Python 3",
   "language": "python",
   "name": "python3"
  },
  "language_info": {
   "codemirror_mode": {
    "name": "ipython",
    "version": 2
   },
   "file_extension": ".py",
   "mimetype": "text/x-python",
   "name": "python",
   "nbconvert_exporter": "python",
   "pygments_lexer": "ipython2",
   "version": "2.7.6"
  }
 },
 "nbformat": 4,
 "nbformat_minor": 0
}