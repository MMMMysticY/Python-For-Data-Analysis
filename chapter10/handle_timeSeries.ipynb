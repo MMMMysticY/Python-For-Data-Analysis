{
 "cells": [
  {
   "cell_type": "code",
   "execution_count": 1,
   "metadata": {
    "collapsed": true
   },
   "outputs": [],
   "source": [
    "import pandas as pd\n",
    "import numpy as np\n",
    "from pandas import Series,DataFrame"
   ]
  },
  {
   "cell_type": "code",
   "execution_count": 2,
   "outputs": [
    {
     "data": {
      "text/plain": "2012-03-09 09:30:00    1.256125\n2012-03-10 09:30:00   -0.142918\n2012-03-11 09:30:00   -0.912470\n2012-03-12 09:30:00    0.039898\n2012-03-13 09:30:00   -0.688938\n2012-03-14 09:30:00    0.876281\nFreq: D, dtype: float64"
     },
     "execution_count": 2,
     "metadata": {},
     "output_type": "execute_result"
    }
   ],
   "source": [
    "rng = pd.date_range('3/9/2012 9:30',periods=6,freq='D')\n",
    "ts = Series(np.random.randn(len(rng)),index=rng)\n",
    "ts"
   ],
   "metadata": {
    "collapsed": false,
    "pycharm": {
     "name": "#%%\n"
    }
   }
  },
  {
   "cell_type": "code",
   "execution_count": 3,
   "outputs": [
    {
     "name": "stdout",
     "output_type": "stream",
     "text": [
      "None\n"
     ]
    }
   ],
   "source": [
    "print(ts.index.tz)"
   ],
   "metadata": {
    "collapsed": false,
    "pycharm": {
     "name": "#%%\n"
    }
   }
  },
  {
   "cell_type": "code",
   "execution_count": 4,
   "outputs": [
    {
     "data": {
      "text/plain": "DatetimeIndex(['2012-03-09 09:30:00+00:00', '2012-03-10 09:30:00+00:00',\n               '2012-03-11 09:30:00+00:00', '2012-03-12 09:30:00+00:00',\n               '2012-03-13 09:30:00+00:00', '2012-03-14 09:30:00+00:00'],\n              dtype='datetime64[ns, UTC]', freq='D')"
     },
     "execution_count": 4,
     "metadata": {},
     "output_type": "execute_result"
    }
   ],
   "source": [
    "pd.date_range('3/9/2012 9:30',periods=6,freq='D',tz='UTC')\n",
    "#使用tz字段就可以显示指定时区了"
   ],
   "metadata": {
    "collapsed": false,
    "pycharm": {
     "name": "#%%\n"
    }
   }
  },
  {
   "cell_type": "code",
   "execution_count": 8,
   "outputs": [
    {
     "name": "stdout",
     "output_type": "stream",
     "text": [
      "Asia/Aden\n",
      "Asia/Almaty\n",
      "Asia/Amman\n",
      "Asia/Anadyr\n",
      "Asia/Aqtau\n",
      "Asia/Aqtobe\n",
      "Asia/Ashgabat\n",
      "Asia/Atyrau\n",
      "Asia/Baghdad\n",
      "Asia/Bahrain\n",
      "Asia/Baku\n",
      "Asia/Bangkok\n",
      "Asia/Barnaul\n",
      "Asia/Beirut\n",
      "Asia/Bishkek\n",
      "Asia/Brunei\n",
      "Asia/Chita\n",
      "Asia/Choibalsan\n",
      "Asia/Colombo\n",
      "Asia/Damascus\n",
      "Asia/Dhaka\n",
      "Asia/Dili\n",
      "Asia/Dubai\n",
      "Asia/Dushanbe\n",
      "Asia/Famagusta\n",
      "Asia/Gaza\n",
      "Asia/Hebron\n",
      "Asia/Ho_Chi_Minh\n",
      "Asia/Hong_Kong\n",
      "Asia/Hovd\n",
      "Asia/Irkutsk\n",
      "Asia/Jakarta\n",
      "Asia/Jayapura\n",
      "Asia/Jerusalem\n",
      "Asia/Kabul\n",
      "Asia/Kamchatka\n",
      "Asia/Karachi\n",
      "Asia/Kathmandu\n",
      "Asia/Khandyga\n",
      "Asia/Kolkata\n",
      "Asia/Krasnoyarsk\n",
      "Asia/Kuala_Lumpur\n",
      "Asia/Kuching\n",
      "Asia/Kuwait\n",
      "Asia/Macau\n",
      "Asia/Magadan\n",
      "Asia/Makassar\n",
      "Asia/Manila\n",
      "Asia/Muscat\n",
      "Asia/Nicosia\n",
      "Asia/Novokuznetsk\n",
      "Asia/Novosibirsk\n",
      "Asia/Omsk\n",
      "Asia/Oral\n",
      "Asia/Phnom_Penh\n",
      "Asia/Pontianak\n",
      "Asia/Pyongyang\n",
      "Asia/Qatar\n",
      "Asia/Qostanay\n",
      "Asia/Qyzylorda\n",
      "Asia/Riyadh\n",
      "Asia/Sakhalin\n",
      "Asia/Samarkand\n",
      "Asia/Seoul\n",
      "Asia/Shanghai\n",
      "Asia/Singapore\n",
      "Asia/Srednekolymsk\n",
      "Asia/Taipei\n",
      "Asia/Tashkent\n",
      "Asia/Tbilisi\n",
      "Asia/Tehran\n",
      "Asia/Thimphu\n",
      "Asia/Tokyo\n",
      "Asia/Tomsk\n",
      "Asia/Ulaanbaatar\n",
      "Asia/Urumqi\n",
      "Asia/Ust-Nera\n",
      "Asia/Vientiane\n",
      "Asia/Vladivostok\n",
      "Asia/Yakutsk\n",
      "Asia/Yangon\n",
      "Asia/Yekaterinburg\n",
      "Asia/Yerevan\n"
     ]
    }
   ],
   "source": [
    "import pytz\n",
    "for i in pytz.common_timezones:\n",
    "    if 'Asia' in i:\n",
    "        print(i)\n",
    "#此方法能看到很多时区名称"
   ],
   "metadata": {
    "collapsed": false,
    "pycharm": {
     "name": "#%%\n"
    }
   }
  },
  {
   "cell_type": "code",
   "execution_count": 10,
   "outputs": [
    {
     "data": {
      "text/plain": "2012-03-09 09:30:00+08:00    1.256125\n2012-03-10 09:30:00+08:00   -0.142918\n2012-03-11 09:30:00+08:00   -0.912470\n2012-03-12 09:30:00+08:00    0.039898\n2012-03-13 09:30:00+08:00   -0.688938\n2012-03-14 09:30:00+08:00    0.876281\ndtype: float64"
     },
     "execution_count": 10,
     "metadata": {},
     "output_type": "execute_result"
    }
   ],
   "source": [
    "ts_utc = ts.tz_localize('Asia/Shanghai')\n",
    "ts_utc\n",
    "#使用tz_localize可以进行本地化 显示定义时区名称"
   ],
   "metadata": {
    "collapsed": false,
    "pycharm": {
     "name": "#%%\n"
    }
   }
  },
  {
   "cell_type": "code",
   "execution_count": 11,
   "outputs": [
    {
     "data": {
      "text/plain": "DatetimeIndex(['2012-03-09 09:30:00+08:00', '2012-03-10 09:30:00+08:00',\n               '2012-03-11 09:30:00+08:00', '2012-03-12 09:30:00+08:00',\n               '2012-03-13 09:30:00+08:00', '2012-03-14 09:30:00+08:00'],\n              dtype='datetime64[ns, Asia/Shanghai]', freq=None)"
     },
     "execution_count": 11,
     "metadata": {},
     "output_type": "execute_result"
    }
   ],
   "source": [
    "ts_utc.index"
   ],
   "metadata": {
    "collapsed": false,
    "pycharm": {
     "name": "#%%\n"
    }
   }
  },
  {
   "cell_type": "code",
   "execution_count": 12,
   "outputs": [
    {
     "data": {
      "text/plain": "2012-03-09 01:30:00+00:00    1.256125\n2012-03-10 01:30:00+00:00   -0.142918\n2012-03-11 01:30:00+00:00   -0.912470\n2012-03-12 01:30:00+00:00    0.039898\n2012-03-13 01:30:00+00:00   -0.688938\n2012-03-14 01:30:00+00:00    0.876281\ndtype: float64"
     },
     "execution_count": 12,
     "metadata": {},
     "output_type": "execute_result"
    }
   ],
   "source": [
    "ts_utc.tz_convert('UTC')\n",
    "#tz_convert可以进行时区转换"
   ],
   "metadata": {
    "collapsed": false,
    "pycharm": {
     "name": "#%%\n"
    }
   }
  },
  {
   "cell_type": "code",
   "execution_count": 13,
   "outputs": [
    {
     "data": {
      "text/plain": "DatetimeIndex(['2012-03-09 09:30:00+00:00', '2012-03-10 09:30:00+00:00',\n               '2012-03-11 09:30:00+00:00', '2012-03-12 09:30:00+00:00',\n               '2012-03-13 09:30:00+00:00', '2012-03-14 09:30:00+00:00'],\n              dtype='datetime64[ns, UTC]', freq='D')"
     },
     "execution_count": 13,
     "metadata": {},
     "output_type": "execute_result"
    }
   ],
   "source": [
    "ts.index.tz_localize('UTC')\n",
    "#tz_localize既是Series的方法也是DatetimeIndex的方法 很合理"
   ],
   "metadata": {
    "collapsed": false,
    "pycharm": {
     "name": "#%%\n"
    }
   }
  },
  {
   "cell_type": "code",
   "execution_count": 15,
   "outputs": [
    {
     "data": {
      "text/plain": "Timestamp('2021-02-05 10:00:00+0000', tz='UTC')"
     },
     "execution_count": 15,
     "metadata": {},
     "output_type": "execute_result"
    }
   ],
   "source": [
    "stamp = pd.Timestamp('2021-02-05 10:00')\n",
    "stamp_utc = stamp.tz_localize('utc')\n",
    "stamp_utc\n",
    "#同样地 tz_localize也作用于Timestamp对象上"
   ],
   "metadata": {
    "collapsed": false,
    "pycharm": {
     "name": "#%%\n"
    }
   }
  },
  {
   "cell_type": "code",
   "execution_count": 18,
   "outputs": [
    {
     "name": "stdout",
     "output_type": "stream",
     "text": [
      "None\n"
     ]
    }
   ],
   "source": [
    "print(ts.index.tz)"
   ],
   "metadata": {
    "collapsed": false,
    "pycharm": {
     "name": "#%%\n"
    }
   }
  },
  {
   "cell_type": "code",
   "execution_count": 19,
   "outputs": [
    {
     "data": {
      "text/plain": "2012-03-09 09:30:00+00:00    1.256125\n2012-03-10 09:30:00+00:00   -0.142918\n2012-03-11 09:30:00+00:00   -0.912470\n2012-03-12 09:30:00+00:00    0.039898\n2012-03-13 09:30:00+00:00   -0.688938\n2012-03-14 09:30:00+00:00    0.876281\ndtype: float64"
     },
     "execution_count": 19,
     "metadata": {},
     "output_type": "execute_result"
    }
   ],
   "source": [
    "ts1 = ts[:7].tz_localize('Europe/London')\n",
    "ts2 = ts[2:].tz_localize('Europe/Moscow')\n",
    "ts1"
   ],
   "metadata": {
    "collapsed": false,
    "pycharm": {
     "name": "#%%\n"
    }
   }
  },
  {
   "cell_type": "code",
   "execution_count": 20,
   "outputs": [
    {
     "data": {
      "text/plain": "2012-03-11 09:30:00+04:00   -0.912470\n2012-03-12 09:30:00+04:00    0.039898\n2012-03-13 09:30:00+04:00   -0.688938\n2012-03-14 09:30:00+04:00    0.876281\ndtype: float64"
     },
     "execution_count": 20,
     "metadata": {},
     "output_type": "execute_result"
    }
   ],
   "source": [
    "ts2"
   ],
   "metadata": {
    "collapsed": false,
    "pycharm": {
     "name": "#%%\n"
    }
   }
  },
  {
   "cell_type": "code",
   "execution_count": 23,
   "outputs": [
    {
     "data": {
      "text/plain": "DatetimeIndex(['2012-03-09 09:30:00+00:00', '2012-03-10 09:30:00+00:00',\n               '2012-03-11 05:30:00+00:00', '2012-03-11 09:30:00+00:00',\n               '2012-03-12 05:30:00+00:00', '2012-03-12 09:30:00+00:00',\n               '2012-03-13 05:30:00+00:00', '2012-03-13 09:30:00+00:00',\n               '2012-03-14 05:30:00+00:00', '2012-03-14 09:30:00+00:00'],\n              dtype='datetime64[ns, UTC]', freq=None)"
     },
     "execution_count": 23,
     "metadata": {},
     "output_type": "execute_result"
    }
   ],
   "source": [
    "result = ts1+ts2\n",
    "result.index\n",
    "#不同时区间进行操作的结果对象会转化为‘UTC’时间"
   ],
   "metadata": {
    "collapsed": false,
    "pycharm": {
     "name": "#%%\n"
    }
   }
  },
  {
   "cell_type": "code",
   "execution_count": 24,
   "outputs": [
    {
     "data": {
      "text/plain": "Period('2007', 'A-DEC')"
     },
     "execution_count": 24,
     "metadata": {},
     "output_type": "execute_result"
    }
   ],
   "source": [
    "p = pd.Period(2007,freq='A-DEC')\n",
    "p\n",
    "#period表示的是时间区间\n",
    "#p代表的就是2007.1.1 - 2007.12.31"
   ],
   "metadata": {
    "collapsed": false,
    "pycharm": {
     "name": "#%%\n"
    }
   }
  },
  {
   "cell_type": "code",
   "execution_count": 25,
   "outputs": [
    {
     "data": {
      "text/plain": "Period('2005', 'A-DEC')"
     },
     "execution_count": 25,
     "metadata": {},
     "output_type": "execute_result"
    }
   ],
   "source": [
    "p-2"
   ],
   "metadata": {
    "collapsed": false,
    "pycharm": {
     "name": "#%%\n"
    }
   }
  },
  {
   "cell_type": "code",
   "execution_count": 26,
   "outputs": [
    {
     "data": {
      "text/plain": "Period('2010', 'A-DEC')"
     },
     "execution_count": 26,
     "metadata": {},
     "output_type": "execute_result"
    }
   ],
   "source": [
    "p+3\n",
    "#可以直接对p进行算数操作就可以进行位移"
   ],
   "metadata": {
    "collapsed": false,
    "pycharm": {
     "name": "#%%\n"
    }
   }
  },
  {
   "cell_type": "code",
   "execution_count": 27,
   "outputs": [
    {
     "data": {
      "text/plain": "<7 * YearEnds: month=12>"
     },
     "execution_count": 27,
     "metadata": {},
     "output_type": "execute_result"
    }
   ],
   "source": [
    "pd.Period('2014',freq='A-DEC') - p\n",
    "#同样freq的Period对象之间可以直接加减"
   ],
   "metadata": {
    "collapsed": false,
    "pycharm": {
     "name": "#%%\n"
    }
   }
  },
  {
   "cell_type": "code",
   "execution_count": 29,
   "outputs": [
    {
     "data": {
      "text/plain": "PeriodIndex(['2001Q3', '2002Q2', '2003Q1'], dtype='period[Q-DEC]', freq='Q-DEC')"
     },
     "execution_count": 29,
     "metadata": {},
     "output_type": "execute_result"
    }
   ],
   "source": [
    "values = ['2001Q3','2002Q2','2003Q1']\n",
    "index = pd.PeriodIndex(values,freq='Q-DEC')\n",
    "index\n",
    "#同样可以接受string对象"
   ],
   "metadata": {
    "collapsed": false,
    "pycharm": {
     "name": "#%%\n"
    }
   }
  },
  {
   "cell_type": "code",
   "execution_count": 30,
   "outputs": [
    {
     "data": {
      "text/plain": "Period('2007', 'A-DEC')"
     },
     "execution_count": 30,
     "metadata": {},
     "output_type": "execute_result"
    }
   ],
   "source": [
    "p"
   ],
   "metadata": {
    "collapsed": false,
    "pycharm": {
     "name": "#%%\n"
    }
   }
  },
  {
   "cell_type": "code",
   "execution_count": 31,
   "outputs": [
    {
     "data": {
      "text/plain": "Period('2007-01', 'M')"
     },
     "execution_count": 31,
     "metadata": {},
     "output_type": "execute_result"
    }
   ],
   "source": [
    "p.asfreq('M',how='start')\n",
    "#使用asfreq可以将其转化为别的频率 how可以确定其位置"
   ],
   "metadata": {
    "collapsed": false,
    "pycharm": {
     "name": "#%%\n"
    }
   }
  },
  {
   "cell_type": "code",
   "execution_count": 32,
   "outputs": [
    {
     "data": {
      "text/plain": "Period('2007-12', 'M')"
     },
     "execution_count": 32,
     "metadata": {},
     "output_type": "execute_result"
    }
   ],
   "source": [
    "p.asfreq('M',how='end')"
   ],
   "metadata": {
    "collapsed": false,
    "pycharm": {
     "name": "#%%\n"
    }
   }
  },
  {
   "cell_type": "code",
   "execution_count": null,
   "outputs": [],
   "source": [
    "#以季度为period是很常见的（我就没见过）\n",
    "#有不同的季度结束含义 Q-JAN就是以一月为一个结束季度的\n",
    "#Q-DEC就是以12月为一个结束季度的 以此类推有12中"
   ],
   "metadata": {
    "collapsed": false,
    "pycharm": {
     "name": "#%%\n"
    }
   }
  },
  {
   "cell_type": "code",
   "execution_count": 34,
   "outputs": [
    {
     "data": {
      "text/plain": "Period('2020Q4', 'Q-JAN')"
     },
     "execution_count": 34,
     "metadata": {},
     "output_type": "execute_result"
    }
   ],
   "source": [
    "p1 = pd.Period('2020Q4',freq='Q-JAN')\n",
    "p1\n",
    "#这代表什么呢 代表2020年的第四季度 由于以一月为一年的结束\n",
    "#所以第四季度是什么呢 是11 12 1月"
   ],
   "metadata": {
    "collapsed": false,
    "pycharm": {
     "name": "#%%\n"
    }
   }
  },
  {
   "cell_type": "code",
   "execution_count": 35,
   "outputs": [
    {
     "data": {
      "text/plain": "Period('2019-11-01', 'D')"
     },
     "execution_count": 35,
     "metadata": {},
     "output_type": "execute_result"
    }
   ],
   "source": [
    "p1.asfreq('D',how='start')\n",
    "#所以取start就是11-01"
   ],
   "metadata": {
    "collapsed": false,
    "pycharm": {
     "name": "#%%\n"
    }
   }
  },
  {
   "cell_type": "code",
   "execution_count": 36,
   "outputs": [
    {
     "data": {
      "text/plain": "Period('2020-01-31', 'D')"
     },
     "execution_count": 36,
     "metadata": {},
     "output_type": "execute_result"
    }
   ],
   "source": [
    "p1.asfreq('D',how='end')\n",
    "#end就是1-31"
   ],
   "metadata": {
    "collapsed": false,
    "pycharm": {
     "name": "#%%\n"
    }
   }
  },
  {
   "cell_type": "code",
   "execution_count": 37,
   "outputs": [],
   "source": [
    "#Timestamp和Period之间的相互转换"
   ],
   "metadata": {
    "collapsed": false,
    "pycharm": {
     "name": "#%%\n"
    }
   }
  },
  {
   "cell_type": "code",
   "execution_count": 38,
   "outputs": [
    {
     "data": {
      "text/plain": "DatetimeIndex(['2000-01-31', '2000-02-29', '2000-03-31'], dtype='datetime64[ns]', freq='M')"
     },
     "execution_count": 38,
     "metadata": {},
     "output_type": "execute_result"
    }
   ],
   "source": [
    "rng1 = pd.date_range('1/1/2000',periods=3,freq='M')\n",
    "rng1"
   ],
   "metadata": {
    "collapsed": false,
    "pycharm": {
     "name": "#%%\n"
    }
   }
  },
  {
   "cell_type": "code",
   "execution_count": 39,
   "outputs": [
    {
     "data": {
      "text/plain": "2000-01-31    0.329970\n2000-02-29   -0.023916\n2000-03-31   -0.146455\nFreq: M, dtype: float64"
     },
     "execution_count": 39,
     "metadata": {},
     "output_type": "execute_result"
    }
   ],
   "source": [
    "ts3 = Series(np.random.randn(3),index=rng1)\n",
    "ts3"
   ],
   "metadata": {
    "collapsed": false,
    "pycharm": {
     "name": "#%%\n"
    }
   }
  },
  {
   "cell_type": "code",
   "execution_count": 41,
   "outputs": [
    {
     "data": {
      "text/plain": "2000-01    0.329970\n2000-02   -0.023916\n2000-03   -0.146455\nFreq: M, dtype: float64"
     },
     "execution_count": 41,
     "metadata": {},
     "output_type": "execute_result"
    }
   ],
   "source": [
    "pts = ts3.to_period()\n",
    "pts\n",
    "#to_period可以将时间戳（这是一个点时间）归为一个时间区间（一个段时间）"
   ],
   "metadata": {
    "collapsed": false,
    "pycharm": {
     "name": "#%%\n"
    }
   }
  },
  {
   "cell_type": "code",
   "execution_count": 42,
   "outputs": [
    {
     "data": {
      "text/plain": "2000-01-29    0.253309\n2000-01-30   -1.463753\n2000-01-31   -0.485614\n2000-02-01   -0.195573\n2000-02-02   -1.026283\n2000-02-03    0.294037\nFreq: D, dtype: float64"
     },
     "execution_count": 42,
     "metadata": {},
     "output_type": "execute_result"
    }
   ],
   "source": [
    "rng2 = pd.date_range('1/29/2000',periods=6,freq='D')\n",
    "ts4 = Series(np.random.randn(6),index=rng2)\n",
    "ts4"
   ],
   "metadata": {
    "collapsed": false,
    "pycharm": {
     "name": "#%%\n"
    }
   }
  },
  {
   "cell_type": "code",
   "execution_count": 43,
   "outputs": [
    {
     "data": {
      "text/plain": "2000-01    0.253309\n2000-01   -1.463753\n2000-01   -0.485614\n2000-02   -0.195573\n2000-02   -1.026283\n2000-02    0.294037\nFreq: M, dtype: float64"
     },
     "execution_count": 43,
     "metadata": {},
     "output_type": "execute_result"
    }
   ],
   "source": [
    "ts4.to_period('M')\n",
    "#可以带参数 按月进行转化"
   ],
   "metadata": {
    "collapsed": false,
    "pycharm": {
     "name": "#%%\n"
    }
   }
  },
  {
   "cell_type": "code",
   "execution_count": 44,
   "outputs": [
    {
     "data": {
      "text/plain": "2000-01-31 23:59:59.999999999    0.329970\n2000-02-29 23:59:59.999999999   -0.023916\n2000-03-31 23:59:59.999999999   -0.146455\ndtype: float64"
     },
     "execution_count": 44,
     "metadata": {},
     "output_type": "execute_result"
    }
   ],
   "source": [
    "pts.to_timestamp(how='end')\n",
    "#to_timestamp可以将时间区间（这是一个段时间）归为一个时间戳（一个点时间）\n",
    "#但是得有how 否则不知道取哪个时间节点"
   ],
   "metadata": {
    "collapsed": false,
    "pycharm": {
     "name": "#%%\n"
    }
   }
  },
  {
   "cell_type": "code",
   "execution_count": 45,
   "outputs": [
    {
     "data": {
      "text/plain": "       year  quarter    realgdp  realcons   realinv  realgovt  realdpi  \\\n0    1959.0      1.0   2710.349    1707.4   286.898   470.045   1886.9   \n1    1959.0      2.0   2778.801    1733.7   310.859   481.301   1919.7   \n2    1959.0      3.0   2775.488    1751.8   289.226   491.260   1916.4   \n3    1959.0      4.0   2785.204    1753.7   299.356   484.052   1931.3   \n4    1960.0      1.0   2847.699    1770.5   331.722   462.199   1955.5   \n..      ...      ...        ...       ...       ...       ...      ...   \n198  2008.0      3.0  13324.600    9267.7  1990.693   991.551   9838.3   \n199  2008.0      4.0  13141.920    9195.3  1857.661  1007.273   9920.4   \n200  2009.0      1.0  12925.410    9209.2  1558.494   996.287   9926.4   \n201  2009.0      2.0  12901.504    9189.0  1456.678  1023.528  10077.5   \n202  2009.0      3.0  12990.341    9256.0  1486.398  1044.088  10040.6   \n\n         cpi      m1  tbilrate  unemp      pop  infl  realint  \n0     28.980   139.7      2.82    5.8  177.146  0.00     0.00  \n1     29.150   141.7      3.08    5.1  177.830  2.34     0.74  \n2     29.350   140.5      3.82    5.3  178.657  2.74     1.09  \n3     29.370   140.0      4.33    5.6  179.386  0.27     4.06  \n4     29.540   139.6      3.50    5.2  180.007  2.31     1.19  \n..       ...     ...       ...    ...      ...   ...      ...  \n198  216.889  1474.7      1.17    6.0  305.270 -3.16     4.33  \n199  212.174  1576.5      0.12    6.9  305.952 -8.79     8.91  \n200  212.671  1592.8      0.22    8.1  306.547  0.94    -0.71  \n201  214.469  1653.6      0.18    9.2  307.226  3.37    -3.19  \n202  216.385  1673.9      0.12    9.6  308.013  3.56    -3.44  \n\n[203 rows x 14 columns]",
      "text/html": "<div>\n<style scoped>\n    .dataframe tbody tr th:only-of-type {\n        vertical-align: middle;\n    }\n\n    .dataframe tbody tr th {\n        vertical-align: top;\n    }\n\n    .dataframe thead th {\n        text-align: right;\n    }\n</style>\n<table border=\"1\" class=\"dataframe\">\n  <thead>\n    <tr style=\"text-align: right;\">\n      <th></th>\n      <th>year</th>\n      <th>quarter</th>\n      <th>realgdp</th>\n      <th>realcons</th>\n      <th>realinv</th>\n      <th>realgovt</th>\n      <th>realdpi</th>\n      <th>cpi</th>\n      <th>m1</th>\n      <th>tbilrate</th>\n      <th>unemp</th>\n      <th>pop</th>\n      <th>infl</th>\n      <th>realint</th>\n    </tr>\n  </thead>\n  <tbody>\n    <tr>\n      <th>0</th>\n      <td>1959.0</td>\n      <td>1.0</td>\n      <td>2710.349</td>\n      <td>1707.4</td>\n      <td>286.898</td>\n      <td>470.045</td>\n      <td>1886.9</td>\n      <td>28.980</td>\n      <td>139.7</td>\n      <td>2.82</td>\n      <td>5.8</td>\n      <td>177.146</td>\n      <td>0.00</td>\n      <td>0.00</td>\n    </tr>\n    <tr>\n      <th>1</th>\n      <td>1959.0</td>\n      <td>2.0</td>\n      <td>2778.801</td>\n      <td>1733.7</td>\n      <td>310.859</td>\n      <td>481.301</td>\n      <td>1919.7</td>\n      <td>29.150</td>\n      <td>141.7</td>\n      <td>3.08</td>\n      <td>5.1</td>\n      <td>177.830</td>\n      <td>2.34</td>\n      <td>0.74</td>\n    </tr>\n    <tr>\n      <th>2</th>\n      <td>1959.0</td>\n      <td>3.0</td>\n      <td>2775.488</td>\n      <td>1751.8</td>\n      <td>289.226</td>\n      <td>491.260</td>\n      <td>1916.4</td>\n      <td>29.350</td>\n      <td>140.5</td>\n      <td>3.82</td>\n      <td>5.3</td>\n      <td>178.657</td>\n      <td>2.74</td>\n      <td>1.09</td>\n    </tr>\n    <tr>\n      <th>3</th>\n      <td>1959.0</td>\n      <td>4.0</td>\n      <td>2785.204</td>\n      <td>1753.7</td>\n      <td>299.356</td>\n      <td>484.052</td>\n      <td>1931.3</td>\n      <td>29.370</td>\n      <td>140.0</td>\n      <td>4.33</td>\n      <td>5.6</td>\n      <td>179.386</td>\n      <td>0.27</td>\n      <td>4.06</td>\n    </tr>\n    <tr>\n      <th>4</th>\n      <td>1960.0</td>\n      <td>1.0</td>\n      <td>2847.699</td>\n      <td>1770.5</td>\n      <td>331.722</td>\n      <td>462.199</td>\n      <td>1955.5</td>\n      <td>29.540</td>\n      <td>139.6</td>\n      <td>3.50</td>\n      <td>5.2</td>\n      <td>180.007</td>\n      <td>2.31</td>\n      <td>1.19</td>\n    </tr>\n    <tr>\n      <th>...</th>\n      <td>...</td>\n      <td>...</td>\n      <td>...</td>\n      <td>...</td>\n      <td>...</td>\n      <td>...</td>\n      <td>...</td>\n      <td>...</td>\n      <td>...</td>\n      <td>...</td>\n      <td>...</td>\n      <td>...</td>\n      <td>...</td>\n      <td>...</td>\n    </tr>\n    <tr>\n      <th>198</th>\n      <td>2008.0</td>\n      <td>3.0</td>\n      <td>13324.600</td>\n      <td>9267.7</td>\n      <td>1990.693</td>\n      <td>991.551</td>\n      <td>9838.3</td>\n      <td>216.889</td>\n      <td>1474.7</td>\n      <td>1.17</td>\n      <td>6.0</td>\n      <td>305.270</td>\n      <td>-3.16</td>\n      <td>4.33</td>\n    </tr>\n    <tr>\n      <th>199</th>\n      <td>2008.0</td>\n      <td>4.0</td>\n      <td>13141.920</td>\n      <td>9195.3</td>\n      <td>1857.661</td>\n      <td>1007.273</td>\n      <td>9920.4</td>\n      <td>212.174</td>\n      <td>1576.5</td>\n      <td>0.12</td>\n      <td>6.9</td>\n      <td>305.952</td>\n      <td>-8.79</td>\n      <td>8.91</td>\n    </tr>\n    <tr>\n      <th>200</th>\n      <td>2009.0</td>\n      <td>1.0</td>\n      <td>12925.410</td>\n      <td>9209.2</td>\n      <td>1558.494</td>\n      <td>996.287</td>\n      <td>9926.4</td>\n      <td>212.671</td>\n      <td>1592.8</td>\n      <td>0.22</td>\n      <td>8.1</td>\n      <td>306.547</td>\n      <td>0.94</td>\n      <td>-0.71</td>\n    </tr>\n    <tr>\n      <th>201</th>\n      <td>2009.0</td>\n      <td>2.0</td>\n      <td>12901.504</td>\n      <td>9189.0</td>\n      <td>1456.678</td>\n      <td>1023.528</td>\n      <td>10077.5</td>\n      <td>214.469</td>\n      <td>1653.6</td>\n      <td>0.18</td>\n      <td>9.2</td>\n      <td>307.226</td>\n      <td>3.37</td>\n      <td>-3.19</td>\n    </tr>\n    <tr>\n      <th>202</th>\n      <td>2009.0</td>\n      <td>3.0</td>\n      <td>12990.341</td>\n      <td>9256.0</td>\n      <td>1486.398</td>\n      <td>1044.088</td>\n      <td>10040.6</td>\n      <td>216.385</td>\n      <td>1673.9</td>\n      <td>0.12</td>\n      <td>9.6</td>\n      <td>308.013</td>\n      <td>3.56</td>\n      <td>-3.44</td>\n    </tr>\n  </tbody>\n</table>\n<p>203 rows × 14 columns</p>\n</div>"
     },
     "execution_count": 45,
     "metadata": {},
     "output_type": "execute_result"
    }
   ],
   "source": [
    "data = pd.read_csv('../examples/macrodata.csv')\n",
    "data"
   ],
   "metadata": {
    "collapsed": false,
    "pycharm": {
     "name": "#%%\n"
    }
   }
  },
  {
   "cell_type": "code",
   "execution_count": 48,
   "outputs": [
    {
     "name": "stdout",
     "output_type": "stream",
     "text": [
      "<class 'pandas.core.series.Series'>\n"
     ]
    },
    {
     "data": {
      "text/plain": "0      1959.0\n1      1959.0\n2      1959.0\n3      1959.0\n4      1960.0\n        ...  \n198    2008.0\n199    2008.0\n200    2009.0\n201    2009.0\n202    2009.0\nName: year, Length: 203, dtype: float64"
     },
     "execution_count": 48,
     "metadata": {},
     "output_type": "execute_result"
    }
   ],
   "source": [
    "print(type(data.year))\n",
    "data.year"
   ],
   "metadata": {
    "collapsed": false,
    "pycharm": {
     "name": "#%%\n"
    }
   }
  },
  {
   "cell_type": "code",
   "execution_count": 49,
   "outputs": [
    {
     "data": {
      "text/plain": "PeriodIndex(['1959Q1', '1959Q2', '1959Q3', '1959Q4', '1960Q1', '1960Q2',\n             '1960Q3', '1960Q4', '1961Q1', '1961Q2',\n             ...\n             '2007Q2', '2007Q3', '2007Q4', '2008Q1', '2008Q2', '2008Q3',\n             '2008Q4', '2009Q1', '2009Q2', '2009Q3'],\n            dtype='period[Q-DEC]', length=203, freq='Q-DEC')"
     },
     "execution_count": 49,
     "metadata": {},
     "output_type": "execute_result"
    }
   ],
   "source": [
    "index1 = pd.PeriodIndex(year=data.year,quarter=data.quarter,freq='Q-DEC')\n",
    "index1\n",
    "#这种方法可以合并"
   ],
   "metadata": {
    "collapsed": false,
    "pycharm": {
     "name": "#%%\n"
    }
   }
  },
  {
   "cell_type": "code",
   "execution_count": 50,
   "outputs": [
    {
     "data": {
      "text/plain": "          year  quarter    realgdp  realcons   realinv  realgovt  realdpi  \\\n1959Q1  1959.0      1.0   2710.349    1707.4   286.898   470.045   1886.9   \n1959Q2  1959.0      2.0   2778.801    1733.7   310.859   481.301   1919.7   \n1959Q3  1959.0      3.0   2775.488    1751.8   289.226   491.260   1916.4   \n1959Q4  1959.0      4.0   2785.204    1753.7   299.356   484.052   1931.3   \n1960Q1  1960.0      1.0   2847.699    1770.5   331.722   462.199   1955.5   \n...        ...      ...        ...       ...       ...       ...      ...   \n2008Q3  2008.0      3.0  13324.600    9267.7  1990.693   991.551   9838.3   \n2008Q4  2008.0      4.0  13141.920    9195.3  1857.661  1007.273   9920.4   \n2009Q1  2009.0      1.0  12925.410    9209.2  1558.494   996.287   9926.4   \n2009Q2  2009.0      2.0  12901.504    9189.0  1456.678  1023.528  10077.5   \n2009Q3  2009.0      3.0  12990.341    9256.0  1486.398  1044.088  10040.6   \n\n            cpi      m1  tbilrate  unemp      pop  infl  realint  \n1959Q1   28.980   139.7      2.82    5.8  177.146  0.00     0.00  \n1959Q2   29.150   141.7      3.08    5.1  177.830  2.34     0.74  \n1959Q3   29.350   140.5      3.82    5.3  178.657  2.74     1.09  \n1959Q4   29.370   140.0      4.33    5.6  179.386  0.27     4.06  \n1960Q1   29.540   139.6      3.50    5.2  180.007  2.31     1.19  \n...         ...     ...       ...    ...      ...   ...      ...  \n2008Q3  216.889  1474.7      1.17    6.0  305.270 -3.16     4.33  \n2008Q4  212.174  1576.5      0.12    6.9  305.952 -8.79     8.91  \n2009Q1  212.671  1592.8      0.22    8.1  306.547  0.94    -0.71  \n2009Q2  214.469  1653.6      0.18    9.2  307.226  3.37    -3.19  \n2009Q3  216.385  1673.9      0.12    9.6  308.013  3.56    -3.44  \n\n[203 rows x 14 columns]",
      "text/html": "<div>\n<style scoped>\n    .dataframe tbody tr th:only-of-type {\n        vertical-align: middle;\n    }\n\n    .dataframe tbody tr th {\n        vertical-align: top;\n    }\n\n    .dataframe thead th {\n        text-align: right;\n    }\n</style>\n<table border=\"1\" class=\"dataframe\">\n  <thead>\n    <tr style=\"text-align: right;\">\n      <th></th>\n      <th>year</th>\n      <th>quarter</th>\n      <th>realgdp</th>\n      <th>realcons</th>\n      <th>realinv</th>\n      <th>realgovt</th>\n      <th>realdpi</th>\n      <th>cpi</th>\n      <th>m1</th>\n      <th>tbilrate</th>\n      <th>unemp</th>\n      <th>pop</th>\n      <th>infl</th>\n      <th>realint</th>\n    </tr>\n  </thead>\n  <tbody>\n    <tr>\n      <th>1959Q1</th>\n      <td>1959.0</td>\n      <td>1.0</td>\n      <td>2710.349</td>\n      <td>1707.4</td>\n      <td>286.898</td>\n      <td>470.045</td>\n      <td>1886.9</td>\n      <td>28.980</td>\n      <td>139.7</td>\n      <td>2.82</td>\n      <td>5.8</td>\n      <td>177.146</td>\n      <td>0.00</td>\n      <td>0.00</td>\n    </tr>\n    <tr>\n      <th>1959Q2</th>\n      <td>1959.0</td>\n      <td>2.0</td>\n      <td>2778.801</td>\n      <td>1733.7</td>\n      <td>310.859</td>\n      <td>481.301</td>\n      <td>1919.7</td>\n      <td>29.150</td>\n      <td>141.7</td>\n      <td>3.08</td>\n      <td>5.1</td>\n      <td>177.830</td>\n      <td>2.34</td>\n      <td>0.74</td>\n    </tr>\n    <tr>\n      <th>1959Q3</th>\n      <td>1959.0</td>\n      <td>3.0</td>\n      <td>2775.488</td>\n      <td>1751.8</td>\n      <td>289.226</td>\n      <td>491.260</td>\n      <td>1916.4</td>\n      <td>29.350</td>\n      <td>140.5</td>\n      <td>3.82</td>\n      <td>5.3</td>\n      <td>178.657</td>\n      <td>2.74</td>\n      <td>1.09</td>\n    </tr>\n    <tr>\n      <th>1959Q4</th>\n      <td>1959.0</td>\n      <td>4.0</td>\n      <td>2785.204</td>\n      <td>1753.7</td>\n      <td>299.356</td>\n      <td>484.052</td>\n      <td>1931.3</td>\n      <td>29.370</td>\n      <td>140.0</td>\n      <td>4.33</td>\n      <td>5.6</td>\n      <td>179.386</td>\n      <td>0.27</td>\n      <td>4.06</td>\n    </tr>\n    <tr>\n      <th>1960Q1</th>\n      <td>1960.0</td>\n      <td>1.0</td>\n      <td>2847.699</td>\n      <td>1770.5</td>\n      <td>331.722</td>\n      <td>462.199</td>\n      <td>1955.5</td>\n      <td>29.540</td>\n      <td>139.6</td>\n      <td>3.50</td>\n      <td>5.2</td>\n      <td>180.007</td>\n      <td>2.31</td>\n      <td>1.19</td>\n    </tr>\n    <tr>\n      <th>...</th>\n      <td>...</td>\n      <td>...</td>\n      <td>...</td>\n      <td>...</td>\n      <td>...</td>\n      <td>...</td>\n      <td>...</td>\n      <td>...</td>\n      <td>...</td>\n      <td>...</td>\n      <td>...</td>\n      <td>...</td>\n      <td>...</td>\n      <td>...</td>\n    </tr>\n    <tr>\n      <th>2008Q3</th>\n      <td>2008.0</td>\n      <td>3.0</td>\n      <td>13324.600</td>\n      <td>9267.7</td>\n      <td>1990.693</td>\n      <td>991.551</td>\n      <td>9838.3</td>\n      <td>216.889</td>\n      <td>1474.7</td>\n      <td>1.17</td>\n      <td>6.0</td>\n      <td>305.270</td>\n      <td>-3.16</td>\n      <td>4.33</td>\n    </tr>\n    <tr>\n      <th>2008Q4</th>\n      <td>2008.0</td>\n      <td>4.0</td>\n      <td>13141.920</td>\n      <td>9195.3</td>\n      <td>1857.661</td>\n      <td>1007.273</td>\n      <td>9920.4</td>\n      <td>212.174</td>\n      <td>1576.5</td>\n      <td>0.12</td>\n      <td>6.9</td>\n      <td>305.952</td>\n      <td>-8.79</td>\n      <td>8.91</td>\n    </tr>\n    <tr>\n      <th>2009Q1</th>\n      <td>2009.0</td>\n      <td>1.0</td>\n      <td>12925.410</td>\n      <td>9209.2</td>\n      <td>1558.494</td>\n      <td>996.287</td>\n      <td>9926.4</td>\n      <td>212.671</td>\n      <td>1592.8</td>\n      <td>0.22</td>\n      <td>8.1</td>\n      <td>306.547</td>\n      <td>0.94</td>\n      <td>-0.71</td>\n    </tr>\n    <tr>\n      <th>2009Q2</th>\n      <td>2009.0</td>\n      <td>2.0</td>\n      <td>12901.504</td>\n      <td>9189.0</td>\n      <td>1456.678</td>\n      <td>1023.528</td>\n      <td>10077.5</td>\n      <td>214.469</td>\n      <td>1653.6</td>\n      <td>0.18</td>\n      <td>9.2</td>\n      <td>307.226</td>\n      <td>3.37</td>\n      <td>-3.19</td>\n    </tr>\n    <tr>\n      <th>2009Q3</th>\n      <td>2009.0</td>\n      <td>3.0</td>\n      <td>12990.341</td>\n      <td>9256.0</td>\n      <td>1486.398</td>\n      <td>1044.088</td>\n      <td>10040.6</td>\n      <td>216.385</td>\n      <td>1673.9</td>\n      <td>0.12</td>\n      <td>9.6</td>\n      <td>308.013</td>\n      <td>3.56</td>\n      <td>-3.44</td>\n    </tr>\n  </tbody>\n</table>\n<p>203 rows × 14 columns</p>\n</div>"
     },
     "execution_count": 50,
     "metadata": {},
     "output_type": "execute_result"
    }
   ],
   "source": [
    "data.index=index1\n",
    "data"
   ],
   "metadata": {
    "collapsed": false,
    "pycharm": {
     "name": "#%%\n"
    }
   }
  },
  {
   "cell_type": "code",
   "execution_count": 51,
   "outputs": [
    {
     "name": "stdout",
     "output_type": "stream",
     "text": [
      "####################################\n"
     ]
    }
   ],
   "source": [
    "print('####################################')\n",
    "#重采样 resampling"
   ],
   "metadata": {
    "collapsed": false,
    "pycharm": {
     "name": "#%%\n"
    }
   }
  },
  {
   "cell_type": "code",
   "execution_count": null,
   "outputs": [],
   "source": [
    "#重采样是将一个时间序列从一个频率转化为另一个频率的过程\n",
    "#将高频率聚合到低频率叫降采样（downsampling）\n",
    "#将低频率转换到高频率叫上采样（upsamping）"
   ],
   "metadata": {
    "collapsed": false,
    "pycharm": {
     "name": "#%%\n"
    }
   }
  },
  {
   "cell_type": "code",
   "execution_count": 52,
   "outputs": [
    {
     "data": {
      "text/plain": "2000-01-01   -1.838393\n2000-01-02   -1.908840\n2000-01-03   -0.023797\n2000-01-04    1.600862\n2000-01-05    0.340717\n                ...   \n2000-04-05    0.037260\n2000-04-06    0.820821\n2000-04-07   -0.295522\n2000-04-08    0.091699\n2000-04-09   -0.653901\nFreq: D, Length: 100, dtype: float64"
     },
     "execution_count": 52,
     "metadata": {},
     "output_type": "execute_result"
    }
   ],
   "source": [
    "rng3 = pd.date_range('1/1/2000',periods=100,freq='D')\n",
    "ts = Series(np.random.randn(len(rng3)),index=rng3)\n",
    "ts"
   ],
   "metadata": {
    "collapsed": false,
    "pycharm": {
     "name": "#%%\n"
    }
   }
  },
  {
   "cell_type": "code",
   "execution_count": 54,
   "outputs": [
    {
     "data": {
      "text/plain": "2000-01    0.091160\n2000-02    0.074090\n2000-03   -0.135351\n2000-04   -0.465096\nFreq: M, dtype: float64"
     },
     "execution_count": 54,
     "metadata": {},
     "output_type": "execute_result"
    }
   ],
   "source": [
    "ts.resample('M',kind='period').mean()\n",
    "#freq代表重采样的频率 按月分组\n",
    "#kind = 'period' 'timestamp'表示聚合到时间段还是时间戳\n",
    "#之后是一个聚合对象 需要使用方法mean()"
   ],
   "metadata": {
    "collapsed": false,
    "pycharm": {
     "name": "#%%\n"
    }
   }
  },
  {
   "cell_type": "code",
   "execution_count": null,
   "outputs": [],
   "source": [
    "#降采样时要注意两个东西：\n",
    "#1.区间哪边是闭合的 是左闭右开还是左开右闭\n",
    "#2.如何标记各个聚合面元，用区间的开头还是末尾"
   ],
   "metadata": {
    "collapsed": false,
    "pycharm": {
     "name": "#%%\n"
    }
   }
  },
  {
   "cell_type": "code",
   "execution_count": 55,
   "outputs": [
    {
     "data": {
      "text/plain": "2000-01-01 00:00:00     0\n2000-01-01 00:01:00     1\n2000-01-01 00:02:00     2\n2000-01-01 00:03:00     3\n2000-01-01 00:04:00     4\n2000-01-01 00:05:00     5\n2000-01-01 00:06:00     6\n2000-01-01 00:07:00     7\n2000-01-01 00:08:00     8\n2000-01-01 00:09:00     9\n2000-01-01 00:10:00    10\n2000-01-01 00:11:00    11\nFreq: T, dtype: int32"
     },
     "execution_count": 55,
     "metadata": {},
     "output_type": "execute_result"
    }
   ],
   "source": [
    "rng4 = pd.date_range('1/1/2000',periods=12,freq='T')\n",
    "ts5 = Series(np.arange(12),index=rng4)\n",
    "ts5"
   ],
   "metadata": {
    "collapsed": false,
    "pycharm": {
     "name": "#%%\n"
    }
   }
  },
  {
   "cell_type": "code",
   "execution_count": 58,
   "outputs": [
    {
     "data": {
      "text/plain": "2000-01-01 00:00:00    10\n2000-01-01 00:05:00    35\n2000-01-01 00:10:00    21\nFreq: 5T, dtype: int32"
     },
     "execution_count": 58,
     "metadata": {},
     "output_type": "execute_result"
    }
   ],
   "source": [
    "#要按五分钟一聚合\n",
    "ts5.resample('5min').sum()\n",
    "#什么参数都不加 是使用左区间做label然后左闭右开的"
   ],
   "metadata": {
    "collapsed": false,
    "pycharm": {
     "name": "#%%\n"
    }
   }
  },
  {
   "cell_type": "code",
   "execution_count": 59,
   "outputs": [
    {
     "data": {
      "text/plain": "1999-12-31 23:55:00     0\n2000-01-01 00:00:00    15\n2000-01-01 00:05:00    40\n2000-01-01 00:10:00    11\nFreq: 5T, dtype: int32"
     },
     "execution_count": 59,
     "metadata": {},
     "output_type": "execute_result"
    }
   ],
   "source": [
    "ts5.resample('5min',closed='right').sum()\n",
    "#这就变成左开右闭了"
   ],
   "metadata": {
    "collapsed": false,
    "pycharm": {
     "name": "#%%\n"
    }
   }
  },
  {
   "cell_type": "code",
   "execution_count": 61,
   "outputs": [
    {
     "data": {
      "text/plain": "2000-01-01 00:05:00    10\n2000-01-01 00:10:00    35\n2000-01-01 00:15:00    21\nFreq: 5T, dtype: int32"
     },
     "execution_count": 61,
     "metadata": {},
     "output_type": "execute_result"
    }
   ],
   "source": [
    "ts5.resample('5min',closed='left',label='right').sum()\n",
    "#这时是左闭右开 但是label选择的是右边"
   ],
   "metadata": {
    "collapsed": false,
    "pycharm": {
     "name": "#%%\n"
    }
   }
  },
  {
   "cell_type": "code",
   "execution_count": 63,
   "outputs": [
    {
     "data": {
      "text/plain": "DatetimeIndex(['2000-01-01', '2000-01-02', '2000-01-03', '2000-01-04',\n               '2000-01-05', '2000-01-06', '2000-01-07', '2000-01-08',\n               '2000-01-09', '2000-01-10', '2000-01-11', '2000-01-12',\n               '2000-01-13', '2000-01-14', '2000-01-15', '2000-01-16',\n               '2000-01-17', '2000-01-18', '2000-01-19', '2000-01-20',\n               '2000-01-21', '2000-01-22', '2000-01-23', '2000-01-24',\n               '2000-01-25', '2000-01-26', '2000-01-27', '2000-01-28',\n               '2000-01-29', '2000-01-30', '2000-01-31', '2000-02-01',\n               '2000-02-02', '2000-02-03', '2000-02-04', '2000-02-05',\n               '2000-02-06', '2000-02-07', '2000-02-08', '2000-02-09',\n               '2000-02-10', '2000-02-11', '2000-02-12', '2000-02-13',\n               '2000-02-14', '2000-02-15', '2000-02-16', '2000-02-17',\n               '2000-02-18', '2000-02-19', '2000-02-20', '2000-02-21',\n               '2000-02-22', '2000-02-23', '2000-02-24', '2000-02-25',\n               '2000-02-26', '2000-02-27', '2000-02-28', '2000-02-29',\n               '2000-03-01', '2000-03-02', '2000-03-03', '2000-03-04',\n               '2000-03-05', '2000-03-06', '2000-03-07', '2000-03-08',\n               '2000-03-09', '2000-03-10', '2000-03-11', '2000-03-12',\n               '2000-03-13', '2000-03-14', '2000-03-15', '2000-03-16',\n               '2000-03-17', '2000-03-18', '2000-03-19', '2000-03-20',\n               '2000-03-21', '2000-03-22', '2000-03-23', '2000-03-24',\n               '2000-03-25', '2000-03-26', '2000-03-27', '2000-03-28',\n               '2000-03-29', '2000-03-30', '2000-03-31', '2000-04-01',\n               '2000-04-02', '2000-04-03', '2000-04-04', '2000-04-05',\n               '2000-04-06', '2000-04-07', '2000-04-08', '2000-04-09'],\n              dtype='datetime64[ns]', freq='D')"
     },
     "execution_count": 63,
     "metadata": {},
     "output_type": "execute_result"
    }
   ],
   "source": [
    "#通过groupby进行重采样\n",
    "rng3"
   ],
   "metadata": {
    "collapsed": false,
    "pycharm": {
     "name": "#%%\n"
    }
   }
  },
  {
   "cell_type": "code",
   "execution_count": 67,
   "outputs": [
    {
     "data": {
      "text/plain": "2000-01-01   -1.838393\n2000-01-02   -1.908840\n2000-01-03   -0.023797\n2000-01-04    1.600862\n2000-01-05    0.340717\n                ...   \n2000-04-05    0.037260\n2000-04-06    0.820821\n2000-04-07   -0.295522\n2000-04-08    0.091699\n2000-04-09   -0.653901\nFreq: D, Length: 100, dtype: float64"
     },
     "execution_count": 67,
     "metadata": {},
     "output_type": "execute_result"
    }
   ],
   "source": [
    "ts"
   ],
   "metadata": {
    "collapsed": false,
    "pycharm": {
     "name": "#%%\n"
    }
   }
  },
  {
   "cell_type": "code",
   "execution_count": 68,
   "outputs": [
    {
     "data": {
      "text/plain": "1    31\n2    29\n3    31\n4     9\ndtype: int64"
     },
     "execution_count": 68,
     "metadata": {},
     "output_type": "execute_result"
    }
   ],
   "source": [
    "ts.groupby(lambda x:x.month).size()"
   ],
   "metadata": {
    "collapsed": false,
    "pycharm": {
     "name": "#%%\n"
    }
   }
  },
  {
   "cell_type": "code",
   "execution_count": 69,
   "outputs": [
    {
     "data": {
      "text/plain": "0    0.006108\n1    0.066963\n2   -0.025014\n3   -0.211419\n4    0.236919\n5    0.004368\n6   -0.300166\ndtype: float64"
     },
     "execution_count": 69,
     "metadata": {},
     "output_type": "execute_result"
    }
   ],
   "source": [
    "ts.groupby(lambda x:x.weekday).mean()\n",
    "#这些也都是groupby对index进行操作 只是此时的index是timestamp有month等属性"
   ],
   "metadata": {
    "collapsed": false,
    "pycharm": {
     "name": "#%%\n"
    }
   }
  },
  {
   "cell_type": "code",
   "execution_count": 70,
   "outputs": [
    {
     "data": {
      "text/plain": "            Colorado     Texas  New York      Ohio\n2000-01-05 -0.001930  0.920754 -2.396715 -0.433294\n2000-01-12  1.296038  0.002174  0.928239 -1.745287",
      "text/html": "<div>\n<style scoped>\n    .dataframe tbody tr th:only-of-type {\n        vertical-align: middle;\n    }\n\n    .dataframe tbody tr th {\n        vertical-align: top;\n    }\n\n    .dataframe thead th {\n        text-align: right;\n    }\n</style>\n<table border=\"1\" class=\"dataframe\">\n  <thead>\n    <tr style=\"text-align: right;\">\n      <th></th>\n      <th>Colorado</th>\n      <th>Texas</th>\n      <th>New York</th>\n      <th>Ohio</th>\n    </tr>\n  </thead>\n  <tbody>\n    <tr>\n      <th>2000-01-05</th>\n      <td>-0.001930</td>\n      <td>0.920754</td>\n      <td>-2.396715</td>\n      <td>-0.433294</td>\n    </tr>\n    <tr>\n      <th>2000-01-12</th>\n      <td>1.296038</td>\n      <td>0.002174</td>\n      <td>0.928239</td>\n      <td>-1.745287</td>\n    </tr>\n  </tbody>\n</table>\n</div>"
     },
     "execution_count": 70,
     "metadata": {},
     "output_type": "execute_result"
    }
   ],
   "source": [
    "#上采样和插值\n",
    "frame = DataFrame(np.random.randn(2,4),\n",
    "                  index=pd.date_range('1/1/2000',periods=2,freq='W-WED'),\n",
    "                  columns=['Colorado','Texas','New York','Ohio'])\n",
    "frame"
   ],
   "metadata": {
    "collapsed": false,
    "pycharm": {
     "name": "#%%\n"
    }
   }
  },
  {
   "cell_type": "code",
   "execution_count": 72,
   "outputs": [
    {
     "data": {
      "text/plain": "2000-01-05    1\n2000-01-06    0\n2000-01-07    0\n2000-01-08    0\n2000-01-09    0\n2000-01-10    0\n2000-01-11    0\n2000-01-12    1\nFreq: D, dtype: int64"
     },
     "execution_count": 72,
     "metadata": {},
     "output_type": "execute_result"
    }
   ],
   "source": [
    "df_daily = frame.resample('D')\n",
    "df_daily.size()\n",
    "#此时进行插值了 中间的所有值都是NaN"
   ],
   "metadata": {
    "collapsed": false,
    "pycharm": {
     "name": "#%%\n"
    }
   }
  },
  {
   "cell_type": "code",
   "execution_count": 82,
   "outputs": [
    {
     "data": {
      "text/plain": "            Colorado     Texas  New York      Ohio\n2000-01-05 -0.001930  0.920754 -2.396715 -0.433294\n2000-01-06 -0.001930  0.920754 -2.396715 -0.433294\n2000-01-07 -0.001930  0.920754 -2.396715 -0.433294\n2000-01-08 -0.001930  0.920754 -2.396715 -0.433294\n2000-01-09 -0.001930  0.920754 -2.396715 -0.433294\n2000-01-10 -0.001930  0.920754 -2.396715 -0.433294\n2000-01-11 -0.001930  0.920754 -2.396715 -0.433294\n2000-01-12  1.296038  0.002174  0.928239 -1.745287",
      "text/html": "<div>\n<style scoped>\n    .dataframe tbody tr th:only-of-type {\n        vertical-align: middle;\n    }\n\n    .dataframe tbody tr th {\n        vertical-align: top;\n    }\n\n    .dataframe thead th {\n        text-align: right;\n    }\n</style>\n<table border=\"1\" class=\"dataframe\">\n  <thead>\n    <tr style=\"text-align: right;\">\n      <th></th>\n      <th>Colorado</th>\n      <th>Texas</th>\n      <th>New York</th>\n      <th>Ohio</th>\n    </tr>\n  </thead>\n  <tbody>\n    <tr>\n      <th>2000-01-05</th>\n      <td>-0.001930</td>\n      <td>0.920754</td>\n      <td>-2.396715</td>\n      <td>-0.433294</td>\n    </tr>\n    <tr>\n      <th>2000-01-06</th>\n      <td>-0.001930</td>\n      <td>0.920754</td>\n      <td>-2.396715</td>\n      <td>-0.433294</td>\n    </tr>\n    <tr>\n      <th>2000-01-07</th>\n      <td>-0.001930</td>\n      <td>0.920754</td>\n      <td>-2.396715</td>\n      <td>-0.433294</td>\n    </tr>\n    <tr>\n      <th>2000-01-08</th>\n      <td>-0.001930</td>\n      <td>0.920754</td>\n      <td>-2.396715</td>\n      <td>-0.433294</td>\n    </tr>\n    <tr>\n      <th>2000-01-09</th>\n      <td>-0.001930</td>\n      <td>0.920754</td>\n      <td>-2.396715</td>\n      <td>-0.433294</td>\n    </tr>\n    <tr>\n      <th>2000-01-10</th>\n      <td>-0.001930</td>\n      <td>0.920754</td>\n      <td>-2.396715</td>\n      <td>-0.433294</td>\n    </tr>\n    <tr>\n      <th>2000-01-11</th>\n      <td>-0.001930</td>\n      <td>0.920754</td>\n      <td>-2.396715</td>\n      <td>-0.433294</td>\n    </tr>\n    <tr>\n      <th>2000-01-12</th>\n      <td>1.296038</td>\n      <td>0.002174</td>\n      <td>0.928239</td>\n      <td>-1.745287</td>\n    </tr>\n  </tbody>\n</table>\n</div>"
     },
     "execution_count": 82,
     "metadata": {},
     "output_type": "execute_result"
    }
   ],
   "source": [
    "frame.resample('D').ffill()"
   ],
   "metadata": {
    "collapsed": false,
    "pycharm": {
     "name": "#%%\n"
    }
   }
  },
  {
   "cell_type": "code",
   "execution_count": 83,
   "outputs": [
    {
     "data": {
      "text/plain": "            Colorado     Texas  New York      Ohio\n2000-01-06 -0.001930  0.920754 -2.396715 -0.433294\n2000-01-13  1.296038  0.002174  0.928239 -1.745287",
      "text/html": "<div>\n<style scoped>\n    .dataframe tbody tr th:only-of-type {\n        vertical-align: middle;\n    }\n\n    .dataframe tbody tr th {\n        vertical-align: top;\n    }\n\n    .dataframe thead th {\n        text-align: right;\n    }\n</style>\n<table border=\"1\" class=\"dataframe\">\n  <thead>\n    <tr style=\"text-align: right;\">\n      <th></th>\n      <th>Colorado</th>\n      <th>Texas</th>\n      <th>New York</th>\n      <th>Ohio</th>\n    </tr>\n  </thead>\n  <tbody>\n    <tr>\n      <th>2000-01-06</th>\n      <td>-0.001930</td>\n      <td>0.920754</td>\n      <td>-2.396715</td>\n      <td>-0.433294</td>\n    </tr>\n    <tr>\n      <th>2000-01-13</th>\n      <td>1.296038</td>\n      <td>0.002174</td>\n      <td>0.928239</td>\n      <td>-1.745287</td>\n    </tr>\n  </tbody>\n</table>\n</div>"
     },
     "execution_count": 83,
     "metadata": {},
     "output_type": "execute_result"
    }
   ],
   "source": [
    "frame.resample('W-THU').ffill()\n",
    "#使用别的方法重采样"
   ],
   "metadata": {
    "collapsed": false,
    "pycharm": {
     "name": "#%%\n"
    }
   }
  },
  {
   "cell_type": "code",
   "execution_count": 85,
   "outputs": [
    {
     "data": {
      "text/plain": "            Colorado     Texas  New York      Ohio\n2000-01-31  1.243864 -1.128100  0.302022  0.717727\n2000-02-29 -1.209660  0.776843  0.960600  1.646134\n2000-03-31 -0.018567  0.436008 -1.016175 -0.929041\n2000-04-30 -0.258113  0.041217  1.254814 -0.141053\n2000-05-31 -0.005082 -0.637700  2.183523  0.585564\n2000-06-30  1.462795 -0.926031 -0.246936  0.390944\n2000-07-31 -0.437697 -0.115602  0.319162  1.049844\n2000-08-31 -0.131674  0.209766  0.267748  0.529269\n2000-09-30  0.369199 -0.583159 -0.904258  0.424673\n2000-10-31 -1.396068  1.038843 -0.684201 -0.474342\n2000-11-30  0.854758  1.181101  0.417781 -0.253227\n2000-12-31  0.884813  1.050109  1.600436  2.979538\n2001-01-31  0.310648  1.843493  0.404394 -1.857233\n2001-02-28 -0.139724 -0.000930  0.782193  0.813672\n2001-03-31 -0.967831  1.451535 -1.227027 -0.243358\n2001-04-30  1.544485 -0.872127 -0.643492  1.076359\n2001-05-31  0.247087  0.057159  1.198217  0.551477\n2001-06-30  1.555543 -1.002173 -1.423303 -0.189341\n2001-07-31  0.156716 -0.311388 -0.923091 -0.931440\n2001-08-31 -0.654576  1.743651  0.813531 -1.198795\n2001-09-30 -0.764590 -0.870684  0.871098 -1.060585\n2001-10-31 -2.180737 -1.367159  0.370201 -0.934992\n2001-11-30 -0.181159 -0.282971 -1.369047  0.715725\n2001-12-31  0.095384  1.032941  0.796133 -1.116055",
      "text/html": "<div>\n<style scoped>\n    .dataframe tbody tr th:only-of-type {\n        vertical-align: middle;\n    }\n\n    .dataframe tbody tr th {\n        vertical-align: top;\n    }\n\n    .dataframe thead th {\n        text-align: right;\n    }\n</style>\n<table border=\"1\" class=\"dataframe\">\n  <thead>\n    <tr style=\"text-align: right;\">\n      <th></th>\n      <th>Colorado</th>\n      <th>Texas</th>\n      <th>New York</th>\n      <th>Ohio</th>\n    </tr>\n  </thead>\n  <tbody>\n    <tr>\n      <th>2000-01-31</th>\n      <td>1.243864</td>\n      <td>-1.128100</td>\n      <td>0.302022</td>\n      <td>0.717727</td>\n    </tr>\n    <tr>\n      <th>2000-02-29</th>\n      <td>-1.209660</td>\n      <td>0.776843</td>\n      <td>0.960600</td>\n      <td>1.646134</td>\n    </tr>\n    <tr>\n      <th>2000-03-31</th>\n      <td>-0.018567</td>\n      <td>0.436008</td>\n      <td>-1.016175</td>\n      <td>-0.929041</td>\n    </tr>\n    <tr>\n      <th>2000-04-30</th>\n      <td>-0.258113</td>\n      <td>0.041217</td>\n      <td>1.254814</td>\n      <td>-0.141053</td>\n    </tr>\n    <tr>\n      <th>2000-05-31</th>\n      <td>-0.005082</td>\n      <td>-0.637700</td>\n      <td>2.183523</td>\n      <td>0.585564</td>\n    </tr>\n    <tr>\n      <th>2000-06-30</th>\n      <td>1.462795</td>\n      <td>-0.926031</td>\n      <td>-0.246936</td>\n      <td>0.390944</td>\n    </tr>\n    <tr>\n      <th>2000-07-31</th>\n      <td>-0.437697</td>\n      <td>-0.115602</td>\n      <td>0.319162</td>\n      <td>1.049844</td>\n    </tr>\n    <tr>\n      <th>2000-08-31</th>\n      <td>-0.131674</td>\n      <td>0.209766</td>\n      <td>0.267748</td>\n      <td>0.529269</td>\n    </tr>\n    <tr>\n      <th>2000-09-30</th>\n      <td>0.369199</td>\n      <td>-0.583159</td>\n      <td>-0.904258</td>\n      <td>0.424673</td>\n    </tr>\n    <tr>\n      <th>2000-10-31</th>\n      <td>-1.396068</td>\n      <td>1.038843</td>\n      <td>-0.684201</td>\n      <td>-0.474342</td>\n    </tr>\n    <tr>\n      <th>2000-11-30</th>\n      <td>0.854758</td>\n      <td>1.181101</td>\n      <td>0.417781</td>\n      <td>-0.253227</td>\n    </tr>\n    <tr>\n      <th>2000-12-31</th>\n      <td>0.884813</td>\n      <td>1.050109</td>\n      <td>1.600436</td>\n      <td>2.979538</td>\n    </tr>\n    <tr>\n      <th>2001-01-31</th>\n      <td>0.310648</td>\n      <td>1.843493</td>\n      <td>0.404394</td>\n      <td>-1.857233</td>\n    </tr>\n    <tr>\n      <th>2001-02-28</th>\n      <td>-0.139724</td>\n      <td>-0.000930</td>\n      <td>0.782193</td>\n      <td>0.813672</td>\n    </tr>\n    <tr>\n      <th>2001-03-31</th>\n      <td>-0.967831</td>\n      <td>1.451535</td>\n      <td>-1.227027</td>\n      <td>-0.243358</td>\n    </tr>\n    <tr>\n      <th>2001-04-30</th>\n      <td>1.544485</td>\n      <td>-0.872127</td>\n      <td>-0.643492</td>\n      <td>1.076359</td>\n    </tr>\n    <tr>\n      <th>2001-05-31</th>\n      <td>0.247087</td>\n      <td>0.057159</td>\n      <td>1.198217</td>\n      <td>0.551477</td>\n    </tr>\n    <tr>\n      <th>2001-06-30</th>\n      <td>1.555543</td>\n      <td>-1.002173</td>\n      <td>-1.423303</td>\n      <td>-0.189341</td>\n    </tr>\n    <tr>\n      <th>2001-07-31</th>\n      <td>0.156716</td>\n      <td>-0.311388</td>\n      <td>-0.923091</td>\n      <td>-0.931440</td>\n    </tr>\n    <tr>\n      <th>2001-08-31</th>\n      <td>-0.654576</td>\n      <td>1.743651</td>\n      <td>0.813531</td>\n      <td>-1.198795</td>\n    </tr>\n    <tr>\n      <th>2001-09-30</th>\n      <td>-0.764590</td>\n      <td>-0.870684</td>\n      <td>0.871098</td>\n      <td>-1.060585</td>\n    </tr>\n    <tr>\n      <th>2001-10-31</th>\n      <td>-2.180737</td>\n      <td>-1.367159</td>\n      <td>0.370201</td>\n      <td>-0.934992</td>\n    </tr>\n    <tr>\n      <th>2001-11-30</th>\n      <td>-0.181159</td>\n      <td>-0.282971</td>\n      <td>-1.369047</td>\n      <td>0.715725</td>\n    </tr>\n    <tr>\n      <th>2001-12-31</th>\n      <td>0.095384</td>\n      <td>1.032941</td>\n      <td>0.796133</td>\n      <td>-1.116055</td>\n    </tr>\n  </tbody>\n</table>\n</div>"
     },
     "execution_count": 85,
     "metadata": {},
     "output_type": "execute_result"
    }
   ],
   "source": [
    "frame1 = DataFrame(np.random.randn(24,4),\n",
    "                  index=pd.date_range('1-2000','1-2002',freq='M'),\n",
    "                  columns=['Colorado','Texas','New York','Ohio'])\n",
    "frame1"
   ],
   "metadata": {
    "collapsed": false,
    "pycharm": {
     "name": "#%%\n"
    }
   }
  },
  {
   "cell_type": "code",
   "execution_count": 87,
   "outputs": [
    {
     "data": {
      "text/plain": "            Colorado     Texas  New York      Ohio\n2000-12-31  0.113214  0.111941  0.371210  0.543836\n2001-12-31 -0.081563  0.118446 -0.029183 -0.364547",
      "text/html": "<div>\n<style scoped>\n    .dataframe tbody tr th:only-of-type {\n        vertical-align: middle;\n    }\n\n    .dataframe tbody tr th {\n        vertical-align: top;\n    }\n\n    .dataframe thead th {\n        text-align: right;\n    }\n</style>\n<table border=\"1\" class=\"dataframe\">\n  <thead>\n    <tr style=\"text-align: right;\">\n      <th></th>\n      <th>Colorado</th>\n      <th>Texas</th>\n      <th>New York</th>\n      <th>Ohio</th>\n    </tr>\n  </thead>\n  <tbody>\n    <tr>\n      <th>2000-12-31</th>\n      <td>0.113214</td>\n      <td>0.111941</td>\n      <td>0.371210</td>\n      <td>0.543836</td>\n    </tr>\n    <tr>\n      <th>2001-12-31</th>\n      <td>-0.081563</td>\n      <td>0.118446</td>\n      <td>-0.029183</td>\n      <td>-0.364547</td>\n    </tr>\n  </tbody>\n</table>\n</div>"
     },
     "execution_count": 87,
     "metadata": {},
     "output_type": "execute_result"
    }
   ],
   "source": [
    "annual_frame1 = frame1.resample('A-DEC').mean()\n",
    "annual_frame1\n",
    "#按照年进行降采样"
   ],
   "metadata": {
    "collapsed": false,
    "pycharm": {
     "name": "#%%\n"
    }
   }
  },
  {
   "cell_type": "code",
   "execution_count": 88,
   "outputs": [
    {
     "data": {
      "text/plain": "            Colorado     Texas  New York      Ohio\n2000-12-31  0.113214  0.111941  0.371210  0.543836\n2001-03-31  0.113214  0.111941  0.371210  0.543836\n2001-06-30  0.113214  0.111941  0.371210  0.543836\n2001-09-30  0.113214  0.111941  0.371210  0.543836\n2001-12-31 -0.081563  0.118446 -0.029183 -0.364547",
      "text/html": "<div>\n<style scoped>\n    .dataframe tbody tr th:only-of-type {\n        vertical-align: middle;\n    }\n\n    .dataframe tbody tr th {\n        vertical-align: top;\n    }\n\n    .dataframe thead th {\n        text-align: right;\n    }\n</style>\n<table border=\"1\" class=\"dataframe\">\n  <thead>\n    <tr style=\"text-align: right;\">\n      <th></th>\n      <th>Colorado</th>\n      <th>Texas</th>\n      <th>New York</th>\n      <th>Ohio</th>\n    </tr>\n  </thead>\n  <tbody>\n    <tr>\n      <th>2000-12-31</th>\n      <td>0.113214</td>\n      <td>0.111941</td>\n      <td>0.371210</td>\n      <td>0.543836</td>\n    </tr>\n    <tr>\n      <th>2001-03-31</th>\n      <td>0.113214</td>\n      <td>0.111941</td>\n      <td>0.371210</td>\n      <td>0.543836</td>\n    </tr>\n    <tr>\n      <th>2001-06-30</th>\n      <td>0.113214</td>\n      <td>0.111941</td>\n      <td>0.371210</td>\n      <td>0.543836</td>\n    </tr>\n    <tr>\n      <th>2001-09-30</th>\n      <td>0.113214</td>\n      <td>0.111941</td>\n      <td>0.371210</td>\n      <td>0.543836</td>\n    </tr>\n    <tr>\n      <th>2001-12-31</th>\n      <td>-0.081563</td>\n      <td>0.118446</td>\n      <td>-0.029183</td>\n      <td>-0.364547</td>\n    </tr>\n  </tbody>\n</table>\n</div>"
     },
     "execution_count": 88,
     "metadata": {},
     "output_type": "execute_result"
    }
   ],
   "source": [
    "annual_frame1.resample('Q-DEC').ffill()\n",
    "#上采样同样的要确定如何把段时间变为时间戳 默认是使用end"
   ],
   "metadata": {
    "collapsed": false,
    "pycharm": {
     "name": "#%%\n"
    }
   }
  },
  {
   "cell_type": "code",
   "execution_count": 92,
   "outputs": [
    {
     "data": {
      "text/plain": "            Colorado     Texas  New York      Ohio\n2000-12-31  0.113214  0.111941  0.371210  0.543836\n2001-03-31  0.113214  0.111941  0.371210  0.543836\n2001-06-30  0.113214  0.111941  0.371210  0.543836\n2001-09-30  0.113214  0.111941  0.371210  0.543836\n2001-12-31 -0.081563  0.118446 -0.029183 -0.364547",
      "text/html": "<div>\n<style scoped>\n    .dataframe tbody tr th:only-of-type {\n        vertical-align: middle;\n    }\n\n    .dataframe tbody tr th {\n        vertical-align: top;\n    }\n\n    .dataframe thead th {\n        text-align: right;\n    }\n</style>\n<table border=\"1\" class=\"dataframe\">\n  <thead>\n    <tr style=\"text-align: right;\">\n      <th></th>\n      <th>Colorado</th>\n      <th>Texas</th>\n      <th>New York</th>\n      <th>Ohio</th>\n    </tr>\n  </thead>\n  <tbody>\n    <tr>\n      <th>2000-12-31</th>\n      <td>0.113214</td>\n      <td>0.111941</td>\n      <td>0.371210</td>\n      <td>0.543836</td>\n    </tr>\n    <tr>\n      <th>2001-03-31</th>\n      <td>0.113214</td>\n      <td>0.111941</td>\n      <td>0.371210</td>\n      <td>0.543836</td>\n    </tr>\n    <tr>\n      <th>2001-06-30</th>\n      <td>0.113214</td>\n      <td>0.111941</td>\n      <td>0.371210</td>\n      <td>0.543836</td>\n    </tr>\n    <tr>\n      <th>2001-09-30</th>\n      <td>0.113214</td>\n      <td>0.111941</td>\n      <td>0.371210</td>\n      <td>0.543836</td>\n    </tr>\n    <tr>\n      <th>2001-12-31</th>\n      <td>-0.081563</td>\n      <td>0.118446</td>\n      <td>-0.029183</td>\n      <td>-0.364547</td>\n    </tr>\n  </tbody>\n</table>\n</div>"
     },
     "execution_count": 92,
     "metadata": {},
     "output_type": "execute_result"
    }
   ],
   "source": [
    "annual_frame1.resample('Q-DEC',convention='start').ffill()"
   ],
   "metadata": {
    "collapsed": false,
    "pycharm": {
     "name": "#%%\n"
    }
   }
  },
  {
   "cell_type": "code",
   "execution_count": null,
   "outputs": [],
   "source": [],
   "metadata": {
    "collapsed": false,
    "pycharm": {
     "name": "#%%\n"
    }
   }
  }
 ],
 "metadata": {
  "kernelspec": {
   "display_name": "Python 3",
   "language": "python",
   "name": "python3"
  },
  "language_info": {
   "codemirror_mode": {
    "name": "ipython",
    "version": 2
   },
   "file_extension": ".py",
   "mimetype": "text/x-python",
   "name": "python",
   "nbconvert_exporter": "python",
   "pygments_lexer": "ipython2",
   "version": "2.7.6"
  }
 },
 "nbformat": 4,
 "nbformat_minor": 0
}