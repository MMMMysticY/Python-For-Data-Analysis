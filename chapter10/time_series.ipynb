{
 "cells": [
  {
   "cell_type": "code",
   "execution_count": 1,
   "metadata": {
    "collapsed": true
   },
   "outputs": [],
   "source": [
    "from datetime import datetime\n",
    "from datetime import timedelta\n",
    "import pandas as pd\n",
    "from pandas import Series,DataFrame\n",
    "import numpy as np"
   ]
  },
  {
   "cell_type": "code",
   "execution_count": 2,
   "outputs": [
    {
     "name": "stdout",
     "output_type": "stream",
     "text": [
      "2021-02-05 09:23:00.884983\n"
     ]
    }
   ],
   "source": [
    "now = datetime.now()\n",
    "print(now)\n",
    "#获取当前时间"
   ],
   "metadata": {
    "collapsed": false,
    "pycharm": {
     "name": "#%%\n"
    }
   }
  },
  {
   "cell_type": "code",
   "execution_count": 3,
   "outputs": [
    {
     "name": "stdout",
     "output_type": "stream",
     "text": [
      "<class 'datetime.datetime'>\n"
     ]
    },
    {
     "data": {
      "text/plain": "(2021, 2, 5)"
     },
     "execution_count": 3,
     "metadata": {},
     "output_type": "execute_result"
    }
   ],
   "source": [
    "print(type(now))\n",
    "now.year,now.month,now.day\n",
    "#datetime对象有很多属性"
   ],
   "metadata": {
    "collapsed": false,
    "pycharm": {
     "name": "#%%\n"
    }
   }
  },
  {
   "cell_type": "code",
   "execution_count": 4,
   "outputs": [
    {
     "name": "stdout",
     "output_type": "stream",
     "text": [
      "2021-02-04 00:00:00\n"
     ]
    },
    {
     "data": {
      "text/plain": "datetime.timedelta(days=4562, seconds=32400)"
     },
     "execution_count": 4,
     "metadata": {},
     "output_type": "execute_result"
    }
   ],
   "source": [
    "print(datetime(2021,2,4))\n",
    "#datetime本身带构造函数\n",
    "delta = datetime(2021,2,4) - datetime(2008,8,8,15)\n",
    "delta\n",
    "#而两个datetime对象相减的结果则成了一个新对象timedelta对象"
   ],
   "metadata": {
    "collapsed": false,
    "pycharm": {
     "name": "#%%\n"
    }
   }
  },
  {
   "cell_type": "code",
   "execution_count": 5,
   "outputs": [
    {
     "data": {
      "text/plain": "(32400, 4562)"
     },
     "execution_count": 5,
     "metadata": {},
     "output_type": "execute_result"
    }
   ],
   "source": [
    "delta.seconds,delta.days"
   ],
   "metadata": {
    "collapsed": false,
    "pycharm": {
     "name": "#%%\n"
    }
   }
  },
  {
   "cell_type": "code",
   "execution_count": 6,
   "outputs": [
    {
     "data": {
      "text/plain": "datetime.datetime(2021, 2, 16, 0, 0)"
     },
     "execution_count": 6,
     "metadata": {},
     "output_type": "execute_result"
    }
   ],
   "source": [
    "start = datetime(2021,2,4)\n",
    "start+timedelta(days=12)"
   ],
   "metadata": {
    "collapsed": false,
    "pycharm": {
     "name": "#%%\n"
    }
   }
  },
  {
   "cell_type": "code",
   "execution_count": 7,
   "outputs": [
    {
     "data": {
      "text/plain": "datetime.datetime(2021, 2, 3, 23, 0)"
     },
     "execution_count": 7,
     "metadata": {},
     "output_type": "execute_result"
    }
   ],
   "source": [
    "start - timedelta(seconds=3600)\n",
    "#datetime对象可以和timedelta对象进行运算 得到的是datetime对象"
   ],
   "metadata": {
    "collapsed": false,
    "pycharm": {
     "name": "#%%\n"
    }
   }
  },
  {
   "cell_type": "code",
   "execution_count": 8,
   "outputs": [
    {
     "data": {
      "text/plain": "'2021-02-04 00:00:00'"
     },
     "execution_count": 8,
     "metadata": {},
     "output_type": "execute_result"
    }
   ],
   "source": [
    "stamp = datetime(2021,2,4)\n",
    "str(stamp)\n",
    "#将datetime转为string类型"
   ],
   "metadata": {
    "collapsed": false,
    "pycharm": {
     "name": "#%%\n"
    }
   }
  },
  {
   "cell_type": "code",
   "execution_count": 9,
   "outputs": [
    {
     "data": {
      "text/plain": "'2021-02-04'"
     },
     "execution_count": 9,
     "metadata": {},
     "output_type": "execute_result"
    }
   ],
   "source": [
    "stamp.strftime('%Y-%m-%d')\n",
    "#使用strftime可以指定转为string时的格式"
   ],
   "metadata": {
    "collapsed": false,
    "pycharm": {
     "name": "#%%\n"
    }
   }
  },
  {
   "cell_type": "code",
   "execution_count": 10,
   "outputs": [
    {
     "data": {
      "text/plain": "datetime.datetime(2021, 2, 4, 0, 0)"
     },
     "execution_count": 10,
     "metadata": {},
     "output_type": "execute_result"
    }
   ],
   "source": [
    "value = '2021-02-04'\n",
    "datetime.strptime(value,'%Y-%m-%d')\n",
    "#使用对应的strptime可以将string转化为datetime形式 同样可以指定格式"
   ],
   "metadata": {
    "collapsed": false,
    "pycharm": {
     "name": "#%%\n"
    }
   }
  },
  {
   "cell_type": "code",
   "execution_count": 11,
   "outputs": [
    {
     "data": {
      "text/plain": "[datetime.datetime(2011, 7, 6, 0, 0), datetime.datetime(2011, 8, 6, 0, 0)]"
     },
     "execution_count": 11,
     "metadata": {},
     "output_type": "execute_result"
    }
   ],
   "source": [
    "datestrs = ['7/6/2011','8/6/2011']\n",
    "[datetime.strptime(datestr,'%m/%d/%Y') for datestr in datestrs]"
   ],
   "metadata": {
    "collapsed": false,
    "pycharm": {
     "name": "#%%\n"
    }
   }
  },
  {
   "cell_type": "code",
   "execution_count": 12,
   "outputs": [
    {
     "data": {
      "text/plain": "datetime.datetime(2011, 1, 3, 0, 0)"
     },
     "execution_count": 12,
     "metadata": {},
     "output_type": "execute_result"
    }
   ],
   "source": [
    "from dateutil.parser import parse\n",
    "\n",
    "parse('2011-01-3')\n",
    "#使用parse方法可以将string转为datetime对象"
   ],
   "metadata": {
    "collapsed": false,
    "pycharm": {
     "name": "#%%\n"
    }
   }
  },
  {
   "cell_type": "code",
   "execution_count": 13,
   "outputs": [
    {
     "data": {
      "text/plain": "datetime.datetime(1997, 1, 31, 22, 45)"
     },
     "execution_count": 13,
     "metadata": {},
     "output_type": "execute_result"
    }
   ],
   "source": [
    "parse('Jan 31, 1997 10:45 PM')\n",
    "#很厉害"
   ],
   "metadata": {
    "collapsed": false,
    "pycharm": {
     "name": "#%%\n"
    }
   }
  },
  {
   "cell_type": "code",
   "execution_count": 14,
   "outputs": [
    {
     "name": "stdout",
     "output_type": "stream",
     "text": [
      "2021-06-12 00:00:00\n"
     ]
    },
    {
     "data": {
      "text/plain": "datetime.datetime(2021, 12, 6, 0, 0)"
     },
     "execution_count": 14,
     "metadata": {},
     "output_type": "execute_result"
    }
   ],
   "source": [
    "print(parse('6/12/2021'))\n",
    "parse('6/12/2021',dayfirst=True)\n",
    "#默认是m/d/y 如果要d/m/y 使用dayfirst参数"
   ],
   "metadata": {
    "collapsed": false,
    "pycharm": {
     "name": "#%%\n"
    }
   }
  },
  {
   "cell_type": "code",
   "execution_count": 15,
   "outputs": [
    {
     "data": {
      "text/plain": "['7/6/2011', '8/6/2011']"
     },
     "execution_count": 15,
     "metadata": {},
     "output_type": "execute_result"
    }
   ],
   "source": [
    "datestrs"
   ],
   "metadata": {
    "collapsed": false,
    "pycharm": {
     "name": "#%%\n"
    }
   }
  },
  {
   "cell_type": "code",
   "execution_count": 16,
   "outputs": [
    {
     "data": {
      "text/plain": "DatetimeIndex(['2011-07-06', '2011-08-06'], dtype='datetime64[ns]', freq=None)"
     },
     "execution_count": 16,
     "metadata": {},
     "output_type": "execute_result"
    }
   ],
   "source": [
    "pd.to_datetime(datestrs)\n",
    "#使用pandas的to_datetime可以转化日期"
   ],
   "metadata": {
    "collapsed": false,
    "pycharm": {
     "name": "#%%\n"
    }
   }
  },
  {
   "cell_type": "code",
   "execution_count": 17,
   "outputs": [
    {
     "data": {
      "text/plain": "Timestamp('2021-02-04 00:00:00')"
     },
     "execution_count": 17,
     "metadata": {},
     "output_type": "execute_result"
    }
   ],
   "source": [
    "pd.to_datetime(value)\n",
    "#单个值转化为Timestamp对象 数组值就转化为Index对象"
   ],
   "metadata": {
    "collapsed": false,
    "pycharm": {
     "name": "#%%\n"
    }
   }
  },
  {
   "cell_type": "code",
   "execution_count": 18,
   "outputs": [
    {
     "data": {
      "text/plain": "DatetimeIndex(['2011-07-06', '2011-08-06', 'NaT'], dtype='datetime64[ns]', freq=None)"
     },
     "execution_count": 18,
     "metadata": {},
     "output_type": "execute_result"
    }
   ],
   "source": [
    "idx = pd.to_datetime(datestrs + [None])\n",
    "idx"
   ],
   "metadata": {
    "collapsed": false,
    "pycharm": {
     "name": "#%%\n"
    }
   }
  },
  {
   "cell_type": "code",
   "execution_count": 19,
   "outputs": [
    {
     "data": {
      "text/plain": "NaT"
     },
     "execution_count": 19,
     "metadata": {},
     "output_type": "execute_result"
    }
   ],
   "source": [
    "idx[2]\n",
    "#NaT是pandas中时间戳的Na值"
   ],
   "metadata": {
    "collapsed": false,
    "pycharm": {
     "name": "#%%\n"
    }
   }
  },
  {
   "cell_type": "code",
   "execution_count": 20,
   "outputs": [
    {
     "data": {
      "text/plain": "2011-01-02    0.394293\n2011-01-05    1.225269\n2011-01-07   -0.858724\n2011-01-08   -1.488710\n2011-01-10   -1.612990\n2011-01-12   -0.402236\ndtype: float64"
     },
     "execution_count": 20,
     "metadata": {},
     "output_type": "execute_result"
    }
   ],
   "source": [
    "dates = [datetime(2011,1,2),datetime(2011,1,5),datetime(2011,1,7),\n",
    "         datetime(2011,1,8),datetime(2011,1,10),datetime(2011,1,12),]\n",
    "ts  = Series(np.random.randn(6),index=dates)\n",
    "ts"
   ],
   "metadata": {
    "collapsed": false,
    "pycharm": {
     "name": "#%%\n"
    }
   }
  },
  {
   "cell_type": "code",
   "execution_count": 21,
   "outputs": [
    {
     "name": "stdout",
     "output_type": "stream",
     "text": [
      "<class 'pandas.core.series.Series'>\n",
      "DatetimeIndex(['2011-01-02', '2011-01-05', '2011-01-07', '2011-01-08',\n",
      "               '2011-01-10', '2011-01-12'],\n",
      "              dtype='datetime64[ns]', freq=None)\n",
      "<class 'pandas.core.indexes.datetimes.DatetimeIndex'>\n"
     ]
    }
   ],
   "source": [
    "print(type(ts))\n",
    "print(ts.index)\n",
    "print(type(ts.index))\n",
    "#ts仍然是一个Series 但是它的index则是一个DateTimeIndex对象 区别于普通的Series"
   ],
   "metadata": {
    "collapsed": false,
    "pycharm": {
     "name": "#%%\n"
    }
   }
  },
  {
   "cell_type": "code",
   "execution_count": 22,
   "outputs": [
    {
     "data": {
      "text/plain": "2011-01-02    0.788586\n2011-01-05         NaN\n2011-01-07   -1.717448\n2011-01-08         NaN\n2011-01-10   -3.225980\n2011-01-12         NaN\ndtype: float64"
     },
     "execution_count": 22,
     "metadata": {},
     "output_type": "execute_result"
    }
   ],
   "source": [
    "ts + ts[::2]\n",
    "#算数运算之间也会自动对齐"
   ],
   "metadata": {
    "collapsed": false,
    "pycharm": {
     "name": "#%%\n"
    }
   }
  },
  {
   "cell_type": "code",
   "execution_count": 23,
   "outputs": [
    {
     "name": "stdout",
     "output_type": "stream",
     "text": [
      "DatetimeIndex(['2011-01-02', '2011-01-05', '2011-01-07', '2011-01-08',\n",
      "               '2011-01-10', '2011-01-12'],\n",
      "              dtype='datetime64[ns]', freq=None)\n",
      "datetime64[ns]\n"
     ]
    }
   ],
   "source": [
    "print(ts.index)\n",
    "print(ts.index.dtype)\n",
    "#使用的是datetime64 纳秒的形式存储index 这是一个Numpy中的数据结构"
   ],
   "metadata": {
    "collapsed": false,
    "pycharm": {
     "name": "#%%\n"
    }
   }
  },
  {
   "cell_type": "code",
   "execution_count": 24,
   "outputs": [
    {
     "data": {
      "text/plain": "Timestamp('2011-01-02 00:00:00')"
     },
     "execution_count": 24,
     "metadata": {},
     "output_type": "execute_result"
    }
   ],
   "source": [
    "stamp1 = ts.index[0]\n",
    "stamp1\n",
    "#DateTimeIndex对象中的每个子元素都是一个Timestamp对象"
   ],
   "metadata": {
    "collapsed": false,
    "pycharm": {
     "name": "#%%\n"
    }
   }
  },
  {
   "cell_type": "code",
   "execution_count": 25,
   "outputs": [
    {
     "data": {
      "text/plain": "0.39429276789665557"
     },
     "execution_count": 25,
     "metadata": {},
     "output_type": "execute_result"
    }
   ],
   "source": [
    "ts[stamp1]\n",
    "#使用Timestamp对象可以对Series进行索引取值"
   ],
   "metadata": {
    "collapsed": false,
    "pycharm": {
     "name": "#%%\n"
    }
   }
  },
  {
   "cell_type": "code",
   "execution_count": 26,
   "outputs": [
    {
     "data": {
      "text/plain": "0.39429276789665557"
     },
     "execution_count": 26,
     "metadata": {},
     "output_type": "execute_result"
    }
   ],
   "source": [
    "ts[0]"
   ],
   "metadata": {
    "collapsed": false,
    "pycharm": {
     "name": "#%%\n"
    }
   }
  },
  {
   "cell_type": "code",
   "execution_count": 27,
   "outputs": [
    {
     "data": {
      "text/plain": "0.39429276789665557"
     },
     "execution_count": 27,
     "metadata": {},
     "output_type": "execute_result"
    }
   ],
   "source": [
    "ts['20110102']"
   ],
   "metadata": {
    "collapsed": false,
    "pycharm": {
     "name": "#%%\n"
    }
   }
  },
  {
   "cell_type": "code",
   "execution_count": 28,
   "outputs": [
    {
     "data": {
      "text/plain": "0.39429276789665557"
     },
     "execution_count": 28,
     "metadata": {},
     "output_type": "execute_result"
    }
   ],
   "source": [
    "ts['01/02/2011']"
   ],
   "metadata": {
    "collapsed": false,
    "pycharm": {
     "name": "#%%\n"
    }
   }
  },
  {
   "cell_type": "code",
   "execution_count": 29,
   "outputs": [
    {
     "data": {
      "text/plain": "2010-01-01    0.914236\n2010-01-02    0.630194\n2010-01-03   -1.447144\n2010-01-04   -0.407198\n2010-01-05    2.248099\n                ...   \n2012-09-22   -0.074791\n2012-09-23    0.136959\n2012-09-24    1.281891\n2012-09-25    0.027012\n2012-09-26    0.509966\nFreq: D, Length: 1000, dtype: float64"
     },
     "execution_count": 29,
     "metadata": {},
     "output_type": "execute_result"
    }
   ],
   "source": [
    "longer_ts = Series(np.random.randn(1000),index=pd.date_range('1/1/2010',periods=1000))\n",
    "longer_ts"
   ],
   "metadata": {
    "collapsed": false,
    "pycharm": {
     "name": "#%%\n"
    }
   }
  },
  {
   "cell_type": "code",
   "execution_count": 30,
   "outputs": [
    {
     "data": {
      "text/plain": "2011-01-01    1.125001\n2011-01-02    0.810188\n2011-01-03    1.271429\n2011-01-04   -1.046539\n2011-01-05    0.138599\n                ...   \n2011-12-27    0.830053\n2011-12-28    0.492061\n2011-12-29    0.067541\n2011-12-30    0.697585\n2011-12-31   -2.357960\nFreq: D, Length: 365, dtype: float64"
     },
     "execution_count": 30,
     "metadata": {},
     "output_type": "execute_result"
    }
   ],
   "source": [
    "#对于很长的时间序列 使用‘年’或者‘年月’即可获取切片\n",
    "longer_ts['2011']"
   ],
   "metadata": {
    "collapsed": false,
    "pycharm": {
     "name": "#%%\n"
    }
   }
  },
  {
   "cell_type": "code",
   "execution_count": 31,
   "outputs": [
    {
     "data": {
      "text/plain": "2011-05-01   -0.063732\n2011-05-02    0.674628\n2011-05-03    1.324149\n2011-05-04   -1.065525\n2011-05-05   -2.515714\n2011-05-06    0.328725\n2011-05-07    0.263798\n2011-05-08    0.757987\n2011-05-09    0.342517\n2011-05-10    2.392286\n2011-05-11    0.711495\n2011-05-12    0.395396\n2011-05-13    1.205867\n2011-05-14   -2.134629\n2011-05-15    0.587824\n2011-05-16   -0.296717\n2011-05-17    0.332373\n2011-05-18    0.292045\n2011-05-19    0.571535\n2011-05-20   -0.773385\n2011-05-21   -0.699932\n2011-05-22    1.369739\n2011-05-23   -0.568941\n2011-05-24   -0.076970\n2011-05-25   -0.387887\n2011-05-26   -0.352680\n2011-05-27   -0.246457\n2011-05-28   -0.187670\n2011-05-29   -0.113193\n2011-05-30   -0.145091\n2011-05-31    0.433247\nFreq: D, dtype: float64"
     },
     "execution_count": 31,
     "metadata": {},
     "output_type": "execute_result"
    }
   ],
   "source": [
    "longer_ts['2011-05']"
   ],
   "metadata": {
    "collapsed": false,
    "pycharm": {
     "name": "#%%\n"
    }
   }
  },
  {
   "cell_type": "code",
   "execution_count": 32,
   "outputs": [
    {
     "data": {
      "text/plain": "2011-01-07   -0.858724\n2011-01-08   -1.488710\n2011-01-10   -1.612990\ndtype: float64"
     },
     "execution_count": 32,
     "metadata": {},
     "output_type": "execute_result"
    }
   ],
   "source": [
    "#由于时间序列大部分是连续的 所以可以通过区间的方式进行获取\n",
    "ts['1/6/2011':'1/11/2011']"
   ],
   "metadata": {
    "collapsed": false,
    "pycharm": {
     "name": "#%%\n"
    }
   }
  },
  {
   "cell_type": "code",
   "execution_count": 33,
   "outputs": [
    {
     "data": {
      "text/plain": "2011-01-02    0.394293\n2011-01-05    1.225269\n2011-01-07   -0.858724\n2011-01-08   -1.488710\ndtype: float64"
     },
     "execution_count": 33,
     "metadata": {},
     "output_type": "execute_result"
    }
   ],
   "source": [
    "ts.truncate(after='1/9/2011')\n",
    "#truncate也是取切片的方法"
   ],
   "metadata": {
    "collapsed": false,
    "pycharm": {
     "name": "#%%\n"
    }
   }
  },
  {
   "cell_type": "code",
   "execution_count": 34,
   "outputs": [
    {
     "data": {
      "text/plain": "DatetimeIndex(['2000-01-05', '2000-01-12', '2000-01-19', '2000-01-26',\n               '2000-02-02', '2000-02-09', '2000-02-16', '2000-02-23',\n               '2000-03-01', '2000-03-08', '2000-03-15', '2000-03-22',\n               '2000-03-29', '2000-04-05', '2000-04-12', '2000-04-19',\n               '2000-04-26', '2000-05-03', '2000-05-10', '2000-05-17',\n               '2000-05-24', '2000-05-31', '2000-06-07', '2000-06-14',\n               '2000-06-21', '2000-06-28', '2000-07-05', '2000-07-12',\n               '2000-07-19', '2000-07-26', '2000-08-02', '2000-08-09',\n               '2000-08-16', '2000-08-23', '2000-08-30', '2000-09-06',\n               '2000-09-13', '2000-09-20', '2000-09-27', '2000-10-04',\n               '2000-10-11', '2000-10-18', '2000-10-25', '2000-11-01',\n               '2000-11-08', '2000-11-15', '2000-11-22', '2000-11-29',\n               '2000-12-06', '2000-12-13', '2000-12-20', '2000-12-27',\n               '2001-01-03', '2001-01-10', '2001-01-17', '2001-01-24',\n               '2001-01-31', '2001-02-07', '2001-02-14', '2001-02-21',\n               '2001-02-28', '2001-03-07', '2001-03-14', '2001-03-21',\n               '2001-03-28', '2001-04-04', '2001-04-11', '2001-04-18',\n               '2001-04-25', '2001-05-02', '2001-05-09', '2001-05-16',\n               '2001-05-23', '2001-05-30', '2001-06-06', '2001-06-13',\n               '2001-06-20', '2001-06-27', '2001-07-04', '2001-07-11',\n               '2001-07-18', '2001-07-25', '2001-08-01', '2001-08-08',\n               '2001-08-15', '2001-08-22', '2001-08-29', '2001-09-05',\n               '2001-09-12', '2001-09-19', '2001-09-26', '2001-10-03',\n               '2001-10-10', '2001-10-17', '2001-10-24', '2001-10-31',\n               '2001-11-07', '2001-11-14', '2001-11-21', '2001-11-28'],\n              dtype='datetime64[ns]', freq='W-WED')"
     },
     "execution_count": 34,
     "metadata": {},
     "output_type": "execute_result"
    }
   ],
   "source": [
    "dates1 = pd.date_range('1/1/2000',periods=100,freq='W-WED')\n",
    "dates1"
   ],
   "metadata": {
    "collapsed": false,
    "pycharm": {
     "name": "#%%\n"
    }
   }
  },
  {
   "cell_type": "code",
   "execution_count": 35,
   "outputs": [
    {
     "data": {
      "text/plain": "            Colorado     Texas  New York      Ohio\n2000-01-05  1.356248  1.722341  0.423231  0.832586\n2000-01-12  0.428349 -0.902698 -0.441989  0.635549\n2000-01-19  0.523606  0.034864 -1.359126  0.070495\n2000-01-26  0.516829  1.519825 -0.043540 -0.362029\n2000-02-02  0.431812 -1.838147 -1.308289  1.609227\n...              ...       ...       ...       ...\n2001-10-31  0.090207  0.949428 -0.103589 -2.046553\n2001-11-07  0.739487 -0.620697 -0.608029  0.532953\n2001-11-14 -1.022388 -0.152626 -0.558607 -0.894825\n2001-11-21  0.395392 -0.460626  0.187960 -0.763305\n2001-11-28 -0.525237  0.954801 -1.249899 -0.093038\n\n[100 rows x 4 columns]",
      "text/html": "<div>\n<style scoped>\n    .dataframe tbody tr th:only-of-type {\n        vertical-align: middle;\n    }\n\n    .dataframe tbody tr th {\n        vertical-align: top;\n    }\n\n    .dataframe thead th {\n        text-align: right;\n    }\n</style>\n<table border=\"1\" class=\"dataframe\">\n  <thead>\n    <tr style=\"text-align: right;\">\n      <th></th>\n      <th>Colorado</th>\n      <th>Texas</th>\n      <th>New York</th>\n      <th>Ohio</th>\n    </tr>\n  </thead>\n  <tbody>\n    <tr>\n      <th>2000-01-05</th>\n      <td>1.356248</td>\n      <td>1.722341</td>\n      <td>0.423231</td>\n      <td>0.832586</td>\n    </tr>\n    <tr>\n      <th>2000-01-12</th>\n      <td>0.428349</td>\n      <td>-0.902698</td>\n      <td>-0.441989</td>\n      <td>0.635549</td>\n    </tr>\n    <tr>\n      <th>2000-01-19</th>\n      <td>0.523606</td>\n      <td>0.034864</td>\n      <td>-1.359126</td>\n      <td>0.070495</td>\n    </tr>\n    <tr>\n      <th>2000-01-26</th>\n      <td>0.516829</td>\n      <td>1.519825</td>\n      <td>-0.043540</td>\n      <td>-0.362029</td>\n    </tr>\n    <tr>\n      <th>2000-02-02</th>\n      <td>0.431812</td>\n      <td>-1.838147</td>\n      <td>-1.308289</td>\n      <td>1.609227</td>\n    </tr>\n    <tr>\n      <th>...</th>\n      <td>...</td>\n      <td>...</td>\n      <td>...</td>\n      <td>...</td>\n    </tr>\n    <tr>\n      <th>2001-10-31</th>\n      <td>0.090207</td>\n      <td>0.949428</td>\n      <td>-0.103589</td>\n      <td>-2.046553</td>\n    </tr>\n    <tr>\n      <th>2001-11-07</th>\n      <td>0.739487</td>\n      <td>-0.620697</td>\n      <td>-0.608029</td>\n      <td>0.532953</td>\n    </tr>\n    <tr>\n      <th>2001-11-14</th>\n      <td>-1.022388</td>\n      <td>-0.152626</td>\n      <td>-0.558607</td>\n      <td>-0.894825</td>\n    </tr>\n    <tr>\n      <th>2001-11-21</th>\n      <td>0.395392</td>\n      <td>-0.460626</td>\n      <td>0.187960</td>\n      <td>-0.763305</td>\n    </tr>\n    <tr>\n      <th>2001-11-28</th>\n      <td>-0.525237</td>\n      <td>0.954801</td>\n      <td>-1.249899</td>\n      <td>-0.093038</td>\n    </tr>\n  </tbody>\n</table>\n<p>100 rows × 4 columns</p>\n</div>"
     },
     "execution_count": 35,
     "metadata": {},
     "output_type": "execute_result"
    }
   ],
   "source": [
    "long_df = DataFrame(np.random.randn(100,4),index=dates1,\n",
    "                    columns=['Colorado','Texas','New York','Ohio'])\n",
    "long_df"
   ],
   "metadata": {
    "collapsed": false,
    "pycharm": {
     "name": "#%%\n"
    }
   }
  },
  {
   "cell_type": "code",
   "execution_count": 36,
   "outputs": [
    {
     "data": {
      "text/plain": "            Colorado     Texas  New York      Ohio\n2001-05-02  0.814283 -0.056575 -0.219672  0.279914\n2001-05-09  0.400127 -1.593980  0.355180  1.144372\n2001-05-16 -0.493592 -0.013304 -1.177861  1.039918\n2001-05-23 -2.388311  0.687746 -0.128779  0.909334\n2001-05-30 -0.932333  0.263012 -1.235444  1.292049",
      "text/html": "<div>\n<style scoped>\n    .dataframe tbody tr th:only-of-type {\n        vertical-align: middle;\n    }\n\n    .dataframe tbody tr th {\n        vertical-align: top;\n    }\n\n    .dataframe thead th {\n        text-align: right;\n    }\n</style>\n<table border=\"1\" class=\"dataframe\">\n  <thead>\n    <tr style=\"text-align: right;\">\n      <th></th>\n      <th>Colorado</th>\n      <th>Texas</th>\n      <th>New York</th>\n      <th>Ohio</th>\n    </tr>\n  </thead>\n  <tbody>\n    <tr>\n      <th>2001-05-02</th>\n      <td>0.814283</td>\n      <td>-0.056575</td>\n      <td>-0.219672</td>\n      <td>0.279914</td>\n    </tr>\n    <tr>\n      <th>2001-05-09</th>\n      <td>0.400127</td>\n      <td>-1.593980</td>\n      <td>0.355180</td>\n      <td>1.144372</td>\n    </tr>\n    <tr>\n      <th>2001-05-16</th>\n      <td>-0.493592</td>\n      <td>-0.013304</td>\n      <td>-1.177861</td>\n      <td>1.039918</td>\n    </tr>\n    <tr>\n      <th>2001-05-23</th>\n      <td>-2.388311</td>\n      <td>0.687746</td>\n      <td>-0.128779</td>\n      <td>0.909334</td>\n    </tr>\n    <tr>\n      <th>2001-05-30</th>\n      <td>-0.932333</td>\n      <td>0.263012</td>\n      <td>-1.235444</td>\n      <td>1.292049</td>\n    </tr>\n  </tbody>\n</table>\n</div>"
     },
     "execution_count": 36,
     "metadata": {},
     "output_type": "execute_result"
    }
   ],
   "source": [
    "long_df.loc['5-2001']"
   ],
   "metadata": {
    "collapsed": false,
    "pycharm": {
     "name": "#%%\n"
    }
   }
  },
  {
   "cell_type": "code",
   "execution_count": 37,
   "outputs": [
    {
     "data": {
      "text/plain": "2000-01-01    0\n2000-01-02    1\n2000-01-02    2\n2000-01-02    3\n2000-01-03    4\ndtype: int32"
     },
     "execution_count": 37,
     "metadata": {},
     "output_type": "execute_result"
    }
   ],
   "source": [
    "dates2 = pd.DatetimeIndex(['1/1/2000','1/2/2000','1/2/2000','1/2/2000','1/3/2000'])\n",
    "dup_ts = Series(np.arange(5),index=dates2)\n",
    "dup_ts"
   ],
   "metadata": {
    "collapsed": false,
    "pycharm": {
     "name": "#%%\n"
    }
   }
  },
  {
   "cell_type": "code",
   "execution_count": 38,
   "outputs": [
    {
     "data": {
      "text/plain": "False"
     },
     "execution_count": 38,
     "metadata": {},
     "output_type": "execute_result"
    }
   ],
   "source": [
    "dup_ts.index.is_unique\n",
    "#index有重复不是唯一"
   ],
   "metadata": {
    "collapsed": false,
    "pycharm": {
     "name": "#%%\n"
    }
   }
  },
  {
   "cell_type": "code",
   "execution_count": 39,
   "outputs": [
    {
     "data": {
      "text/plain": "4"
     },
     "execution_count": 39,
     "metadata": {},
     "output_type": "execute_result"
    }
   ],
   "source": [
    "dup_ts['1/3/2000']"
   ],
   "metadata": {
    "collapsed": false,
    "pycharm": {
     "name": "#%%\n"
    }
   }
  },
  {
   "cell_type": "code",
   "execution_count": 40,
   "outputs": [
    {
     "data": {
      "text/plain": "2000-01-02    1\n2000-01-02    2\n2000-01-02    3\ndtype: int32"
     },
     "execution_count": 40,
     "metadata": {},
     "output_type": "execute_result"
    }
   ],
   "source": [
    "dup_ts['1/2/2000']\n",
    "#得到的还是一个Series"
   ],
   "metadata": {
    "collapsed": false,
    "pycharm": {
     "name": "#%%\n"
    }
   }
  },
  {
   "cell_type": "code",
   "execution_count": 41,
   "outputs": [
    {
     "data": {
      "text/plain": "2000-01-01    1\n2000-01-02    3\n2000-01-03    1\ndtype: int64"
     },
     "execution_count": 41,
     "metadata": {},
     "output_type": "execute_result"
    }
   ],
   "source": [
    "grouped = dup_ts.groupby(level=0) #当要按照index进行groupby且不加任何改变的话 需要加入参数level=0\n",
    "grouped.size()"
   ],
   "metadata": {
    "collapsed": false,
    "pycharm": {
     "name": "#%%\n"
    }
   }
  },
  {
   "cell_type": "code",
   "execution_count": 42,
   "outputs": [
    {
     "data": {
      "text/plain": "2011-01-02    0.394293\n2011-01-05    1.225269\n2011-01-07   -0.858724\n2011-01-08   -1.488710\n2011-01-10   -1.612990\n2011-01-12   -0.402236\ndtype: float64"
     },
     "execution_count": 42,
     "metadata": {},
     "output_type": "execute_result"
    }
   ],
   "source": [
    "ts\n",
    "#由于ts是不规则的 不是连续的 如果要处理这种数据变为连续"
   ],
   "metadata": {
    "collapsed": false,
    "pycharm": {
     "name": "#%%\n"
    }
   }
  },
  {
   "cell_type": "code",
   "execution_count": 43,
   "outputs": [
    {
     "name": "stdout",
     "output_type": "stream",
     "text": [
      "DatetimeIndexResampler [freq=<Day>, axis=0, closed=left, label=left, convention=start, origin=start_day]\n"
     ]
    },
    {
     "data": {
      "text/plain": "2011-01-02    1\n2011-01-03    0\n2011-01-04    0\n2011-01-05    1\n2011-01-06    0\n2011-01-07    1\n2011-01-08    1\n2011-01-09    0\n2011-01-10    1\n2011-01-11    0\n2011-01-12    1\nFreq: D, dtype: int64"
     },
     "execution_count": 43,
     "metadata": {},
     "output_type": "execute_result"
    }
   ],
   "source": [
    "print(ts.resample('D'))\n",
    "ts1 = ts.resample('D')\n",
    "ts1.size()\n",
    "#这是一个按照D天进行重采样的样例 可是输出不出来..."
   ],
   "metadata": {
    "collapsed": false,
    "pycharm": {
     "name": "#%%\n"
    }
   }
  },
  {
   "cell_type": "code",
   "execution_count": 44,
   "outputs": [
    {
     "data": {
      "text/plain": "DatetimeIndex(['2012-04-01', '2012-04-02', '2012-04-03', '2012-04-04',\n               '2012-04-05', '2012-04-06', '2012-04-07', '2012-04-08',\n               '2012-04-09', '2012-04-10', '2012-04-11', '2012-04-12',\n               '2012-04-13', '2012-04-14', '2012-04-15', '2012-04-16',\n               '2012-04-17', '2012-04-18', '2012-04-19', '2012-04-20',\n               '2012-04-21', '2012-04-22', '2012-04-23', '2012-04-24',\n               '2012-04-25', '2012-04-26', '2012-04-27', '2012-04-28',\n               '2012-04-29', '2012-04-30', '2012-05-01', '2012-05-02',\n               '2012-05-03', '2012-05-04', '2012-05-05', '2012-05-06',\n               '2012-05-07', '2012-05-08', '2012-05-09', '2012-05-10',\n               '2012-05-11', '2012-05-12', '2012-05-13', '2012-05-14',\n               '2012-05-15', '2012-05-16', '2012-05-17', '2012-05-18',\n               '2012-05-19', '2012-05-20', '2012-05-21', '2012-05-22',\n               '2012-05-23', '2012-05-24', '2012-05-25', '2012-05-26',\n               '2012-05-27', '2012-05-28', '2012-05-29', '2012-05-30',\n               '2012-05-31', '2012-06-01'],\n              dtype='datetime64[ns]', freq='D')"
     },
     "execution_count": 44,
     "metadata": {},
     "output_type": "execute_result"
    }
   ],
   "source": [
    "index = pd.date_range('4/1/2012','6/1/2012')\n",
    "index\n",
    "#使用date_range方法可以轻松地生成日期范围序列 默认是以D模式即按照天来进行生成的"
   ],
   "metadata": {
    "collapsed": false,
    "pycharm": {
     "name": "#%%\n"
    }
   }
  },
  {
   "cell_type": "code",
   "execution_count": 45,
   "outputs": [
    {
     "data": {
      "text/plain": "DatetimeIndex(['2021-04-01', '2021-04-02', '2021-04-03', '2021-04-04',\n               '2021-04-05', '2021-04-06', '2021-04-07', '2021-04-08',\n               '2021-04-09', '2021-04-10', '2021-04-11', '2021-04-12',\n               '2021-04-13', '2021-04-14', '2021-04-15', '2021-04-16',\n               '2021-04-17', '2021-04-18', '2021-04-19', '2021-04-20'],\n              dtype='datetime64[ns]', freq='D')"
     },
     "execution_count": 45,
     "metadata": {},
     "output_type": "execute_result"
    }
   ],
   "source": [
    "pd.date_range('4/1/2021',periods=20)\n",
    "#可以使用periods确定从开始往后生成的个数"
   ],
   "metadata": {
    "collapsed": false,
    "pycharm": {
     "name": "#%%\n"
    }
   }
  },
  {
   "cell_type": "code",
   "execution_count": 46,
   "outputs": [
    {
     "data": {
      "text/plain": "DatetimeIndex(['2021-05-13', '2021-05-14', '2021-05-15', '2021-05-16',\n               '2021-05-17', '2021-05-18', '2021-05-19', '2021-05-20',\n               '2021-05-21', '2021-05-22', '2021-05-23', '2021-05-24',\n               '2021-05-25', '2021-05-26', '2021-05-27', '2021-05-28',\n               '2021-05-29', '2021-05-30', '2021-05-31', '2021-06-01'],\n              dtype='datetime64[ns]', freq='D')"
     },
     "execution_count": 46,
     "metadata": {},
     "output_type": "execute_result"
    }
   ],
   "source": [
    "pd.date_range(end='6/1/2021',periods=20)\n",
    "#道理同上"
   ],
   "metadata": {
    "collapsed": false,
    "pycharm": {
     "name": "#%%\n"
    }
   }
  },
  {
   "cell_type": "code",
   "execution_count": 47,
   "outputs": [
    {
     "data": {
      "text/plain": "DatetimeIndex(['2020-01-31', '2020-02-28', '2020-03-31', '2020-04-30',\n               '2020-05-29', '2020-06-30', '2020-07-31', '2020-08-31',\n               '2020-09-30', '2020-10-30', '2020-11-30'],\n              dtype='datetime64[ns]', freq='BM')"
     },
     "execution_count": 47,
     "metadata": {},
     "output_type": "execute_result"
    }
   ],
   "source": [
    "pd.date_range('1/1/2020','12/1/2020',freq='BM')\n",
    "#有很多模式 BM模式是bussiness end of month 表示一个月的最后一个工作日"
   ],
   "metadata": {
    "collapsed": false,
    "pycharm": {
     "name": "#%%\n"
    }
   }
  },
  {
   "cell_type": "code",
   "execution_count": 48,
   "outputs": [
    {
     "data": {
      "text/plain": "DatetimeIndex(['2020-05-02 16:34:25', '2020-05-03 16:34:25',\n               '2020-05-04 16:34:25', '2020-05-05 16:34:25',\n               '2020-05-06 16:34:25'],\n              dtype='datetime64[ns]', freq='D')"
     },
     "execution_count": 48,
     "metadata": {},
     "output_type": "execute_result"
    }
   ],
   "source": [
    "pd.date_range('5/2/2020 16:34:25',periods=5)\n",
    "#会默认保留其他的部分时间信息"
   ],
   "metadata": {
    "collapsed": false,
    "pycharm": {
     "name": "#%%\n"
    }
   }
  },
  {
   "cell_type": "code",
   "execution_count": 49,
   "outputs": [
    {
     "data": {
      "text/plain": "DatetimeIndex(['2020-05-02', '2020-05-03', '2020-05-04', '2020-05-05',\n               '2020-05-06'],\n              dtype='datetime64[ns]', freq='D')"
     },
     "execution_count": 49,
     "metadata": {},
     "output_type": "execute_result"
    }
   ],
   "source": [
    "pd.date_range('5/2/2020 16:34:25',periods=5,normalize=True)\n",
    "#normalize可以进行规范化"
   ],
   "metadata": {
    "collapsed": false,
    "pycharm": {
     "name": "#%%\n"
    }
   }
  },
  {
   "cell_type": "code",
   "execution_count": 50,
   "outputs": [],
   "source": [
    "#之前几乎所有的频率都是按照'D' 即每天为单位进行的\n",
    "#来看看这种模式 这些都是偏移量对象offset"
   ],
   "metadata": {
    "collapsed": false,
    "pycharm": {
     "name": "#%%\n"
    }
   }
  },
  {
   "cell_type": "code",
   "execution_count": 51,
   "outputs": [
    {
     "data": {
      "text/plain": "<Hour>"
     },
     "execution_count": 51,
     "metadata": {},
     "output_type": "execute_result"
    }
   ],
   "source": [
    "from pandas.tseries.offsets import Hour,Minute\n",
    "#偏移量对象 Hour Minute\n",
    "hour = Hour()\n",
    "hour\n",
    "#这是一个1 Hour类型的对象"
   ],
   "metadata": {
    "collapsed": false,
    "pycharm": {
     "name": "#%%\n"
    }
   }
  },
  {
   "cell_type": "code",
   "execution_count": 52,
   "outputs": [
    {
     "data": {
      "text/plain": "<4 * Hours>"
     },
     "execution_count": 52,
     "metadata": {},
     "output_type": "execute_result"
    }
   ],
   "source": [
    "four_hour = Hour(4)\n",
    "four_hour"
   ],
   "metadata": {
    "collapsed": false,
    "pycharm": {
     "name": "#%%\n"
    }
   }
  },
  {
   "cell_type": "code",
   "execution_count": 53,
   "outputs": [
    {
     "data": {
      "text/plain": "DatetimeIndex(['2020-01-01 00:00:00', '2020-01-01 04:00:00',\n               '2020-01-01 08:00:00', '2020-01-01 12:00:00',\n               '2020-01-01 16:00:00', '2020-01-01 20:00:00',\n               '2020-01-02 00:00:00', '2020-01-02 04:00:00',\n               '2020-01-02 08:00:00', '2020-01-02 12:00:00',\n               '2020-01-02 16:00:00', '2020-01-02 20:00:00',\n               '2020-01-03 00:00:00'],\n              dtype='datetime64[ns]', freq='4H')"
     },
     "execution_count": 53,
     "metadata": {},
     "output_type": "execute_result"
    }
   ],
   "source": [
    "pd.date_range('1/1/2020','1/3/2020',freq='4H')\n",
    "#使用H代表一小时 4H就代表四个小时"
   ],
   "metadata": {
    "collapsed": false,
    "pycharm": {
     "name": "#%%\n"
    }
   }
  },
  {
   "cell_type": "code",
   "execution_count": 54,
   "outputs": [
    {
     "data": {
      "text/plain": "<150 * Minutes>"
     },
     "execution_count": 54,
     "metadata": {},
     "output_type": "execute_result"
    }
   ],
   "source": [
    "Hour(2) +Minute(30)"
   ],
   "metadata": {
    "collapsed": false,
    "pycharm": {
     "name": "#%%\n"
    }
   }
  },
  {
   "cell_type": "code",
   "execution_count": 55,
   "outputs": [
    {
     "data": {
      "text/plain": "DatetimeIndex(['2020-01-01 00:00:00', '2020-01-01 01:30:00',\n               '2020-01-01 03:00:00', '2020-01-01 04:30:00',\n               '2020-01-01 06:00:00', '2020-01-01 07:30:00',\n               '2020-01-01 09:00:00', '2020-01-01 10:30:00',\n               '2020-01-01 12:00:00', '2020-01-01 13:30:00'],\n              dtype='datetime64[ns]', freq='90T')"
     },
     "execution_count": 55,
     "metadata": {},
     "output_type": "execute_result"
    }
   ],
   "source": [
    "pd.date_range('1/1/2020',periods=10,freq='1h30min')\n",
    "#挺离谱的说实话"
   ],
   "metadata": {
    "collapsed": false,
    "pycharm": {
     "name": "#%%\n"
    }
   }
  },
  {
   "cell_type": "code",
   "execution_count": 56,
   "outputs": [
    {
     "data": {
      "text/plain": "2000-01-31    0.719518\n2000-02-29   -0.097537\n2000-03-31   -1.499889\n2000-04-30    0.454797\nFreq: M, dtype: float64"
     },
     "execution_count": 56,
     "metadata": {},
     "output_type": "execute_result"
    }
   ],
   "source": [
    "ts2 = Series(np.random.randn(4),\n",
    "             index=pd.date_range('1/1/2000',periods=4,freq='M'))\n",
    "ts2"
   ],
   "metadata": {
    "collapsed": false,
    "pycharm": {
     "name": "#%%\n"
    }
   }
  },
  {
   "cell_type": "code",
   "execution_count": 57,
   "outputs": [
    {
     "data": {
      "text/plain": "2000-01-31         NaN\n2000-02-29         NaN\n2000-03-31    0.719518\n2000-04-30   -0.097537\nFreq: M, dtype: float64"
     },
     "execution_count": 57,
     "metadata": {},
     "output_type": "execute_result"
    }
   ],
   "source": [
    "ts2.shift(2)\n",
    "#shift执行的是移动操作 index不变 将数据移动"
   ],
   "metadata": {
    "collapsed": false,
    "pycharm": {
     "name": "#%%\n"
    }
   }
  },
  {
   "cell_type": "code",
   "execution_count": 59,
   "outputs": [
    {
     "data": {
      "text/plain": "2000-01-31   -1.499889\n2000-02-29    0.454797\n2000-03-31         NaN\n2000-04-30         NaN\nFreq: M, dtype: float64"
     },
     "execution_count": 59,
     "metadata": {},
     "output_type": "execute_result"
    }
   ],
   "source": [
    "ts2.shift(-2)"
   ],
   "metadata": {
    "collapsed": false,
    "pycharm": {
     "name": "#%%\n"
    }
   }
  },
  {
   "cell_type": "code",
   "execution_count": 60,
   "outputs": [
    {
     "data": {
      "text/plain": "2000-01-31          NaN\n2000-02-29    -1.135559\n2000-03-31    14.377603\n2000-04-30    -1.303220\nFreq: M, dtype: float64"
     },
     "execution_count": 60,
     "metadata": {},
     "output_type": "execute_result"
    }
   ],
   "source": [
    "#shift操作经常用来计算一个时间序列或多个时间序列的百分比变化\n",
    "ts2/ts2.shift(1)-1\n",
    "#shift操作很明显会直接丢弃数据 因为index是不变的 数据移动自然会导致丢弃"
   ],
   "metadata": {
    "collapsed": false,
    "pycharm": {
     "name": "#%%\n"
    }
   }
  },
  {
   "cell_type": "code",
   "execution_count": 62,
   "outputs": [
    {
     "data": {
      "text/plain": "2000-03-31    0.719518\n2000-04-30   -0.097537\n2000-05-31   -1.499889\n2000-06-30    0.454797\nFreq: M, dtype: float64"
     },
     "execution_count": 62,
     "metadata": {},
     "output_type": "execute_result"
    }
   ],
   "source": [
    "ts2.shift(2,freq='M')\n",
    "#如果传入了freq设置时间间隔，那么则会对时间戳进行位移而数据不变"
   ],
   "metadata": {
    "collapsed": false,
    "pycharm": {
     "name": "#%%\n"
    }
   }
  },
  {
   "cell_type": "code",
   "execution_count": 63,
   "outputs": [
    {
     "data": {
      "text/plain": "Timestamp('2021-02-08 09:23:00.884983')"
     },
     "execution_count": 63,
     "metadata": {},
     "output_type": "execute_result"
    }
   ],
   "source": [
    "from pandas.tseries.offsets import Day,MonthEnd\n",
    "\n",
    "now1 = datetime(2021,2,5)\n",
    "now+3*Day()\n",
    "#shift方法是面对Series对象的或者DataFrame同理\n",
    "#而如果要对datetime对象直接做偏移，可以使用offsets包里的对象直接使用‘+’即可\n",
    "#重构了'+'操作"
   ],
   "metadata": {
    "collapsed": false,
    "pycharm": {
     "name": "#%%\n"
    }
   }
  },
  {
   "cell_type": "code",
   "execution_count": 64,
   "outputs": [
    {
     "data": {
      "text/plain": "Timestamp('2021-02-28 00:00:00')"
     },
     "execution_count": 64,
     "metadata": {},
     "output_type": "execute_result"
    }
   ],
   "source": [
    "now1+MonthEnd()"
   ],
   "metadata": {
    "collapsed": false,
    "pycharm": {
     "name": "#%%\n"
    }
   }
  },
  {
   "cell_type": "code",
   "execution_count": 65,
   "outputs": [
    {
     "data": {
      "text/plain": "Timestamp('2021-03-31 00:00:00')"
     },
     "execution_count": 65,
     "metadata": {},
     "output_type": "execute_result"
    }
   ],
   "source": [
    "now1+MonthEnd(2)\n",
    "#MonthEnd不同于Day Month,是一种锚点偏移量，第一次会定位到当前月的最后一天\n",
    "#第二次会定位到下一个月的最后一天"
   ],
   "metadata": {
    "collapsed": false,
    "pycharm": {
     "name": "#%%\n"
    }
   }
  },
  {
   "cell_type": "code",
   "execution_count": 66,
   "outputs": [
    {
     "data": {
      "text/plain": "Timestamp('2021-02-28 00:00:00')"
     },
     "execution_count": 66,
     "metadata": {},
     "output_type": "execute_result"
    }
   ],
   "source": [
    "#锚点偏移量还有其他用法\n",
    "offset = MonthEnd()\n",
    "offset.rollforward(now1)"
   ],
   "metadata": {
    "collapsed": false,
    "pycharm": {
     "name": "#%%\n"
    }
   }
  },
  {
   "cell_type": "code",
   "execution_count": 67,
   "outputs": [
    {
     "data": {
      "text/plain": "Timestamp('2021-01-31 00:00:00')"
     },
     "execution_count": 67,
     "metadata": {},
     "output_type": "execute_result"
    }
   ],
   "source": [
    "offset.rollback(now1)"
   ],
   "metadata": {
    "collapsed": false,
    "pycharm": {
     "name": "#%%\n"
    }
   }
  },
  {
   "cell_type": "code",
   "execution_count": 68,
   "outputs": [
    {
     "data": {
      "text/plain": "2000-01-15    0.442352\n2000-01-19    2.684314\n2000-01-23   -0.889091\n2000-01-27   -0.487914\n2000-01-31   -1.263994\n2000-02-04   -0.542571\n2000-02-08   -0.114366\n2000-02-12   -0.437448\n2000-02-16   -1.431123\n2000-02-20    0.546637\n2000-02-24   -0.382408\n2000-02-28   -0.957676\n2000-03-03   -1.623755\n2000-03-07   -0.893154\n2000-03-11    0.923875\n2000-03-15   -0.525723\n2000-03-19    0.336860\n2000-03-23   -1.424865\n2000-03-27    1.401219\n2000-03-31   -0.884763\nFreq: 4D, dtype: float64"
     },
     "execution_count": 68,
     "metadata": {},
     "output_type": "execute_result"
    }
   ],
   "source": [
    "ts3 = Series(np.random.randn(20),pd.date_range('1/15/2000',periods=20,\n",
    "                                               freq='4d'))\n",
    "ts3"
   ],
   "metadata": {
    "collapsed": false,
    "pycharm": {
     "name": "#%%\n"
    }
   }
  },
  {
   "cell_type": "code",
   "execution_count": 71,
   "outputs": [
    {
     "data": {
      "text/plain": "1999-12-31    0.437416\n2000-01-31   -0.572869\n2000-02-29   -0.257935\n2000-03-31   -0.884763\ndtype: float64"
     },
     "execution_count": 71,
     "metadata": {},
     "output_type": "execute_result"
    }
   ],
   "source": [
    "ts3.groupby(offset.rollback).mean()\n",
    "#还是groupby的基本原理 将函数作用于index上 之后再进行split"
   ],
   "metadata": {
    "collapsed": false,
    "pycharm": {
     "name": "#%%\n"
    }
   }
  },
  {
   "cell_type": "code",
   "execution_count": 73,
   "outputs": [
    {
     "name": "stdout",
     "output_type": "stream",
     "text": [
      "<class 'pandas.core.indexes.datetimes.DatetimeIndex'>\n",
      "<class 'pandas._libs.tslibs.timestamps.Timestamp'>\n"
     ]
    }
   ],
   "source": [
    "print(type(ts3.index))\n",
    "print(type(ts3.index[0]))"
   ],
   "metadata": {
    "collapsed": false,
    "pycharm": {
     "name": "#%%\n"
    }
   }
  },
  {
   "cell_type": "code",
   "execution_count": 75,
   "outputs": [
    {
     "data": {
      "text/plain": "Timestamp('2000-01-15 00:00:00', freq='4D')"
     },
     "execution_count": 75,
     "metadata": {},
     "output_type": "execute_result"
    }
   ],
   "source": [
    "tsindex = ts3.index[0]\n",
    "tsindex"
   ],
   "metadata": {
    "collapsed": false,
    "pycharm": {
     "name": "#%%\n"
    }
   }
  },
  {
   "cell_type": "code",
   "execution_count": 76,
   "outputs": [
    {
     "data": {
      "text/plain": "Timestamp('1999-12-31 00:00:00', freq='4D')"
     },
     "execution_count": 76,
     "metadata": {},
     "output_type": "execute_result"
    }
   ],
   "source": [
    "offset.rollback(tsindex)"
   ],
   "metadata": {
    "collapsed": false,
    "pycharm": {
     "name": "#%%\n"
    }
   }
  },
  {
   "cell_type": "code",
   "execution_count": null,
   "outputs": [],
   "source": [],
   "metadata": {
    "collapsed": false,
    "pycharm": {
     "name": "#%%\n"
    }
   }
  }
 ],
 "metadata": {
  "kernelspec": {
   "display_name": "Python 3",
   "language": "python",
   "name": "python3"
  },
  "language_info": {
   "codemirror_mode": {
    "name": "ipython",
    "version": 2
   },
   "file_extension": ".py",
   "mimetype": "text/x-python",
   "name": "python",
   "nbconvert_exporter": "python",
   "pygments_lexer": "ipython2",
   "version": "2.7.6"
  }
 },
 "nbformat": 4,
 "nbformat_minor": 0
}