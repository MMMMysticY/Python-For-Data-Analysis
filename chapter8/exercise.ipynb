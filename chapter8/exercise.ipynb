{
 "cells": [
  {
   "cell_type": "code",
   "execution_count": 1,
   "metadata": {
    "collapsed": true
   },
   "outputs": [],
   "source": [
    "import numpy as np\n",
    "import pandas as pd\n",
    "from pandas import Series,DataFrame\n",
    "import matplotlib\n",
    "import matplotlib.pyplot as plt"
   ]
  },
  {
   "cell_type": "code",
   "execution_count": 2,
   "outputs": [
    {
     "data": {
      "text/plain": "      Serial                                     INCIDENT TITLE  \\\n0       4052  * URGENT * Type O blood donations needed in #J...   \n1       4051                     Food-Aid sent to Fondwa, Haiti   \n2       4050  how haiti is right now and how it was during t...   \n3       4049                                        Lost person   \n4       4042                                 Citi Soleil school   \n...      ...                                                ...   \n3588       8                         Canape Vert road destroyed   \n3589       7               Collapsed Building -- People Trapped   \n3590       6             Eye-Witness Report from Hotel Oloffson   \n3591       5  Port-au-Prince air traffic control tower damag...   \n3592       4                            National Palace damaged   \n\n         INCIDENT DATE                                           LOCATION  \\\n0     05/07/2010 17:26                                      Jacmel, Haiti   \n1     28/06/2010 23:06                                             fondwa   \n2     24/06/2010 16:21                                            centrie   \n3     20/06/2010 21:59                                             Genoca   \n4     18/05/2010 16:26                                 Citi Soleil, Haiti   \n...                ...                                                ...   \n3588  13/01/2010 02:57                                     Port-au-Prince   \n3589  12/01/2010 09:55  Delmas 19, Rue Mackendal #8 Port-au-Prince, Haiti   \n3590  12/01/2010 11:16          Ave Christophe #60, Port au Prince, Haiti   \n3591  12/01/2010 04:08                     Airport, Port-au-Prince, Haiti   \n3592  12/01/2010 10:43                                    National Palace   \n\n                                            DESCRIPTION  \\\n0     Birthing Clinic in Jacmel #Haiti urgently need...   \n1     Please help food-aid.org deliver more food to ...   \n2     i feel so bad for you i know i am supposed to ...   \n3     We are family members of Juan Antonio Zuniga O...   \n4     We are working with Haitian (NGO) -The Christi...   \n...                                                 ...   \n3588  Canape Vert, one of the main roads that leads ...   \n3589  My mother is part of a medical team that had j...   \n3590  Tequila Minsky, a New York-based photographer ...   \n3591  NBC reports Port-au-Prince air traffic control...   \n3592  National Palace has extensive damage. Presiden...   \n\n                                               CATEGORY   LATITUDE  \\\n0           1. Urgences | Emergency, 3. Public Health,   18.233333   \n1     1. Urgences | Emergency, 2. Urgences logistiqu...  50.226029   \n2     2. Urgences logistiques | Vital Lines, 8. Autr...  22.278381   \n3                             1. Urgences | Emergency,   44.407062   \n4                             1. Urgences | Emergency,   18.571084   \n...                                                 ...        ...   \n3588                  5c. Route barree | Road blocked,   18.539167   \n3589  5a. Structure effondres | Collapsed structure,...  18.539269   \n3590    5a. Structure effondres | Collapsed structure,   18.538328   \n3591     5b. Structures a risque | Unstable Structure,   18.579721   \n3592    5a. Structure effondres | Collapsed structure,   18.543376   \n\n       LONGITUDE APPROVED VERIFIED  \n0     -72.533333      YES       NO  \n1       5.729886       NO       NO  \n2     114.174287       NO       NO  \n3       8.933989       NO       NO  \n4     -72.334671      YES       NO  \n...          ...      ...      ...  \n3588  -72.335000      YES       NO  \n3589  -72.336408      YES       NO  \n3590  -72.333067      YES       NO  \n3591  -72.292778      YES       NO  \n3592  -72.338883      YES      YES  \n\n[3593 rows x 10 columns]",
      "text/html": "<div>\n<style scoped>\n    .dataframe tbody tr th:only-of-type {\n        vertical-align: middle;\n    }\n\n    .dataframe tbody tr th {\n        vertical-align: top;\n    }\n\n    .dataframe thead th {\n        text-align: right;\n    }\n</style>\n<table border=\"1\" class=\"dataframe\">\n  <thead>\n    <tr style=\"text-align: right;\">\n      <th></th>\n      <th>Serial</th>\n      <th>INCIDENT TITLE</th>\n      <th>INCIDENT DATE</th>\n      <th>LOCATION</th>\n      <th>DESCRIPTION</th>\n      <th>CATEGORY</th>\n      <th>LATITUDE</th>\n      <th>LONGITUDE</th>\n      <th>APPROVED</th>\n      <th>VERIFIED</th>\n    </tr>\n  </thead>\n  <tbody>\n    <tr>\n      <th>0</th>\n      <td>4052</td>\n      <td>* URGENT * Type O blood donations needed in #J...</td>\n      <td>05/07/2010 17:26</td>\n      <td>Jacmel, Haiti</td>\n      <td>Birthing Clinic in Jacmel #Haiti urgently need...</td>\n      <td>1. Urgences | Emergency, 3. Public Health,</td>\n      <td>18.233333</td>\n      <td>-72.533333</td>\n      <td>YES</td>\n      <td>NO</td>\n    </tr>\n    <tr>\n      <th>1</th>\n      <td>4051</td>\n      <td>Food-Aid sent to Fondwa, Haiti</td>\n      <td>28/06/2010 23:06</td>\n      <td>fondwa</td>\n      <td>Please help food-aid.org deliver more food to ...</td>\n      <td>1. Urgences | Emergency, 2. Urgences logistiqu...</td>\n      <td>50.226029</td>\n      <td>5.729886</td>\n      <td>NO</td>\n      <td>NO</td>\n    </tr>\n    <tr>\n      <th>2</th>\n      <td>4050</td>\n      <td>how haiti is right now and how it was during t...</td>\n      <td>24/06/2010 16:21</td>\n      <td>centrie</td>\n      <td>i feel so bad for you i know i am supposed to ...</td>\n      <td>2. Urgences logistiques | Vital Lines, 8. Autr...</td>\n      <td>22.278381</td>\n      <td>114.174287</td>\n      <td>NO</td>\n      <td>NO</td>\n    </tr>\n    <tr>\n      <th>3</th>\n      <td>4049</td>\n      <td>Lost person</td>\n      <td>20/06/2010 21:59</td>\n      <td>Genoca</td>\n      <td>We are family members of Juan Antonio Zuniga O...</td>\n      <td>1. Urgences | Emergency,</td>\n      <td>44.407062</td>\n      <td>8.933989</td>\n      <td>NO</td>\n      <td>NO</td>\n    </tr>\n    <tr>\n      <th>4</th>\n      <td>4042</td>\n      <td>Citi Soleil school</td>\n      <td>18/05/2010 16:26</td>\n      <td>Citi Soleil, Haiti</td>\n      <td>We are working with Haitian (NGO) -The Christi...</td>\n      <td>1. Urgences | Emergency,</td>\n      <td>18.571084</td>\n      <td>-72.334671</td>\n      <td>YES</td>\n      <td>NO</td>\n    </tr>\n    <tr>\n      <th>...</th>\n      <td>...</td>\n      <td>...</td>\n      <td>...</td>\n      <td>...</td>\n      <td>...</td>\n      <td>...</td>\n      <td>...</td>\n      <td>...</td>\n      <td>...</td>\n      <td>...</td>\n    </tr>\n    <tr>\n      <th>3588</th>\n      <td>8</td>\n      <td>Canape Vert road destroyed</td>\n      <td>13/01/2010 02:57</td>\n      <td>Port-au-Prince</td>\n      <td>Canape Vert, one of the main roads that leads ...</td>\n      <td>5c. Route barree | Road blocked,</td>\n      <td>18.539167</td>\n      <td>-72.335000</td>\n      <td>YES</td>\n      <td>NO</td>\n    </tr>\n    <tr>\n      <th>3589</th>\n      <td>7</td>\n      <td>Collapsed Building -- People Trapped</td>\n      <td>12/01/2010 09:55</td>\n      <td>Delmas 19, Rue Mackendal #8 Port-au-Prince, Haiti</td>\n      <td>My mother is part of a medical team that had j...</td>\n      <td>5a. Structure effondres | Collapsed structure,...</td>\n      <td>18.539269</td>\n      <td>-72.336408</td>\n      <td>YES</td>\n      <td>NO</td>\n    </tr>\n    <tr>\n      <th>3590</th>\n      <td>6</td>\n      <td>Eye-Witness Report from Hotel Oloffson</td>\n      <td>12/01/2010 11:16</td>\n      <td>Ave Christophe #60, Port au Prince, Haiti</td>\n      <td>Tequila Minsky, a New York-based photographer ...</td>\n      <td>5a. Structure effondres | Collapsed structure,</td>\n      <td>18.538328</td>\n      <td>-72.333067</td>\n      <td>YES</td>\n      <td>NO</td>\n    </tr>\n    <tr>\n      <th>3591</th>\n      <td>5</td>\n      <td>Port-au-Prince air traffic control tower damag...</td>\n      <td>12/01/2010 04:08</td>\n      <td>Airport, Port-au-Prince, Haiti</td>\n      <td>NBC reports Port-au-Prince air traffic control...</td>\n      <td>5b. Structures a risque | Unstable Structure,</td>\n      <td>18.579721</td>\n      <td>-72.292778</td>\n      <td>YES</td>\n      <td>NO</td>\n    </tr>\n    <tr>\n      <th>3592</th>\n      <td>4</td>\n      <td>National Palace damaged</td>\n      <td>12/01/2010 10:43</td>\n      <td>National Palace</td>\n      <td>National Palace has extensive damage. Presiden...</td>\n      <td>5a. Structure effondres | Collapsed structure,</td>\n      <td>18.543376</td>\n      <td>-72.338883</td>\n      <td>YES</td>\n      <td>YES</td>\n    </tr>\n  </tbody>\n</table>\n<p>3593 rows × 10 columns</p>\n</div>"
     },
     "execution_count": 2,
     "metadata": {},
     "output_type": "execute_result"
    }
   ],
   "source": [
    "data = pd.read_csv('../data/haiti/Haiti.csv')\n",
    "data"
   ],
   "metadata": {
    "collapsed": false,
    "pycharm": {
     "name": "#%%\n"
    }
   }
  },
  {
   "cell_type": "code",
   "execution_count": 3,
   "outputs": [
    {
     "data": {
      "text/plain": "0          1. Urgences | Emergency, 3. Public Health, \n1    1. Urgences | Emergency, 2. Urgences logistiqu...\n2    2. Urgences logistiques | Vital Lines, 8. Autr...\n3                            1. Urgences | Emergency, \n4                            1. Urgences | Emergency, \nName: CATEGORY, dtype: object"
     },
     "execution_count": 3,
     "metadata": {},
     "output_type": "execute_result"
    }
   ],
   "source": [
    "data['CATEGORY'].head()"
   ],
   "metadata": {
    "collapsed": false,
    "pycharm": {
     "name": "#%%\n"
    }
   }
  },
  {
   "cell_type": "code",
   "execution_count": 4,
   "outputs": [
    {
     "data": {
      "text/plain": "            Serial     LATITUDE    LONGITUDE\ncount  3593.000000  3593.000000  3593.000000\nmean   2080.277484    18.611495   -72.322680\nstd    1171.100360     0.738572     3.650776\nmin       4.000000    18.041313   -74.452757\n25%    1074.000000    18.524070   -72.417500\n50%    2163.000000    18.539269   -72.335000\n75%    3088.000000    18.561820   -72.293570\nmax    4052.000000    50.226029   114.174287",
      "text/html": "<div>\n<style scoped>\n    .dataframe tbody tr th:only-of-type {\n        vertical-align: middle;\n    }\n\n    .dataframe tbody tr th {\n        vertical-align: top;\n    }\n\n    .dataframe thead th {\n        text-align: right;\n    }\n</style>\n<table border=\"1\" class=\"dataframe\">\n  <thead>\n    <tr style=\"text-align: right;\">\n      <th></th>\n      <th>Serial</th>\n      <th>LATITUDE</th>\n      <th>LONGITUDE</th>\n    </tr>\n  </thead>\n  <tbody>\n    <tr>\n      <th>count</th>\n      <td>3593.000000</td>\n      <td>3593.000000</td>\n      <td>3593.000000</td>\n    </tr>\n    <tr>\n      <th>mean</th>\n      <td>2080.277484</td>\n      <td>18.611495</td>\n      <td>-72.322680</td>\n    </tr>\n    <tr>\n      <th>std</th>\n      <td>1171.100360</td>\n      <td>0.738572</td>\n      <td>3.650776</td>\n    </tr>\n    <tr>\n      <th>min</th>\n      <td>4.000000</td>\n      <td>18.041313</td>\n      <td>-74.452757</td>\n    </tr>\n    <tr>\n      <th>25%</th>\n      <td>1074.000000</td>\n      <td>18.524070</td>\n      <td>-72.417500</td>\n    </tr>\n    <tr>\n      <th>50%</th>\n      <td>2163.000000</td>\n      <td>18.539269</td>\n      <td>-72.335000</td>\n    </tr>\n    <tr>\n      <th>75%</th>\n      <td>3088.000000</td>\n      <td>18.561820</td>\n      <td>-72.293570</td>\n    </tr>\n    <tr>\n      <th>max</th>\n      <td>4052.000000</td>\n      <td>50.226029</td>\n      <td>114.174287</td>\n    </tr>\n  </tbody>\n</table>\n</div>"
     },
     "execution_count": 4,
     "metadata": {},
     "output_type": "execute_result"
    }
   ],
   "source": [
    "data.describe()"
   ],
   "metadata": {
    "collapsed": false,
    "pycharm": {
     "name": "#%%\n"
    }
   }
  },
  {
   "cell_type": "code",
   "execution_count": 6,
   "outputs": [
    {
     "data": {
      "text/plain": "      Serial                                     INCIDENT TITLE  \\\n0       4052  * URGENT * Type O blood donations needed in #J...   \n4       4042                                 Citi Soleil school   \n5       4041                           Radio Commerce in Sarthe   \n6       4040                   Contaminated water in Baraderes.   \n7       4039     Violence at &quot;arcahaie bas Saint-Ard&quot;   \n...      ...                                                ...   \n3588       8                         Canape Vert road destroyed   \n3589       7               Collapsed Building -- People Trapped   \n3590       6             Eye-Witness Report from Hotel Oloffson   \n3591       5  Port-au-Prince air traffic control tower damag...   \n3592       4                            National Palace damaged   \n\n         INCIDENT DATE                                           LOCATION  \\\n0     05/07/2010 17:26                                      Jacmel, Haiti   \n4     18/05/2010 16:26                                 Citi Soleil, Haiti   \n5     26/04/2010 13:14                     Radio Commerce Shelter, Sarthe   \n6     26/04/2010 14:19                                Marc near Baraderes   \n7     26/04/2010 14:27  unable to find &quot;arcahaie bas Saint-Ard&qu...   \n...                ...                                                ...   \n3588  13/01/2010 02:57                                     Port-au-Prince   \n3589  12/01/2010 09:55  Delmas 19, Rue Mackendal #8 Port-au-Prince, Haiti   \n3590  12/01/2010 11:16          Ave Christophe #60, Port au Prince, Haiti   \n3591  12/01/2010 04:08                     Airport, Port-au-Prince, Haiti   \n3592  12/01/2010 10:43                                    National Palace   \n\n                                            DESCRIPTION  \\\n0     Birthing Clinic in Jacmel #Haiti urgently need...   \n4     We are working with Haitian (NGO) -The Christi...   \n5     i'm Louinel from Sarthe. I'd to know what can ...   \n6     How do we treat water in areas without Pipe?\\t...   \n7     Goodnight at (arcahaie bas Saint-Ard) 2 young ...   \n...                                                 ...   \n3588  Canape Vert, one of the main roads that leads ...   \n3589  My mother is part of a medical team that had j...   \n3590  Tequila Minsky, a New York-based photographer ...   \n3591  NBC reports Port-au-Prince air traffic control...   \n3592  National Palace has extensive damage. Presiden...   \n\n                                               CATEGORY   LATITUDE  LONGITUDE  \\\n0           1. Urgences | Emergency, 3. Public Health,   18.233333 -72.533333   \n4                             1. Urgences | Emergency,   18.571084 -72.334671   \n5                        5e. Communication lines down,   18.593707 -72.310079   \n6     4. Menaces | Security Threats, 4e. Assainissem...  18.482800 -73.638800   \n7                       4. Menaces | Security Threats,   18.415000 -73.195000   \n...                                                 ...        ...        ...   \n3588                  5c. Route barree | Road blocked,   18.539167 -72.335000   \n3589  5a. Structure effondres | Collapsed structure,...  18.539269 -72.336408   \n3590    5a. Structure effondres | Collapsed structure,   18.538328 -72.333067   \n3591     5b. Structures a risque | Unstable Structure,   18.579721 -72.292778   \n3592    5a. Structure effondres | Collapsed structure,   18.543376 -72.338883   \n\n     APPROVED VERIFIED  \n0         YES       NO  \n4         YES       NO  \n5         YES       NO  \n6         YES       NO  \n7         YES       NO  \n...       ...      ...  \n3588      YES       NO  \n3589      YES       NO  \n3590      YES       NO  \n3591      YES       NO  \n3592      YES      YES  \n\n[3569 rows x 10 columns]",
      "text/html": "<div>\n<style scoped>\n    .dataframe tbody tr th:only-of-type {\n        vertical-align: middle;\n    }\n\n    .dataframe tbody tr th {\n        vertical-align: top;\n    }\n\n    .dataframe thead th {\n        text-align: right;\n    }\n</style>\n<table border=\"1\" class=\"dataframe\">\n  <thead>\n    <tr style=\"text-align: right;\">\n      <th></th>\n      <th>Serial</th>\n      <th>INCIDENT TITLE</th>\n      <th>INCIDENT DATE</th>\n      <th>LOCATION</th>\n      <th>DESCRIPTION</th>\n      <th>CATEGORY</th>\n      <th>LATITUDE</th>\n      <th>LONGITUDE</th>\n      <th>APPROVED</th>\n      <th>VERIFIED</th>\n    </tr>\n  </thead>\n  <tbody>\n    <tr>\n      <th>0</th>\n      <td>4052</td>\n      <td>* URGENT * Type O blood donations needed in #J...</td>\n      <td>05/07/2010 17:26</td>\n      <td>Jacmel, Haiti</td>\n      <td>Birthing Clinic in Jacmel #Haiti urgently need...</td>\n      <td>1. Urgences | Emergency, 3. Public Health,</td>\n      <td>18.233333</td>\n      <td>-72.533333</td>\n      <td>YES</td>\n      <td>NO</td>\n    </tr>\n    <tr>\n      <th>4</th>\n      <td>4042</td>\n      <td>Citi Soleil school</td>\n      <td>18/05/2010 16:26</td>\n      <td>Citi Soleil, Haiti</td>\n      <td>We are working with Haitian (NGO) -The Christi...</td>\n      <td>1. Urgences | Emergency,</td>\n      <td>18.571084</td>\n      <td>-72.334671</td>\n      <td>YES</td>\n      <td>NO</td>\n    </tr>\n    <tr>\n      <th>5</th>\n      <td>4041</td>\n      <td>Radio Commerce in Sarthe</td>\n      <td>26/04/2010 13:14</td>\n      <td>Radio Commerce Shelter, Sarthe</td>\n      <td>i'm Louinel from Sarthe. I'd to know what can ...</td>\n      <td>5e. Communication lines down,</td>\n      <td>18.593707</td>\n      <td>-72.310079</td>\n      <td>YES</td>\n      <td>NO</td>\n    </tr>\n    <tr>\n      <th>6</th>\n      <td>4040</td>\n      <td>Contaminated water in Baraderes.</td>\n      <td>26/04/2010 14:19</td>\n      <td>Marc near Baraderes</td>\n      <td>How do we treat water in areas without Pipe?\\t...</td>\n      <td>4. Menaces | Security Threats, 4e. Assainissem...</td>\n      <td>18.482800</td>\n      <td>-73.638800</td>\n      <td>YES</td>\n      <td>NO</td>\n    </tr>\n    <tr>\n      <th>7</th>\n      <td>4039</td>\n      <td>Violence at &amp;quot;arcahaie bas Saint-Ard&amp;quot;</td>\n      <td>26/04/2010 14:27</td>\n      <td>unable to find &amp;quot;arcahaie bas Saint-Ard&amp;qu...</td>\n      <td>Goodnight at (arcahaie bas Saint-Ard) 2 young ...</td>\n      <td>4. Menaces | Security Threats,</td>\n      <td>18.415000</td>\n      <td>-73.195000</td>\n      <td>YES</td>\n      <td>NO</td>\n    </tr>\n    <tr>\n      <th>...</th>\n      <td>...</td>\n      <td>...</td>\n      <td>...</td>\n      <td>...</td>\n      <td>...</td>\n      <td>...</td>\n      <td>...</td>\n      <td>...</td>\n      <td>...</td>\n      <td>...</td>\n    </tr>\n    <tr>\n      <th>3588</th>\n      <td>8</td>\n      <td>Canape Vert road destroyed</td>\n      <td>13/01/2010 02:57</td>\n      <td>Port-au-Prince</td>\n      <td>Canape Vert, one of the main roads that leads ...</td>\n      <td>5c. Route barree | Road blocked,</td>\n      <td>18.539167</td>\n      <td>-72.335000</td>\n      <td>YES</td>\n      <td>NO</td>\n    </tr>\n    <tr>\n      <th>3589</th>\n      <td>7</td>\n      <td>Collapsed Building -- People Trapped</td>\n      <td>12/01/2010 09:55</td>\n      <td>Delmas 19, Rue Mackendal #8 Port-au-Prince, Haiti</td>\n      <td>My mother is part of a medical team that had j...</td>\n      <td>5a. Structure effondres | Collapsed structure,...</td>\n      <td>18.539269</td>\n      <td>-72.336408</td>\n      <td>YES</td>\n      <td>NO</td>\n    </tr>\n    <tr>\n      <th>3590</th>\n      <td>6</td>\n      <td>Eye-Witness Report from Hotel Oloffson</td>\n      <td>12/01/2010 11:16</td>\n      <td>Ave Christophe #60, Port au Prince, Haiti</td>\n      <td>Tequila Minsky, a New York-based photographer ...</td>\n      <td>5a. Structure effondres | Collapsed structure,</td>\n      <td>18.538328</td>\n      <td>-72.333067</td>\n      <td>YES</td>\n      <td>NO</td>\n    </tr>\n    <tr>\n      <th>3591</th>\n      <td>5</td>\n      <td>Port-au-Prince air traffic control tower damag...</td>\n      <td>12/01/2010 04:08</td>\n      <td>Airport, Port-au-Prince, Haiti</td>\n      <td>NBC reports Port-au-Prince air traffic control...</td>\n      <td>5b. Structures a risque | Unstable Structure,</td>\n      <td>18.579721</td>\n      <td>-72.292778</td>\n      <td>YES</td>\n      <td>NO</td>\n    </tr>\n    <tr>\n      <th>3592</th>\n      <td>4</td>\n      <td>National Palace damaged</td>\n      <td>12/01/2010 10:43</td>\n      <td>National Palace</td>\n      <td>National Palace has extensive damage. Presiden...</td>\n      <td>5a. Structure effondres | Collapsed structure,</td>\n      <td>18.543376</td>\n      <td>-72.338883</td>\n      <td>YES</td>\n      <td>YES</td>\n    </tr>\n  </tbody>\n</table>\n<p>3569 rows × 10 columns</p>\n</div>"
     },
     "execution_count": 6,
     "metadata": {},
     "output_type": "execute_result"
    }
   ],
   "source": [
    "data = data[(data.LATITUDE>18) & (data.LATITUDE<20) &\n",
    "            (data.LONGITUDE>-75) & (data.LONGITUDE<-70) & (data.CATEGORY.notnull())]\n",
    "data"
   ],
   "metadata": {
    "collapsed": false,
    "pycharm": {
     "name": "#%%\n"
    }
   }
  },
  {
   "cell_type": "code",
   "execution_count": 7,
   "outputs": [
    {
     "data": {
      "text/plain": "            Serial     LATITUDE    LONGITUDE\ncount  3569.000000  3569.000000  3569.000000\nmean   2081.498459    18.592503   -72.424994\nstd    1170.311824     0.273695     0.291018\nmin       4.000000    18.041313   -74.452757\n25%    1074.000000    18.524200   -72.417498\n50%    2166.000000    18.539269   -72.335000\n75%    3089.000000    18.561800   -72.293939\nmax    4052.000000    19.940630   -71.099489",
      "text/html": "<div>\n<style scoped>\n    .dataframe tbody tr th:only-of-type {\n        vertical-align: middle;\n    }\n\n    .dataframe tbody tr th {\n        vertical-align: top;\n    }\n\n    .dataframe thead th {\n        text-align: right;\n    }\n</style>\n<table border=\"1\" class=\"dataframe\">\n  <thead>\n    <tr style=\"text-align: right;\">\n      <th></th>\n      <th>Serial</th>\n      <th>LATITUDE</th>\n      <th>LONGITUDE</th>\n    </tr>\n  </thead>\n  <tbody>\n    <tr>\n      <th>count</th>\n      <td>3569.000000</td>\n      <td>3569.000000</td>\n      <td>3569.000000</td>\n    </tr>\n    <tr>\n      <th>mean</th>\n      <td>2081.498459</td>\n      <td>18.592503</td>\n      <td>-72.424994</td>\n    </tr>\n    <tr>\n      <th>std</th>\n      <td>1170.311824</td>\n      <td>0.273695</td>\n      <td>0.291018</td>\n    </tr>\n    <tr>\n      <th>min</th>\n      <td>4.000000</td>\n      <td>18.041313</td>\n      <td>-74.452757</td>\n    </tr>\n    <tr>\n      <th>25%</th>\n      <td>1074.000000</td>\n      <td>18.524200</td>\n      <td>-72.417498</td>\n    </tr>\n    <tr>\n      <th>50%</th>\n      <td>2166.000000</td>\n      <td>18.539269</td>\n      <td>-72.335000</td>\n    </tr>\n    <tr>\n      <th>75%</th>\n      <td>3089.000000</td>\n      <td>18.561800</td>\n      <td>-72.293939</td>\n    </tr>\n    <tr>\n      <th>max</th>\n      <td>4052.000000</td>\n      <td>19.940630</td>\n      <td>-71.099489</td>\n    </tr>\n  </tbody>\n</table>\n</div>"
     },
     "execution_count": 7,
     "metadata": {},
     "output_type": "execute_result"
    }
   ],
   "source": [
    "data.describe()"
   ],
   "metadata": {
    "collapsed": false,
    "pycharm": {
     "name": "#%%\n"
    }
   }
  },
  {
   "cell_type": "code",
   "execution_count": 26,
   "outputs": [],
   "source": [
    "#通过把逗号分开 再移除空字符\n",
    "def to_cat_list(catstr):\n",
    "    stripped = (x.strip() for x in catstr.split(','))\n",
    "    # for x in stripped:\n",
    "    #     print(x)\n",
    "    return [x for x in stripped if x]  #有一些位置是空值 所以需要if x 去除空值\n",
    "\n",
    "#获得所有的categories列中 过滤出来的内容\n",
    "def get_all_categories(cat_series):\n",
    "    cat_sets = ((set(to_cat_list(x))) for x in cat_series)\n",
    "    return sorted(set.union(*cat_sets))"
   ],
   "metadata": {
    "collapsed": false,
    "pycharm": {
     "name": "#%%\n"
    }
   }
  },
  {
   "cell_type": "code",
   "execution_count": 13,
   "outputs": [],
   "source": [
    "# | 前面是法语  | 后面是英语\n",
    "def get_english(cat):\n",
    "    cat_list = cat.split('.')\n",
    "    cat_string = cat_list[1]\n",
    "    if'|' in cat_string:\n",
    "        english = cat_string.split('|')\n",
    "        stripped_english = english[1].strip()\n",
    "        if stripped_english[-1]==',':\n",
    "            stripped_english = stripped_english[0:-2]\n",
    "        return cat_list[0],stripped_english\n",
    "    return cat_list[0],cat_string.strip()"
   ],
   "metadata": {
    "collapsed": false,
    "pycharm": {
     "name": "#%%\n"
    }
   }
  },
  {
   "cell_type": "code",
   "execution_count": 27,
   "outputs": [
    {
     "data": {
      "text/plain": "['1. Urgences | Emergency',\n '1a. Highly vulnerable',\n '1b. Urgence medicale | Medical Emergency',\n '1c. Personnes prises au piege | People trapped',\n '1d. Incendie | Fire',\n '2. Urgences logistiques | Vital Lines',\n \"2a. Penurie d'aliments | Food Shortage\",\n \"2b. Penurie d'eau | Water shortage\",\n '2c. Eau contaminee | Contaminated water',\n '2c. Probleme de securite | Security Concern',\n '2d. Refuge | Shelter needed',\n '2e. Penurie de carburant | Fuel shortage',\n '2f. Sans courant | Power Outage',\n '3. Public Health',\n '3a. Infectious human disease',\n '3b. Chronic care needs',\n '3c. Besoins en materiels et medicaments | Medical equipment and supply needs',\n \"3d. OBGYN/Women's Health\",\n '3e. Psychiatric need',\n '4. Menaces | Security Threats',\n '4a. Pillage | Looting',\n '4c. Group violence',\n '4e. Assainissement eau et hygiene | Water sanitation and hygiene promotion',\n '5. Infrastructure Damage',\n '5a. Structure effondres | Collapsed structure',\n '5b. Structures a risque | Unstable Structure',\n '5c. Route barree | Road blocked',\n '5d. Compromised bridge',\n '5e. Communication lines down',\n '6. Natural Hazards',\n '6a. Deces | Deaths',\n '6b. Personnes Disparues | Missing Persons',\n '6c. Demandant de transmettre un message | Asking to forward a message',\n '6c. Seisme et repliques | Earthquake and aftershocks',\n '7. Secours | Services Available',\n \"7a. Distribution d'aliments | Food distribution point\",\n \"7b. Distribution d'eau | Water distribution point\",\n '7c. Denrees non alimentaires | Non-food aid distribution point',\n '7d. Services de sante | Hospital/Clinics Operating',\n '7g. Morgue | Human remains management',\n '7h. Deblayage de gravats | Rubble removal',\n '8. Autre | Other',\n '8a. IDP concentration',\n '8c. Price gouging',\n '8d. Recherche et sauvetage | Search and Rescue',\n '8e. Nouvelles de Personnes | Persons News',\n '8f. Other']"
     },
     "execution_count": 27,
     "metadata": {},
     "output_type": "execute_result"
    }
   ],
   "source": [
    "all_cats = get_all_categories(data.CATEGORY)\n",
    "all_cats"
   ],
   "metadata": {
    "collapsed": false,
    "pycharm": {
     "name": "#%%\n"
    }
   }
  },
  {
   "cell_type": "code",
   "execution_count": 28,
   "outputs": [
    {
     "data": {
      "text/plain": "{'1': 'Emergency',\n '1a': 'Highly vulnerable',\n '1b': 'Medical Emergency',\n '1c': 'People trapped',\n '1d': 'Fire',\n '2': 'Vital Lines',\n '2a': 'Food Shortage',\n '2b': 'Water shortage',\n '2c': 'Security Concern',\n '2d': 'Shelter needed',\n '2e': 'Fuel shortage',\n '2f': 'Power Outage',\n '3': 'Public Health',\n '3a': 'Infectious human disease',\n '3b': 'Chronic care needs',\n '3c': 'Medical equipment and supply needs',\n '3d': \"OBGYN/Women's Health\",\n '3e': 'Psychiatric need',\n '4': 'Security Threats',\n '4a': 'Looting',\n '4c': 'Group violence',\n '4e': 'Water sanitation and hygiene promotion',\n '5': 'Infrastructure Damage',\n '5a': 'Collapsed structure',\n '5b': 'Unstable Structure',\n '5c': 'Road blocked',\n '5d': 'Compromised bridge',\n '5e': 'Communication lines down',\n '6': 'Natural Hazards',\n '6a': 'Deaths',\n '6b': 'Missing Persons',\n '6c': 'Earthquake and aftershocks',\n '7': 'Services Available',\n '7a': 'Food distribution point',\n '7b': 'Water distribution point',\n '7c': 'Non-food aid distribution point',\n '7d': 'Hospital/Clinics Operating',\n '7g': 'Human remains management',\n '7h': 'Rubble removal',\n '8': 'Other',\n '8a': 'IDP concentration',\n '8c': 'Price gouging',\n '8d': 'Search and Rescue',\n '8e': 'Persons News',\n '8f': 'Other'}"
     },
     "execution_count": 28,
     "metadata": {},
     "output_type": "execute_result"
    }
   ],
   "source": [
    "english_mapping = dict(get_english(x) for x in all_cats)\n",
    "english_mapping"
   ],
   "metadata": {
    "collapsed": false,
    "pycharm": {
     "name": "#%%\n"
    }
   }
  },
  {
   "cell_type": "code",
   "execution_count": 30,
   "outputs": [
    {
     "data": {
      "text/plain": "['1',\n '1a',\n '1b',\n '1c',\n '1d',\n '2',\n '2a',\n '2b',\n '2c',\n '2d',\n '2e',\n '2f',\n '3',\n '3a',\n '3b',\n '3c',\n '3d',\n '3e',\n '4',\n '4a',\n '4c',\n '4e',\n '5',\n '5a',\n '5b',\n '5c',\n '5d',\n '5e',\n '6',\n '6a',\n '6b',\n '6c',\n '7',\n '7a',\n '7b',\n '7c',\n '7d',\n '7g',\n '7h',\n '8',\n '8a',\n '8c',\n '8d',\n '8e',\n '8f']"
     },
     "execution_count": 30,
     "metadata": {},
     "output_type": "execute_result"
    }
   ],
   "source": [
    "all_codes = list(english_mapping.keys())\n",
    "all_codes"
   ],
   "metadata": {
    "collapsed": false,
    "pycharm": {
     "name": "#%%\n"
    }
   }
  },
  {
   "cell_type": "code",
   "execution_count": 33,
   "outputs": [
    {
     "data": {
      "text/plain": "        1   1a   1b   1c   1d    2   2a   2b   2c   2d  ...   7c   7d   7g  \\\n0     0.0  0.0  0.0  0.0  0.0  0.0  0.0  0.0  0.0  0.0  ...  0.0  0.0  0.0   \n4     0.0  0.0  0.0  0.0  0.0  0.0  0.0  0.0  0.0  0.0  ...  0.0  0.0  0.0   \n5     0.0  0.0  0.0  0.0  0.0  0.0  0.0  0.0  0.0  0.0  ...  0.0  0.0  0.0   \n6     0.0  0.0  0.0  0.0  0.0  0.0  0.0  0.0  0.0  0.0  ...  0.0  0.0  0.0   \n7     0.0  0.0  0.0  0.0  0.0  0.0  0.0  0.0  0.0  0.0  ...  0.0  0.0  0.0   \n...   ...  ...  ...  ...  ...  ...  ...  ...  ...  ...  ...  ...  ...  ...   \n3588  0.0  0.0  0.0  0.0  0.0  0.0  0.0  0.0  0.0  0.0  ...  0.0  0.0  0.0   \n3589  0.0  0.0  0.0  0.0  0.0  0.0  0.0  0.0  0.0  0.0  ...  0.0  0.0  0.0   \n3590  0.0  0.0  0.0  0.0  0.0  0.0  0.0  0.0  0.0  0.0  ...  0.0  0.0  0.0   \n3591  0.0  0.0  0.0  0.0  0.0  0.0  0.0  0.0  0.0  0.0  ...  0.0  0.0  0.0   \n3592  0.0  0.0  0.0  0.0  0.0  0.0  0.0  0.0  0.0  0.0  ...  0.0  0.0  0.0   \n\n       7h    8   8a   8c   8d   8e   8f  \n0     0.0  0.0  0.0  0.0  0.0  0.0  0.0  \n4     0.0  0.0  0.0  0.0  0.0  0.0  0.0  \n5     0.0  0.0  0.0  0.0  0.0  0.0  0.0  \n6     0.0  0.0  0.0  0.0  0.0  0.0  0.0  \n7     0.0  0.0  0.0  0.0  0.0  0.0  0.0  \n...   ...  ...  ...  ...  ...  ...  ...  \n3588  0.0  0.0  0.0  0.0  0.0  0.0  0.0  \n3589  0.0  0.0  0.0  0.0  0.0  0.0  0.0  \n3590  0.0  0.0  0.0  0.0  0.0  0.0  0.0  \n3591  0.0  0.0  0.0  0.0  0.0  0.0  0.0  \n3592  0.0  0.0  0.0  0.0  0.0  0.0  0.0  \n\n[3569 rows x 45 columns]",
      "text/html": "<div>\n<style scoped>\n    .dataframe tbody tr th:only-of-type {\n        vertical-align: middle;\n    }\n\n    .dataframe tbody tr th {\n        vertical-align: top;\n    }\n\n    .dataframe thead th {\n        text-align: right;\n    }\n</style>\n<table border=\"1\" class=\"dataframe\">\n  <thead>\n    <tr style=\"text-align: right;\">\n      <th></th>\n      <th>1</th>\n      <th>1a</th>\n      <th>1b</th>\n      <th>1c</th>\n      <th>1d</th>\n      <th>2</th>\n      <th>2a</th>\n      <th>2b</th>\n      <th>2c</th>\n      <th>2d</th>\n      <th>...</th>\n      <th>7c</th>\n      <th>7d</th>\n      <th>7g</th>\n      <th>7h</th>\n      <th>8</th>\n      <th>8a</th>\n      <th>8c</th>\n      <th>8d</th>\n      <th>8e</th>\n      <th>8f</th>\n    </tr>\n  </thead>\n  <tbody>\n    <tr>\n      <th>0</th>\n      <td>0.0</td>\n      <td>0.0</td>\n      <td>0.0</td>\n      <td>0.0</td>\n      <td>0.0</td>\n      <td>0.0</td>\n      <td>0.0</td>\n      <td>0.0</td>\n      <td>0.0</td>\n      <td>0.0</td>\n      <td>...</td>\n      <td>0.0</td>\n      <td>0.0</td>\n      <td>0.0</td>\n      <td>0.0</td>\n      <td>0.0</td>\n      <td>0.0</td>\n      <td>0.0</td>\n      <td>0.0</td>\n      <td>0.0</td>\n      <td>0.0</td>\n    </tr>\n    <tr>\n      <th>4</th>\n      <td>0.0</td>\n      <td>0.0</td>\n      <td>0.0</td>\n      <td>0.0</td>\n      <td>0.0</td>\n      <td>0.0</td>\n      <td>0.0</td>\n      <td>0.0</td>\n      <td>0.0</td>\n      <td>0.0</td>\n      <td>...</td>\n      <td>0.0</td>\n      <td>0.0</td>\n      <td>0.0</td>\n      <td>0.0</td>\n      <td>0.0</td>\n      <td>0.0</td>\n      <td>0.0</td>\n      <td>0.0</td>\n      <td>0.0</td>\n      <td>0.0</td>\n    </tr>\n    <tr>\n      <th>5</th>\n      <td>0.0</td>\n      <td>0.0</td>\n      <td>0.0</td>\n      <td>0.0</td>\n      <td>0.0</td>\n      <td>0.0</td>\n      <td>0.0</td>\n      <td>0.0</td>\n      <td>0.0</td>\n      <td>0.0</td>\n      <td>...</td>\n      <td>0.0</td>\n      <td>0.0</td>\n      <td>0.0</td>\n      <td>0.0</td>\n      <td>0.0</td>\n      <td>0.0</td>\n      <td>0.0</td>\n      <td>0.0</td>\n      <td>0.0</td>\n      <td>0.0</td>\n    </tr>\n    <tr>\n      <th>6</th>\n      <td>0.0</td>\n      <td>0.0</td>\n      <td>0.0</td>\n      <td>0.0</td>\n      <td>0.0</td>\n      <td>0.0</td>\n      <td>0.0</td>\n      <td>0.0</td>\n      <td>0.0</td>\n      <td>0.0</td>\n      <td>...</td>\n      <td>0.0</td>\n      <td>0.0</td>\n      <td>0.0</td>\n      <td>0.0</td>\n      <td>0.0</td>\n      <td>0.0</td>\n      <td>0.0</td>\n      <td>0.0</td>\n      <td>0.0</td>\n      <td>0.0</td>\n    </tr>\n    <tr>\n      <th>7</th>\n      <td>0.0</td>\n      <td>0.0</td>\n      <td>0.0</td>\n      <td>0.0</td>\n      <td>0.0</td>\n      <td>0.0</td>\n      <td>0.0</td>\n      <td>0.0</td>\n      <td>0.0</td>\n      <td>0.0</td>\n      <td>...</td>\n      <td>0.0</td>\n      <td>0.0</td>\n      <td>0.0</td>\n      <td>0.0</td>\n      <td>0.0</td>\n      <td>0.0</td>\n      <td>0.0</td>\n      <td>0.0</td>\n      <td>0.0</td>\n      <td>0.0</td>\n    </tr>\n    <tr>\n      <th>...</th>\n      <td>...</td>\n      <td>...</td>\n      <td>...</td>\n      <td>...</td>\n      <td>...</td>\n      <td>...</td>\n      <td>...</td>\n      <td>...</td>\n      <td>...</td>\n      <td>...</td>\n      <td>...</td>\n      <td>...</td>\n      <td>...</td>\n      <td>...</td>\n      <td>...</td>\n      <td>...</td>\n      <td>...</td>\n      <td>...</td>\n      <td>...</td>\n      <td>...</td>\n      <td>...</td>\n    </tr>\n    <tr>\n      <th>3588</th>\n      <td>0.0</td>\n      <td>0.0</td>\n      <td>0.0</td>\n      <td>0.0</td>\n      <td>0.0</td>\n      <td>0.0</td>\n      <td>0.0</td>\n      <td>0.0</td>\n      <td>0.0</td>\n      <td>0.0</td>\n      <td>...</td>\n      <td>0.0</td>\n      <td>0.0</td>\n      <td>0.0</td>\n      <td>0.0</td>\n      <td>0.0</td>\n      <td>0.0</td>\n      <td>0.0</td>\n      <td>0.0</td>\n      <td>0.0</td>\n      <td>0.0</td>\n    </tr>\n    <tr>\n      <th>3589</th>\n      <td>0.0</td>\n      <td>0.0</td>\n      <td>0.0</td>\n      <td>0.0</td>\n      <td>0.0</td>\n      <td>0.0</td>\n      <td>0.0</td>\n      <td>0.0</td>\n      <td>0.0</td>\n      <td>0.0</td>\n      <td>...</td>\n      <td>0.0</td>\n      <td>0.0</td>\n      <td>0.0</td>\n      <td>0.0</td>\n      <td>0.0</td>\n      <td>0.0</td>\n      <td>0.0</td>\n      <td>0.0</td>\n      <td>0.0</td>\n      <td>0.0</td>\n    </tr>\n    <tr>\n      <th>3590</th>\n      <td>0.0</td>\n      <td>0.0</td>\n      <td>0.0</td>\n      <td>0.0</td>\n      <td>0.0</td>\n      <td>0.0</td>\n      <td>0.0</td>\n      <td>0.0</td>\n      <td>0.0</td>\n      <td>0.0</td>\n      <td>...</td>\n      <td>0.0</td>\n      <td>0.0</td>\n      <td>0.0</td>\n      <td>0.0</td>\n      <td>0.0</td>\n      <td>0.0</td>\n      <td>0.0</td>\n      <td>0.0</td>\n      <td>0.0</td>\n      <td>0.0</td>\n    </tr>\n    <tr>\n      <th>3591</th>\n      <td>0.0</td>\n      <td>0.0</td>\n      <td>0.0</td>\n      <td>0.0</td>\n      <td>0.0</td>\n      <td>0.0</td>\n      <td>0.0</td>\n      <td>0.0</td>\n      <td>0.0</td>\n      <td>0.0</td>\n      <td>...</td>\n      <td>0.0</td>\n      <td>0.0</td>\n      <td>0.0</td>\n      <td>0.0</td>\n      <td>0.0</td>\n      <td>0.0</td>\n      <td>0.0</td>\n      <td>0.0</td>\n      <td>0.0</td>\n      <td>0.0</td>\n    </tr>\n    <tr>\n      <th>3592</th>\n      <td>0.0</td>\n      <td>0.0</td>\n      <td>0.0</td>\n      <td>0.0</td>\n      <td>0.0</td>\n      <td>0.0</td>\n      <td>0.0</td>\n      <td>0.0</td>\n      <td>0.0</td>\n      <td>0.0</td>\n      <td>...</td>\n      <td>0.0</td>\n      <td>0.0</td>\n      <td>0.0</td>\n      <td>0.0</td>\n      <td>0.0</td>\n      <td>0.0</td>\n      <td>0.0</td>\n      <td>0.0</td>\n      <td>0.0</td>\n      <td>0.0</td>\n    </tr>\n  </tbody>\n</table>\n<p>3569 rows × 45 columns</p>\n</div>"
     },
     "execution_count": 33,
     "metadata": {},
     "output_type": "execute_result"
    }
   ],
   "source": [
    "code_index = pd.Index(all_codes)\n",
    "dummy_frame = DataFrame(np.zeros((len(data),len(code_index))),index=data.index,\n",
    "                        columns=code_index)\n",
    "dummy_frame"
   ],
   "metadata": {
    "collapsed": false,
    "pycharm": {
     "name": "#%%\n"
    }
   }
  },
  {
   "cell_type": "code",
   "execution_count": 34,
   "outputs": [
    {
     "data": {
      "text/plain": "['1', '3']"
     },
     "execution_count": 34,
     "metadata": {},
     "output_type": "execute_result"
    }
   ],
   "source": [
    "def get_codes(seq):\n",
    "    codes = []\n",
    "    for x in seq:\n",
    "        code = x.split('.')[0].strip()\n",
    "        if code not in codes:\n",
    "            codes.append(code)\n",
    "    return codes\n",
    "# get_codes(['1. Urgences | Emergency','3. Public Health,'])"
   ],
   "metadata": {
    "collapsed": false,
    "pycharm": {
     "name": "#%%\n"
    }
   }
  },
  {
   "cell_type": "code",
   "execution_count": 35,
   "outputs": [
    {
     "data": {
      "text/plain": "        1   1a   1b   1c   1d    2   2a   2b   2c   2d  ...   7c   7d   7g  \\\n0     1.0  0.0  0.0  0.0  0.0  0.0  0.0  0.0  0.0  0.0  ...  0.0  0.0  0.0   \n4     1.0  0.0  0.0  0.0  0.0  0.0  0.0  0.0  0.0  0.0  ...  0.0  0.0  0.0   \n5     0.0  0.0  0.0  0.0  0.0  0.0  0.0  0.0  0.0  0.0  ...  0.0  0.0  0.0   \n6     0.0  0.0  0.0  0.0  0.0  0.0  0.0  0.0  0.0  0.0  ...  0.0  0.0  0.0   \n7     0.0  0.0  0.0  0.0  0.0  0.0  0.0  0.0  0.0  0.0  ...  0.0  0.0  0.0   \n...   ...  ...  ...  ...  ...  ...  ...  ...  ...  ...  ...  ...  ...  ...   \n3588  0.0  0.0  0.0  0.0  0.0  0.0  0.0  0.0  0.0  0.0  ...  0.0  0.0  0.0   \n3589  0.0  0.0  0.0  1.0  0.0  0.0  0.0  0.0  0.0  0.0  ...  0.0  0.0  0.0   \n3590  0.0  0.0  0.0  0.0  0.0  0.0  0.0  0.0  0.0  0.0  ...  0.0  0.0  0.0   \n3591  0.0  0.0  0.0  0.0  0.0  0.0  0.0  0.0  0.0  0.0  ...  0.0  0.0  0.0   \n3592  0.0  0.0  0.0  0.0  0.0  0.0  0.0  0.0  0.0  0.0  ...  0.0  0.0  0.0   \n\n       7h    8   8a   8c   8d   8e   8f  \n0     0.0  0.0  0.0  0.0  0.0  0.0  0.0  \n4     0.0  0.0  0.0  0.0  0.0  0.0  0.0  \n5     0.0  0.0  0.0  0.0  0.0  0.0  0.0  \n6     0.0  0.0  0.0  0.0  0.0  0.0  0.0  \n7     0.0  0.0  0.0  0.0  0.0  0.0  0.0  \n...   ...  ...  ...  ...  ...  ...  ...  \n3588  0.0  0.0  0.0  0.0  0.0  0.0  0.0  \n3589  0.0  0.0  0.0  0.0  0.0  0.0  0.0  \n3590  0.0  0.0  0.0  0.0  0.0  0.0  0.0  \n3591  0.0  0.0  0.0  0.0  0.0  0.0  0.0  \n3592  0.0  0.0  0.0  0.0  0.0  0.0  0.0  \n\n[3569 rows x 45 columns]",
      "text/html": "<div>\n<style scoped>\n    .dataframe tbody tr th:only-of-type {\n        vertical-align: middle;\n    }\n\n    .dataframe tbody tr th {\n        vertical-align: top;\n    }\n\n    .dataframe thead th {\n        text-align: right;\n    }\n</style>\n<table border=\"1\" class=\"dataframe\">\n  <thead>\n    <tr style=\"text-align: right;\">\n      <th></th>\n      <th>1</th>\n      <th>1a</th>\n      <th>1b</th>\n      <th>1c</th>\n      <th>1d</th>\n      <th>2</th>\n      <th>2a</th>\n      <th>2b</th>\n      <th>2c</th>\n      <th>2d</th>\n      <th>...</th>\n      <th>7c</th>\n      <th>7d</th>\n      <th>7g</th>\n      <th>7h</th>\n      <th>8</th>\n      <th>8a</th>\n      <th>8c</th>\n      <th>8d</th>\n      <th>8e</th>\n      <th>8f</th>\n    </tr>\n  </thead>\n  <tbody>\n    <tr>\n      <th>0</th>\n      <td>1.0</td>\n      <td>0.0</td>\n      <td>0.0</td>\n      <td>0.0</td>\n      <td>0.0</td>\n      <td>0.0</td>\n      <td>0.0</td>\n      <td>0.0</td>\n      <td>0.0</td>\n      <td>0.0</td>\n      <td>...</td>\n      <td>0.0</td>\n      <td>0.0</td>\n      <td>0.0</td>\n      <td>0.0</td>\n      <td>0.0</td>\n      <td>0.0</td>\n      <td>0.0</td>\n      <td>0.0</td>\n      <td>0.0</td>\n      <td>0.0</td>\n    </tr>\n    <tr>\n      <th>4</th>\n      <td>1.0</td>\n      <td>0.0</td>\n      <td>0.0</td>\n      <td>0.0</td>\n      <td>0.0</td>\n      <td>0.0</td>\n      <td>0.0</td>\n      <td>0.0</td>\n      <td>0.0</td>\n      <td>0.0</td>\n      <td>...</td>\n      <td>0.0</td>\n      <td>0.0</td>\n      <td>0.0</td>\n      <td>0.0</td>\n      <td>0.0</td>\n      <td>0.0</td>\n      <td>0.0</td>\n      <td>0.0</td>\n      <td>0.0</td>\n      <td>0.0</td>\n    </tr>\n    <tr>\n      <th>5</th>\n      <td>0.0</td>\n      <td>0.0</td>\n      <td>0.0</td>\n      <td>0.0</td>\n      <td>0.0</td>\n      <td>0.0</td>\n      <td>0.0</td>\n      <td>0.0</td>\n      <td>0.0</td>\n      <td>0.0</td>\n      <td>...</td>\n      <td>0.0</td>\n      <td>0.0</td>\n      <td>0.0</td>\n      <td>0.0</td>\n      <td>0.0</td>\n      <td>0.0</td>\n      <td>0.0</td>\n      <td>0.0</td>\n      <td>0.0</td>\n      <td>0.0</td>\n    </tr>\n    <tr>\n      <th>6</th>\n      <td>0.0</td>\n      <td>0.0</td>\n      <td>0.0</td>\n      <td>0.0</td>\n      <td>0.0</td>\n      <td>0.0</td>\n      <td>0.0</td>\n      <td>0.0</td>\n      <td>0.0</td>\n      <td>0.0</td>\n      <td>...</td>\n      <td>0.0</td>\n      <td>0.0</td>\n      <td>0.0</td>\n      <td>0.0</td>\n      <td>0.0</td>\n      <td>0.0</td>\n      <td>0.0</td>\n      <td>0.0</td>\n      <td>0.0</td>\n      <td>0.0</td>\n    </tr>\n    <tr>\n      <th>7</th>\n      <td>0.0</td>\n      <td>0.0</td>\n      <td>0.0</td>\n      <td>0.0</td>\n      <td>0.0</td>\n      <td>0.0</td>\n      <td>0.0</td>\n      <td>0.0</td>\n      <td>0.0</td>\n      <td>0.0</td>\n      <td>...</td>\n      <td>0.0</td>\n      <td>0.0</td>\n      <td>0.0</td>\n      <td>0.0</td>\n      <td>0.0</td>\n      <td>0.0</td>\n      <td>0.0</td>\n      <td>0.0</td>\n      <td>0.0</td>\n      <td>0.0</td>\n    </tr>\n    <tr>\n      <th>...</th>\n      <td>...</td>\n      <td>...</td>\n      <td>...</td>\n      <td>...</td>\n      <td>...</td>\n      <td>...</td>\n      <td>...</td>\n      <td>...</td>\n      <td>...</td>\n      <td>...</td>\n      <td>...</td>\n      <td>...</td>\n      <td>...</td>\n      <td>...</td>\n      <td>...</td>\n      <td>...</td>\n      <td>...</td>\n      <td>...</td>\n      <td>...</td>\n      <td>...</td>\n      <td>...</td>\n    </tr>\n    <tr>\n      <th>3588</th>\n      <td>0.0</td>\n      <td>0.0</td>\n      <td>0.0</td>\n      <td>0.0</td>\n      <td>0.0</td>\n      <td>0.0</td>\n      <td>0.0</td>\n      <td>0.0</td>\n      <td>0.0</td>\n      <td>0.0</td>\n      <td>...</td>\n      <td>0.0</td>\n      <td>0.0</td>\n      <td>0.0</td>\n      <td>0.0</td>\n      <td>0.0</td>\n      <td>0.0</td>\n      <td>0.0</td>\n      <td>0.0</td>\n      <td>0.0</td>\n      <td>0.0</td>\n    </tr>\n    <tr>\n      <th>3589</th>\n      <td>0.0</td>\n      <td>0.0</td>\n      <td>0.0</td>\n      <td>1.0</td>\n      <td>0.0</td>\n      <td>0.0</td>\n      <td>0.0</td>\n      <td>0.0</td>\n      <td>0.0</td>\n      <td>0.0</td>\n      <td>...</td>\n      <td>0.0</td>\n      <td>0.0</td>\n      <td>0.0</td>\n      <td>0.0</td>\n      <td>0.0</td>\n      <td>0.0</td>\n      <td>0.0</td>\n      <td>0.0</td>\n      <td>0.0</td>\n      <td>0.0</td>\n    </tr>\n    <tr>\n      <th>3590</th>\n      <td>0.0</td>\n      <td>0.0</td>\n      <td>0.0</td>\n      <td>0.0</td>\n      <td>0.0</td>\n      <td>0.0</td>\n      <td>0.0</td>\n      <td>0.0</td>\n      <td>0.0</td>\n      <td>0.0</td>\n      <td>...</td>\n      <td>0.0</td>\n      <td>0.0</td>\n      <td>0.0</td>\n      <td>0.0</td>\n      <td>0.0</td>\n      <td>0.0</td>\n      <td>0.0</td>\n      <td>0.0</td>\n      <td>0.0</td>\n      <td>0.0</td>\n    </tr>\n    <tr>\n      <th>3591</th>\n      <td>0.0</td>\n      <td>0.0</td>\n      <td>0.0</td>\n      <td>0.0</td>\n      <td>0.0</td>\n      <td>0.0</td>\n      <td>0.0</td>\n      <td>0.0</td>\n      <td>0.0</td>\n      <td>0.0</td>\n      <td>...</td>\n      <td>0.0</td>\n      <td>0.0</td>\n      <td>0.0</td>\n      <td>0.0</td>\n      <td>0.0</td>\n      <td>0.0</td>\n      <td>0.0</td>\n      <td>0.0</td>\n      <td>0.0</td>\n      <td>0.0</td>\n    </tr>\n    <tr>\n      <th>3592</th>\n      <td>0.0</td>\n      <td>0.0</td>\n      <td>0.0</td>\n      <td>0.0</td>\n      <td>0.0</td>\n      <td>0.0</td>\n      <td>0.0</td>\n      <td>0.0</td>\n      <td>0.0</td>\n      <td>0.0</td>\n      <td>...</td>\n      <td>0.0</td>\n      <td>0.0</td>\n      <td>0.0</td>\n      <td>0.0</td>\n      <td>0.0</td>\n      <td>0.0</td>\n      <td>0.0</td>\n      <td>0.0</td>\n      <td>0.0</td>\n      <td>0.0</td>\n    </tr>\n  </tbody>\n</table>\n<p>3569 rows × 45 columns</p>\n</div>"
     },
     "execution_count": 35,
     "metadata": {},
     "output_type": "execute_result"
    }
   ],
   "source": [
    "for row,cat in zip(data.index,data.CATEGORY):  #zip将第一个的0,1,2..位置上的和第二个0,1,2..的结合\n",
    "                                               #（0,0），（1,1）...\n",
    "    codes = get_codes(to_cat_list(cat))\n",
    "    dummy_frame.loc[row,codes] = 1\n",
    "\n",
    "dummy_frame"
   ],
   "metadata": {
    "collapsed": false,
    "pycharm": {
     "name": "#%%\n"
    }
   }
  },
  {
   "cell_type": "code",
   "execution_count": 37,
   "outputs": [
    {
     "data": {
      "text/plain": "1     0.0\n1a    0.0\n1b    0.0\n1c    0.0\n1d    0.0\n2     0.0\n2a    0.0\n2b    0.0\n2c    0.0\n2d    0.0\n2e    0.0\n2f    0.0\n3     0.0\n3a    0.0\n3b    0.0\n3c    0.0\n3d    0.0\n3e    0.0\n4     0.0\n4a    0.0\n4c    0.0\n4e    0.0\n5     0.0\n5a    0.0\n5b    0.0\n5c    0.0\n5d    0.0\n5e    1.0\n6     0.0\n6a    0.0\n6b    0.0\n6c    0.0\n7     0.0\n7a    0.0\n7b    0.0\n7c    0.0\n7d    0.0\n7g    0.0\n7h    0.0\n8     0.0\n8a    0.0\n8c    0.0\n8d    0.0\n8e    0.0\n8f    0.0\nName: 5, dtype: float64"
     },
     "execution_count": 37,
     "metadata": {},
     "output_type": "execute_result"
    }
   ],
   "source": [
    "dummy_frame.loc[5]"
   ],
   "metadata": {
    "collapsed": false,
    "pycharm": {
     "name": "#%%\n"
    }
   }
  },
  {
   "cell_type": "code",
   "execution_count": 42,
   "outputs": [
    {
     "data": {
      "text/plain": "      Serial                                     INCIDENT TITLE  \\\n0       4052  * URGENT * Type O blood donations needed in #J...   \n4       4042                                 Citi Soleil school   \n5       4041                           Radio Commerce in Sarthe   \n6       4040                   Contaminated water in Baraderes.   \n7       4039     Violence at &quot;arcahaie bas Saint-Ard&quot;   \n...      ...                                                ...   \n3588       8                         Canape Vert road destroyed   \n3589       7               Collapsed Building -- People Trapped   \n3590       6             Eye-Witness Report from Hotel Oloffson   \n3591       5  Port-au-Prince air traffic control tower damag...   \n3592       4                            National Palace damaged   \n\n         INCIDENT DATE                                           LOCATION  \\\n0     05/07/2010 17:26                                      Jacmel, Haiti   \n4     18/05/2010 16:26                                 Citi Soleil, Haiti   \n5     26/04/2010 13:14                     Radio Commerce Shelter, Sarthe   \n6     26/04/2010 14:19                                Marc near Baraderes   \n7     26/04/2010 14:27  unable to find &quot;arcahaie bas Saint-Ard&qu...   \n...                ...                                                ...   \n3588  13/01/2010 02:57                                     Port-au-Prince   \n3589  12/01/2010 09:55  Delmas 19, Rue Mackendal #8 Port-au-Prince, Haiti   \n3590  12/01/2010 11:16          Ave Christophe #60, Port au Prince, Haiti   \n3591  12/01/2010 04:08                     Airport, Port-au-Prince, Haiti   \n3592  12/01/2010 10:43                                    National Palace   \n\n                                            DESCRIPTION  \\\n0     Birthing Clinic in Jacmel #Haiti urgently need...   \n4     We are working with Haitian (NGO) -The Christi...   \n5     i'm Louinel from Sarthe. I'd to know what can ...   \n6     How do we treat water in areas without Pipe?\\t...   \n7     Goodnight at (arcahaie bas Saint-Ard) 2 young ...   \n...                                                 ...   \n3588  Canape Vert, one of the main roads that leads ...   \n3589  My mother is part of a medical team that had j...   \n3590  Tequila Minsky, a New York-based photographer ...   \n3591  NBC reports Port-au-Prince air traffic control...   \n3592  National Palace has extensive damage. Presiden...   \n\n                                               CATEGORY   LATITUDE  LONGITUDE  \\\n0           1. Urgences | Emergency, 3. Public Health,   18.233333 -72.533333   \n4                             1. Urgences | Emergency,   18.571084 -72.334671   \n5                        5e. Communication lines down,   18.593707 -72.310079   \n6     4. Menaces | Security Threats, 4e. Assainissem...  18.482800 -73.638800   \n7                       4. Menaces | Security Threats,   18.415000 -73.195000   \n...                                                 ...        ...        ...   \n3588                  5c. Route barree | Road blocked,   18.539167 -72.335000   \n3589  5a. Structure effondres | Collapsed structure,...  18.539269 -72.336408   \n3590    5a. Structure effondres | Collapsed structure,   18.538328 -72.333067   \n3591     5b. Structures a risque | Unstable Structure,   18.579721 -72.292778   \n3592    5a. Structure effondres | Collapsed structure,   18.543376 -72.338883   \n\n     APPROVED VERIFIED  ...  category_7c  category_7d  category_7g  \\\n0         YES       NO  ...          0.0          0.0          0.0   \n4         YES       NO  ...          0.0          0.0          0.0   \n5         YES       NO  ...          0.0          0.0          0.0   \n6         YES       NO  ...          0.0          0.0          0.0   \n7         YES       NO  ...          0.0          0.0          0.0   \n...       ...      ...  ...          ...          ...          ...   \n3588      YES       NO  ...          0.0          0.0          0.0   \n3589      YES       NO  ...          0.0          0.0          0.0   \n3590      YES       NO  ...          0.0          0.0          0.0   \n3591      YES       NO  ...          0.0          0.0          0.0   \n3592      YES      YES  ...          0.0          0.0          0.0   \n\n      category_7h  category_8  category_8a  category_8c  category_8d  \\\n0             0.0         0.0          0.0          0.0          0.0   \n4             0.0         0.0          0.0          0.0          0.0   \n5             0.0         0.0          0.0          0.0          0.0   \n6             0.0         0.0          0.0          0.0          0.0   \n7             0.0         0.0          0.0          0.0          0.0   \n...           ...         ...          ...          ...          ...   \n3588          0.0         0.0          0.0          0.0          0.0   \n3589          0.0         0.0          0.0          0.0          0.0   \n3590          0.0         0.0          0.0          0.0          0.0   \n3591          0.0         0.0          0.0          0.0          0.0   \n3592          0.0         0.0          0.0          0.0          0.0   \n\n      category_8e  category_8f  \n0             0.0          0.0  \n4             0.0          0.0  \n5             0.0          0.0  \n6             0.0          0.0  \n7             0.0          0.0  \n...           ...          ...  \n3588          0.0          0.0  \n3589          0.0          0.0  \n3590          0.0          0.0  \n3591          0.0          0.0  \n3592          0.0          0.0  \n\n[3569 rows x 55 columns]",
      "text/html": "<div>\n<style scoped>\n    .dataframe tbody tr th:only-of-type {\n        vertical-align: middle;\n    }\n\n    .dataframe tbody tr th {\n        vertical-align: top;\n    }\n\n    .dataframe thead th {\n        text-align: right;\n    }\n</style>\n<table border=\"1\" class=\"dataframe\">\n  <thead>\n    <tr style=\"text-align: right;\">\n      <th></th>\n      <th>Serial</th>\n      <th>INCIDENT TITLE</th>\n      <th>INCIDENT DATE</th>\n      <th>LOCATION</th>\n      <th>DESCRIPTION</th>\n      <th>CATEGORY</th>\n      <th>LATITUDE</th>\n      <th>LONGITUDE</th>\n      <th>APPROVED</th>\n      <th>VERIFIED</th>\n      <th>...</th>\n      <th>category_7c</th>\n      <th>category_7d</th>\n      <th>category_7g</th>\n      <th>category_7h</th>\n      <th>category_8</th>\n      <th>category_8a</th>\n      <th>category_8c</th>\n      <th>category_8d</th>\n      <th>category_8e</th>\n      <th>category_8f</th>\n    </tr>\n  </thead>\n  <tbody>\n    <tr>\n      <th>0</th>\n      <td>4052</td>\n      <td>* URGENT * Type O blood donations needed in #J...</td>\n      <td>05/07/2010 17:26</td>\n      <td>Jacmel, Haiti</td>\n      <td>Birthing Clinic in Jacmel #Haiti urgently need...</td>\n      <td>1. Urgences | Emergency, 3. Public Health,</td>\n      <td>18.233333</td>\n      <td>-72.533333</td>\n      <td>YES</td>\n      <td>NO</td>\n      <td>...</td>\n      <td>0.0</td>\n      <td>0.0</td>\n      <td>0.0</td>\n      <td>0.0</td>\n      <td>0.0</td>\n      <td>0.0</td>\n      <td>0.0</td>\n      <td>0.0</td>\n      <td>0.0</td>\n      <td>0.0</td>\n    </tr>\n    <tr>\n      <th>4</th>\n      <td>4042</td>\n      <td>Citi Soleil school</td>\n      <td>18/05/2010 16:26</td>\n      <td>Citi Soleil, Haiti</td>\n      <td>We are working with Haitian (NGO) -The Christi...</td>\n      <td>1. Urgences | Emergency,</td>\n      <td>18.571084</td>\n      <td>-72.334671</td>\n      <td>YES</td>\n      <td>NO</td>\n      <td>...</td>\n      <td>0.0</td>\n      <td>0.0</td>\n      <td>0.0</td>\n      <td>0.0</td>\n      <td>0.0</td>\n      <td>0.0</td>\n      <td>0.0</td>\n      <td>0.0</td>\n      <td>0.0</td>\n      <td>0.0</td>\n    </tr>\n    <tr>\n      <th>5</th>\n      <td>4041</td>\n      <td>Radio Commerce in Sarthe</td>\n      <td>26/04/2010 13:14</td>\n      <td>Radio Commerce Shelter, Sarthe</td>\n      <td>i'm Louinel from Sarthe. I'd to know what can ...</td>\n      <td>5e. Communication lines down,</td>\n      <td>18.593707</td>\n      <td>-72.310079</td>\n      <td>YES</td>\n      <td>NO</td>\n      <td>...</td>\n      <td>0.0</td>\n      <td>0.0</td>\n      <td>0.0</td>\n      <td>0.0</td>\n      <td>0.0</td>\n      <td>0.0</td>\n      <td>0.0</td>\n      <td>0.0</td>\n      <td>0.0</td>\n      <td>0.0</td>\n    </tr>\n    <tr>\n      <th>6</th>\n      <td>4040</td>\n      <td>Contaminated water in Baraderes.</td>\n      <td>26/04/2010 14:19</td>\n      <td>Marc near Baraderes</td>\n      <td>How do we treat water in areas without Pipe?\\t...</td>\n      <td>4. Menaces | Security Threats, 4e. Assainissem...</td>\n      <td>18.482800</td>\n      <td>-73.638800</td>\n      <td>YES</td>\n      <td>NO</td>\n      <td>...</td>\n      <td>0.0</td>\n      <td>0.0</td>\n      <td>0.0</td>\n      <td>0.0</td>\n      <td>0.0</td>\n      <td>0.0</td>\n      <td>0.0</td>\n      <td>0.0</td>\n      <td>0.0</td>\n      <td>0.0</td>\n    </tr>\n    <tr>\n      <th>7</th>\n      <td>4039</td>\n      <td>Violence at &amp;quot;arcahaie bas Saint-Ard&amp;quot;</td>\n      <td>26/04/2010 14:27</td>\n      <td>unable to find &amp;quot;arcahaie bas Saint-Ard&amp;qu...</td>\n      <td>Goodnight at (arcahaie bas Saint-Ard) 2 young ...</td>\n      <td>4. Menaces | Security Threats,</td>\n      <td>18.415000</td>\n      <td>-73.195000</td>\n      <td>YES</td>\n      <td>NO</td>\n      <td>...</td>\n      <td>0.0</td>\n      <td>0.0</td>\n      <td>0.0</td>\n      <td>0.0</td>\n      <td>0.0</td>\n      <td>0.0</td>\n      <td>0.0</td>\n      <td>0.0</td>\n      <td>0.0</td>\n      <td>0.0</td>\n    </tr>\n    <tr>\n      <th>...</th>\n      <td>...</td>\n      <td>...</td>\n      <td>...</td>\n      <td>...</td>\n      <td>...</td>\n      <td>...</td>\n      <td>...</td>\n      <td>...</td>\n      <td>...</td>\n      <td>...</td>\n      <td>...</td>\n      <td>...</td>\n      <td>...</td>\n      <td>...</td>\n      <td>...</td>\n      <td>...</td>\n      <td>...</td>\n      <td>...</td>\n      <td>...</td>\n      <td>...</td>\n      <td>...</td>\n    </tr>\n    <tr>\n      <th>3588</th>\n      <td>8</td>\n      <td>Canape Vert road destroyed</td>\n      <td>13/01/2010 02:57</td>\n      <td>Port-au-Prince</td>\n      <td>Canape Vert, one of the main roads that leads ...</td>\n      <td>5c. Route barree | Road blocked,</td>\n      <td>18.539167</td>\n      <td>-72.335000</td>\n      <td>YES</td>\n      <td>NO</td>\n      <td>...</td>\n      <td>0.0</td>\n      <td>0.0</td>\n      <td>0.0</td>\n      <td>0.0</td>\n      <td>0.0</td>\n      <td>0.0</td>\n      <td>0.0</td>\n      <td>0.0</td>\n      <td>0.0</td>\n      <td>0.0</td>\n    </tr>\n    <tr>\n      <th>3589</th>\n      <td>7</td>\n      <td>Collapsed Building -- People Trapped</td>\n      <td>12/01/2010 09:55</td>\n      <td>Delmas 19, Rue Mackendal #8 Port-au-Prince, Haiti</td>\n      <td>My mother is part of a medical team that had j...</td>\n      <td>5a. Structure effondres | Collapsed structure,...</td>\n      <td>18.539269</td>\n      <td>-72.336408</td>\n      <td>YES</td>\n      <td>NO</td>\n      <td>...</td>\n      <td>0.0</td>\n      <td>0.0</td>\n      <td>0.0</td>\n      <td>0.0</td>\n      <td>0.0</td>\n      <td>0.0</td>\n      <td>0.0</td>\n      <td>0.0</td>\n      <td>0.0</td>\n      <td>0.0</td>\n    </tr>\n    <tr>\n      <th>3590</th>\n      <td>6</td>\n      <td>Eye-Witness Report from Hotel Oloffson</td>\n      <td>12/01/2010 11:16</td>\n      <td>Ave Christophe #60, Port au Prince, Haiti</td>\n      <td>Tequila Minsky, a New York-based photographer ...</td>\n      <td>5a. Structure effondres | Collapsed structure,</td>\n      <td>18.538328</td>\n      <td>-72.333067</td>\n      <td>YES</td>\n      <td>NO</td>\n      <td>...</td>\n      <td>0.0</td>\n      <td>0.0</td>\n      <td>0.0</td>\n      <td>0.0</td>\n      <td>0.0</td>\n      <td>0.0</td>\n      <td>0.0</td>\n      <td>0.0</td>\n      <td>0.0</td>\n      <td>0.0</td>\n    </tr>\n    <tr>\n      <th>3591</th>\n      <td>5</td>\n      <td>Port-au-Prince air traffic control tower damag...</td>\n      <td>12/01/2010 04:08</td>\n      <td>Airport, Port-au-Prince, Haiti</td>\n      <td>NBC reports Port-au-Prince air traffic control...</td>\n      <td>5b. Structures a risque | Unstable Structure,</td>\n      <td>18.579721</td>\n      <td>-72.292778</td>\n      <td>YES</td>\n      <td>NO</td>\n      <td>...</td>\n      <td>0.0</td>\n      <td>0.0</td>\n      <td>0.0</td>\n      <td>0.0</td>\n      <td>0.0</td>\n      <td>0.0</td>\n      <td>0.0</td>\n      <td>0.0</td>\n      <td>0.0</td>\n      <td>0.0</td>\n    </tr>\n    <tr>\n      <th>3592</th>\n      <td>4</td>\n      <td>National Palace damaged</td>\n      <td>12/01/2010 10:43</td>\n      <td>National Palace</td>\n      <td>National Palace has extensive damage. Presiden...</td>\n      <td>5a. Structure effondres | Collapsed structure,</td>\n      <td>18.543376</td>\n      <td>-72.338883</td>\n      <td>YES</td>\n      <td>YES</td>\n      <td>...</td>\n      <td>0.0</td>\n      <td>0.0</td>\n      <td>0.0</td>\n      <td>0.0</td>\n      <td>0.0</td>\n      <td>0.0</td>\n      <td>0.0</td>\n      <td>0.0</td>\n      <td>0.0</td>\n      <td>0.0</td>\n    </tr>\n  </tbody>\n</table>\n<p>3569 rows × 55 columns</p>\n</div>"
     },
     "execution_count": 42,
     "metadata": {},
     "output_type": "execute_result"
    }
   ],
   "source": [
    "data1 = pd.merge(data,dummy_frame.rename(lambda x:'category_'+x,axis=1),left_index=True,right_index=True)\n",
    "data1"
   ],
   "metadata": {
    "collapsed": false,
    "pycharm": {
     "name": "#%%\n"
    }
   }
  },
  {
   "cell_type": "code",
   "execution_count": 44,
   "outputs": [
    {
     "data": {
      "text/plain": "            Serial     LATITUDE    LONGITUDE   category_1  category_1a  \\\ncount  3569.000000  3569.000000  3569.000000  3569.000000  3569.000000   \nmean   2081.498459    18.592503   -72.424994     0.097506     0.000560   \nstd    1170.311824     0.273695     0.291018     0.296688     0.023669   \nmin       4.000000    18.041313   -74.452757     0.000000     0.000000   \n25%    1074.000000    18.524200   -72.417498     0.000000     0.000000   \n50%    2166.000000    18.539269   -72.335000     0.000000     0.000000   \n75%    3089.000000    18.561800   -72.293939     0.000000     0.000000   \nmax    4052.000000    19.940630   -71.099489     1.000000     1.000000   \n\n       category_1b  category_1c  category_1d   category_2  category_2a  ...  \\\ncount  3569.000000  3569.000000  3569.000000  3569.000000  3569.000000  ...   \nmean      0.058280     0.046792     0.001961     0.137854     0.447184  ...   \nstd       0.234304     0.211222     0.044250     0.344795     0.497272  ...   \nmin       0.000000     0.000000     0.000000     0.000000     0.000000  ...   \n25%       0.000000     0.000000     0.000000     0.000000     0.000000  ...   \n50%       0.000000     0.000000     0.000000     0.000000     0.000000  ...   \n75%       0.000000     0.000000     0.000000     0.000000     1.000000  ...   \nmax       1.000000     1.000000     1.000000     1.000000     1.000000  ...   \n\n       category_7c  category_7d  category_7g  category_7h   category_8  \\\ncount  3569.000000  3569.000000  3569.000000  3569.000000  3569.000000   \nmean      0.021575     0.071449     0.010367     0.001961     0.044830   \nstd       0.145310     0.257609     0.101304     0.044250     0.206961   \nmin       0.000000     0.000000     0.000000     0.000000     0.000000   \n25%       0.000000     0.000000     0.000000     0.000000     0.000000   \n50%       0.000000     0.000000     0.000000     0.000000     0.000000   \n75%       0.000000     0.000000     0.000000     0.000000     0.000000   \nmax       1.000000     1.000000     1.000000     1.000000     1.000000   \n\n       category_8a  category_8c  category_8d  category_8e  category_8f  \ncount  3569.000000  3569.000000  3569.000000  3569.000000  3569.000000  \nmean      0.005604     0.000280     0.013729     0.082376     0.001121  \nstd       0.074659     0.016739     0.116381     0.274975     0.033464  \nmin       0.000000     0.000000     0.000000     0.000000     0.000000  \n25%       0.000000     0.000000     0.000000     0.000000     0.000000  \n50%       0.000000     0.000000     0.000000     0.000000     0.000000  \n75%       0.000000     0.000000     0.000000     0.000000     0.000000  \nmax       1.000000     1.000000     1.000000     1.000000     1.000000  \n\n[8 rows x 48 columns]",
      "text/html": "<div>\n<style scoped>\n    .dataframe tbody tr th:only-of-type {\n        vertical-align: middle;\n    }\n\n    .dataframe tbody tr th {\n        vertical-align: top;\n    }\n\n    .dataframe thead th {\n        text-align: right;\n    }\n</style>\n<table border=\"1\" class=\"dataframe\">\n  <thead>\n    <tr style=\"text-align: right;\">\n      <th></th>\n      <th>Serial</th>\n      <th>LATITUDE</th>\n      <th>LONGITUDE</th>\n      <th>category_1</th>\n      <th>category_1a</th>\n      <th>category_1b</th>\n      <th>category_1c</th>\n      <th>category_1d</th>\n      <th>category_2</th>\n      <th>category_2a</th>\n      <th>...</th>\n      <th>category_7c</th>\n      <th>category_7d</th>\n      <th>category_7g</th>\n      <th>category_7h</th>\n      <th>category_8</th>\n      <th>category_8a</th>\n      <th>category_8c</th>\n      <th>category_8d</th>\n      <th>category_8e</th>\n      <th>category_8f</th>\n    </tr>\n  </thead>\n  <tbody>\n    <tr>\n      <th>count</th>\n      <td>3569.000000</td>\n      <td>3569.000000</td>\n      <td>3569.000000</td>\n      <td>3569.000000</td>\n      <td>3569.000000</td>\n      <td>3569.000000</td>\n      <td>3569.000000</td>\n      <td>3569.000000</td>\n      <td>3569.000000</td>\n      <td>3569.000000</td>\n      <td>...</td>\n      <td>3569.000000</td>\n      <td>3569.000000</td>\n      <td>3569.000000</td>\n      <td>3569.000000</td>\n      <td>3569.000000</td>\n      <td>3569.000000</td>\n      <td>3569.000000</td>\n      <td>3569.000000</td>\n      <td>3569.000000</td>\n      <td>3569.000000</td>\n    </tr>\n    <tr>\n      <th>mean</th>\n      <td>2081.498459</td>\n      <td>18.592503</td>\n      <td>-72.424994</td>\n      <td>0.097506</td>\n      <td>0.000560</td>\n      <td>0.058280</td>\n      <td>0.046792</td>\n      <td>0.001961</td>\n      <td>0.137854</td>\n      <td>0.447184</td>\n      <td>...</td>\n      <td>0.021575</td>\n      <td>0.071449</td>\n      <td>0.010367</td>\n      <td>0.001961</td>\n      <td>0.044830</td>\n      <td>0.005604</td>\n      <td>0.000280</td>\n      <td>0.013729</td>\n      <td>0.082376</td>\n      <td>0.001121</td>\n    </tr>\n    <tr>\n      <th>std</th>\n      <td>1170.311824</td>\n      <td>0.273695</td>\n      <td>0.291018</td>\n      <td>0.296688</td>\n      <td>0.023669</td>\n      <td>0.234304</td>\n      <td>0.211222</td>\n      <td>0.044250</td>\n      <td>0.344795</td>\n      <td>0.497272</td>\n      <td>...</td>\n      <td>0.145310</td>\n      <td>0.257609</td>\n      <td>0.101304</td>\n      <td>0.044250</td>\n      <td>0.206961</td>\n      <td>0.074659</td>\n      <td>0.016739</td>\n      <td>0.116381</td>\n      <td>0.274975</td>\n      <td>0.033464</td>\n    </tr>\n    <tr>\n      <th>min</th>\n      <td>4.000000</td>\n      <td>18.041313</td>\n      <td>-74.452757</td>\n      <td>0.000000</td>\n      <td>0.000000</td>\n      <td>0.000000</td>\n      <td>0.000000</td>\n      <td>0.000000</td>\n      <td>0.000000</td>\n      <td>0.000000</td>\n      <td>...</td>\n      <td>0.000000</td>\n      <td>0.000000</td>\n      <td>0.000000</td>\n      <td>0.000000</td>\n      <td>0.000000</td>\n      <td>0.000000</td>\n      <td>0.000000</td>\n      <td>0.000000</td>\n      <td>0.000000</td>\n      <td>0.000000</td>\n    </tr>\n    <tr>\n      <th>25%</th>\n      <td>1074.000000</td>\n      <td>18.524200</td>\n      <td>-72.417498</td>\n      <td>0.000000</td>\n      <td>0.000000</td>\n      <td>0.000000</td>\n      <td>0.000000</td>\n      <td>0.000000</td>\n      <td>0.000000</td>\n      <td>0.000000</td>\n      <td>...</td>\n      <td>0.000000</td>\n      <td>0.000000</td>\n      <td>0.000000</td>\n      <td>0.000000</td>\n      <td>0.000000</td>\n      <td>0.000000</td>\n      <td>0.000000</td>\n      <td>0.000000</td>\n      <td>0.000000</td>\n      <td>0.000000</td>\n    </tr>\n    <tr>\n      <th>50%</th>\n      <td>2166.000000</td>\n      <td>18.539269</td>\n      <td>-72.335000</td>\n      <td>0.000000</td>\n      <td>0.000000</td>\n      <td>0.000000</td>\n      <td>0.000000</td>\n      <td>0.000000</td>\n      <td>0.000000</td>\n      <td>0.000000</td>\n      <td>...</td>\n      <td>0.000000</td>\n      <td>0.000000</td>\n      <td>0.000000</td>\n      <td>0.000000</td>\n      <td>0.000000</td>\n      <td>0.000000</td>\n      <td>0.000000</td>\n      <td>0.000000</td>\n      <td>0.000000</td>\n      <td>0.000000</td>\n    </tr>\n    <tr>\n      <th>75%</th>\n      <td>3089.000000</td>\n      <td>18.561800</td>\n      <td>-72.293939</td>\n      <td>0.000000</td>\n      <td>0.000000</td>\n      <td>0.000000</td>\n      <td>0.000000</td>\n      <td>0.000000</td>\n      <td>0.000000</td>\n      <td>1.000000</td>\n      <td>...</td>\n      <td>0.000000</td>\n      <td>0.000000</td>\n      <td>0.000000</td>\n      <td>0.000000</td>\n      <td>0.000000</td>\n      <td>0.000000</td>\n      <td>0.000000</td>\n      <td>0.000000</td>\n      <td>0.000000</td>\n      <td>0.000000</td>\n    </tr>\n    <tr>\n      <th>max</th>\n      <td>4052.000000</td>\n      <td>19.940630</td>\n      <td>-71.099489</td>\n      <td>1.000000</td>\n      <td>1.000000</td>\n      <td>1.000000</td>\n      <td>1.000000</td>\n      <td>1.000000</td>\n      <td>1.000000</td>\n      <td>1.000000</td>\n      <td>...</td>\n      <td>1.000000</td>\n      <td>1.000000</td>\n      <td>1.000000</td>\n      <td>1.000000</td>\n      <td>1.000000</td>\n      <td>1.000000</td>\n      <td>1.000000</td>\n      <td>1.000000</td>\n      <td>1.000000</td>\n      <td>1.000000</td>\n    </tr>\n  </tbody>\n</table>\n<p>8 rows × 48 columns</p>\n</div>"
     },
     "execution_count": 44,
     "metadata": {},
     "output_type": "execute_result"
    }
   ],
   "source": [
    "import mpl_toolkits\n",
    "data1.describe()"
   ],
   "metadata": {
    "collapsed": false,
    "pycharm": {
     "name": "#%%\n"
    }
   }
  },
  {
   "cell_type": "code",
   "execution_count": 47,
   "outputs": [],
   "source": [
    "#下不了就很尴尬 不过数据基本分析完了 画图就还好吧"
   ],
   "metadata": {
    "collapsed": false,
    "pycharm": {
     "name": "#%%\n"
    }
   }
  }
 ],
 "metadata": {
  "kernelspec": {
   "display_name": "Python 3",
   "language": "python",
   "name": "python3"
  },
  "language_info": {
   "codemirror_mode": {
    "name": "ipython",
    "version": 2
   },
   "file_extension": ".py",
   "mimetype": "text/x-python",
   "name": "python",
   "nbconvert_exporter": "python",
   "pygments_lexer": "ipython2",
   "version": "2.7.6"
  }
 },
 "nbformat": 4,
 "nbformat_minor": 0
}