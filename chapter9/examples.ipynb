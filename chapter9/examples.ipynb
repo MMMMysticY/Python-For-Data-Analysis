{
 "cells": [
  {
   "cell_type": "code",
   "execution_count": 1,
   "metadata": {
    "collapsed": true
   },
   "outputs": [],
   "source": [
    "import numpy as np\n",
    "import pandas as pd\n",
    "from pandas import Series,DataFrame"
   ]
  },
  {
   "cell_type": "code",
   "execution_count": 16,
   "outputs": [
    {
     "name": "stdout",
     "output_type": "stream",
     "text": [
      "样例1：分组进行缺省值的填充\n"
     ]
    },
    {
     "data": {
      "text/plain": "0    0.618274\n1    1.043760\n2   -0.294704\n3    0.138775\n4    0.502728\n5    0.351959\ndtype: float64"
     },
     "execution_count": 16,
     "metadata": {},
     "output_type": "execute_result"
    }
   ],
   "source": [
    "print('样例1：分组进行缺省值的填充')\n",
    "s = Series(np.random.randn(6))\n",
    "s"
   ],
   "metadata": {
    "collapsed": false,
    "pycharm": {
     "name": "#%%\n"
    }
   }
  },
  {
   "cell_type": "code",
   "execution_count": 5,
   "outputs": [
    {
     "data": {
      "text/plain": "1    0.569780\n3    0.058218\n5   -1.073652\ndtype: float64"
     },
     "execution_count": 5,
     "metadata": {},
     "output_type": "execute_result"
    }
   ],
   "source": [
    "s[1:6:2]\n",
    "#取分片的时候就是使用冒号 start:end:step 而且左闭右开"
   ],
   "metadata": {
    "collapsed": false,
    "pycharm": {
     "name": "#%%\n"
    }
   }
  },
  {
   "cell_type": "code",
   "execution_count": 6,
   "outputs": [
    {
     "data": {
      "text/plain": "0         NaN\n1    0.569780\n2         NaN\n3    0.058218\n4         NaN\n5   -1.073652\ndtype: float64"
     },
     "execution_count": 6,
     "metadata": {},
     "output_type": "execute_result"
    }
   ],
   "source": [
    "s[::2] = np.nan\n",
    "#意思就是从头开始到结束 每隔两个选一个切片 赋值为NaN\n",
    "s"
   ],
   "metadata": {
    "collapsed": false,
    "pycharm": {
     "name": "#%%\n"
    }
   }
  },
  {
   "cell_type": "code",
   "execution_count": 7,
   "outputs": [
    {
     "data": {
      "text/plain": "0   -0.148551\n1    0.569780\n2   -0.148551\n3    0.058218\n4   -0.148551\n5   -1.073652\ndtype: float64"
     },
     "execution_count": 7,
     "metadata": {},
     "output_type": "execute_result"
    }
   ],
   "source": [
    "s.fillna(s.mean())\n",
    "#使用fillna可以方便地进行缺省值的填充"
   ],
   "metadata": {
    "collapsed": false,
    "pycharm": {
     "name": "#%%\n"
    }
   }
  },
  {
   "cell_type": "code",
   "execution_count": 8,
   "outputs": [
    {
     "data": {
      "text/plain": "Ohio         -0.533911\nNew York      0.870873\nVermont      -2.476698\nFlorida      -0.637095\nOregon       -0.142212\nNevada        0.838121\nCalifornia   -0.607705\nIdaho         0.204598\ndtype: float64"
     },
     "execution_count": 8,
     "metadata": {},
     "output_type": "execute_result"
    }
   ],
   "source": [
    "state = ['Ohio','New York','Vermont','Florida','Oregon',\n",
    "         'Nevada','California','Idaho']\n",
    "group_key = ['East'] *4 +['West'] *4\n",
    "data = Series(np.random.randn(8),index=state)\n",
    "data"
   ],
   "metadata": {
    "collapsed": false,
    "pycharm": {
     "name": "#%%\n"
    }
   }
  },
  {
   "cell_type": "code",
   "execution_count": 9,
   "outputs": [
    {
     "data": {
      "text/plain": "Ohio         -0.533911\nNew York      0.870873\nVermont            NaN\nFlorida      -0.637095\nOregon       -0.142212\nNevada             NaN\nCalifornia   -0.607705\nIdaho              NaN\ndtype: float64"
     },
     "execution_count": 9,
     "metadata": {},
     "output_type": "execute_result"
    }
   ],
   "source": [
    "data[['Vermont','Nevada','Idaho']] = np.nan\n",
    "data"
   ],
   "metadata": {
    "collapsed": false,
    "pycharm": {
     "name": "#%%\n"
    }
   }
  },
  {
   "cell_type": "code",
   "execution_count": 10,
   "outputs": [
    {
     "data": {
      "text/plain": "East    4\nWest    4\ndtype: int64"
     },
     "execution_count": 10,
     "metadata": {},
     "output_type": "execute_result"
    }
   ],
   "source": [
    "grouped = data.groupby(group_key)\n",
    "#还是上一节说的，如果不加axis=1，那么默认是按照index进行group的\n",
    "#给的顺序会将index重命名 然后再进行分组\n",
    "grouped.size()"
   ],
   "metadata": {
    "collapsed": false,
    "pycharm": {
     "name": "#%%\n"
    }
   }
  },
  {
   "cell_type": "code",
   "source": [
    "grouped.mean()\n",
    "#这个是排除了NaN的均值"
   ],
   "metadata": {
    "collapsed": false,
    "pycharm": {
     "name": "#%%\n"
    }
   },
   "execution_count": 11,
   "outputs": [
    {
     "data": {
      "text/plain": "East   -0.100044\nWest   -0.374959\ndtype: float64"
     },
     "execution_count": 11,
     "metadata": {},
     "output_type": "execute_result"
    }
   ]
  },
  {
   "cell_type": "code",
   "execution_count": 13,
   "outputs": [
    {
     "data": {
      "text/plain": "Ohio         -0.533911\nNew York      0.870873\nVermont      -0.100044\nFlorida      -0.637095\nOregon       -0.142212\nNevada       -0.374959\nCalifornia   -0.607705\nIdaho        -0.374959\ndtype: float64"
     },
     "execution_count": 13,
     "metadata": {},
     "output_type": "execute_result"
    }
   ],
   "source": [
    "fill_mean = lambda g:g.fillna(g.mean())\n",
    "grouped.apply(fill_mean)\n",
    "#为不同的组 赋予不同的均值\n",
    "#分组之后进行apply方法即可"
   ],
   "metadata": {
    "collapsed": false,
    "pycharm": {
     "name": "#%%\n"
    }
   }
  },
  {
   "cell_type": "code",
   "execution_count": 15,
   "outputs": [
    {
     "data": {
      "text/plain": "Ohio         -0.533911\nNew York      0.870873\nVermont       0.500000\nFlorida      -0.637095\nOregon       -0.142212\nNevada       -1.000000\nCalifornia   -0.607705\nIdaho        -1.000000\ndtype: float64"
     },
     "execution_count": 15,
     "metadata": {},
     "output_type": "execute_result"
    }
   ],
   "source": [
    "fill_value = {'East':0.5 , 'West': -1}\n",
    "fill_func = lambda g:g.fillna(fill_value[g.name])\n",
    "grouped.apply(fill_func)\n",
    "#道理同上"
   ],
   "metadata": {
    "collapsed": false,
    "pycharm": {
     "name": "#%%\n"
    }
   }
  },
  {
   "cell_type": "code",
   "execution_count": 17,
   "outputs": [
    {
     "name": "stdout",
     "output_type": "stream",
     "text": [
      "###############################################\n",
      "样例二：随机采样和排列\n"
     ]
    }
   ],
   "source": [
    "print('###############################################')\n",
    "print('样例二：随机采样和排列')"
   ],
   "metadata": {
    "collapsed": false,
    "pycharm": {
     "name": "#%%\n"
    }
   }
  },
  {
   "cell_type": "code",
   "execution_count": 20,
   "outputs": [],
   "source": [
    "#红桃（Hearts） 黑桃(Spade) 梅花(Clubs) 方片(Diamonds)\n",
    "suits = ['H', 'S', 'C', 'D']\n",
    "card_value = (list(range(1,11))+[10]*3)*4\n",
    "base_names = ['A']+ list(range(2,11)) + ['J','K','Q']"
   ],
   "metadata": {
    "collapsed": false,
    "pycharm": {
     "name": "#%%\n"
    }
   }
  },
  {
   "cell_type": "code",
   "execution_count": 21,
   "outputs": [
    {
     "data": {
      "text/plain": "AH      1\n2H      2\n3H      3\n4H      4\n5H      5\n6H      6\n7H      7\n8H      8\n9H      9\n10H    10\nJH     10\nKH     10\nQH     10\nAS      1\n2S      2\n3S      3\n4S      4\n5S      5\n6S      6\n7S      7\n8S      8\n9S      9\n10S    10\nJS     10\nKS     10\nQS     10\nAC      1\n2C      2\n3C      3\n4C      4\n5C      5\n6C      6\n7C      7\n8C      8\n9C      9\n10C    10\nJC     10\nKC     10\nQC     10\nAD      1\n2D      2\n3D      3\n4D      4\n5D      5\n6D      6\n7D      7\n8D      8\n9D      9\n10D    10\nJD     10\nKD     10\nQD     10\ndtype: int64"
     },
     "execution_count": 21,
     "metadata": {},
     "output_type": "execute_result"
    }
   ],
   "source": [
    "cards = []\n",
    "for suit in suits:\n",
    "    cards.extend(str(num)+suit for num in base_names)\n",
    "deck = Series(card_value,index=cards)\n",
    "deck"
   ],
   "metadata": {
    "collapsed": false,
    "pycharm": {
     "name": "#%%\n"
    }
   }
  },
  {
   "cell_type": "code",
   "execution_count": 22,
   "outputs": [
    {
     "data": {
      "text/plain": "2S      2\n10H    10\n9C      9\n8C      8\n3S      3\ndtype: int64"
     },
     "execution_count": 22,
     "metadata": {},
     "output_type": "execute_result"
    }
   ],
   "source": [
    "#随机抽出五张\n",
    "def draw(deck,n=5):\n",
    "    return deck.take(np.random.permutation(len(deck))[:n])\n",
    "draw(deck)"
   ],
   "metadata": {
    "collapsed": false,
    "pycharm": {
     "name": "#%%\n"
    }
   }
  },
  {
   "cell_type": "code",
   "execution_count": 23,
   "outputs": [],
   "source": [
    "groups = ['H']*13+['S']*13+['C']*13+['D']*13\n",
    "grouped_cards = deck.groupby(groups)"
   ],
   "metadata": {
    "collapsed": false,
    "pycharm": {
     "name": "#%%\n"
    }
   }
  },
  {
   "cell_type": "code",
   "execution_count": 24,
   "outputs": [
    {
     "data": {
      "text/plain": "C    13\nD    13\nH    13\nS    13\ndtype: int64"
     },
     "execution_count": 24,
     "metadata": {},
     "output_type": "execute_result"
    }
   ],
   "source": [
    "grouped_cards.size()"
   ],
   "metadata": {
    "collapsed": false,
    "pycharm": {
     "name": "#%%\n"
    }
   }
  },
  {
   "cell_type": "code",
   "execution_count": 25,
   "outputs": [
    {
     "data": {
      "text/plain": "C  KC    10\n   JC    10\nD  2D     2\n   JD    10\nH  QH    10\n   5H     5\nS  5S     5\n   KS    10\ndtype: int64"
     },
     "execution_count": 25,
     "metadata": {},
     "output_type": "execute_result"
    }
   ],
   "source": [
    "grouped_cards.apply(draw,2)"
   ],
   "metadata": {
    "collapsed": false,
    "pycharm": {
     "name": "#%%\n"
    }
   }
  },
  {
   "cell_type": "code",
   "execution_count": 26,
   "outputs": [
    {
     "name": "stdout",
     "output_type": "stream",
     "text": [
      "---------------------------\n"
     ]
    },
    {
     "data": {
      "text/plain": "C  2C      2\n   4C      4\nD  7D      7\n   2D      2\nH  4H      4\n   10H    10\nS  QS     10\n   9S      9\ndtype: int64"
     },
     "execution_count": 26,
     "metadata": {},
     "output_type": "execute_result"
    }
   ],
   "source": [
    "print('---------------------------')\n",
    "#书上的做法：\n",
    "get_suit = lambda card:card[-1]\n",
    "#groupby的道理是一样的 也是对index重新提取的概念 他比我做的好得多\n",
    "deck.groupby(get_suit).apply(draw,2)"
   ],
   "metadata": {
    "collapsed": false,
    "pycharm": {
     "name": "#%%\n"
    }
   }
  },
  {
   "cell_type": "code",
   "execution_count": 27,
   "outputs": [
    {
     "data": {
      "text/plain": "KC    10\n9C     9\n6D     6\n4D     4\n7H     7\n8H     8\nJS    10\n8S     8\ndtype: int64"
     },
     "execution_count": 27,
     "metadata": {},
     "output_type": "execute_result"
    }
   ],
   "source": [
    "deck.groupby(get_suit,group_keys=False).apply(draw,2)\n",
    "#这个就不是很明白了 禁止分组键有啥用啊。。"
   ],
   "metadata": {
    "collapsed": false,
    "pycharm": {
     "name": "#%%\n"
    }
   }
  },
  {
   "cell_type": "code",
   "execution_count": 28,
   "outputs": [
    {
     "name": "stdout",
     "output_type": "stream",
     "text": [
      "#######################################\n",
      "样例3：分组加权平均数和相关关系\n"
     ]
    }
   ],
   "source": [
    "print('#######################################')\n",
    "print('样例3：分组加权平均数和相关关系')"
   ],
   "metadata": {
    "collapsed": false,
    "pycharm": {
     "name": "#%%\n"
    }
   }
  },
  {
   "cell_type": "code",
   "execution_count": 29,
   "outputs": [
    {
     "data": {
      "text/plain": "  category      data    weight\n0        a  0.542408  0.803703\n1        a -1.533706  0.860694\n2        a  1.696185  0.867137\n3        a -0.496968  0.519866\n4        b -0.073580  0.239036\n5        b -0.138802  0.942050\n6        b  0.665936  0.708077\n7        b  0.989383  0.000881",
      "text/html": "<div>\n<style scoped>\n    .dataframe tbody tr th:only-of-type {\n        vertical-align: middle;\n    }\n\n    .dataframe tbody tr th {\n        vertical-align: top;\n    }\n\n    .dataframe thead th {\n        text-align: right;\n    }\n</style>\n<table border=\"1\" class=\"dataframe\">\n  <thead>\n    <tr style=\"text-align: right;\">\n      <th></th>\n      <th>category</th>\n      <th>data</th>\n      <th>weight</th>\n    </tr>\n  </thead>\n  <tbody>\n    <tr>\n      <th>0</th>\n      <td>a</td>\n      <td>0.542408</td>\n      <td>0.803703</td>\n    </tr>\n    <tr>\n      <th>1</th>\n      <td>a</td>\n      <td>-1.533706</td>\n      <td>0.860694</td>\n    </tr>\n    <tr>\n      <th>2</th>\n      <td>a</td>\n      <td>1.696185</td>\n      <td>0.867137</td>\n    </tr>\n    <tr>\n      <th>3</th>\n      <td>a</td>\n      <td>-0.496968</td>\n      <td>0.519866</td>\n    </tr>\n    <tr>\n      <th>4</th>\n      <td>b</td>\n      <td>-0.073580</td>\n      <td>0.239036</td>\n    </tr>\n    <tr>\n      <th>5</th>\n      <td>b</td>\n      <td>-0.138802</td>\n      <td>0.942050</td>\n    </tr>\n    <tr>\n      <th>6</th>\n      <td>b</td>\n      <td>0.665936</td>\n      <td>0.708077</td>\n    </tr>\n    <tr>\n      <th>7</th>\n      <td>b</td>\n      <td>0.989383</td>\n      <td>0.000881</td>\n    </tr>\n  </tbody>\n</table>\n</div>"
     },
     "execution_count": 29,
     "metadata": {},
     "output_type": "execute_result"
    }
   ],
   "source": [
    "df = DataFrame({'category':['a','a','a','a','b','b','b','b'],\n",
    "                'data':np.random.randn(8),\n",
    "                'weight':np.random.rand(8)})\n",
    "df"
   ],
   "metadata": {
    "collapsed": false,
    "pycharm": {
     "name": "#%%\n"
    }
   }
  },
  {
   "cell_type": "code",
   "execution_count": 30,
   "outputs": [
    {
     "data": {
      "text/plain": "category\na    4\nb    4\ndtype: int64"
     },
     "execution_count": 30,
     "metadata": {},
     "output_type": "execute_result"
    }
   ],
   "source": [
    "grouped1 = df.groupby('category')\n",
    "#split 按照category分组\n",
    "grouped1.size()"
   ],
   "metadata": {
    "collapsed": false,
    "pycharm": {
     "name": "#%%\n"
    }
   }
  },
  {
   "cell_type": "code",
   "execution_count": 31,
   "outputs": [
    {
     "data": {
      "text/plain": "category\na    0.107607\nb    0.171456\ndtype: float64"
     },
     "execution_count": 31,
     "metadata": {},
     "output_type": "execute_result"
    }
   ],
   "source": [
    "get_wavg = lambda g:np.average(g['data'],weights=g['weight'])\n",
    "#apply定义加权平均 进行操作\n",
    "grouped1.apply(get_wavg)\n",
    "#最后combine合并到一个Series上"
   ],
   "metadata": {
    "collapsed": false,
    "pycharm": {
     "name": "#%%\n"
    }
   }
  },
  {
   "cell_type": "code",
   "execution_count": 32,
   "outputs": [
    {
     "data": {
      "text/plain": "               AA    AAPL     GE     IBM    JNJ   MSFT    PEP      SPX    XOM\n1990-02-01   4.98    7.86   2.87   16.79   4.27   0.51   6.04   328.79   6.12\n1990-02-02   5.04    8.00   2.87   16.89   4.37   0.51   6.09   330.92   6.24\n1990-02-05   5.07    8.18   2.87   17.32   4.34   0.51   6.05   331.85   6.25\n1990-02-06   5.01    8.12   2.88   17.56   4.32   0.51   6.15   329.66   6.23\n1990-02-07   5.04    7.77   2.91   17.93   4.38   0.51   6.17   333.75   6.33\n...           ...     ...    ...     ...    ...    ...    ...      ...    ...\n2011-10-10  10.09  388.81  16.14  186.62  64.43  26.94  61.87  1194.89  76.28\n2011-10-11  10.30  400.29  16.14  185.00  63.96  27.00  60.95  1195.54  76.27\n2011-10-12  10.05  402.19  16.40  186.12  64.33  26.96  62.70  1207.25  77.16\n2011-10-13  10.10  408.43  16.22  186.82  64.23  27.18  62.36  1203.66  76.37\n2011-10-14  10.26  422.00  16.60  190.53  64.72  27.27  62.24  1224.58  78.11\n\n[5472 rows x 9 columns]",
      "text/html": "<div>\n<style scoped>\n    .dataframe tbody tr th:only-of-type {\n        vertical-align: middle;\n    }\n\n    .dataframe tbody tr th {\n        vertical-align: top;\n    }\n\n    .dataframe thead th {\n        text-align: right;\n    }\n</style>\n<table border=\"1\" class=\"dataframe\">\n  <thead>\n    <tr style=\"text-align: right;\">\n      <th></th>\n      <th>AA</th>\n      <th>AAPL</th>\n      <th>GE</th>\n      <th>IBM</th>\n      <th>JNJ</th>\n      <th>MSFT</th>\n      <th>PEP</th>\n      <th>SPX</th>\n      <th>XOM</th>\n    </tr>\n  </thead>\n  <tbody>\n    <tr>\n      <th>1990-02-01</th>\n      <td>4.98</td>\n      <td>7.86</td>\n      <td>2.87</td>\n      <td>16.79</td>\n      <td>4.27</td>\n      <td>0.51</td>\n      <td>6.04</td>\n      <td>328.79</td>\n      <td>6.12</td>\n    </tr>\n    <tr>\n      <th>1990-02-02</th>\n      <td>5.04</td>\n      <td>8.00</td>\n      <td>2.87</td>\n      <td>16.89</td>\n      <td>4.37</td>\n      <td>0.51</td>\n      <td>6.09</td>\n      <td>330.92</td>\n      <td>6.24</td>\n    </tr>\n    <tr>\n      <th>1990-02-05</th>\n      <td>5.07</td>\n      <td>8.18</td>\n      <td>2.87</td>\n      <td>17.32</td>\n      <td>4.34</td>\n      <td>0.51</td>\n      <td>6.05</td>\n      <td>331.85</td>\n      <td>6.25</td>\n    </tr>\n    <tr>\n      <th>1990-02-06</th>\n      <td>5.01</td>\n      <td>8.12</td>\n      <td>2.88</td>\n      <td>17.56</td>\n      <td>4.32</td>\n      <td>0.51</td>\n      <td>6.15</td>\n      <td>329.66</td>\n      <td>6.23</td>\n    </tr>\n    <tr>\n      <th>1990-02-07</th>\n      <td>5.04</td>\n      <td>7.77</td>\n      <td>2.91</td>\n      <td>17.93</td>\n      <td>4.38</td>\n      <td>0.51</td>\n      <td>6.17</td>\n      <td>333.75</td>\n      <td>6.33</td>\n    </tr>\n    <tr>\n      <th>...</th>\n      <td>...</td>\n      <td>...</td>\n      <td>...</td>\n      <td>...</td>\n      <td>...</td>\n      <td>...</td>\n      <td>...</td>\n      <td>...</td>\n      <td>...</td>\n    </tr>\n    <tr>\n      <th>2011-10-10</th>\n      <td>10.09</td>\n      <td>388.81</td>\n      <td>16.14</td>\n      <td>186.62</td>\n      <td>64.43</td>\n      <td>26.94</td>\n      <td>61.87</td>\n      <td>1194.89</td>\n      <td>76.28</td>\n    </tr>\n    <tr>\n      <th>2011-10-11</th>\n      <td>10.30</td>\n      <td>400.29</td>\n      <td>16.14</td>\n      <td>185.00</td>\n      <td>63.96</td>\n      <td>27.00</td>\n      <td>60.95</td>\n      <td>1195.54</td>\n      <td>76.27</td>\n    </tr>\n    <tr>\n      <th>2011-10-12</th>\n      <td>10.05</td>\n      <td>402.19</td>\n      <td>16.40</td>\n      <td>186.12</td>\n      <td>64.33</td>\n      <td>26.96</td>\n      <td>62.70</td>\n      <td>1207.25</td>\n      <td>77.16</td>\n    </tr>\n    <tr>\n      <th>2011-10-13</th>\n      <td>10.10</td>\n      <td>408.43</td>\n      <td>16.22</td>\n      <td>186.82</td>\n      <td>64.23</td>\n      <td>27.18</td>\n      <td>62.36</td>\n      <td>1203.66</td>\n      <td>76.37</td>\n    </tr>\n    <tr>\n      <th>2011-10-14</th>\n      <td>10.26</td>\n      <td>422.00</td>\n      <td>16.60</td>\n      <td>190.53</td>\n      <td>64.72</td>\n      <td>27.27</td>\n      <td>62.24</td>\n      <td>1224.58</td>\n      <td>78.11</td>\n    </tr>\n  </tbody>\n</table>\n<p>5472 rows × 9 columns</p>\n</div>"
     },
     "execution_count": 32,
     "metadata": {},
     "output_type": "execute_result"
    }
   ],
   "source": [
    "close_px = pd.read_csv('../examples/stock_px.csv',parse_dates=True,index_col=0)\n",
    "close_px"
   ],
   "metadata": {
    "collapsed": false,
    "pycharm": {
     "name": "#%%\n"
    }
   }
  },
  {
   "cell_type": "code",
   "execution_count": 33,
   "outputs": [
    {
     "data": {
      "text/plain": "                  AA      AAPL        GE       IBM       JNJ      MSFT  \\\n1990-02-02  0.012048  0.017812  0.000000  0.005956  0.023419  0.000000   \n1990-02-05  0.005952  0.022500  0.000000  0.025459 -0.006865  0.000000   \n1990-02-06 -0.011834 -0.007335  0.003484  0.013857 -0.004608  0.000000   \n1990-02-07  0.005988 -0.043103  0.010417  0.021071  0.013889  0.000000   \n1990-02-08  0.000000 -0.007722  0.003436 -0.003904  0.018265  0.000000   \n...              ...       ...       ...       ...       ...       ...   \n2011-10-10  0.039135  0.051406  0.041290  0.023192  0.020592  0.026286   \n2011-10-11  0.020813  0.029526  0.000000 -0.008681 -0.007295  0.002227   \n2011-10-12 -0.024272  0.004747  0.016109  0.006054  0.005785 -0.001481   \n2011-10-13  0.004975  0.015515 -0.010976  0.003761 -0.001554  0.008160   \n2011-10-14  0.015842  0.033225  0.023428  0.019859  0.007629  0.003311   \n\n                 PEP       SPX       XOM  \n1990-02-02  0.008278  0.006478  0.019608  \n1990-02-05 -0.006568  0.002810  0.001603  \n1990-02-06  0.016529 -0.006599 -0.003200  \n1990-02-07  0.003252  0.012407  0.016051  \n1990-02-08  0.008104 -0.002367  0.003160  \n...              ...       ...       ...  \n2011-10-10  0.013930  0.034125  0.036977  \n2011-10-11 -0.014870  0.000544 -0.000131  \n2011-10-12  0.028712  0.009795  0.011669  \n2011-10-13 -0.005423 -0.002974 -0.010238  \n2011-10-14 -0.001924  0.017380  0.022784  \n\n[5471 rows x 9 columns]",
      "text/html": "<div>\n<style scoped>\n    .dataframe tbody tr th:only-of-type {\n        vertical-align: middle;\n    }\n\n    .dataframe tbody tr th {\n        vertical-align: top;\n    }\n\n    .dataframe thead th {\n        text-align: right;\n    }\n</style>\n<table border=\"1\" class=\"dataframe\">\n  <thead>\n    <tr style=\"text-align: right;\">\n      <th></th>\n      <th>AA</th>\n      <th>AAPL</th>\n      <th>GE</th>\n      <th>IBM</th>\n      <th>JNJ</th>\n      <th>MSFT</th>\n      <th>PEP</th>\n      <th>SPX</th>\n      <th>XOM</th>\n    </tr>\n  </thead>\n  <tbody>\n    <tr>\n      <th>1990-02-02</th>\n      <td>0.012048</td>\n      <td>0.017812</td>\n      <td>0.000000</td>\n      <td>0.005956</td>\n      <td>0.023419</td>\n      <td>0.000000</td>\n      <td>0.008278</td>\n      <td>0.006478</td>\n      <td>0.019608</td>\n    </tr>\n    <tr>\n      <th>1990-02-05</th>\n      <td>0.005952</td>\n      <td>0.022500</td>\n      <td>0.000000</td>\n      <td>0.025459</td>\n      <td>-0.006865</td>\n      <td>0.000000</td>\n      <td>-0.006568</td>\n      <td>0.002810</td>\n      <td>0.001603</td>\n    </tr>\n    <tr>\n      <th>1990-02-06</th>\n      <td>-0.011834</td>\n      <td>-0.007335</td>\n      <td>0.003484</td>\n      <td>0.013857</td>\n      <td>-0.004608</td>\n      <td>0.000000</td>\n      <td>0.016529</td>\n      <td>-0.006599</td>\n      <td>-0.003200</td>\n    </tr>\n    <tr>\n      <th>1990-02-07</th>\n      <td>0.005988</td>\n      <td>-0.043103</td>\n      <td>0.010417</td>\n      <td>0.021071</td>\n      <td>0.013889</td>\n      <td>0.000000</td>\n      <td>0.003252</td>\n      <td>0.012407</td>\n      <td>0.016051</td>\n    </tr>\n    <tr>\n      <th>1990-02-08</th>\n      <td>0.000000</td>\n      <td>-0.007722</td>\n      <td>0.003436</td>\n      <td>-0.003904</td>\n      <td>0.018265</td>\n      <td>0.000000</td>\n      <td>0.008104</td>\n      <td>-0.002367</td>\n      <td>0.003160</td>\n    </tr>\n    <tr>\n      <th>...</th>\n      <td>...</td>\n      <td>...</td>\n      <td>...</td>\n      <td>...</td>\n      <td>...</td>\n      <td>...</td>\n      <td>...</td>\n      <td>...</td>\n      <td>...</td>\n    </tr>\n    <tr>\n      <th>2011-10-10</th>\n      <td>0.039135</td>\n      <td>0.051406</td>\n      <td>0.041290</td>\n      <td>0.023192</td>\n      <td>0.020592</td>\n      <td>0.026286</td>\n      <td>0.013930</td>\n      <td>0.034125</td>\n      <td>0.036977</td>\n    </tr>\n    <tr>\n      <th>2011-10-11</th>\n      <td>0.020813</td>\n      <td>0.029526</td>\n      <td>0.000000</td>\n      <td>-0.008681</td>\n      <td>-0.007295</td>\n      <td>0.002227</td>\n      <td>-0.014870</td>\n      <td>0.000544</td>\n      <td>-0.000131</td>\n    </tr>\n    <tr>\n      <th>2011-10-12</th>\n      <td>-0.024272</td>\n      <td>0.004747</td>\n      <td>0.016109</td>\n      <td>0.006054</td>\n      <td>0.005785</td>\n      <td>-0.001481</td>\n      <td>0.028712</td>\n      <td>0.009795</td>\n      <td>0.011669</td>\n    </tr>\n    <tr>\n      <th>2011-10-13</th>\n      <td>0.004975</td>\n      <td>0.015515</td>\n      <td>-0.010976</td>\n      <td>0.003761</td>\n      <td>-0.001554</td>\n      <td>0.008160</td>\n      <td>-0.005423</td>\n      <td>-0.002974</td>\n      <td>-0.010238</td>\n    </tr>\n    <tr>\n      <th>2011-10-14</th>\n      <td>0.015842</td>\n      <td>0.033225</td>\n      <td>0.023428</td>\n      <td>0.019859</td>\n      <td>0.007629</td>\n      <td>0.003311</td>\n      <td>-0.001924</td>\n      <td>0.017380</td>\n      <td>0.022784</td>\n    </tr>\n  </tbody>\n</table>\n<p>5471 rows × 9 columns</p>\n</div>"
     },
     "execution_count": 33,
     "metadata": {},
     "output_type": "execute_result"
    }
   ],
   "source": [
    "rets = close_px.pct_change().dropna()\n",
    "#pct_change是当前元素相较于先前元素的百分比\n",
    "#自然就是本问题中的日收益率\n",
    "rets"
   ],
   "metadata": {
    "collapsed": false,
    "pycharm": {
     "name": "#%%\n"
    }
   }
  },
  {
   "cell_type": "code",
   "execution_count": 34,
   "outputs": [
    {
     "data": {
      "text/plain": "1990    230\n1991    253\n1992    254\n1993    253\n1994    252\n1995    252\n1996    254\n1997    253\n1998    252\n1999    252\n2000    252\n2001    248\n2002    252\n2003    252\n2004    252\n2005    252\n2006    251\n2007    251\n2008    253\n2009    252\n2010    252\n2011    199\ndtype: int64"
     },
     "execution_count": 34,
     "metadata": {},
     "output_type": "execute_result"
    }
   ],
   "source": [
    "spx_corr = lambda x:x.corrwith(x['SPX'])\n",
    "by_year = rets.groupby(lambda x:x.year)\n",
    "\n",
    "#我真得注意一下这个groupby参数是labmda表达式的方法了\n",
    "#通过一种映射关系将index进行映射后 再进行分组 很不错\n",
    "\n",
    "by_year.size()"
   ],
   "metadata": {
    "collapsed": false,
    "pycharm": {
     "name": "#%%\n"
    }
   }
  },
  {
   "cell_type": "code",
   "execution_count": 35,
   "outputs": [
    {
     "data": {
      "text/plain": "            AA      AAPL        GE       IBM       JNJ      MSFT       PEP  \\\n1990  0.595024  0.545067  0.752187  0.738361  0.801145  0.586691  0.783168   \n1991  0.453574  0.365315  0.759607  0.557046  0.646401  0.524225  0.641775   \n1992  0.398180  0.498732  0.632685  0.262232  0.515740  0.492345  0.473871   \n1993  0.259069  0.238578  0.447257  0.211269  0.451503  0.425377  0.385089   \n1994  0.428549  0.268420  0.572996  0.385162  0.372962  0.436585  0.450516   \n1995  0.291532  0.161829  0.519126  0.416390  0.315733  0.453660  0.413144   \n1996  0.292344  0.191482  0.750724  0.388497  0.569232  0.564015  0.421477   \n1997  0.564427  0.211435  0.827512  0.646823  0.703538  0.606171  0.509344   \n1998  0.533802  0.379883  0.815243  0.623982  0.591988  0.698773  0.494213   \n1999  0.099033  0.425584  0.710928  0.486167  0.517061  0.631315  0.336593   \n2000  0.265359  0.440161  0.610362  0.445114  0.189765  0.538005  0.077525   \n2001  0.624069  0.577152  0.794632  0.696038  0.111493  0.696447  0.133975   \n2002  0.748021  0.580548  0.822373  0.716490  0.584758  0.784728  0.487211   \n2003  0.690466  0.545582  0.777643  0.741775  0.562399  0.750534  0.541487   \n2004  0.591485  0.374283  0.728626  0.601740  0.354690  0.588531  0.466854   \n2005  0.564267  0.467540  0.675637  0.516846  0.444728  0.562374  0.489559   \n2006  0.487638  0.428267  0.612388  0.598636  0.394026  0.406126  0.335054   \n2007  0.642427  0.508118  0.796945  0.603906  0.568423  0.658770  0.651911   \n2008  0.781057  0.681434  0.777337  0.833074  0.801005  0.804626  0.709264   \n2009  0.735642  0.707103  0.713086  0.684513  0.603146  0.654902  0.541474   \n2010  0.745700  0.710105  0.822285  0.783638  0.689896  0.730118  0.626655   \n2011  0.882045  0.691931  0.864595  0.802730  0.752379  0.800996  0.592029   \n\n      SPX       XOM  \n1990  1.0  0.517586  \n1991  1.0  0.569335  \n1992  1.0  0.318408  \n1993  1.0  0.318952  \n1994  1.0  0.395078  \n1995  1.0  0.368752  \n1996  1.0  0.538736  \n1997  1.0  0.695653  \n1998  1.0  0.369264  \n1999  1.0  0.315383  \n2000  1.0  0.084163  \n2001  1.0  0.336869  \n2002  1.0  0.759933  \n2003  1.0  0.662775  \n2004  1.0  0.557742  \n2005  1.0  0.631010  \n2006  1.0  0.518514  \n2007  1.0  0.786264  \n2008  1.0  0.828303  \n2009  1.0  0.797921  \n2010  1.0  0.839057  \n2011  1.0  0.859975  ",
      "text/html": "<div>\n<style scoped>\n    .dataframe tbody tr th:only-of-type {\n        vertical-align: middle;\n    }\n\n    .dataframe tbody tr th {\n        vertical-align: top;\n    }\n\n    .dataframe thead th {\n        text-align: right;\n    }\n</style>\n<table border=\"1\" class=\"dataframe\">\n  <thead>\n    <tr style=\"text-align: right;\">\n      <th></th>\n      <th>AA</th>\n      <th>AAPL</th>\n      <th>GE</th>\n      <th>IBM</th>\n      <th>JNJ</th>\n      <th>MSFT</th>\n      <th>PEP</th>\n      <th>SPX</th>\n      <th>XOM</th>\n    </tr>\n  </thead>\n  <tbody>\n    <tr>\n      <th>1990</th>\n      <td>0.595024</td>\n      <td>0.545067</td>\n      <td>0.752187</td>\n      <td>0.738361</td>\n      <td>0.801145</td>\n      <td>0.586691</td>\n      <td>0.783168</td>\n      <td>1.0</td>\n      <td>0.517586</td>\n    </tr>\n    <tr>\n      <th>1991</th>\n      <td>0.453574</td>\n      <td>0.365315</td>\n      <td>0.759607</td>\n      <td>0.557046</td>\n      <td>0.646401</td>\n      <td>0.524225</td>\n      <td>0.641775</td>\n      <td>1.0</td>\n      <td>0.569335</td>\n    </tr>\n    <tr>\n      <th>1992</th>\n      <td>0.398180</td>\n      <td>0.498732</td>\n      <td>0.632685</td>\n      <td>0.262232</td>\n      <td>0.515740</td>\n      <td>0.492345</td>\n      <td>0.473871</td>\n      <td>1.0</td>\n      <td>0.318408</td>\n    </tr>\n    <tr>\n      <th>1993</th>\n      <td>0.259069</td>\n      <td>0.238578</td>\n      <td>0.447257</td>\n      <td>0.211269</td>\n      <td>0.451503</td>\n      <td>0.425377</td>\n      <td>0.385089</td>\n      <td>1.0</td>\n      <td>0.318952</td>\n    </tr>\n    <tr>\n      <th>1994</th>\n      <td>0.428549</td>\n      <td>0.268420</td>\n      <td>0.572996</td>\n      <td>0.385162</td>\n      <td>0.372962</td>\n      <td>0.436585</td>\n      <td>0.450516</td>\n      <td>1.0</td>\n      <td>0.395078</td>\n    </tr>\n    <tr>\n      <th>1995</th>\n      <td>0.291532</td>\n      <td>0.161829</td>\n      <td>0.519126</td>\n      <td>0.416390</td>\n      <td>0.315733</td>\n      <td>0.453660</td>\n      <td>0.413144</td>\n      <td>1.0</td>\n      <td>0.368752</td>\n    </tr>\n    <tr>\n      <th>1996</th>\n      <td>0.292344</td>\n      <td>0.191482</td>\n      <td>0.750724</td>\n      <td>0.388497</td>\n      <td>0.569232</td>\n      <td>0.564015</td>\n      <td>0.421477</td>\n      <td>1.0</td>\n      <td>0.538736</td>\n    </tr>\n    <tr>\n      <th>1997</th>\n      <td>0.564427</td>\n      <td>0.211435</td>\n      <td>0.827512</td>\n      <td>0.646823</td>\n      <td>0.703538</td>\n      <td>0.606171</td>\n      <td>0.509344</td>\n      <td>1.0</td>\n      <td>0.695653</td>\n    </tr>\n    <tr>\n      <th>1998</th>\n      <td>0.533802</td>\n      <td>0.379883</td>\n      <td>0.815243</td>\n      <td>0.623982</td>\n      <td>0.591988</td>\n      <td>0.698773</td>\n      <td>0.494213</td>\n      <td>1.0</td>\n      <td>0.369264</td>\n    </tr>\n    <tr>\n      <th>1999</th>\n      <td>0.099033</td>\n      <td>0.425584</td>\n      <td>0.710928</td>\n      <td>0.486167</td>\n      <td>0.517061</td>\n      <td>0.631315</td>\n      <td>0.336593</td>\n      <td>1.0</td>\n      <td>0.315383</td>\n    </tr>\n    <tr>\n      <th>2000</th>\n      <td>0.265359</td>\n      <td>0.440161</td>\n      <td>0.610362</td>\n      <td>0.445114</td>\n      <td>0.189765</td>\n      <td>0.538005</td>\n      <td>0.077525</td>\n      <td>1.0</td>\n      <td>0.084163</td>\n    </tr>\n    <tr>\n      <th>2001</th>\n      <td>0.624069</td>\n      <td>0.577152</td>\n      <td>0.794632</td>\n      <td>0.696038</td>\n      <td>0.111493</td>\n      <td>0.696447</td>\n      <td>0.133975</td>\n      <td>1.0</td>\n      <td>0.336869</td>\n    </tr>\n    <tr>\n      <th>2002</th>\n      <td>0.748021</td>\n      <td>0.580548</td>\n      <td>0.822373</td>\n      <td>0.716490</td>\n      <td>0.584758</td>\n      <td>0.784728</td>\n      <td>0.487211</td>\n      <td>1.0</td>\n      <td>0.759933</td>\n    </tr>\n    <tr>\n      <th>2003</th>\n      <td>0.690466</td>\n      <td>0.545582</td>\n      <td>0.777643</td>\n      <td>0.741775</td>\n      <td>0.562399</td>\n      <td>0.750534</td>\n      <td>0.541487</td>\n      <td>1.0</td>\n      <td>0.662775</td>\n    </tr>\n    <tr>\n      <th>2004</th>\n      <td>0.591485</td>\n      <td>0.374283</td>\n      <td>0.728626</td>\n      <td>0.601740</td>\n      <td>0.354690</td>\n      <td>0.588531</td>\n      <td>0.466854</td>\n      <td>1.0</td>\n      <td>0.557742</td>\n    </tr>\n    <tr>\n      <th>2005</th>\n      <td>0.564267</td>\n      <td>0.467540</td>\n      <td>0.675637</td>\n      <td>0.516846</td>\n      <td>0.444728</td>\n      <td>0.562374</td>\n      <td>0.489559</td>\n      <td>1.0</td>\n      <td>0.631010</td>\n    </tr>\n    <tr>\n      <th>2006</th>\n      <td>0.487638</td>\n      <td>0.428267</td>\n      <td>0.612388</td>\n      <td>0.598636</td>\n      <td>0.394026</td>\n      <td>0.406126</td>\n      <td>0.335054</td>\n      <td>1.0</td>\n      <td>0.518514</td>\n    </tr>\n    <tr>\n      <th>2007</th>\n      <td>0.642427</td>\n      <td>0.508118</td>\n      <td>0.796945</td>\n      <td>0.603906</td>\n      <td>0.568423</td>\n      <td>0.658770</td>\n      <td>0.651911</td>\n      <td>1.0</td>\n      <td>0.786264</td>\n    </tr>\n    <tr>\n      <th>2008</th>\n      <td>0.781057</td>\n      <td>0.681434</td>\n      <td>0.777337</td>\n      <td>0.833074</td>\n      <td>0.801005</td>\n      <td>0.804626</td>\n      <td>0.709264</td>\n      <td>1.0</td>\n      <td>0.828303</td>\n    </tr>\n    <tr>\n      <th>2009</th>\n      <td>0.735642</td>\n      <td>0.707103</td>\n      <td>0.713086</td>\n      <td>0.684513</td>\n      <td>0.603146</td>\n      <td>0.654902</td>\n      <td>0.541474</td>\n      <td>1.0</td>\n      <td>0.797921</td>\n    </tr>\n    <tr>\n      <th>2010</th>\n      <td>0.745700</td>\n      <td>0.710105</td>\n      <td>0.822285</td>\n      <td>0.783638</td>\n      <td>0.689896</td>\n      <td>0.730118</td>\n      <td>0.626655</td>\n      <td>1.0</td>\n      <td>0.839057</td>\n    </tr>\n    <tr>\n      <th>2011</th>\n      <td>0.882045</td>\n      <td>0.691931</td>\n      <td>0.864595</td>\n      <td>0.802730</td>\n      <td>0.752379</td>\n      <td>0.800996</td>\n      <td>0.592029</td>\n      <td>1.0</td>\n      <td>0.859975</td>\n    </tr>\n  </tbody>\n</table>\n</div>"
     },
     "execution_count": 35,
     "metadata": {},
     "output_type": "execute_result"
    }
   ],
   "source": [
    "by_year.apply(spx_corr)\n",
    "#计算了每个列相较于SPX的关系"
   ],
   "metadata": {
    "collapsed": false,
    "pycharm": {
     "name": "#%%\n"
    }
   }
  },
  {
   "cell_type": "code",
   "execution_count": 36,
   "outputs": [
    {
     "data": {
      "text/plain": "1990    0.408271\n1991    0.266807\n1992    0.450592\n1993    0.236917\n1994    0.361638\n1995    0.258642\n1996    0.147539\n1997    0.196144\n1998    0.364106\n1999    0.329484\n2000    0.275298\n2001    0.563156\n2002    0.571435\n2003    0.486262\n2004    0.259024\n2005    0.300093\n2006    0.161735\n2007    0.417738\n2008    0.611901\n2009    0.432738\n2010    0.571946\n2011    0.581987\ndtype: float64"
     },
     "execution_count": 36,
     "metadata": {},
     "output_type": "execute_result"
    }
   ],
   "source": [
    "by_year.apply(lambda g:g['AAPL'].corr(g['MSFT']))"
   ],
   "metadata": {
    "collapsed": false,
    "pycharm": {
     "name": "#%%\n"
    }
   }
  },
  {
   "cell_type": "code",
   "execution_count": 37,
   "outputs": [
    {
     "name": "stdout",
     "output_type": "stream",
     "text": [
      "##########################################\n",
      "样例4：面向分组的线性回归\n"
     ]
    }
   ],
   "source": [
    "print('##########################################')"
   ],
   "metadata": {
    "collapsed": false,
    "pycharm": {
     "name": "#%%\n"
    }
   }
  },
  {
   "cell_type": "code",
   "execution_count": 38,
   "outputs": [
    {
     "data": {
      "text/plain": "     total_bill   tip smoker   day    time  size\n0         16.99  1.01     No   Sun  Dinner     2\n1         10.34  1.66     No   Sun  Dinner     3\n2         21.01  3.50     No   Sun  Dinner     3\n3         23.68  3.31     No   Sun  Dinner     2\n4         24.59  3.61     No   Sun  Dinner     4\n..          ...   ...    ...   ...     ...   ...\n239       29.03  5.92     No   Sat  Dinner     3\n240       27.18  2.00    Yes   Sat  Dinner     2\n241       22.67  2.00    Yes   Sat  Dinner     2\n242       17.82  1.75     No   Sat  Dinner     2\n243       18.78  3.00     No  Thur  Dinner     2\n\n[244 rows x 6 columns]",
      "text/html": "<div>\n<style scoped>\n    .dataframe tbody tr th:only-of-type {\n        vertical-align: middle;\n    }\n\n    .dataframe tbody tr th {\n        vertical-align: top;\n    }\n\n    .dataframe thead th {\n        text-align: right;\n    }\n</style>\n<table border=\"1\" class=\"dataframe\">\n  <thead>\n    <tr style=\"text-align: right;\">\n      <th></th>\n      <th>total_bill</th>\n      <th>tip</th>\n      <th>smoker</th>\n      <th>day</th>\n      <th>time</th>\n      <th>size</th>\n    </tr>\n  </thead>\n  <tbody>\n    <tr>\n      <th>0</th>\n      <td>16.99</td>\n      <td>1.01</td>\n      <td>No</td>\n      <td>Sun</td>\n      <td>Dinner</td>\n      <td>2</td>\n    </tr>\n    <tr>\n      <th>1</th>\n      <td>10.34</td>\n      <td>1.66</td>\n      <td>No</td>\n      <td>Sun</td>\n      <td>Dinner</td>\n      <td>3</td>\n    </tr>\n    <tr>\n      <th>2</th>\n      <td>21.01</td>\n      <td>3.50</td>\n      <td>No</td>\n      <td>Sun</td>\n      <td>Dinner</td>\n      <td>3</td>\n    </tr>\n    <tr>\n      <th>3</th>\n      <td>23.68</td>\n      <td>3.31</td>\n      <td>No</td>\n      <td>Sun</td>\n      <td>Dinner</td>\n      <td>2</td>\n    </tr>\n    <tr>\n      <th>4</th>\n      <td>24.59</td>\n      <td>3.61</td>\n      <td>No</td>\n      <td>Sun</td>\n      <td>Dinner</td>\n      <td>4</td>\n    </tr>\n    <tr>\n      <th>...</th>\n      <td>...</td>\n      <td>...</td>\n      <td>...</td>\n      <td>...</td>\n      <td>...</td>\n      <td>...</td>\n    </tr>\n    <tr>\n      <th>239</th>\n      <td>29.03</td>\n      <td>5.92</td>\n      <td>No</td>\n      <td>Sat</td>\n      <td>Dinner</td>\n      <td>3</td>\n    </tr>\n    <tr>\n      <th>240</th>\n      <td>27.18</td>\n      <td>2.00</td>\n      <td>Yes</td>\n      <td>Sat</td>\n      <td>Dinner</td>\n      <td>2</td>\n    </tr>\n    <tr>\n      <th>241</th>\n      <td>22.67</td>\n      <td>2.00</td>\n      <td>Yes</td>\n      <td>Sat</td>\n      <td>Dinner</td>\n      <td>2</td>\n    </tr>\n    <tr>\n      <th>242</th>\n      <td>17.82</td>\n      <td>1.75</td>\n      <td>No</td>\n      <td>Sat</td>\n      <td>Dinner</td>\n      <td>2</td>\n    </tr>\n    <tr>\n      <th>243</th>\n      <td>18.78</td>\n      <td>3.00</td>\n      <td>No</td>\n      <td>Thur</td>\n      <td>Dinner</td>\n      <td>2</td>\n    </tr>\n  </tbody>\n</table>\n<p>244 rows × 6 columns</p>\n</div>"
     },
     "execution_count": 38,
     "metadata": {},
     "output_type": "execute_result"
    }
   ],
   "source": [
    "tips = pd.read_csv('../examples/tips.csv')\n",
    "tips"
   ],
   "metadata": {
    "collapsed": false,
    "pycharm": {
     "name": "#%%\n"
    }
   }
  },
  {
   "cell_type": "code",
   "execution_count": 39,
   "outputs": [
    {
     "data": {
      "text/plain": "     total_bill   tip smoker   day    time  size   tip_pct\n0         16.99  1.01     No   Sun  Dinner     2  0.059447\n1         10.34  1.66     No   Sun  Dinner     3  0.160542\n2         21.01  3.50     No   Sun  Dinner     3  0.166587\n3         23.68  3.31     No   Sun  Dinner     2  0.139780\n4         24.59  3.61     No   Sun  Dinner     4  0.146808\n..          ...   ...    ...   ...     ...   ...       ...\n239       29.03  5.92     No   Sat  Dinner     3  0.203927\n240       27.18  2.00    Yes   Sat  Dinner     2  0.073584\n241       22.67  2.00    Yes   Sat  Dinner     2  0.088222\n242       17.82  1.75     No   Sat  Dinner     2  0.098204\n243       18.78  3.00     No  Thur  Dinner     2  0.159744\n\n[244 rows x 7 columns]",
      "text/html": "<div>\n<style scoped>\n    .dataframe tbody tr th:only-of-type {\n        vertical-align: middle;\n    }\n\n    .dataframe tbody tr th {\n        vertical-align: top;\n    }\n\n    .dataframe thead th {\n        text-align: right;\n    }\n</style>\n<table border=\"1\" class=\"dataframe\">\n  <thead>\n    <tr style=\"text-align: right;\">\n      <th></th>\n      <th>total_bill</th>\n      <th>tip</th>\n      <th>smoker</th>\n      <th>day</th>\n      <th>time</th>\n      <th>size</th>\n      <th>tip_pct</th>\n    </tr>\n  </thead>\n  <tbody>\n    <tr>\n      <th>0</th>\n      <td>16.99</td>\n      <td>1.01</td>\n      <td>No</td>\n      <td>Sun</td>\n      <td>Dinner</td>\n      <td>2</td>\n      <td>0.059447</td>\n    </tr>\n    <tr>\n      <th>1</th>\n      <td>10.34</td>\n      <td>1.66</td>\n      <td>No</td>\n      <td>Sun</td>\n      <td>Dinner</td>\n      <td>3</td>\n      <td>0.160542</td>\n    </tr>\n    <tr>\n      <th>2</th>\n      <td>21.01</td>\n      <td>3.50</td>\n      <td>No</td>\n      <td>Sun</td>\n      <td>Dinner</td>\n      <td>3</td>\n      <td>0.166587</td>\n    </tr>\n    <tr>\n      <th>3</th>\n      <td>23.68</td>\n      <td>3.31</td>\n      <td>No</td>\n      <td>Sun</td>\n      <td>Dinner</td>\n      <td>2</td>\n      <td>0.139780</td>\n    </tr>\n    <tr>\n      <th>4</th>\n      <td>24.59</td>\n      <td>3.61</td>\n      <td>No</td>\n      <td>Sun</td>\n      <td>Dinner</td>\n      <td>4</td>\n      <td>0.146808</td>\n    </tr>\n    <tr>\n      <th>...</th>\n      <td>...</td>\n      <td>...</td>\n      <td>...</td>\n      <td>...</td>\n      <td>...</td>\n      <td>...</td>\n      <td>...</td>\n    </tr>\n    <tr>\n      <th>239</th>\n      <td>29.03</td>\n      <td>5.92</td>\n      <td>No</td>\n      <td>Sat</td>\n      <td>Dinner</td>\n      <td>3</td>\n      <td>0.203927</td>\n    </tr>\n    <tr>\n      <th>240</th>\n      <td>27.18</td>\n      <td>2.00</td>\n      <td>Yes</td>\n      <td>Sat</td>\n      <td>Dinner</td>\n      <td>2</td>\n      <td>0.073584</td>\n    </tr>\n    <tr>\n      <th>241</th>\n      <td>22.67</td>\n      <td>2.00</td>\n      <td>Yes</td>\n      <td>Sat</td>\n      <td>Dinner</td>\n      <td>2</td>\n      <td>0.088222</td>\n    </tr>\n    <tr>\n      <th>242</th>\n      <td>17.82</td>\n      <td>1.75</td>\n      <td>No</td>\n      <td>Sat</td>\n      <td>Dinner</td>\n      <td>2</td>\n      <td>0.098204</td>\n    </tr>\n    <tr>\n      <th>243</th>\n      <td>18.78</td>\n      <td>3.00</td>\n      <td>No</td>\n      <td>Thur</td>\n      <td>Dinner</td>\n      <td>2</td>\n      <td>0.159744</td>\n    </tr>\n  </tbody>\n</table>\n<p>244 rows × 7 columns</p>\n</div>"
     },
     "execution_count": 39,
     "metadata": {},
     "output_type": "execute_result"
    }
   ],
   "source": [
    "tips['tip_pct'] = tips['tip'] / tips['total_bill']\n",
    "tips"
   ],
   "metadata": {
    "collapsed": false,
    "pycharm": {
     "name": "#%%\n"
    }
   }
  },
  {
   "cell_type": "code",
   "execution_count": 44,
   "outputs": [
    {
     "data": {
      "text/plain": "                 size       tip   tip_pct  total_bill\nsmoker day                                           \nNo     Fri   2.250000  2.812500  0.151650   18.420000\n       Sat   2.555556  3.102889  0.158048   19.661778\n       Sun   2.929825  3.167895  0.160113   20.506667\n       Thur  2.488889  2.673778  0.160298   17.113111\nYes    Fri   2.066667  2.714000  0.174783   16.813333\n       Sat   2.476190  2.875476  0.147906   21.276667\n       Sun   2.578947  3.516842  0.187250   24.120000\n       Thur  2.352941  3.030000  0.163863   19.190588",
      "text/html": "<div>\n<style scoped>\n    .dataframe tbody tr th:only-of-type {\n        vertical-align: middle;\n    }\n\n    .dataframe tbody tr th {\n        vertical-align: top;\n    }\n\n    .dataframe thead th {\n        text-align: right;\n    }\n</style>\n<table border=\"1\" class=\"dataframe\">\n  <thead>\n    <tr style=\"text-align: right;\">\n      <th></th>\n      <th></th>\n      <th>size</th>\n      <th>tip</th>\n      <th>tip_pct</th>\n      <th>total_bill</th>\n    </tr>\n    <tr>\n      <th>smoker</th>\n      <th>day</th>\n      <th></th>\n      <th></th>\n      <th></th>\n      <th></th>\n    </tr>\n  </thead>\n  <tbody>\n    <tr>\n      <th rowspan=\"4\" valign=\"top\">No</th>\n      <th>Fri</th>\n      <td>2.250000</td>\n      <td>2.812500</td>\n      <td>0.151650</td>\n      <td>18.420000</td>\n    </tr>\n    <tr>\n      <th>Sat</th>\n      <td>2.555556</td>\n      <td>3.102889</td>\n      <td>0.158048</td>\n      <td>19.661778</td>\n    </tr>\n    <tr>\n      <th>Sun</th>\n      <td>2.929825</td>\n      <td>3.167895</td>\n      <td>0.160113</td>\n      <td>20.506667</td>\n    </tr>\n    <tr>\n      <th>Thur</th>\n      <td>2.488889</td>\n      <td>2.673778</td>\n      <td>0.160298</td>\n      <td>17.113111</td>\n    </tr>\n    <tr>\n      <th rowspan=\"4\" valign=\"top\">Yes</th>\n      <th>Fri</th>\n      <td>2.066667</td>\n      <td>2.714000</td>\n      <td>0.174783</td>\n      <td>16.813333</td>\n    </tr>\n    <tr>\n      <th>Sat</th>\n      <td>2.476190</td>\n      <td>2.875476</td>\n      <td>0.147906</td>\n      <td>21.276667</td>\n    </tr>\n    <tr>\n      <th>Sun</th>\n      <td>2.578947</td>\n      <td>3.516842</td>\n      <td>0.187250</td>\n      <td>24.120000</td>\n    </tr>\n    <tr>\n      <th>Thur</th>\n      <td>2.352941</td>\n      <td>3.030000</td>\n      <td>0.163863</td>\n      <td>19.190588</td>\n    </tr>\n  </tbody>\n</table>\n</div>"
     },
     "execution_count": 44,
     "metadata": {},
     "output_type": "execute_result"
    }
   ],
   "source": [
    "#我服了 我是真不知道透视表是啥，我在学什么东西呢！？\n",
    "\n",
    "tips.pivot_table(index=['smoker','day'])\n",
    "#透视表按照smoker和day做"
   ],
   "metadata": {
    "collapsed": false,
    "pycharm": {
     "name": "#%%\n"
    }
   }
  },
  {
   "cell_type": "code",
   "execution_count": 45,
   "outputs": [
    {
     "data": {
      "text/plain": "            size             tip_pct          \nsmoker        No       Yes        No       Yes\nday                                           \nFri     2.250000  2.066667  0.151650  0.174783\nSat     2.555556  2.476190  0.158048  0.147906\nSun     2.929825  2.578947  0.160113  0.187250\nThur    2.488889  2.352941  0.160298  0.163863",
      "text/html": "<div>\n<style scoped>\n    .dataframe tbody tr th:only-of-type {\n        vertical-align: middle;\n    }\n\n    .dataframe tbody tr th {\n        vertical-align: top;\n    }\n\n    .dataframe thead tr th {\n        text-align: left;\n    }\n\n    .dataframe thead tr:last-of-type th {\n        text-align: right;\n    }\n</style>\n<table border=\"1\" class=\"dataframe\">\n  <thead>\n    <tr>\n      <th></th>\n      <th colspan=\"2\" halign=\"left\">size</th>\n      <th colspan=\"2\" halign=\"left\">tip_pct</th>\n    </tr>\n    <tr>\n      <th>smoker</th>\n      <th>No</th>\n      <th>Yes</th>\n      <th>No</th>\n      <th>Yes</th>\n    </tr>\n    <tr>\n      <th>day</th>\n      <th></th>\n      <th></th>\n      <th></th>\n      <th></th>\n    </tr>\n  </thead>\n  <tbody>\n    <tr>\n      <th>Fri</th>\n      <td>2.250000</td>\n      <td>2.066667</td>\n      <td>0.151650</td>\n      <td>0.174783</td>\n    </tr>\n    <tr>\n      <th>Sat</th>\n      <td>2.555556</td>\n      <td>2.476190</td>\n      <td>0.158048</td>\n      <td>0.147906</td>\n    </tr>\n    <tr>\n      <th>Sun</th>\n      <td>2.929825</td>\n      <td>2.578947</td>\n      <td>0.160113</td>\n      <td>0.187250</td>\n    </tr>\n    <tr>\n      <th>Thur</th>\n      <td>2.488889</td>\n      <td>2.352941</td>\n      <td>0.160298</td>\n      <td>0.163863</td>\n    </tr>\n  </tbody>\n</table>\n</div>"
     },
     "execution_count": 45,
     "metadata": {},
     "output_type": "execute_result"
    }
   ],
   "source": [
    "tips.pivot_table(['tip_pct','size'],index=['day'],columns=['smoker'])\n",
    "#可以通过index和columns选取行和列保留的属性 第一个参数选取data的属性"
   ],
   "metadata": {
    "collapsed": false,
    "pycharm": {
     "name": "#%%\n"
    }
   }
  },
  {
   "cell_type": "code",
   "execution_count": 46,
   "outputs": [
    {
     "data": {
      "text/plain": "            size                       tip_pct                    \nsmoker        No       Yes       All        No       Yes       All\nday                                                               \nFri     2.250000  2.066667  2.105263  0.151650  0.174783  0.169913\nSat     2.555556  2.476190  2.517241  0.158048  0.147906  0.153152\nSun     2.929825  2.578947  2.842105  0.160113  0.187250  0.166897\nThur    2.488889  2.352941  2.451613  0.160298  0.163863  0.161276\nAll     2.668874  2.408602  2.569672  0.159328  0.163196  0.160803",
      "text/html": "<div>\n<style scoped>\n    .dataframe tbody tr th:only-of-type {\n        vertical-align: middle;\n    }\n\n    .dataframe tbody tr th {\n        vertical-align: top;\n    }\n\n    .dataframe thead tr th {\n        text-align: left;\n    }\n\n    .dataframe thead tr:last-of-type th {\n        text-align: right;\n    }\n</style>\n<table border=\"1\" class=\"dataframe\">\n  <thead>\n    <tr>\n      <th></th>\n      <th colspan=\"3\" halign=\"left\">size</th>\n      <th colspan=\"3\" halign=\"left\">tip_pct</th>\n    </tr>\n    <tr>\n      <th>smoker</th>\n      <th>No</th>\n      <th>Yes</th>\n      <th>All</th>\n      <th>No</th>\n      <th>Yes</th>\n      <th>All</th>\n    </tr>\n    <tr>\n      <th>day</th>\n      <th></th>\n      <th></th>\n      <th></th>\n      <th></th>\n      <th></th>\n      <th></th>\n    </tr>\n  </thead>\n  <tbody>\n    <tr>\n      <th>Fri</th>\n      <td>2.250000</td>\n      <td>2.066667</td>\n      <td>2.105263</td>\n      <td>0.151650</td>\n      <td>0.174783</td>\n      <td>0.169913</td>\n    </tr>\n    <tr>\n      <th>Sat</th>\n      <td>2.555556</td>\n      <td>2.476190</td>\n      <td>2.517241</td>\n      <td>0.158048</td>\n      <td>0.147906</td>\n      <td>0.153152</td>\n    </tr>\n    <tr>\n      <th>Sun</th>\n      <td>2.929825</td>\n      <td>2.578947</td>\n      <td>2.842105</td>\n      <td>0.160113</td>\n      <td>0.187250</td>\n      <td>0.166897</td>\n    </tr>\n    <tr>\n      <th>Thur</th>\n      <td>2.488889</td>\n      <td>2.352941</td>\n      <td>2.451613</td>\n      <td>0.160298</td>\n      <td>0.163863</td>\n      <td>0.161276</td>\n    </tr>\n    <tr>\n      <th>All</th>\n      <td>2.668874</td>\n      <td>2.408602</td>\n      <td>2.569672</td>\n      <td>0.159328</td>\n      <td>0.163196</td>\n      <td>0.160803</td>\n    </tr>\n  </tbody>\n</table>\n</div>"
     },
     "execution_count": 46,
     "metadata": {},
     "output_type": "execute_result"
    }
   ],
   "source": [
    "#可以使用margins属性\n",
    "tips.pivot_table(['tip_pct','size'],index=['day'],columns=['smoker'],margins=True)"
   ],
   "metadata": {
    "collapsed": false,
    "pycharm": {
     "name": "#%%\n"
    }
   }
  },
  {
   "cell_type": "code",
   "execution_count": 47,
   "outputs": [
    {
     "data": {
      "text/plain": "       size          tip_pct             \nsmoker   No Yes  All      No   Yes    All\nday                                      \nFri       4  15   19     4.0  15.0   19.0\nSat      45  42   87    45.0  42.0   87.0\nSun      57  19   76    57.0  19.0   76.0\nThur     45  17   62    45.0  17.0   62.0\nAll     151  93  244   151.0  93.0  244.0",
      "text/html": "<div>\n<style scoped>\n    .dataframe tbody tr th:only-of-type {\n        vertical-align: middle;\n    }\n\n    .dataframe tbody tr th {\n        vertical-align: top;\n    }\n\n    .dataframe thead tr th {\n        text-align: left;\n    }\n\n    .dataframe thead tr:last-of-type th {\n        text-align: right;\n    }\n</style>\n<table border=\"1\" class=\"dataframe\">\n  <thead>\n    <tr>\n      <th></th>\n      <th colspan=\"3\" halign=\"left\">size</th>\n      <th colspan=\"3\" halign=\"left\">tip_pct</th>\n    </tr>\n    <tr>\n      <th>smoker</th>\n      <th>No</th>\n      <th>Yes</th>\n      <th>All</th>\n      <th>No</th>\n      <th>Yes</th>\n      <th>All</th>\n    </tr>\n    <tr>\n      <th>day</th>\n      <th></th>\n      <th></th>\n      <th></th>\n      <th></th>\n      <th></th>\n      <th></th>\n    </tr>\n  </thead>\n  <tbody>\n    <tr>\n      <th>Fri</th>\n      <td>4</td>\n      <td>15</td>\n      <td>19</td>\n      <td>4.0</td>\n      <td>15.0</td>\n      <td>19.0</td>\n    </tr>\n    <tr>\n      <th>Sat</th>\n      <td>45</td>\n      <td>42</td>\n      <td>87</td>\n      <td>45.0</td>\n      <td>42.0</td>\n      <td>87.0</td>\n    </tr>\n    <tr>\n      <th>Sun</th>\n      <td>57</td>\n      <td>19</td>\n      <td>76</td>\n      <td>57.0</td>\n      <td>19.0</td>\n      <td>76.0</td>\n    </tr>\n    <tr>\n      <th>Thur</th>\n      <td>45</td>\n      <td>17</td>\n      <td>62</td>\n      <td>45.0</td>\n      <td>17.0</td>\n      <td>62.0</td>\n    </tr>\n    <tr>\n      <th>All</th>\n      <td>151</td>\n      <td>93</td>\n      <td>244</td>\n      <td>151.0</td>\n      <td>93.0</td>\n      <td>244.0</td>\n    </tr>\n  </tbody>\n</table>\n</div>"
     },
     "execution_count": 47,
     "metadata": {},
     "output_type": "execute_result"
    }
   ],
   "source": [
    "#如果使用其他的聚合函数使用aggfunc参数\n",
    "tips.pivot_table(['tip_pct','size'],index=['day'],columns=['smoker'],aggfunc=len,margins=True)"
   ],
   "metadata": {
    "collapsed": false,
    "pycharm": {
     "name": "#%%\n"
    }
   }
  },
  {
   "cell_type": "code",
   "execution_count": 51,
   "outputs": [
    {
     "data": {
      "text/plain": "   Sample  Gender    Handedness\n0       0  Female  Right_handed\n1       1  Female  Right_handed\n2       2  Female  Right_handed\n3       3  Female   Left_handed\n4       4  Female   Left_handed\n5       5  Female   Left_handed\n6       6    Male   Left_handed\n7       7    Male   Left_handed\n8       8    Male   Left_handed\n9       9    Male   Left_handed",
      "text/html": "<div>\n<style scoped>\n    .dataframe tbody tr th:only-of-type {\n        vertical-align: middle;\n    }\n\n    .dataframe tbody tr th {\n        vertical-align: top;\n    }\n\n    .dataframe thead th {\n        text-align: right;\n    }\n</style>\n<table border=\"1\" class=\"dataframe\">\n  <thead>\n    <tr style=\"text-align: right;\">\n      <th></th>\n      <th>Sample</th>\n      <th>Gender</th>\n      <th>Handedness</th>\n    </tr>\n  </thead>\n  <tbody>\n    <tr>\n      <th>0</th>\n      <td>0</td>\n      <td>Female</td>\n      <td>Right_handed</td>\n    </tr>\n    <tr>\n      <th>1</th>\n      <td>1</td>\n      <td>Female</td>\n      <td>Right_handed</td>\n    </tr>\n    <tr>\n      <th>2</th>\n      <td>2</td>\n      <td>Female</td>\n      <td>Right_handed</td>\n    </tr>\n    <tr>\n      <th>3</th>\n      <td>3</td>\n      <td>Female</td>\n      <td>Left_handed</td>\n    </tr>\n    <tr>\n      <th>4</th>\n      <td>4</td>\n      <td>Female</td>\n      <td>Left_handed</td>\n    </tr>\n    <tr>\n      <th>5</th>\n      <td>5</td>\n      <td>Female</td>\n      <td>Left_handed</td>\n    </tr>\n    <tr>\n      <th>6</th>\n      <td>6</td>\n      <td>Male</td>\n      <td>Left_handed</td>\n    </tr>\n    <tr>\n      <th>7</th>\n      <td>7</td>\n      <td>Male</td>\n      <td>Left_handed</td>\n    </tr>\n    <tr>\n      <th>8</th>\n      <td>8</td>\n      <td>Male</td>\n      <td>Left_handed</td>\n    </tr>\n    <tr>\n      <th>9</th>\n      <td>9</td>\n      <td>Male</td>\n      <td>Left_handed</td>\n    </tr>\n  </tbody>\n</table>\n</div>"
     },
     "execution_count": 51,
     "metadata": {},
     "output_type": "execute_result"
    }
   ],
   "source": [
    "data1 = DataFrame({'Sample':range(10),\n",
    "                   'Gender':['Female']*6+['Male']*4,\n",
    "                  'Handedness':['Right_handed']*3+['Left_handed']*7})\n",
    "data1"
   ],
   "metadata": {
    "collapsed": false,
    "pycharm": {
     "name": "#%%\n"
    }
   }
  },
  {
   "cell_type": "code",
   "execution_count": 52,
   "outputs": [
    {
     "data": {
      "text/plain": "Handedness  Left_handed  Right_handed  All\nGender                                    \nFemale                3             3    6\nMale                  4             0    4\nAll                   7             3   10",
      "text/html": "<div>\n<style scoped>\n    .dataframe tbody tr th:only-of-type {\n        vertical-align: middle;\n    }\n\n    .dataframe tbody tr th {\n        vertical-align: top;\n    }\n\n    .dataframe thead th {\n        text-align: right;\n    }\n</style>\n<table border=\"1\" class=\"dataframe\">\n  <thead>\n    <tr style=\"text-align: right;\">\n      <th>Handedness</th>\n      <th>Left_handed</th>\n      <th>Right_handed</th>\n      <th>All</th>\n    </tr>\n    <tr>\n      <th>Gender</th>\n      <th></th>\n      <th></th>\n      <th></th>\n    </tr>\n  </thead>\n  <tbody>\n    <tr>\n      <th>Female</th>\n      <td>3</td>\n      <td>3</td>\n      <td>6</td>\n    </tr>\n    <tr>\n      <th>Male</th>\n      <td>4</td>\n      <td>0</td>\n      <td>4</td>\n    </tr>\n    <tr>\n      <th>All</th>\n      <td>7</td>\n      <td>3</td>\n      <td>10</td>\n    </tr>\n  </tbody>\n</table>\n</div>"
     },
     "execution_count": 52,
     "metadata": {},
     "output_type": "execute_result"
    }
   ],
   "source": [
    "pd.crosstab(data1['Gender'],data1['Handedness'],margins=True)\n",
    "#这个交叉表还是比较好理解的"
   ],
   "metadata": {
    "collapsed": false,
    "pycharm": {
     "name": "#%%\n"
    }
   }
  },
  {
   "cell_type": "code",
   "execution_count": 54,
   "outputs": [
    {
     "data": {
      "text/plain": "smoker        No  Yes  All\ntime   day                \nDinner Fri     3    9   12\n       Sat    45   42   87\n       Sun    57   19   76\n       Thur    1    0    1\nLunch  Fri     1    6    7\n       Thur   44   17   61\nAll          151   93  244",
      "text/html": "<div>\n<style scoped>\n    .dataframe tbody tr th:only-of-type {\n        vertical-align: middle;\n    }\n\n    .dataframe tbody tr th {\n        vertical-align: top;\n    }\n\n    .dataframe thead th {\n        text-align: right;\n    }\n</style>\n<table border=\"1\" class=\"dataframe\">\n  <thead>\n    <tr style=\"text-align: right;\">\n      <th></th>\n      <th>smoker</th>\n      <th>No</th>\n      <th>Yes</th>\n      <th>All</th>\n    </tr>\n    <tr>\n      <th>time</th>\n      <th>day</th>\n      <th></th>\n      <th></th>\n      <th></th>\n    </tr>\n  </thead>\n  <tbody>\n    <tr>\n      <th rowspan=\"4\" valign=\"top\">Dinner</th>\n      <th>Fri</th>\n      <td>3</td>\n      <td>9</td>\n      <td>12</td>\n    </tr>\n    <tr>\n      <th>Sat</th>\n      <td>45</td>\n      <td>42</td>\n      <td>87</td>\n    </tr>\n    <tr>\n      <th>Sun</th>\n      <td>57</td>\n      <td>19</td>\n      <td>76</td>\n    </tr>\n    <tr>\n      <th>Thur</th>\n      <td>1</td>\n      <td>0</td>\n      <td>1</td>\n    </tr>\n    <tr>\n      <th rowspan=\"2\" valign=\"top\">Lunch</th>\n      <th>Fri</th>\n      <td>1</td>\n      <td>6</td>\n      <td>7</td>\n    </tr>\n    <tr>\n      <th>Thur</th>\n      <td>44</td>\n      <td>17</td>\n      <td>61</td>\n    </tr>\n    <tr>\n      <th>All</th>\n      <th></th>\n      <td>151</td>\n      <td>93</td>\n      <td>244</td>\n    </tr>\n  </tbody>\n</table>\n</div>"
     },
     "execution_count": 54,
     "metadata": {},
     "output_type": "execute_result"
    }
   ],
   "source": [
    "pd.crosstab([tips['time'],tips['day']],tips['smoker'],margins=True)\n",
    "#第一个参数是index部分的 第二个参数是column的"
   ],
   "metadata": {
    "collapsed": false,
    "pycharm": {
     "name": "#%%\n"
    }
   }
  }
 ],
 "metadata": {
  "kernelspec": {
   "display_name": "Python 3",
   "language": "python",
   "name": "python3"
  },
  "language_info": {
   "codemirror_mode": {
    "name": "ipython",
    "version": 2
   },
   "file_extension": ".py",
   "mimetype": "text/x-python",
   "name": "python",
   "nbconvert_exporter": "python",
   "pygments_lexer": "ipython2",
   "version": "2.7.6"
  }
 },
 "nbformat": 4,
 "nbformat_minor": 0
}