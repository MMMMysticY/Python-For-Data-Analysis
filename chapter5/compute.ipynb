{
 "cells": [
  {
   "cell_type": "code",
   "execution_count": 1,
   "metadata": {
    "collapsed": true
   },
   "outputs": [],
   "source": [
    "import pandas as pd\n",
    "from pandas import Series,DataFrame\n",
    "import numpy as np"
   ]
  },
  {
   "cell_type": "code",
   "execution_count": 3,
   "outputs": [
    {
     "data": {
      "text/plain": "    one  two\na  1.40  NaN\nb  7.10 -4.5\nc   NaN  NaN\nd  0.75 -1.3",
      "text/html": "<div>\n<style scoped>\n    .dataframe tbody tr th:only-of-type {\n        vertical-align: middle;\n    }\n\n    .dataframe tbody tr th {\n        vertical-align: top;\n    }\n\n    .dataframe thead th {\n        text-align: right;\n    }\n</style>\n<table border=\"1\" class=\"dataframe\">\n  <thead>\n    <tr style=\"text-align: right;\">\n      <th></th>\n      <th>one</th>\n      <th>two</th>\n    </tr>\n  </thead>\n  <tbody>\n    <tr>\n      <th>a</th>\n      <td>1.40</td>\n      <td>NaN</td>\n    </tr>\n    <tr>\n      <th>b</th>\n      <td>7.10</td>\n      <td>-4.5</td>\n    </tr>\n    <tr>\n      <th>c</th>\n      <td>NaN</td>\n      <td>NaN</td>\n    </tr>\n    <tr>\n      <th>d</th>\n      <td>0.75</td>\n      <td>-1.3</td>\n    </tr>\n  </tbody>\n</table>\n</div>"
     },
     "execution_count": 3,
     "metadata": {},
     "output_type": "execute_result"
    }
   ],
   "source": [
    "df = DataFrame([[1.4,np.nan],[7.1,-4.5],[np.nan,np.nan],\n",
    "                [0.75,-1.3]],index=['a','b','c','d'],columns=['one','two'])\n",
    "df"
   ],
   "metadata": {
    "collapsed": false,
    "pycharm": {
     "name": "#%%\n"
    }
   }
  },
  {
   "cell_type": "code",
   "execution_count": 22,
   "outputs": [
    {
     "name": "stdout",
     "output_type": "stream",
     "text": [
      "one    9.25\n",
      "two   -5.80\n",
      "dtype: float64\n",
      "a    1.40\n",
      "b    2.60\n",
      "c    0.00\n",
      "d   -0.55\n",
      "dtype: float64\n",
      "a      NaN\n",
      "b    1.300\n",
      "c      NaN\n",
      "d   -0.275\n",
      "dtype: float64\n",
      "one    b\n",
      "two    d\n",
      "dtype: object\n",
      "a    one\n",
      "b    one\n",
      "c    NaN\n",
      "d    one\n",
      "dtype: object\n",
      "    one  two\n",
      "a  1.40  NaN\n",
      "b  8.50 -4.5\n",
      "c   NaN  NaN\n",
      "d  9.25 -5.8\n",
      "    one   two\n",
      "a  1.40   NaN\n",
      "b  7.10  2.60\n",
      "c   NaN   NaN\n",
      "d  0.75 -0.55\n",
      "-------------------------\n",
      "            one       two\n",
      "count  3.000000  2.000000\n",
      "mean   3.083333 -2.900000\n",
      "std    3.493685  2.262742\n",
      "min    0.750000 -4.500000\n",
      "25%    1.075000 -3.700000\n",
      "50%    1.400000 -2.900000\n",
      "75%    4.250000 -2.100000\n",
      "max    7.100000 -1.300000\n",
      "Index(['count', 'mean', 'std', 'min', '25%', '50%', '75%', 'max'], dtype='object')\n",
      "one    1.075\n",
      "two   -3.700\n",
      "Name: 25%, dtype: float64\n"
     ]
    }
   ],
   "source": [
    "#约简与汇总统计方法\n",
    "\n",
    "#归简方法\n",
    "print(df.sum())       #axis=0按列操作\n",
    "print(df.sum(axis=1)) #axis=1按行操作 见图DataFrame_axis.png\n",
    "print(df.mean(axis=1, skipna=False)) #skipna可以设置是否跳过nan\n",
    "\n",
    "print(df.idxmax())\n",
    "print(df.idxmax(axis=1)) #返回的是间接统计-索引\n",
    "\n",
    "print(df.cumsum())\n",
    "print(df.cumsum(axis=1))#累计求和方法\n",
    "\n",
    "print('-------------------------')\n",
    "print(df.describe())\n",
    "print(df.describe().index)\n",
    "print(df.describe().loc['25%'])"
   ],
   "metadata": {
    "collapsed": false,
    "pycharm": {
     "name": "#%%\n"
    }
   }
  },
  {
   "cell_type": "code",
   "execution_count": 25,
   "outputs": [
    {
     "data": {
      "text/plain": "{'AAPL':                 High       Low      Open     Close       Volume  Adj Close\n Date                                                                      \n 1999-12-31  0.918527  0.888393  0.901228  0.917969  163811200.0   0.791887\n 2000-01-03  1.004464  0.907924  0.936384  0.999442  535796800.0   0.862169\n 2000-01-04  0.987723  0.903460  0.966518  0.915179  512377600.0   0.789480\n 2000-01-05  0.987165  0.919643  0.926339  0.928571  778321600.0   0.801032\n 2000-01-06  0.955357  0.848214  0.947545  0.848214  767972800.0   0.731712\n ...              ...       ...       ...       ...          ...        ...\n 2009-12-24  7.476786  7.262500  7.269643  7.465714  500889200.0   6.440303\n 2009-12-28  7.641071  7.486071  7.561429  7.557500  644565600.0   6.519482\n 2009-12-29  7.597143  7.454643  7.593929  7.467857  445205600.0   6.442152\n 2009-12-30  7.571429  7.439643  7.458214  7.558571  412084400.0   6.520405\n 2009-12-31  7.619643  7.520000  7.611786  7.526071  352410800.0   6.492369\n \n [2516 rows x 6 columns],\n 'IBM':                   High         Low        Open       Close      Volume  \\\n Date                                                                     \n 1999-12-31  109.500000  106.625000  109.187500  107.875000   2870300.0   \n 2000-01-03  116.000000  111.875000  112.437500  116.000000  10347700.0   \n 2000-01-04  114.500000  110.875000  114.000000  112.062500   8227800.0   \n 2000-01-05  119.750000  112.125000  112.937500  116.000000  12733200.0   \n 2000-01-06  118.937500  113.500000  118.000000  114.000000   7971900.0   \n ...                ...         ...         ...         ...         ...   \n 2009-12-24  130.570007  129.479996  129.889999  130.570007   4265100.0   \n 2009-12-28  132.309998  130.720001  130.990005  132.309998   5800400.0   \n 2009-12-29  132.369995  131.800003  132.279999  131.850006   4184200.0   \n 2009-12-30  132.679993  130.679993  131.229996  132.570007   3867000.0   \n 2009-12-31  132.850006  130.750000  132.410004  130.899994   4223400.0   \n \n             Adj Close  \n Date                   \n 1999-12-31  68.691307  \n 2000-01-03  73.865021  \n 2000-01-04  71.357750  \n 2000-01-05  73.865021  \n 2000-01-06  72.591492  \n ...               ...  \n 2009-12-24  92.434242  \n 2009-12-28  93.666039  \n 2009-12-29  93.340370  \n 2009-12-30  93.850067  \n 2009-12-31  92.667847  \n \n [2516 rows x 6 columns],\n 'MSFT':                  High        Low       Open      Close      Volume  Adj Close\n Date                                                                         \n 1999-12-31  58.875000  58.125000  58.750000  58.375000  12517600.0  37.162327\n 2000-01-03  59.312500  56.000000  58.687500  58.281250  53228400.0  37.102634\n 2000-01-04  58.562500  56.125000  56.781250  56.312500  54119000.0  35.849308\n 2000-01-05  58.187500  54.687500  55.562500  56.906250  64059600.0  36.227283\n 2000-01-06  56.937500  54.187500  56.093750  55.000000  54976600.0  35.013741\n ...               ...        ...        ...        ...         ...        ...\n 2009-12-24  31.000000  30.760000  30.879999  31.000000  11083900.0  24.144302\n 2009-12-28  31.180000  30.889999  31.000000  31.170000  25384000.0  24.276709\n 2009-12-29  31.500000  31.230000  31.350000  31.389999  29716200.0  24.448051\n 2009-12-30  31.290001  30.799999  31.150000  30.959999  42006200.0  24.113148\n 2009-12-31  30.990000  30.480000  30.980000  30.480000  31929700.0  23.739305\n \n [2516 rows x 6 columns],\n 'GOOG':                   High         Low        Open       Close    Volume  \\\n Date                                                                   \n 2004-08-19   51.835709   47.800831   49.813290   49.982655  44871361   \n 2004-08-20   54.336334   50.062355   50.316402   53.952770  22942874   \n 2004-08-23   56.528118   54.321388   55.168217   54.495735  18342897   \n 2004-08-24   55.591629   51.591621   55.412300   52.239197  15319808   \n 2004-08-25   53.798351   51.746044   52.284027   52.802086   9232276   \n ...                ...         ...         ...         ...       ...   \n 2009-12-24  308.603271  304.991821  305.320587  308.085236   1723837   \n 2009-12-28  311.826202  308.085236  309.669281  310.272034   3408528   \n 2009-12-29  311.253357  307.990570  311.203522  308.543518   2860281   \n 2009-12-30  310.202301  307.851105  308.095184  310.202301   2942187   \n 2009-12-31  311.532288  308.832428  311.208527  308.832428   2448744   \n \n              Adj Close  \n Date                    \n 2004-08-19   49.982655  \n 2004-08-20   53.952770  \n 2004-08-23   54.495735  \n 2004-08-24   52.239197  \n 2004-08-25   52.802086  \n ...                ...  \n 2009-12-24  308.085236  \n 2009-12-28  310.272034  \n 2009-12-29  308.543518  \n 2009-12-30  310.202301  \n 2009-12-31  308.832428  \n \n [1353 rows x 6 columns]}"
     },
     "execution_count": 25,
     "metadata": {},
     "output_type": "execute_result"
    }
   ],
   "source": [
    "import pandas_datareader as web\n",
    "\n",
    "all_data={}\n",
    "for ticker in ['AAPL','IBM','MSFT','GOOG']:\n",
    "    all_data[ticker] = web.get_data_yahoo(ticker,'1/1/2000','1/1/2010')\n",
    "all_data"
   ],
   "metadata": {
    "collapsed": false,
    "pycharm": {
     "name": "#%%\n"
    }
   }
  },
  {
   "cell_type": "code",
   "execution_count": 28,
   "outputs": [
    {
     "name": "stdout",
     "output_type": "stream",
     "text": [
      "                AAPL        IBM       MSFT        GOOG\n",
      "Date                                                  \n",
      "1999-12-31  0.791887  68.691307  37.162327         NaN\n",
      "2000-01-03  0.862169  73.865021  37.102634         NaN\n",
      "2000-01-04  0.789480  71.357750  35.849308         NaN\n",
      "2000-01-05  0.801032  73.865021  36.227283         NaN\n",
      "2000-01-06  0.731712  72.591492  35.013741         NaN\n",
      "...              ...        ...        ...         ...\n",
      "2009-12-24  6.440303  92.434242  24.144302  308.085236\n",
      "2009-12-28  6.519482  93.666039  24.276709  310.272034\n",
      "2009-12-29  6.442152  93.340370  24.448051  308.543518\n",
      "2009-12-30  6.520405  93.850067  24.113148  310.202301\n",
      "2009-12-31  6.492369  92.667847  23.739305  308.832428\n",
      "\n",
      "[2516 rows x 4 columns]\n",
      "                   AAPL         IBM        MSFT       GOOG\n",
      "Date                                                      \n",
      "1999-12-31  163811200.0   2870300.0  12517600.0        NaN\n",
      "2000-01-03  535796800.0  10347700.0  53228400.0        NaN\n",
      "2000-01-04  512377600.0   8227800.0  54119000.0        NaN\n",
      "2000-01-05  778321600.0  12733200.0  64059600.0        NaN\n",
      "2000-01-06  767972800.0   7971900.0  54976600.0        NaN\n",
      "...                 ...         ...         ...        ...\n",
      "2009-12-24  500889200.0   4265100.0  11083900.0  1723837.0\n",
      "2009-12-28  644565600.0   5800400.0  25384000.0  3408528.0\n",
      "2009-12-29  445205600.0   4184200.0  29716200.0  2860281.0\n",
      "2009-12-30  412084400.0   3867000.0  42006200.0  2942187.0\n",
      "2009-12-31  352410800.0   4223400.0  31929700.0  2448744.0\n",
      "\n",
      "[2516 rows x 4 columns]\n"
     ]
    }
   ],
   "source": [
    "price = DataFrame({tic: data['Adj Close']\n",
    "                   for tic,data in all_data.items()})\n",
    "volume = DataFrame({tic: data['Volume']\n",
    "                   for tic,data in all_data.items()}) #处理方法挺不错的\n",
    "print(price)\n",
    "print(volume)"
   ],
   "metadata": {
    "collapsed": false,
    "pycharm": {
     "name": "#%%\n"
    }
   }
  },
  {
   "cell_type": "code",
   "execution_count": 29,
   "outputs": [
    {
     "name": "stdout",
     "output_type": "stream",
     "text": [
      "<class 'pandas.core.frame.DataFrame'>\n"
     ]
    }
   ],
   "source": [
    "print(type(all_data['AAPL']))"
   ],
   "metadata": {
    "collapsed": false,
    "pycharm": {
     "name": "#%%\n"
    }
   }
  },
  {
   "cell_type": "code",
   "execution_count": 32,
   "outputs": [
    {
     "name": "stdout",
     "output_type": "stream",
     "text": [
      "                AAPL       IBM      MSFT      GOOG\n",
      "Date                                              \n",
      "2009-12-24  0.034340  0.004385  0.002587  0.011117\n",
      "2009-12-28  0.012294  0.013326  0.005484  0.007098\n",
      "2009-12-29 -0.011861 -0.003477  0.007058 -0.005571\n",
      "2009-12-30  0.012147  0.005461 -0.013699  0.005376\n",
      "2009-12-31 -0.004300 -0.012597 -0.015504 -0.004416\n",
      "0.49435840887788884\n",
      "          AAPL       IBM      MSFT      GOOG\n",
      "AAPL  1.000000  0.412391  0.423598  0.470676\n",
      "IBM   0.412391  1.000000  0.494358  0.390689\n",
      "MSFT  0.423598  0.494358  1.000000  0.443586\n",
      "GOOG  0.470676  0.390689  0.443586  1.000000\n",
      "          AAPL       IBM      MSFT      GOOG\n",
      "AAPL  0.001030  0.000254  0.000309  0.000303\n",
      "IBM   0.000254  0.000369  0.000216  0.000142\n",
      "MSFT  0.000309  0.000216  0.000516  0.000205\n",
      "GOOG  0.000303  0.000142  0.000205  0.000580\n"
     ]
    }
   ],
   "source": [
    "returns = price.pct_change()#计算百分数变化\n",
    "print(returns.tail())\n",
    "print(returns.MSFT.corr(returns.IBM)) #计算相关系数 corr\n",
    "print(returns.corr()) #相关系数\n",
    "print(returns.cov()) #协方差"
   ],
   "metadata": {
    "collapsed": false,
    "pycharm": {
     "name": "#%%\n"
    }
   }
  },
  {
   "cell_type": "code",
   "execution_count": 42,
   "outputs": [
    {
     "name": "stdout",
     "output_type": "stream",
     "text": [
      "['a' 'c' 'd' 'b' 'e']\n",
      "<class 'numpy.ndarray'>\n",
      "a    3\n",
      "b    2\n",
      "d    2\n",
      "e    1\n",
      "c    1\n",
      "dtype: int64\n",
      "c    1\n",
      "d    2\n",
      "a    3\n",
      "b    2\n",
      "e    1\n",
      "dtype: int64\n",
      "0    False\n",
      "1     True\n",
      "2    False\n",
      "3    False\n",
      "4     True\n",
      "5     True\n",
      "6    False\n",
      "7    False\n",
      "8    False\n",
      "dtype: bool\n",
      "1    c\n",
      "4    b\n",
      "5    b\n",
      "dtype: object\n"
     ]
    }
   ],
   "source": [
    "obj = Series(['a','c','d','d','b','b','e','a','a'])\n",
    "uniques = obj.unique()  #取唯一值 去重\n",
    "print(uniques)\n",
    "print(type(uniques))\n",
    "\n",
    "print(obj.value_counts())\n",
    "print(obj.value_counts(sort=False))#获取出现频率\n",
    "\n",
    "mask = obj.isin(['b','c'])\n",
    "print(mask)\n",
    "print(obj[mask])"
   ],
   "metadata": {
    "collapsed": false,
    "pycharm": {
     "name": "#%%\n"
    }
   }
  },
  {
   "cell_type": "code",
   "execution_count": 55,
   "outputs": [
    {
     "name": "stdout",
     "output_type": "stream",
     "text": [
      "0    False\n",
      "1    False\n",
      "2     True\n",
      "3     True\n",
      "dtype: bool\n",
      "0    young\n",
      "1    damon\n",
      "dtype: object\n",
      "0    young\n",
      "1    damon\n",
      "dtype: object\n",
      "-----------------------------------------------------\n",
      "     0    1    2\n",
      "0  1.0  6.5  3.0\n",
      "1  1.0  NaN  NaN\n",
      "2  NaN  NaN  NaN\n",
      "3  NaN  6.5  3.0\n",
      "     0    1    2\n",
      "0  1.0  6.5  3.0\n",
      "---------------\n",
      "     0    1    2\n",
      "0  1.0  6.5  3.0\n",
      "1  1.0  NaN  NaN\n",
      "3  NaN  6.5  3.0\n",
      "--------------\n",
      "Empty DataFrame\n",
      "Columns: []\n",
      "Index: [0, 1, 2, 3]\n"
     ]
    }
   ],
   "source": [
    "#处理缺失数据\n",
    "# isnull notnull 可以判断是否为NaN和None\n",
    "# 之后可以使用dropna fillna进行缺失数据的处理\n",
    "\n",
    "#Series\n",
    "string_data = Series(['young','damon',np.nan,None])\n",
    "print(string_data.isnull())\n",
    "\n",
    "print(string_data.dropna())\n",
    "print(string_data[string_data.notnull()]) #这两个效果是一样的\n",
    "\n",
    "print('-----------------------------------------------------')\n",
    "#DataFrame\n",
    "data = DataFrame([[1.,6.5,3.],[1.,np.nan,np.nan],[np.nan,np.nan,np.nan],\n",
    "                  [np.nan,6.5,3.]])\n",
    "print(data)\n",
    "print(data.dropna()) #DataFrame的dropna默认是将出现NaN的行全去除\n",
    "print(\"---------------\")\n",
    "print(data.dropna(how='all')) #通过how参数可以确定去除规则 all是只去除全为NaN的部分\n",
    "print('--------------')\n",
    "print(data.dropna(axis=1)) #axis=1设置按列取丢弃"
   ],
   "metadata": {
    "collapsed": false,
    "pycharm": {
     "name": "#%%\n"
    }
   }
  },
  {
   "cell_type": "code",
   "execution_count": 62,
   "outputs": [
    {
     "name": "stdout",
     "output_type": "stream",
     "text": [
      "     0    1    2\n",
      "0  1.0  6.5  3.0\n",
      "1  1.0  0.0  0.0\n",
      "2  0.0  0.0  0.0\n",
      "3  0.0  6.5  3.0\n",
      "     0    1    2\n",
      "0  1.0  6.5  3.0\n",
      "1  1.0  1.0  1.0\n",
      "2  1.0  1.0  1.0\n",
      "3  1.0  6.5  3.0\n",
      "-----------------------------------\n",
      "     0    1    2\n",
      "0  1.0  6.5  3.0\n",
      "1  1.0  NaN  NaN\n",
      "2  NaN  NaN  NaN\n",
      "3  NaN  6.5  3.0\n",
      "     0    1    2\n",
      "0  1.0  6.5  3.0\n",
      "1  1.0  6.5  3.0\n",
      "2  1.0  6.5  3.0\n",
      "3  1.0  6.5  3.0\n",
      "     0    1    2\n",
      "0  1.0  6.5  3.0\n",
      "1  1.0  6.5  3.0\n",
      "2  1.0  NaN  NaN\n",
      "3  NaN  6.5  3.0\n"
     ]
    }
   ],
   "source": [
    "#填充缺失数据 fillna\n",
    "print(data.fillna(0))\n",
    "\n",
    "data.fillna(1,inplace=True) #inplace参数可以替换原有对象\n",
    "print(data)\n",
    "print('-----------------------------------')\n",
    "#在reindex里有过当出现新的index的时候可以使用ffill bfill插值处理\n",
    "#在fillna中同样有 很明显可以而且合理而且有用\n",
    "data = DataFrame([[1.,6.5,3.],[1.,np.nan,np.nan],[np.nan,np.nan,np.nan],\n",
    "                  [np.nan,6.5,3.]])\n",
    "print(data)\n",
    "print(data.fillna(method='ffill'))\n",
    "print(data.fillna(method='ffill',limit=1))\n",
    "#method设置ffill能够复制填充 Limit参数能设置最大填充个数"
   ],
   "metadata": {
    "collapsed": false,
    "pycharm": {
     "name": "#%%\n"
    }
   }
  },
  {
   "cell_type": "code",
   "execution_count": 81,
   "outputs": [
    {
     "name": "stdout",
     "output_type": "stream",
     "text": [
      "a  1    0.018199\n",
      "   2   -0.417106\n",
      "   3   -0.161546\n",
      "b  1    0.651970\n",
      "   2   -0.032396\n",
      "   3   -0.291069\n",
      "c  1   -0.470451\n",
      "   2   -1.552493\n",
      "d  2    0.581938\n",
      "   3   -1.623663\n",
      "dtype: float64\n",
      "MultiIndex([('a', 1),\n",
      "            ('a', 2),\n",
      "            ('a', 3),\n",
      "            ('b', 1),\n",
      "            ('b', 2),\n",
      "            ('b', 3),\n",
      "            ('c', 1),\n",
      "            ('c', 2),\n",
      "            ('d', 2),\n",
      "            ('d', 3)],\n",
      "           )\n",
      "取一层索引\n",
      "1    0.651970\n",
      "2   -0.032396\n",
      "3   -0.291069\n",
      "dtype: float64\n",
      "取一层区间索引\n",
      "b  1    0.651970\n",
      "   2   -0.032396\n",
      "   3   -0.291069\n",
      "c  1   -0.470451\n",
      "   2   -1.552493\n",
      "dtype: float64\n",
      "在取一层之后再去取二层索引拿到数据值\n",
      "0.6519698329880603\n",
      "外层不取，取内层索引\n",
      "a   -0.417106\n",
      "b   -0.032396\n",
      "c   -1.552493\n",
      "d    0.581938\n",
      "dtype: float64\n",
      "-------------------------------\n",
      "可以通过unstack()方法将Series的层次化索引变为DataFrame 更合理\n",
      "          1         2         3\n",
      "a  0.018199 -0.417106 -0.161546\n",
      "b  0.651970 -0.032396 -0.291069\n",
      "c -0.470451 -1.552493       NaN\n",
      "d       NaN  0.581938 -1.623663\n",
      "a  1    0.018199\n",
      "   2   -0.417106\n",
      "   3   -0.161546\n",
      "b  1    0.651970\n",
      "   2   -0.032396\n",
      "   3   -0.291069\n",
      "c  1   -0.470451\n",
      "   2   -1.552493\n",
      "d  2    0.581938\n",
      "   3   -1.623663\n",
      "dtype: float64\n",
      "##################################\n",
      "     Ohio     Colorado\n",
      "    Green Red    Green\n",
      "a 1     0   1        2\n",
      "  2     3   4        5\n",
      "b 1     6   7        8\n",
      "  2     9  10       11\n",
      "可以给分层索引的每层进行命名\n",
      "state      Ohio     Colorado\n",
      "color     Green Red    Green\n",
      "key1 key2                   \n",
      "a    1        0   1        2\n",
      "     2        3   4        5\n",
      "b    1        6   7        8\n",
      "     2        9  10       11\n",
      "0\n",
      "-----------------------------------\n",
      "state      Ohio     Colorado\n",
      "color     Green Red    Green\n",
      "key2 key1                   \n",
      "1    a        0   1        2\n",
      "2    a        3   4        5\n",
      "1    b        6   7        8\n",
      "2    b        9  10       11\n",
      "state  Ohio     Colorado\n",
      "color Green Red    Green\n",
      "key2                    \n",
      "1         6   8       10\n",
      "2        12  14       16\n",
      "color      Green  Red\n",
      "key1 key2            \n",
      "a    1         2    1\n",
      "     2         8    4\n",
      "b    1        14    7\n",
      "     2        20   10\n"
     ]
    }
   ],
   "source": [
    "#层次化索引：在同一个轴上，有多个索引级别 有索引的索引 然后映射数据\n",
    "\n",
    "#Series\n",
    "data1 = Series(np.random.randn(10),index=[['a','a','a','b','b','b','c','c','d','d'],\n",
    "                                          [1,2,3,1,2,3,1,2,2,3]])\n",
    "print(data1)\n",
    "print(data1.index) #在这种情况下就是层次化索引 index的数据类型为MultiIndex\n",
    "#对于层次化索引的处理要分层处理（直觉上肯定是这样的）\n",
    "print(\"取一层索引\")\n",
    "print(data1['b'])\n",
    "print(\"取一层区间索引\")\n",
    "print(data1[['b','c']])\n",
    "print(\"在取一层之后再去取二层索引拿到数据值\")\n",
    "print(data1['b'][1])\n",
    "print(\"外层不取，取内层索引\")\n",
    "print(data1[:,2])\n",
    "print('-------------------------------')\n",
    "print(\"可以通过unstack()方法将Series的层次化索引变为DataFrame 更合理\")\n",
    "print(data1.unstack())\n",
    "print(data1.unstack().stack()) #stack是unstack的逆运算\n",
    "\n",
    "\n",
    "print(\"##################################\")\n",
    "#DataFrame\n",
    "frame = DataFrame(np.arange(12).reshape(4,3),\n",
    "                  index=[['a','a','b','b'],[1,2,1,2]],\n",
    "                  columns=[['Ohio','Ohio','Colorado'],['Green','Red','Green']])\n",
    "print(frame) #DataFrame两个轴都可以进行分层索引\n",
    "print(\"可以给分层索引的每层进行命名\")\n",
    "frame.index.names = ['key1','key2']\n",
    "frame.columns.names = ['state','color']\n",
    "print(frame)\n",
    "print(frame['Ohio'].loc['a'].Green.iloc[0])\n",
    "\n",
    "print(\"-----------------------------------\")\n",
    "#分层索引的层级之间可以互换顺序 改变优先级,当然数据不会发生变化\n",
    "print(frame.swaplevel('key1','key2'))\n",
    "print(frame.sum(level='key2'))\n",
    "print(frame.sum(level='color',axis = 1))"
   ],
   "metadata": {
    "collapsed": false,
    "pycharm": {
     "name": "#%%\n"
    }
   }
  },
  {
   "cell_type": "code",
   "execution_count": 87,
   "outputs": [
    {
     "name": "stdout",
     "output_type": "stream",
     "text": [
      "   a  b    c  d\n",
      "0  0  7  one  0\n",
      "1  1  6  one  1\n",
      "2  2  5  one  2\n",
      "3  3  4  two  3\n",
      "4  4  3  two  1\n",
      "5  5  2  two  2\n",
      "6  6  1  two  0\n",
      "--------------------------------------------\n",
      "     a  b  d\n",
      "c           \n",
      "one  0  7  0\n",
      "one  1  6  1\n",
      "one  2  5  2\n",
      "two  3  4  3\n",
      "two  4  3  1\n",
      "two  5  2  2\n",
      "two  6  1  0\n",
      "       a  b\n",
      "c   d      \n",
      "one 0  0  7\n",
      "    1  1  6\n",
      "    2  2  5\n",
      "two 3  3  4\n",
      "    1  4  3\n",
      "    2  5  2\n",
      "    0  6  1\n",
      "       a  b    c  d\n",
      "c   d              \n",
      "one 0  0  7  one  0\n",
      "    1  1  6  one  1\n",
      "    2  2  5  one  2\n",
      "two 3  3  4  two  3\n",
      "    1  4  3  two  1\n",
      "    2  5  2  two  2\n",
      "    0  6  1  two  0\n",
      "--------------------\n",
      "     c  d  a  b\n",
      "0  one  0  0  7\n",
      "1  one  1  1  6\n",
      "2  one  2  2  5\n",
      "3  two  3  3  4\n",
      "4  two  1  4  3\n",
      "5  two  2  5  2\n",
      "6  two  0  6  1\n"
     ]
    }
   ],
   "source": [
    "#当需要将DataFrame的一个列当行索引 或者多个列当行分层索引时 可以使用set_index\n",
    "frame2 = DataFrame({'a':range(7),'b':range(7,0,-1),'c':['one','one','one','two','two',\n",
    "                    'two','two'],'d':[0,1,2,3,1,2,0]})\n",
    "print(frame2)\n",
    "print('--------------------------------------------')\n",
    "print(frame2.set_index(['c'])) #将c的列作为index存在 因为index的维度和每列的维度是一样的\n",
    "print(frame2.set_index(['c','d'])) #如果用两列就产生了分层索引\n",
    "print(frame2.set_index(['c','d'],drop=False)) #如果使用drop False 参数可以不去掉那几列\n",
    "print(\"--------------------\")\n",
    "print(frame2.set_index(['c','d']).reset_index()) #reset_index是逆过程"
   ],
   "metadata": {
    "collapsed": false,
    "pycharm": {
     "name": "#%%\n"
    }
   }
  }
 ],
 "metadata": {
  "kernelspec": {
   "display_name": "Python 3",
   "language": "python",
   "name": "python3"
  },
  "language_info": {
   "codemirror_mode": {
    "name": "ipython",
    "version": 2
   },
   "file_extension": ".py",
   "mimetype": "text/x-python",
   "name": "python",
   "nbconvert_exporter": "python",
   "pygments_lexer": "ipython2",
   "version": "2.7.6"
  }
 },
 "nbformat": 4,
 "nbformat_minor": 0
}