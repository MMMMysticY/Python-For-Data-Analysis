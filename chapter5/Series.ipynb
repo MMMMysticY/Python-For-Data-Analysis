{
 "cells": [
  {
   "cell_type": "code",
   "execution_count": 9,
   "metadata": {},
   "outputs": [],
   "source": [
    "from pandas import Series, DataFrame\n",
    "import pandas as pd\n",
    "import numpy as np"
   ]
  },
  {
   "cell_type": "code",
   "execution_count": 3,
   "outputs": [
    {
     "name": "stdout",
     "output_type": "stream",
     "text": [
      "0    4\n",
      "1    1\n",
      "2    5\n",
      "3   -3\n",
      "dtype: int64\n"
     ]
    }
   ],
   "source": [
    "obj = Series([4,1,5,-3])  #使用Series的构造函数 将数组转化为Series\n",
    "                          #Series有标签和数据组成\n",
    "print(obj)"
   ],
   "metadata": {
    "collapsed": false,
    "pycharm": {
     "name": "#%%\n"
    }
   }
  },
  {
   "cell_type": "code",
   "execution_count": 4,
   "outputs": [
    {
     "name": "stdout",
     "output_type": "stream",
     "text": [
      "[ 4  1  5 -3]\n",
      "RangeIndex(start=0, stop=4, step=1)\n"
     ]
    }
   ],
   "source": [
    "print(obj.values)\n",
    "print(obj.index)\n",
    "#value 和 index 可以看数据和标签"
   ],
   "metadata": {
    "collapsed": false,
    "pycharm": {
     "name": "#%%\n"
    }
   }
  },
  {
   "cell_type": "code",
   "execution_count": 6,
   "outputs": [
    {
     "name": "stdout",
     "output_type": "stream",
     "text": [
      "Index(['a', 'b', 'c', 'f'], dtype='object')\n",
      "a    1\n",
      "b    2\n",
      "c    3\n",
      "f   -7\n",
      "dtype: int64\n"
     ]
    }
   ],
   "source": [
    "obj2 = Series([1,2,3,-7],index=['a','b','c','f']) #可以显示定义index值\n",
    "print(obj2.index)\n",
    "print(obj2)"
   ],
   "metadata": {
    "collapsed": false,
    "pycharm": {
     "name": "#%%\n"
    }
   }
  },
  {
   "cell_type": "code",
   "execution_count": 8,
   "outputs": [
    {
     "name": "stdout",
     "output_type": "stream",
     "text": [
      "1\n",
      "b      2\n",
      "f    100\n",
      "dtype: int64\n"
     ]
    }
   ],
   "source": [
    "print(obj2['a']) #不同于numpy只能通过数值索引来取值\n",
    "                 # Series中有index的概念 所以可以通过index的值来取值\n",
    "obj2['f'] = 100  #可以通过index直接修改值\n",
    "print(obj2[['b','f']]) #可以通过index数组获取特定index对应的值"
   ],
   "metadata": {
    "collapsed": false,
    "pycharm": {
     "name": "#%%\n"
    }
   }
  },
  {
   "cell_type": "code",
   "execution_count": 12,
   "outputs": [
    {
     "name": "stdout",
     "output_type": "stream",
     "text": [
      "a    1\n",
      "b    2\n",
      "c    3\n",
      "dtype: int64\n",
      "a     True\n",
      "b     True\n",
      "c     True\n",
      "f    False\n",
      "dtype: bool\n",
      "a      2\n",
      "b      4\n",
      "c      6\n",
      "f    200\n",
      "dtype: int64\n",
      "a    2.718282e+00\n",
      "b    7.389056e+00\n",
      "c    2.008554e+01\n",
      "f    2.688117e+43\n",
      "dtype: float64\n",
      "True\n",
      "False\n"
     ]
    }
   ],
   "source": [
    "print(obj2[obj2<50])  #理念同上一个类似 obj2<50得到的结果是一个布尔数组\n",
    "print(obj2<50)\n",
    "print(obj2*2)\n",
    "print(np.exp(obj2)) #对Series进行数值运算等会对其数据进行运算\n",
    "                    #同时，仍然会保留索引与数据的对应关系"
   ],
   "metadata": {
    "collapsed": false,
    "pycharm": {
     "name": "#%%\n"
    }
   }
  },
  {
   "cell_type": "code",
   "execution_count": 13,
   "outputs": [
    {
     "name": "stdout",
     "output_type": "stream",
     "text": [
      "True\n",
      "False\n",
      "Ohio      35000\n",
      "Texas     71000\n",
      "Oregon    16000\n",
      "Utah       5000\n",
      "dtype: int64\n"
     ]
    }
   ],
   "source": [
    "print('b' in obj2)\n",
    "print('d' in obj2) #可以将Series看做字典性质而非数组性质\n",
    "                   #所以可以当字典处理\n",
    "sdata = {'Ohio': 35000, 'Texas': 71000, 'Oregon': 16000, 'Utah': 5000}\n",
    "#一个普通的字典形式\n",
    "obj3 = Series(sdata)\n",
    "print(obj3)  #将字典直接转化为Series 直接变为index-data对"
   ],
   "metadata": {
    "collapsed": false,
    "pycharm": {
     "name": "#%%\n"
    }
   }
  },
  {
   "cell_type": "code",
   "execution_count": 23,
   "outputs": [
    {
     "name": "stdout",
     "output_type": "stream",
     "text": [
      "Ohio       <NA>\n",
      "Texas     71000\n",
      "Oregon    16000\n",
      "Utah       5000\n",
      "dtype: object\n",
      "Ohio       True\n",
      "Texas     False\n",
      "Oregon    False\n",
      "Utah      False\n",
      "dtype: bool\n",
      "Ohio      False\n",
      "Texas      True\n",
      "Oregon     True\n",
      "Utah       True\n",
      "dtype: bool\n"
     ]
    }
   ],
   "source": [
    "obj3['Ohio'] = pd.NA\n",
    "print(obj3)\n",
    "print(pd.isnull(obj3))\n",
    "print(pd.notnull(obj3)) #使用isnull notnull 判断是否为Na"
   ],
   "metadata": {
    "collapsed": false,
    "pycharm": {
     "name": "#%%\n"
    }
   }
  },
  {
   "cell_type": "code",
   "execution_count": 25,
   "outputs": [
    {
     "name": "stdout",
     "output_type": "stream",
     "text": [
      "California    35000\n",
      "Texas         71000\n",
      "Oregon        16000\n",
      "Utah           5000\n",
      "dtype: int64\n",
      "California       NaN\n",
      "Ohio            <NA>\n",
      "Oregon         32000\n",
      "Texas         142000\n",
      "Utah           10000\n",
      "dtype: object\n"
     ]
    }
   ],
   "source": [
    "sdata2 = {'California': 35000, 'Texas': 71000, 'Oregon': 16000, 'Utah': 5000}\n",
    "obj4 = Series(sdata2)\n",
    "print(obj4)\n",
    "\n",
    "print(obj3+obj4) #会自动对齐不同索引的数据 虽然在不同Series中的顺序不同 但是是按照索引对齐的"
   ],
   "metadata": {
    "collapsed": false,
    "pycharm": {
     "name": "#%%\n"
    }
   }
  },
  {
   "cell_type": "code",
   "execution_count": 26,
   "outputs": [
    {
     "name": "stdout",
     "output_type": "stream",
     "text": [
      "state\n",
      "California    35000\n",
      "Texas         71000\n",
      "Oregon        16000\n",
      "Utah           5000\n",
      "Name: population, dtype: int64\n"
     ]
    }
   ],
   "source": [
    "obj4.name = 'population'\n",
    "obj4.index.name = 'state'\n",
    "print(obj4)\n",
    "\n",
    "#总体而言，可以将Series看做定长的有序字典 索引值到数值值的一个映射"
   ],
   "metadata": {
    "collapsed": false,
    "pycharm": {
     "name": "#%%\n"
    }
   }
  }
 ],
 "metadata": {
  "kernelspec": {
   "display_name": "Python 3",
   "language": "python",
   "name": "python3"
  },
  "language_info": {
   "codemirror_mode": {
    "name": "ipython",
    "version": 3
   },
   "file_extension": ".py",
   "mimetype": "text/x-python",
   "name": "python",
   "nbconvert_exporter": "python",
   "pygments_lexer": "ipython3",
   "version": "3.7.7"
  }
 },
 "nbformat": 4,
 "nbformat_minor": 4
}