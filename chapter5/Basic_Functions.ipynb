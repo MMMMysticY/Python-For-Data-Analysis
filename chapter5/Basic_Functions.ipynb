{
 "cells": [
  {
   "cell_type": "code",
   "execution_count": 5,
   "metadata": {
    "collapsed": true
   },
   "outputs": [],
   "source": [
    "from pandas import DataFrame,Series\n",
    "import pandas as pd\n",
    "import numpy as np"
   ]
  },
  {
   "cell_type": "code",
   "execution_count": 6,
   "outputs": [],
   "source": [
    "#重新索引 reindex 目的在于修改索引重新排序，并通过修改索引改变值"
   ],
   "metadata": {
    "collapsed": false,
    "pycharm": {
     "name": "#%%\n"
    }
   }
  },
  {
   "cell_type": "code",
   "execution_count": 7,
   "outputs": [
    {
     "name": "stdout",
     "output_type": "stream",
     "text": [
      "d    4.5\n",
      "b    7.5\n",
      "c    2.3\n",
      "a   -5.5\n",
      "dtype: float64\n"
     ]
    }
   ],
   "source": [
    "obj = Series([4.5,7.5,2.3,-5.5],index=['d','b','c','a'])\n",
    "print(obj)"
   ],
   "metadata": {
    "collapsed": false,
    "pycharm": {
     "name": "#%%\n"
    }
   }
  },
  {
   "cell_type": "code",
   "execution_count": 10,
   "outputs": [
    {
     "name": "stdout",
     "output_type": "stream",
     "text": [
      "a   -5.5\n",
      "b    7.5\n",
      "c    2.3\n",
      "d    4.5\n",
      "e    NaN\n",
      "dtype: float64\n",
      "a   -5.5\n",
      "b    7.5\n",
      "c    2.3\n",
      "d    4.5\n",
      "e    0.0\n",
      "dtype: float64\n",
      "0      blue\n",
      "2    purple\n",
      "4    yellow\n",
      "dtype: object\n",
      "0      blue\n",
      "1      blue\n",
      "2    purple\n",
      "3    purple\n",
      "4    yellow\n",
      "5    yellow\n",
      "dtype: object\n"
     ]
    }
   ],
   "source": [
    "#reindex处理Series基本功能\n",
    "\n",
    "obj2 = obj.reindex(['a','b','c','d','e']) #通过reindex修改了索引的顺序 新的索引会使用NaN填充\n",
    "print(obj2)\n",
    "\n",
    "print(obj.reindex(['a','b','c','d','e'],fill_value=0)) #通过fill_value属性可以填补默认缺省值\n",
    "\n",
    "obj3 = Series(['blue','purple','yellow'],index=[0,2,4])\n",
    "print(obj3)\n",
    "print(obj3.reindex(range(6),method='ffill')) #通过method的方法可以实现插值处理"
   ],
   "metadata": {
    "collapsed": false,
    "pycharm": {
     "name": "#%%\n"
    }
   }
  },
  {
   "cell_type": "code",
   "execution_count": 20,
   "outputs": [
    {
     "name": "stdout",
     "output_type": "stream",
     "text": [
      "   Ohio  Texas  California\n",
      "a     0      1           2\n",
      "c     3      4           5\n",
      "d     6      7           8\n",
      "   Ohio  Texas  California\n",
      "a   0.0    1.0         2.0\n",
      "b   NaN    NaN         NaN\n",
      "d   6.0    7.0         8.0\n",
      "c   3.0    4.0         5.0\n",
      "   Texas  Utah  California\n",
      "a      1   NaN           2\n",
      "c      4   NaN           5\n",
      "d      7   NaN           8\n",
      "   Texas  Utah  California\n",
      "a    1.0   NaN         2.0\n",
      "b    1.0   NaN         2.0\n",
      "c    4.0   NaN         5.0\n",
      "d    7.0   NaN         8.0\n"
     ]
    }
   ],
   "source": [
    "#index处理DataFrame基本功能\n",
    "\n",
    "frame = DataFrame(np.arange(9).reshape(3,3),index=['a','c','d'],columns=['Ohio','Texas','California'])\n",
    "print(frame)\n",
    "\n",
    "frame2 = frame.reindex(['a','b','d','c']) #整体上理解DataFrame是多个Series按列放置 所以默认的reindex就和Series类似\n",
    "print(frame2)\n",
    "states = ['Texas','Utah','California']\n",
    "print(frame.reindex(columns=states)) #使用columns按列进行重排\n",
    "\n",
    "print(frame.reindex(index=['a','b','c','d'],columns=states).ffill()) #由于index不是可比较的 所以不能使用Method=参数 而是显示使用函数\n",
    "#注意 对于DataFrame的reindex的插值 只能按行应用 即轴0"
   ],
   "metadata": {
    "collapsed": false,
    "pycharm": {
     "name": "#%%\n"
    }
   }
  },
  {
   "cell_type": "code",
   "execution_count": null,
   "outputs": [],
   "source": [
    "#丢弃 索引 选取 过滤"
   ],
   "metadata": {
    "collapsed": false,
    "pycharm": {
     "name": "#%%\n"
    }
   }
  },
  {
   "cell_type": "code",
   "execution_count": 27,
   "outputs": [
    {
     "name": "stdout",
     "output_type": "stream",
     "text": [
      "d    4.5\n",
      "b    7.5\n",
      "a   -5.5\n",
      "dtype: float64\n",
      "c    2.3\n",
      "dtype: float64\n",
      "   Ohio  Texas  California\n",
      "c     3      4           5\n",
      "d     6      7           8\n",
      "   California\n",
      "a           2\n",
      "c           5\n",
      "d           8\n",
      "True\n"
     ]
    }
   ],
   "source": [
    "#丢弃 使用drop方法\n",
    "obj4 = obj.drop('c')\n",
    "print(obj4)\n",
    "obj5 = obj.drop(['a','b','d'])\n",
    "print(obj5)\n",
    "#drop对应Series 可以删除特定行 但是单纯使用drop是视图而非副本\n",
    "\n",
    "frame3 = frame.drop(index=['a'])\n",
    "print(frame3)\n",
    "frame4 = frame.drop(columns=['Ohio','Texas'])\n",
    "print(frame4)\n",
    "frame5 = frame.drop(['Ohio','Texas'],axis=1)\n",
    "print(frame4.equals(frame5))\n",
    "#对DataFrame的drop操作可以指定index和columns\n",
    "#对于columns的操作是axis=1 对于index的操作是axis=0"
   ],
   "metadata": {
    "collapsed": false,
    "pycharm": {
     "name": "#%%\n"
    }
   }
  },
  {
   "cell_type": "code",
   "execution_count": 58,
   "outputs": [
    {
     "name": "stdout",
     "output_type": "stream",
     "text": [
      "-5.5\n",
      "7.5\n",
      "c    2.3\n",
      "a   -5.5\n",
      "dtype: float64\n",
      "b    7.5\n",
      "a   -5.5\n",
      "c    2.3\n",
      "dtype: float64\n",
      "b    7.5\n",
      "c    2.3\n",
      "a   -5.5\n",
      "dtype: float64\n",
      "-------------------------------------\n",
      "a    0\n",
      "c    3\n",
      "d    6\n",
      "Name: Ohio, dtype: int32\n",
      "   Ohio  Texas\n",
      "a     0      1\n",
      "c     3      4\n",
      "d     6      7\n",
      "   Ohio  Texas  California\n",
      "a     0      1           2\n",
      "c     3      4           5\n",
      "    Ohio  Texas  California\n",
      "a  False  False       False\n",
      "c  False   True        True\n",
      "d   True   True        True\n",
      "   Ohio  Texas  California\n",
      "a   NaN    NaN         NaN\n",
      "c   NaN    4.0         5.0\n",
      "d   6.0    7.0         8.0\n",
      "a    False\n",
      "c     True\n",
      "d     True\n",
      "Name: Texas, dtype: bool\n",
      "<class 'pandas.core.series.Series'>\n",
      "   Ohio  Texas  California\n",
      "c     3      4           5\n",
      "d     6      7           8\n",
      "-----------------------\n",
      "   Ohio\n",
      "a     0\n",
      "   Ohio  Texas  California\n",
      "a     0      1           2\n",
      "c     3      4           5\n",
      "   Ohio  Texas\n",
      "a     0      1\n",
      "c     3      4\n",
      "d     6      7\n",
      "   Ohio  Texas  California\n",
      "c     3      4           5\n",
      "d     6      7           8\n",
      "   Ohio  Texas  California\n",
      "c     3      4           5\n",
      "d     6      7           8\n"
     ]
    }
   ],
   "source": [
    "#索引\n",
    "\n",
    "#对于Series的索引类似于Numpy的索引，但不同的是多了index形式的索引\n",
    "print(obj['a']) #直接使用index\n",
    "print(obj[1]) #使用类似于数组索引\n",
    "#对Series使用单个值进行索引\n",
    "print(obj[2:4]) #使用数字区间索引 区间本质上还是数组 只是连续的数组\n",
    "print(obj[['b','a','c']]) #使用index数组索引\n",
    "#对Series使用数组形式进行索引\n",
    "print(obj['b':'a'])\n",
    "#如果使用类似于数字区间的index区间 也是成立的 但是末端必须有值\n",
    "\n",
    "print('-------------------------------------')\n",
    "print(frame['Ohio'])\n",
    "#通过直接值索引只能按列索引\n",
    "print(frame[['Ohio','Texas']])\n",
    "#同样可以通过数组来按列索引\n",
    "\n",
    "print(frame[:2])\n",
    "#print(frame[[0,1]]) 使用冒号切片可以按行取范围 但是无法通过数组按行取范围 injustice\n",
    "print(frame>3)\n",
    "print(frame[frame>3])\n",
    "#可以通过布尔的DataFrame进行索引\n",
    "print(frame['Texas']>3)\n",
    "print(type(frame['Texas']>3))\n",
    "print(frame[frame['Texas']>3])\n",
    "#可以通过布尔类型的Series按行索引\n",
    "\n",
    "print('-----------------------')\n",
    "frame6 = frame.loc[['a'],['Ohio']] #使用loc进行取值 第一个参数是行取值 第二个参数是列取值\n",
    "print(frame6)\n",
    "print(frame.loc[['a','c']])  #如果只有一个参数，那么就是对行进行操作 在axis=0维度操作\n",
    "print(frame.loc[:,['Ohio','Texas']]) #如果单纯对column操作 第一个参数设为:即可\n",
    "print(frame.iloc[1:3]) #如果使用类似于下标索引 需要使用iloc\n",
    "print(frame.loc[frame.Texas>3,:]) #可以使用布尔数组占据一个维度进行索引"
   ],
   "metadata": {
    "collapsed": false,
    "pycharm": {
     "name": "#%%\n"
    }
   }
  },
  {
   "cell_type": "code",
   "execution_count": 70,
   "outputs": [
    {
     "name": "stdout",
     "output_type": "stream",
     "text": [
      "a   -11.0\n",
      "b    15.0\n",
      "c     4.6\n",
      "d     9.0\n",
      "e     NaN\n",
      "h     NaN\n",
      "dtype: float64\n",
      "a    30.25\n",
      "b    56.25\n",
      "c     5.29\n",
      "d    20.25\n",
      "e      NaN\n",
      "h      NaN\n",
      "dtype: float64\n",
      "   California  Ohio  Texas\n",
      "a         4.0   NaN    NaN\n",
      "b         NaN   NaN    NaN\n",
      "c        10.0   NaN    NaN\n",
      "d        16.0   NaN    NaN\n",
      "   Ohio  Texas  California\n",
      "a     0      0           0\n",
      "c     3      3           3\n",
      "d     6      6           6\n",
      "   California  Ohio  Texas   a   c   d\n",
      "a         NaN   NaN    NaN NaN NaN NaN\n",
      "c         NaN   NaN    NaN NaN NaN NaN\n",
      "d         NaN   NaN    NaN NaN NaN NaN\n",
      "   Ohio  Texas  California\n",
      "a     0      1           2\n",
      "c     0      1           2\n",
      "d     0      1           2\n"
     ]
    }
   ],
   "source": [
    "#算术运算\n",
    "\n",
    "obj['h']=3\n",
    "print(obj+obj2)\n",
    "print(obj*obj2)\n",
    "#两个Series之间的算术运算会在对应index的位置进行运算\n",
    "#如果一方有一方没有 则会产生NaN\n",
    "\n",
    "print(frame4+frame2)\n",
    "#同样地DataFrame也是一样的规则\n",
    "\n",
    "frame2.add(frame4,fill_value = 0)\n",
    "#可以通过fill_value将一方没有另一方有的设置默认值进行运算\n",
    "\n",
    "Series_a = frame.iloc[0]\n",
    "print(frame - Series_a) #Series和DataFrame的算术运算默认按照行运算行进行处理\n",
    "Series_Ohio = frame['Ohio']\n",
    "print(frame.sub(Series_Ohio)) #如果Series和DataFrame有不共有的行 用NaN代替\n",
    "print(frame.sub(Series_Ohio,axis=0)) #使用显式的axis=0，可以按照列进行处理"
   ],
   "metadata": {
    "collapsed": false,
    "pycharm": {
     "name": "#%%\n"
    }
   }
  },
  {
   "cell_type": "code",
   "execution_count": 77,
   "outputs": [
    {
     "name": "stdout",
     "output_type": "stream",
     "text": [
      "               b         d         e\n",
      "Ohio   -1.256308 -0.573573  0.315844\n",
      "Texas   1.000263 -1.187754 -1.659756\n",
      "Utah    0.303799 -0.625850  0.734543\n",
      "Oregon -1.001643 -0.459393  0.264968\n",
      "               b         d         e\n",
      "Ohio    1.256308  0.573573  0.315844\n",
      "Texas   1.000263  1.187754  1.659756\n",
      "Utah    0.303799  0.625850  0.734543\n",
      "Oregon  1.001643  0.459393  0.264968\n",
      "--------------------\n",
      "b    2.256571\n",
      "d    0.728361\n",
      "e    2.394298\n",
      "dtype: float64\n",
      "Ohio      1.572152\n",
      "Texas     2.660019\n",
      "Utah      1.360392\n",
      "Oregon    1.266611\n",
      "dtype: float64\n",
      "            b      d      e\n",
      "Ohio    -1.26  -0.57   0.32\n",
      "Texas    1.00  -1.19  -1.66\n",
      "Utah     0.30  -0.63   0.73\n",
      "Oregon  -1.00  -0.46   0.26\n"
     ]
    }
   ],
   "source": [
    "#函数应用和映射\n",
    "\n",
    "frame_ = DataFrame(np.random.randn(4,3),columns=list('bde'),index=['Ohio','Texas','Utah','Oregon'])\n",
    "print(frame_)\n",
    "\n",
    "print(np.abs(frame_)) #可以通过numpy的元素级数组方法操作pandas对象\n",
    "print(\"--------------------\")\n",
    "f = lambda x : x.max() - x.min()\n",
    "print(frame_.apply(f))\n",
    "print(frame_.apply(f,axis=1))\n",
    "\n",
    "format_ = lambda x: '%.2f'%x\n",
    "print(frame_.applymap(format_)) #元素级的python默认函数也是可以的 使用applymap"
   ],
   "metadata": {
    "collapsed": false,
    "pycharm": {
     "name": "#%%\n"
    }
   }
  },
  {
   "cell_type": "code",
   "execution_count": 93,
   "outputs": [
    {
     "name": "stdout",
     "output_type": "stream",
     "text": [
      "a    1\n",
      "b    3\n",
      "c    2\n",
      "d    0\n",
      "dtype: int64\n",
      "               b         d         e\n",
      "Ohio   -1.256308 -0.573573  0.315844\n",
      "Oregon -1.001643 -0.459393  0.264968\n",
      "Texas   1.000263 -1.187754 -1.659756\n",
      "Utah    0.303799 -0.625850  0.734543\n",
      "               b         d         e\n",
      "Ohio   -1.256308 -0.573573  0.315844\n",
      "Texas   1.000263 -1.187754 -1.659756\n",
      "Utah    0.303799 -0.625850  0.734543\n",
      "Oregon -1.001643 -0.459393  0.264968\n",
      "               b         d         e\n",
      "Utah    0.303799 -0.625850  0.734543\n",
      "Texas   1.000263 -1.187754 -1.659756\n",
      "Oregon -1.001643 -0.459393  0.264968\n",
      "Ohio   -1.256308 -0.573573  0.315844\n",
      "--------------------------\n",
      "d    0\n",
      "a    1\n",
      "c    2\n",
      "b    3\n",
      "dtype: int64\n",
      "               b         d         e\n",
      "Ohio   -1.256308 -0.573573  0.315844\n",
      "Oregon -1.001643 -0.459393  0.264968\n",
      "Utah    0.303799 -0.625850  0.734543\n",
      "Texas   1.000263 -1.187754 -1.659756\n",
      "               b         d         e\n",
      "Ohio   -1.256308 -0.573573  0.315844\n",
      "Oregon -1.001643 -0.459393  0.264968\n",
      "Utah    0.303799 -0.625850  0.734543\n",
      "Texas   1.000263 -1.187754 -1.659756\n",
      "--------------------------\n",
      "0    6.5\n",
      "1    1.0\n",
      "2    6.5\n",
      "3    4.5\n",
      "4    3.0\n",
      "5    2.0\n",
      "6    4.5\n",
      "dtype: float64\n",
      "0    6.0\n",
      "1    1.0\n",
      "2    7.0\n",
      "3    4.0\n",
      "4    3.0\n",
      "5    2.0\n",
      "6    5.0\n",
      "dtype: float64\n"
     ]
    }
   ],
   "source": [
    "#排序与排名\n",
    "obj_ = Series(range(4),index = ['d','a','c','b'])\n",
    "print(obj_.sort_index())\n",
    "print(frame_.sort_index())\n",
    "print(frame_.sort_index(axis=1))\n",
    "print(frame_.sort_index(ascending=False))\n",
    "#Series和DataFrame都可以通过sort_index按照行名或者列名进行排序 而且可以规定升降序\n",
    "print(\"--------------------------\")\n",
    "print(obj_.sort_values())\n",
    "print(frame_.sort_values(by='b'))\n",
    "print(frame_.sort_values(by=['b','e']))\n",
    "#Series和DataFrame都可以通过sort_values进行排序 DataFrame需要指明按照哪一列进行排序\n",
    "print(\"--------------------------\")\n",
    "obj__ = Series([7,-5,7,4,2,0,4])\n",
    "print(obj__.rank()) #给出排名 由于7和7一样所以排名相同\n",
    "print(obj__.rank(method='first')) #使用了first方法后 第一个7比第二个7rank小"
   ],
   "metadata": {
    "collapsed": false,
    "pycharm": {
     "name": "#%%\n"
    }
   }
  },
  {
   "cell_type": "code",
   "execution_count": 99,
   "outputs": [
    {
     "name": "stdout",
     "output_type": "stream",
     "text": [
      "a    0\n",
      "a    1\n",
      "b    2\n",
      "b    3\n",
      "c    4\n",
      "dtype: int64\n",
      "False\n",
      "a    0\n",
      "a    1\n",
      "dtype: int64\n",
      "          0         1         2\n",
      "a  0.633391  0.736795 -1.040698\n",
      "a  1.575123 -0.640599 -0.489299\n",
      "b  0.460718  1.788690 -0.762912\n",
      "b -0.382401  1.447345 -1.679158\n",
      "          0         1         2\n",
      "a  0.633391  0.736795 -1.040698\n",
      "a  1.575123 -0.640599 -0.489299\n"
     ]
    }
   ],
   "source": [
    "#索引轴重复\n",
    "#在Series和DataFrame中，索引轴是可以重复的\n",
    "obj___ = Series(range(5),index=['a','a','b','b','c'])\n",
    "print(obj___)\n",
    "print(obj___.index.is_unique) #可以判断是否有重复\n",
    "print(obj___['a']) #取得的结果是一个Series\n",
    "\n",
    "df = DataFrame(np.random.randn(4,3),index= ['a','a','b','b'])\n",
    "print(df)\n",
    "print(df.loc['a']) #得到的结果是一个DataFrame"
   ],
   "metadata": {
    "collapsed": false,
    "pycharm": {
     "name": "#%%\n"
    }
   }
  }
 ],
 "metadata": {
  "kernelspec": {
   "display_name": "Python 3",
   "language": "python",
   "name": "python3"
  },
  "language_info": {
   "codemirror_mode": {
    "name": "ipython",
    "version": 2
   },
   "file_extension": ".py",
   "mimetype": "text/x-python",
   "name": "python",
   "nbconvert_exporter": "python",
   "pygments_lexer": "ipython2",
   "version": "2.7.6"
  }
 },
 "nbformat": 4,
 "nbformat_minor": 0
}