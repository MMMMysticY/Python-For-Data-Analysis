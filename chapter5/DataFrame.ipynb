{
 "cells": [
  {
   "cell_type": "code",
   "execution_count": 21,
   "metadata": {
    "collapsed": true
   },
   "outputs": [],
   "source": [
    "from pandas import Series,DataFrame\n",
    "import pandas as pd\n",
    "import numpy as np"
   ]
  },
  {
   "cell_type": "code",
   "execution_count": 22,
   "outputs": [],
   "source": [
    "#DataFrame是表格型的数据结构\n",
    "#DataFrame既有行索引也有列索引，可以看做由Series组成的字典\n"
   ],
   "metadata": {
    "collapsed": false,
    "pycharm": {
     "name": "#%%\n"
    }
   }
  },
  {
   "cell_type": "code",
   "execution_count": 23,
   "outputs": [
    {
     "name": "stdout",
     "output_type": "stream",
     "text": [
      "    state  year  pop\n",
      "0    Ohio  2000  1.5\n",
      "1    Ohio  2001  1.7\n",
      "2    Ohio  2002  3.6\n",
      "3  Nevada  2001  2.4\n",
      "4  Nevada  2002  2.9\n"
     ]
    }
   ],
   "source": [
    "data = {'state':['Ohio', 'Ohio', 'Ohio','Nevada','Nevada'],\n",
    "        'year':[2000,2001,2002,2001,2002],\n",
    "        'pop':[1.5,1.7,3.6,2.4,2.9]}\n",
    "#1.每个列的数据是可重复的\n",
    "#2.形式上类似于多个Series组成了一个DataFrame\n",
    "frame = DataFrame(data)\n",
    "print(frame)"
   ],
   "metadata": {
    "collapsed": false,
    "pycharm": {
     "name": "#%%\n"
    }
   }
  },
  {
   "cell_type": "code",
   "execution_count": 24,
   "outputs": [
    {
     "name": "stdout",
     "output_type": "stream",
     "text": [
      "   year   state  pop\n",
      "0  2000    Ohio  1.5\n",
      "1  2001    Ohio  1.7\n",
      "2  2002    Ohio  3.6\n",
      "3  2001  Nevada  2.4\n",
      "4  2002  Nevada  2.9\n"
     ]
    }
   ],
   "source": [
    "print(DataFrame(data,columns=['year','state','pop'])) #可以使用columns改变列的排列顺序"
   ],
   "metadata": {
    "collapsed": false,
    "pycharm": {
     "name": "#%%\n"
    }
   }
  },
  {
   "cell_type": "code",
   "execution_count": 25,
   "outputs": [
    {
     "name": "stdout",
     "output_type": "stream",
     "text": [
      "       year   state  pop debt\n",
      "one    2000    Ohio  1.5  NaN\n",
      "two    2001    Ohio  1.7  NaN\n",
      "three  2002    Ohio  3.6  NaN\n",
      "four   2001  Nevada  2.4  NaN\n",
      "five   2002  Nevada  2.9  NaN\n",
      "Index(['year', 'state', 'pop', 'debt'], dtype='object')\n"
     ]
    }
   ],
   "source": [
    "frame2 = DataFrame(data,columns=['year','state','pop','debt'],\n",
    "                   index=['one','two','three','four','five'])\n",
    "print(frame2) #如果传入的列在data中没有会自动变成NaN\n",
    "print(frame2.columns)"
   ],
   "metadata": {
    "collapsed": false,
    "pycharm": {
     "name": "#%%\n"
    }
   }
  },
  {
   "cell_type": "code",
   "execution_count": 26,
   "outputs": [
    {
     "name": "stdout",
     "output_type": "stream",
     "text": [
      "one      2000\n",
      "two      2001\n",
      "three    2002\n",
      "four     2001\n",
      "five     2002\n",
      "Name: year, dtype: int64\n",
      "one      2000\n",
      "two      2001\n",
      "three    2002\n",
      "four     2001\n",
      "five     2002\n",
      "Name: year, dtype: int64\n",
      "<class 'pandas.core.series.Series'>\n",
      "year     2002\n",
      "state    Ohio\n",
      "pop       3.6\n",
      "debt      NaN\n",
      "Name: three, dtype: object\n",
      "year       2001\n",
      "state    Nevada\n",
      "pop         2.4\n",
      "debt        NaN\n",
      "Name: four, dtype: object\n",
      "<class 'pandas.core.series.Series'>\n"
     ]
    }
   ],
   "source": [
    "#取值部分\n",
    "\n",
    "print(frame2.year)\n",
    "print(frame2['year'])\n",
    "print(type(frame2.year))\n",
    "#以上两种方法.或者[]都可以直接取一列值 取得的数据类型是Series\n",
    "#取得的Series的索引和原有的DataFrame是一致的 且Name属性已经被设置过了\n",
    "\n",
    "print(frame2.loc['three'])\n",
    "print(frame2.iloc[3])\n",
    "print(type(frame2.loc['three']))\n",
    "#通过loc和iloc都可以按行来取值，但是iloc只能用行号来进行取值(int loc)\n",
    "#loc可以使用行名来进行取值， 同时取得的值仍然是Series类型"
   ],
   "metadata": {
    "collapsed": false,
    "pycharm": {
     "name": "#%%\n"
    }
   }
  },
  {
   "cell_type": "code",
   "execution_count": 30,
   "outputs": [
    {
     "name": "stdout",
     "output_type": "stream",
     "text": [
      "       year   state  pop  debt\n",
      "one    2000    Ohio  1.5    16\n",
      "two    2001    Ohio  1.7    16\n",
      "three  2002    Ohio  3.6    16\n",
      "four   2001  Nevada  2.4    16\n",
      "five   2002  Nevada  2.9    16\n",
      "       year   state  pop  debt\n",
      "one    2000    Ohio  1.5     0\n",
      "two    2001    Ohio  1.7     1\n",
      "three  2002    Ohio  3.6     2\n",
      "four   2001  Nevada  2.4     3\n",
      "five   2002  Nevada  2.9     4\n",
      "       year   state  pop  debt\n",
      "one    2000    Ohio  1.5  -1.2\n",
      "two    2001    Ohio  1.7   NaN\n",
      "three  2002    Ohio  3.6  -1.7\n",
      "four   2001  Nevada  2.4   1.8\n",
      "five   2002  Nevada  2.9   NaN\n",
      "       year   state  pop  debt  eastern\n",
      "one    2000    Ohio  1.5  -1.2     True\n",
      "two    2001    Ohio  1.7   NaN     True\n",
      "three  2002    Ohio  3.6  -1.7     True\n",
      "four   2001  Nevada  2.4   1.8    False\n",
      "five   2002  Nevada  2.9   NaN    False\n",
      "       year   state  pop  debt\n",
      "one    2000    Ohio  1.5  -1.2\n",
      "two    2001    Ohio  1.7   NaN\n",
      "three  2002    Ohio  3.6  -1.7\n",
      "four   2001  Nevada  2.4   1.8\n",
      "five   2002  Nevada  2.9   NaN\n",
      "one     -1.2\n",
      "two      NaN\n",
      "three    0.0\n",
      "four     1.8\n",
      "five     NaN\n",
      "Name: debt, dtype: float64\n",
      "       year   state  pop  debt\n",
      "one    2000    Ohio  1.5  -1.2\n",
      "two    2001    Ohio  1.7   NaN\n",
      "three  2002    Ohio  3.6  -1.7\n",
      "four   2001  Nevada  2.4   1.8\n",
      "five   2002  Nevada  2.9   NaN\n"
     ]
    }
   ],
   "source": [
    "#修改值部分\n",
    "\n",
    "frame2['debt'] = 16\n",
    "print(frame2)\n",
    "frame2['debt'] = np.arange(5)\n",
    "print(frame2)\n",
    "val = Series([-1.2,-1.7,1.8],index=['one','three','four'])\n",
    "frame2['debt'] = val\n",
    "print(frame2)\n",
    "#通过直接给按照名字取得的Series列赋值 可以赋值数值也可以赋值数组值\n",
    "#也可以直接进行Series赋值，并且有严格的索引-值对应关系\n",
    "\n",
    "frame2['eastern'] = frame2.state == 'Ohio' #此方法使用的是数组形式赋值\n",
    "print(frame2)\n",
    "del frame2['eastern'] #使用del用于删除某列\n",
    "print(frame2)\n",
    "#注意！ 通过索引方式返回的列都是数据的视图而非拷贝，所有的操作都会回溯到原本的对象上\n",
    "       #所以如果要进行普通尝试，需要通过Series.copy进行赋值为副本\n",
    "test_debt = Series.copy(frame2['debt'])\n",
    "test_debt['three'] = 0\n",
    "print(test_debt)\n",
    "print(frame2) #此时test_debt是副本 它的修改对原本对象frame2无任何影响"
   ],
   "metadata": {
    "collapsed": false,
    "pycharm": {
     "name": "#%%\n"
    }
   }
  },
  {
   "cell_type": "code",
   "execution_count": 33,
   "outputs": [
    {
     "name": "stdout",
     "output_type": "stream",
     "text": [
      "attribute  year   state  pop  debt\n",
      "number                            \n",
      "one        2000    Ohio  1.5  -1.2\n",
      "two        2001    Ohio  1.7   NaN\n",
      "three      2002    Ohio  3.6  -1.7\n",
      "four       2001  Nevada  2.4   1.8\n",
      "five       2002  Nevada  2.9   NaN\n",
      "[[2000 'Ohio' 1.5 -1.2]\n",
      " [2001 'Ohio' 1.7 nan]\n",
      " [2002 'Ohio' 3.6 -1.7]\n",
      " [2001 'Nevada' 2.4 1.8]\n",
      " [2002 'Nevada' 2.9 nan]]\n",
      "<class 'numpy.ndarray'>\n",
      "-1.2\n"
     ]
    }
   ],
   "source": [
    "#values\n",
    "\n",
    "frame2.index.name = 'number'\n",
    "frame2.columns.name = 'attribute' #可以添加行名与列名\n",
    "print(frame2)\n",
    "print(frame2.values)\n",
    "print(type(frame2.values)) #DataFrame的values对象返回ndarray的二维数组对象\n",
    "print(frame2.values[0,3])"
   ],
   "metadata": {
    "collapsed": false,
    "pycharm": {
     "name": "#%%\n"
    }
   }
  },
  {
   "cell_type": "code",
   "execution_count": 36,
   "outputs": [
    {
     "name": "stdout",
     "output_type": "stream",
     "text": [
      "Index(['one', 'two', 'three', 'four', 'five'], dtype='object', name='number')\n",
      "<class 'pandas.core.indexes.base.Index'>\n",
      "Index(['year', 'state', 'pop', 'debt'], dtype='object', name='attribute')\n",
      "<class 'pandas.core.indexes.base.Index'>\n",
      "Index(['one', 'two', 'three', 'four', 'five'], dtype='object', name='number')\n"
     ]
    }
   ],
   "source": [
    "#索引对象\n",
    "\n",
    "print(frame2.index)\n",
    "print(type(frame2.index))\n",
    "print(frame2.columns)\n",
    "print(type(frame2.columns))\n",
    "#DataFrame的index和columns和Series的inde 都是indexes类型的对象\n",
    "#它们类似于一个数组的形式\n",
    "index = frame2.index\n",
    "#index[1] = 'a'\n",
    "#index对象不可像数组一样根据下标进行修改\n",
    "index.insert(0,'zero')\n",
    "print(index)\n",
    "#但是是可以对index进行一系列的操作 append diff delete drop insert等\n",
    "#需要使用时查找即可 只要记住可以对indexes对象进行很大自由度的操作即可"
   ],
   "metadata": {
    "collapsed": false,
    "pycharm": {
     "name": "#%%\n"
    }
   }
  },
  {
   "cell_type": "code",
   "execution_count": null,
   "outputs": [],
   "source": [],
   "metadata": {
    "collapsed": false,
    "pycharm": {
     "name": "#%%\n"
    }
   }
  }
 ],
 "metadata": {
  "kernelspec": {
   "display_name": "Python 3",
   "language": "python",
   "name": "python3"
  },
  "language_info": {
   "codemirror_mode": {
    "name": "ipython",
    "version": 2
   },
   "file_extension": ".py",
   "mimetype": "text/x-python",
   "name": "python",
   "nbconvert_exporter": "python",
   "pygments_lexer": "ipython2",
   "version": "2.7.6"
  }
 },
 "nbformat": 4,
 "nbformat_minor": 0
}