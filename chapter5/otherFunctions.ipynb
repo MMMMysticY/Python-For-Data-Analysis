{
 "cells": [
  {
   "cell_type": "code",
   "execution_count": 1,
   "metadata": {
    "collapsed": true
   },
   "outputs": [],
   "source": [
    "import pandas as pd\n",
    "from pandas import Series,DataFrame\n",
    "import numpy as np"
   ]
  },
  {
   "cell_type": "code",
   "execution_count": 10,
   "outputs": [
    {
     "name": "stdout",
     "output_type": "stream",
     "text": [
      "0    0.0\n",
      "1    1.0\n",
      "2    2.0\n",
      "dtype: float64\n",
      "1    1.0\n",
      "2    2.0\n",
      "0    0.0\n",
      "dtype: float64\n",
      "0.0\n"
     ]
    }
   ],
   "source": [
    "#整数索引问题：\n",
    "ser= Series(np.arange(3.))\n",
    "print(ser)\n",
    "#由于 索引是数字[0,1,2] 这样会产生歧义\n",
    "ser2 = ser.reindex([1,2,0])\n",
    "print(ser2)\n",
    "print(ser[0])\n",
    "#此时 我的目的是取第0索引位置的元素 但是函数取成了index-0对应的元素"
   ],
   "metadata": {
    "collapsed": false,
    "pycharm": {
     "name": "#%%\n"
    }
   }
  },
  {
   "cell_type": "code",
   "execution_count": 15,
   "outputs": [
    {
     "name": "stdout",
     "output_type": "stream",
     "text": [
      "a    0.0\n",
      "b    0.0\n",
      "c    0.0\n",
      "dtype: float64\n",
      "0.0\n"
     ]
    }
   ],
   "source": [
    "#如果要解决该问题 有两种方法\n",
    "#1.就是使用非数字索引\n",
    "ser3 = ser2.reindex(['a','b','c'],fill_value=0)\n",
    "print(ser3)\n",
    "print(ser3[0])\n",
    "#此时的取值肯定就是第0索引位置的元素"
   ],
   "metadata": {
    "collapsed": false,
    "pycharm": {
     "name": "#%%\n"
    }
   }
  },
  {
   "cell_type": "code",
   "execution_count": 19,
   "outputs": [
    {
     "name": "stdout",
     "output_type": "stream",
     "text": [
      "1    1.0\n",
      "2    2.0\n",
      "0    0.0\n",
      "dtype: float64\n",
      "1.0\n",
      "0.0\n"
     ]
    }
   ],
   "source": [
    "#2.使用loc iloc进行取值\n",
    "print(ser2)\n",
    "print(ser2.iloc[0])\n",
    "print(ser2.loc[0])\n",
    "#iloc是用于取位置索引的 而loc是用于取值索引的"
   ],
   "metadata": {
    "collapsed": false,
    "pycharm": {
     "name": "#%%\n"
    }
   }
  },
  {
   "cell_type": "code",
   "execution_count": 29,
   "outputs": [
    {
     "name": "stdout",
     "output_type": "stream",
     "text": [
      "   1  0\n",
      "2  0  1\n",
      "0  2  3\n",
      "1  4  5\n",
      "2    1\n",
      "0    3\n",
      "1    5\n",
      "Name: 0, dtype: int32\n",
      "------------------\n",
      "1    0\n",
      "0    1\n",
      "Name: 2, dtype: int32\n",
      "1    2\n",
      "0    3\n",
      "Name: 0, dtype: int32\n",
      "-------------------\n",
      "2    0\n",
      "0    2\n",
      "1    4\n",
      "Name: 1, dtype: int32\n",
      "   1  0\n",
      "2  0  1\n",
      "0  2  3\n"
     ]
    }
   ],
   "source": [
    "#DataFrame\n",
    "frame = DataFrame(np.arange(6).reshape(3,2),index=[2,0,1],\n",
    "                  columns=[1,0])\n",
    "print(frame)\n",
    "print(frame[0]) #显然此时仍然取的是值索引部分\n",
    "print(\"------------------\")\n",
    "print(frame.iloc[0])\n",
    "print(frame.loc[0])\n",
    "#此时使用loc iloc是按照位置索引和值索引 但是是按行取的\n",
    "print(\"-------------------\")\n",
    "print(frame.iloc[:,0]) #如果按照列来取 可以直接用第一维：第二维取即可\n",
    "print(frame.iloc[0:2,:])"
   ],
   "metadata": {
    "collapsed": false,
    "pycharm": {
     "name": "#%%\n"
    }
   }
  }
 ],
 "metadata": {
  "kernelspec": {
   "display_name": "Python 3",
   "language": "python",
   "name": "python3"
  },
  "language_info": {
   "codemirror_mode": {
    "name": "ipython",
    "version": 2
   },
   "file_extension": ".py",
   "mimetype": "text/x-python",
   "name": "python",
   "nbconvert_exporter": "python",
   "pygments_lexer": "ipython2",
   "version": "2.7.6"
  }
 },
 "nbformat": 4,
 "nbformat_minor": 0
}