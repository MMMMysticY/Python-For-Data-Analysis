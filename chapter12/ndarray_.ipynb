{
 "cells": [
  {
   "cell_type": "code",
   "execution_count": 1,
   "metadata": {
    "collapsed": true
   },
   "outputs": [],
   "source": [
    "import numpy as np"
   ]
  },
  {
   "cell_type": "code",
   "execution_count": null,
   "outputs": [],
   "source": [
    "'''\n",
    "ndarray对象由以下部分组成：\n",
    "1.一个指向数组内存的指针\n",
    "2.数据类型dtype\n",
    "3.一个表示数组形状的元素shape\n",
    "4.一个跨度元素stride 其中的整数指的是为了前进道当前维度的下一个元素需要“跨过”的字节数\n",
    "'''"
   ],
   "metadata": {
    "collapsed": false,
    "pycharm": {
     "name": "#%%\n"
    }
   }
  },
  {
   "cell_type": "code",
   "execution_count": 2,
   "outputs": [
    {
     "data": {
      "text/plain": "(10, 5)"
     },
     "execution_count": 2,
     "metadata": {},
     "output_type": "execute_result"
    }
   ],
   "source": [
    "np.ones((10,5)).shape"
   ],
   "metadata": {
    "collapsed": false,
    "pycharm": {
     "name": "#%%\n"
    }
   }
  },
  {
   "cell_type": "code",
   "execution_count": 5,
   "outputs": [
    {
     "name": "stdout",
     "output_type": "stream",
     "text": [
      "(80, 20, 4)\n"
     ]
    },
    {
     "data": {
      "text/plain": "(160, 40, 8)"
     },
     "execution_count": 5,
     "metadata": {},
     "output_type": "execute_result"
    }
   ],
   "source": [
    "print(np.ones((3,4,5),dtype=np.float32).strides)\n",
    "np.ones((3,4,5),dtype=np.float64).strides"
   ],
   "metadata": {
    "collapsed": false,
    "pycharm": {
     "name": "#%%\n"
    }
   }
  },
  {
   "cell_type": "code",
   "execution_count": 4,
   "outputs": [
    {
     "data": {
      "text/plain": "[numpy.float64,\n numpy.floating,\n numpy.inexact,\n numpy.number,\n numpy.generic,\n float,\n object]"
     },
     "execution_count": 4,
     "metadata": {},
     "output_type": "execute_result"
    }
   ],
   "source": [
    "np.float64.mro()\n",
    "#使用mro可以看到所有的父类（继承关系）\n",
    "#numpy.floating和numpy.integer是比较有代表性的下层子类"
   ],
   "metadata": {
    "collapsed": false,
    "pycharm": {
     "name": "#%%\n"
    }
   }
  },
  {
   "cell_type": "code",
   "execution_count": 8,
   "outputs": [
    {
     "name": "stdout",
     "output_type": "stream",
     "text": [
      "True\n"
     ]
    },
    {
     "data": {
      "text/plain": "True"
     },
     "execution_count": 8,
     "metadata": {},
     "output_type": "execute_result"
    }
   ],
   "source": [
    "ints = np.ones(10,dtype=np.int16)\n",
    "floats = np.ones(10,dtype=np.float32)\n",
    "print(np.issubdtype(floats.dtype,np.floating))\n",
    "np.issubdtype(ints.dtype,np.integer)\n",
    "#使用issubdtype可以判断是否为某种类型的子类"
   ],
   "metadata": {
    "collapsed": false,
    "pycharm": {
     "name": "#%%\n"
    }
   }
  },
  {
   "cell_type": "code",
   "execution_count": 9,
   "outputs": [],
   "source": [
    "#高级数组操作"
   ],
   "metadata": {
    "collapsed": false,
    "pycharm": {
     "name": "#%%\n"
    }
   }
  },
  {
   "cell_type": "code",
   "execution_count": 10,
   "outputs": [
    {
     "data": {
      "text/plain": "array([0, 1, 2, 3, 4, 5, 6, 7])"
     },
     "execution_count": 10,
     "metadata": {},
     "output_type": "execute_result"
    }
   ],
   "source": [
    "arr = np.arange(8)\n",
    "arr"
   ],
   "metadata": {
    "collapsed": false,
    "pycharm": {
     "name": "#%%\n"
    }
   }
  },
  {
   "cell_type": "code",
   "execution_count": 11,
   "outputs": [
    {
     "data": {
      "text/plain": "array([[0, 1],\n       [2, 3],\n       [4, 5],\n       [6, 7]])"
     },
     "execution_count": 11,
     "metadata": {},
     "output_type": "execute_result"
    }
   ],
   "source": [
    "arr.reshape((4,2))"
   ],
   "metadata": {
    "collapsed": false,
    "pycharm": {
     "name": "#%%\n"
    }
   }
  },
  {
   "cell_type": "code",
   "execution_count": 12,
   "outputs": [
    {
     "data": {
      "text/plain": "array([[ 0,  1,  2],\n       [ 3,  4,  5],\n       [ 6,  7,  8],\n       [ 9, 10, 11],\n       [12, 13, 14]])"
     },
     "execution_count": 12,
     "metadata": {},
     "output_type": "execute_result"
    }
   ],
   "source": [
    "arr = np.arange(15)\n",
    "arr.reshape((5,-1))\n",
    "#可以给一维提供-1 由计算获得"
   ],
   "metadata": {
    "collapsed": false,
    "pycharm": {
     "name": "#%%\n"
    }
   }
  },
  {
   "cell_type": "code",
   "execution_count": 13,
   "outputs": [
    {
     "data": {
      "text/plain": "array([ 0,  1,  2,  3,  4,  5,  6,  7,  8,  9, 10, 11, 12, 13, 14])"
     },
     "execution_count": 13,
     "metadata": {},
     "output_type": "execute_result"
    }
   ],
   "source": [
    "arr = np.arange(15).reshape((5,3))\n",
    "arr.ravel()\n",
    "#reshape的逆运算可以是ravel 散开操作 将其拉成一维"
   ],
   "metadata": {
    "collapsed": false,
    "pycharm": {
     "name": "#%%\n"
    }
   }
  },
  {
   "cell_type": "code",
   "execution_count": 16,
   "outputs": [
    {
     "name": "stdout",
     "output_type": "stream",
     "text": [
      "[ 0  1  2  3  4  5  6  7  8  9 10 11 12 13 14]\n"
     ]
    },
    {
     "data": {
      "text/plain": "array([[ 0,  1,  2],\n       [ 3,  4,  5],\n       [ 6,  7,  8],\n       [ 9, 10, 11],\n       [12, 13, 14]])"
     },
     "execution_count": 16,
     "metadata": {},
     "output_type": "execute_result"
    }
   ],
   "source": [
    "arr = np.arange(15).reshape((5,3))\n",
    "print(arr.flatten())\n",
    "arr\n",
    "#flatten同ravel不过它返回的是数据的副本 没有改变原对象"
   ],
   "metadata": {
    "collapsed": false,
    "pycharm": {
     "name": "#%%\n"
    }
   }
  },
  {
   "cell_type": "code",
   "execution_count": 17,
   "outputs": [
    {
     "data": {
      "text/plain": "array([[ 1,  2,  3],\n       [ 4,  5,  6],\n       [ 7,  8,  9],\n       [10, 11, 12]])"
     },
     "execution_count": 17,
     "metadata": {},
     "output_type": "execute_result"
    }
   ],
   "source": [
    "#数组的合并与拆分\n",
    "arr1 = np.array([[1,2,3],[4,5,6]])\n",
    "arr2 = np.array([[7,8,9],[10,11,12]])\n",
    "np.concatenate([arr1,arr2],axis=0)"
   ],
   "metadata": {
    "collapsed": false,
    "pycharm": {
     "name": "#%%\n"
    }
   }
  },
  {
   "cell_type": "code",
   "execution_count": 18,
   "outputs": [
    {
     "data": {
      "text/plain": "array([[ 1,  2,  3,  7,  8,  9],\n       [ 4,  5,  6, 10, 11, 12]])"
     },
     "execution_count": 18,
     "metadata": {},
     "output_type": "execute_result"
    }
   ],
   "source": [
    "np.concatenate([arr1,arr2],axis=1)\n",
    "#拼接 可以按照两个维度进行拼接\n",
    "#pandas有merge和concat 当然concat和这个concatenate类似"
   ],
   "metadata": {
    "collapsed": false,
    "pycharm": {
     "name": "#%%\n"
    }
   }
  },
  {
   "cell_type": "code",
   "execution_count": 19,
   "outputs": [
    {
     "data": {
      "text/plain": "array([[ 1,  2,  3],\n       [ 4,  5,  6],\n       [ 7,  8,  9],\n       [10, 11, 12]])"
     },
     "execution_count": 19,
     "metadata": {},
     "output_type": "execute_result"
    }
   ],
   "source": [
    "np.vstack((arr1,arr2))"
   ],
   "metadata": {
    "collapsed": false,
    "pycharm": {
     "name": "#%%\n"
    }
   }
  },
  {
   "cell_type": "code",
   "execution_count": 20,
   "outputs": [
    {
     "data": {
      "text/plain": "array([[ 1,  2,  3,  7,  8,  9],\n       [ 4,  5,  6, 10, 11, 12]])"
     },
     "execution_count": 20,
     "metadata": {},
     "output_type": "execute_result"
    }
   ],
   "source": [
    "np.hstack((arr1,arr2))"
   ],
   "metadata": {
    "collapsed": false,
    "pycharm": {
     "name": "#%%\n"
    }
   }
  },
  {
   "cell_type": "code",
   "execution_count": 21,
   "outputs": [
    {
     "data": {
      "text/plain": "array([[ 0.1245938 , -1.22631231],\n       [-0.11870601, -1.30076456],\n       [-0.59005879, -0.48616639],\n       [-0.46487556,  1.50984363],\n       [-2.01911063, -1.25730707]])"
     },
     "execution_count": 21,
     "metadata": {},
     "output_type": "execute_result"
    }
   ],
   "source": [
    "arr = np.random.randn(5,2)\n",
    "arr"
   ],
   "metadata": {
    "collapsed": false,
    "pycharm": {
     "name": "#%%\n"
    }
   }
  },
  {
   "cell_type": "code",
   "execution_count": 26,
   "outputs": [
    {
     "data": {
      "text/plain": "array([[ 0.1245938 , -1.22631231]])"
     },
     "execution_count": 26,
     "metadata": {},
     "output_type": "execute_result"
    }
   ],
   "source": [
    "first,second,third = np.split(arr,[1,3])\n",
    "first\n",
    "#split则是用来进行拆分的"
   ],
   "metadata": {
    "collapsed": false,
    "pycharm": {
     "name": "#%%\n"
    }
   }
  },
  {
   "cell_type": "code",
   "execution_count": 27,
   "outputs": [
    {
     "data": {
      "text/plain": "array([0, 0, 0, 1, 1, 1, 2, 2, 2])"
     },
     "execution_count": 27,
     "metadata": {},
     "output_type": "execute_result"
    }
   ],
   "source": [
    "arr = np.arange(3)\n",
    "arr.repeat(3)\n",
    "#repeat方法可以对内容进行重复 如果传入的是单参数 则重复该次"
   ],
   "metadata": {
    "collapsed": false,
    "pycharm": {
     "name": "#%%\n"
    }
   }
  },
  {
   "cell_type": "code",
   "execution_count": 31,
   "outputs": [
    {
     "data": {
      "text/plain": "array([0, 0, 1, 1, 1, 2, 2, 2, 2])"
     },
     "execution_count": 31,
     "metadata": {},
     "output_type": "execute_result"
    }
   ],
   "source": [
    "arr.repeat([2,3,4])\n",
    "#如果传入的是和原数组维度完全相同的一个数组 则按照对应关系重复该次数"
   ],
   "metadata": {
    "collapsed": false,
    "pycharm": {
     "name": "#%%\n"
    }
   }
  },
  {
   "cell_type": "code",
   "execution_count": 32,
   "outputs": [
    {
     "data": {
      "text/plain": "array([[ 0.4247215 , -0.74791516],\n       [ 0.6630086 , -0.47410344]])"
     },
     "execution_count": 32,
     "metadata": {},
     "output_type": "execute_result"
    }
   ],
   "source": [
    "arr = np.random.randn(2,2)\n",
    "arr"
   ],
   "metadata": {
    "collapsed": false,
    "pycharm": {
     "name": "#%%\n"
    }
   }
  },
  {
   "cell_type": "code",
   "execution_count": 33,
   "outputs": [
    {
     "data": {
      "text/plain": "array([[ 0.4247215 , -0.74791516],\n       [ 0.4247215 , -0.74791516],\n       [ 0.6630086 , -0.47410344],\n       [ 0.6630086 , -0.47410344]])"
     },
     "execution_count": 33,
     "metadata": {},
     "output_type": "execute_result"
    }
   ],
   "source": [
    "arr.repeat(2,axis=0)"
   ],
   "metadata": {
    "collapsed": false,
    "pycharm": {
     "name": "#%%\n"
    }
   }
  },
  {
   "cell_type": "code",
   "execution_count": 34,
   "outputs": [
    {
     "data": {
      "text/plain": "array([[ 0.4247215 ,  0.4247215 , -0.74791516, -0.74791516],\n       [ 0.6630086 ,  0.6630086 , -0.47410344, -0.47410344]])"
     },
     "execution_count": 34,
     "metadata": {},
     "output_type": "execute_result"
    }
   ],
   "source": [
    "arr.repeat(2,axis=1)"
   ],
   "metadata": {
    "collapsed": false,
    "pycharm": {
     "name": "#%%\n"
    }
   }
  },
  {
   "cell_type": "code",
   "execution_count": 35,
   "outputs": [
    {
     "data": {
      "text/plain": "array([ 0.4247215 ,  0.4247215 , -0.74791516, -0.74791516,  0.6630086 ,\n        0.6630086 , -0.47410344, -0.47410344])"
     },
     "execution_count": 35,
     "metadata": {},
     "output_type": "execute_result"
    }
   ],
   "source": [
    "arr.repeat(2) #如果不显式设置轴向 则数组会扁平化 所以还是要显式设置轴向"
   ],
   "metadata": {
    "collapsed": false,
    "pycharm": {
     "name": "#%%\n"
    }
   }
  },
  {
   "cell_type": "code",
   "execution_count": 38,
   "outputs": [
    {
     "name": "stdout",
     "output_type": "stream",
     "text": [
      "[[ 0.4247215  -0.74791516]\n",
      " [ 0.6630086  -0.47410344]]\n"
     ]
    },
    {
     "data": {
      "text/plain": "array([[ 0.4247215 , -0.74791516,  0.4247215 , -0.74791516],\n       [ 0.6630086 , -0.47410344,  0.6630086 , -0.47410344]])"
     },
     "execution_count": 38,
     "metadata": {},
     "output_type": "execute_result"
    }
   ],
   "source": [
    "print(arr)\n",
    "np.tile(arr,2)\n",
    "#放在一起显示很明显 tile是进行堆叠数组的行为 参数设置堆叠次数"
   ],
   "metadata": {
    "collapsed": false,
    "pycharm": {
     "name": "#%%\n"
    }
   }
  },
  {
   "cell_type": "code",
   "execution_count": 39,
   "outputs": [
    {
     "data": {
      "text/plain": "array([[ 0.4247215 , -0.74791516],\n       [ 0.6630086 , -0.47410344],\n       [ 0.4247215 , -0.74791516],\n       [ 0.6630086 , -0.47410344]])"
     },
     "execution_count": 39,
     "metadata": {},
     "output_type": "execute_result"
    }
   ],
   "source": [
    "np.tile(arr,(2,1))"
   ],
   "metadata": {
    "collapsed": false,
    "pycharm": {
     "name": "#%%\n"
    }
   }
  },
  {
   "cell_type": "code",
   "execution_count": 40,
   "outputs": [
    {
     "data": {
      "text/plain": "array([[ 0.4247215 , -0.74791516,  0.4247215 , -0.74791516],\n       [ 0.6630086 , -0.47410344,  0.6630086 , -0.47410344],\n       [ 0.4247215 , -0.74791516,  0.4247215 , -0.74791516],\n       [ 0.6630086 , -0.47410344,  0.6630086 , -0.47410344],\n       [ 0.4247215 , -0.74791516,  0.4247215 , -0.74791516],\n       [ 0.6630086 , -0.47410344,  0.6630086 , -0.47410344]])"
     },
     "execution_count": 40,
     "metadata": {},
     "output_type": "execute_result"
    }
   ],
   "source": [
    "np.tile(arr,(3,2))\n",
    "#纵向叠三次 横向叠两次"
   ],
   "metadata": {
    "collapsed": false,
    "pycharm": {
     "name": "#%%\n"
    }
   }
  },
  {
   "cell_type": "code",
   "execution_count": 41,
   "outputs": [
    {
     "name": "stdout",
     "output_type": "stream",
     "text": [
      "###############################################################\n"
     ]
    }
   ],
   "source": [
    "print('###############################################################')\n",
    "#广播 broadcasting"
   ],
   "metadata": {
    "collapsed": false,
    "pycharm": {
     "name": "#%%\n"
    }
   }
  },
  {
   "cell_type": "code",
   "execution_count": 42,
   "outputs": [
    {
     "data": {
      "text/plain": "array([ 0,  4,  8, 12, 16])"
     },
     "execution_count": 42,
     "metadata": {},
     "output_type": "execute_result"
    }
   ],
   "source": [
    "arr = np.arange(5)\n",
    "arr*4\n",
    "#此时可以说 标量4被广播到了其他所有元素上"
   ],
   "metadata": {
    "collapsed": false,
    "pycharm": {
     "name": "#%%\n"
    }
   }
  },
  {
   "cell_type": "code",
   "execution_count": 43,
   "outputs": [
    {
     "data": {
      "text/plain": "array([ 0.47680447, -0.09675732, -0.48885988])"
     },
     "execution_count": 43,
     "metadata": {},
     "output_type": "execute_result"
    }
   ],
   "source": [
    "arr = np.random.randn(4,3)\n",
    "arr.mean(0)"
   ],
   "metadata": {
    "collapsed": false,
    "pycharm": {
     "name": "#%%\n"
    }
   }
  },
  {
   "cell_type": "code",
   "execution_count": 44,
   "outputs": [
    {
     "data": {
      "text/plain": "array([[-0.02446068,  0.11018126,  0.55700579],\n       [-1.19853582,  0.24570388,  0.95468313],\n       [ 1.103189  ,  0.23953676, -0.54913896],\n       [ 0.1198075 , -0.5954219 , -0.96254996]])"
     },
     "execution_count": 44,
     "metadata": {},
     "output_type": "execute_result"
    }
   ],
   "source": [
    "demeaned = arr-arr.mean(0)\n",
    "demeaned\n",
    "#此时同样地 一个(4,3)维度的和一个(3,)维度的运算 按照行广播了下去"
   ],
   "metadata": {
    "collapsed": false,
    "pycharm": {
     "name": "#%%\n"
    }
   }
  },
  {
   "cell_type": "code",
   "execution_count": 47,
   "outputs": [
    {
     "data": {
      "text/plain": "array([[ 0.27437258, -0.16454727, -0.1098253 ],\n       [-0.6860775 ,  0.18460041,  0.50147709],\n       [ 1.35173545, -0.08547859, -1.26625686],\n       [ 1.112271  , -0.17652019, -0.93575081]])"
     },
     "execution_count": 47,
     "metadata": {},
     "output_type": "execute_result"
    }
   ],
   "source": [
    "row_means = arr.mean(1)\n",
    "row_means.reshape((4,1))\n",
    "demeaned1 = arr-row_means.reshape(4,1)\n",
    "demeaned1\n",
    "#此样例是按照列进行广播下去 所以必须保证被广播的对象是和每列对象同维度的"
   ],
   "metadata": {
    "collapsed": false,
    "pycharm": {
     "name": "#%%\n"
    }
   }
  },
  {
   "cell_type": "code",
   "execution_count": null,
   "outputs": [],
   "source": [
    "#如果使用arr-row_means是报错的 因为被广播的维度是(4,)而非(4,1)\n",
    "#可见 需要添加一维新轴才能使其被广播出去"
   ],
   "metadata": {
    "collapsed": false,
    "pycharm": {
     "name": "#%%\n"
    }
   }
  },
  {
   "cell_type": "code",
   "execution_count": 52,
   "outputs": [
    {
     "data": {
      "text/plain": "array([[[0., 0., 0., 0.]],\n\n       [[0., 0., 0., 0.]],\n\n       [[0., 0., 0., 0.]],\n\n       [[0., 0., 0., 0.]]])"
     },
     "execution_count": 52,
     "metadata": {},
     "output_type": "execute_result"
    }
   ],
   "source": [
    "arr = np.zeros((4,4))\n",
    "arr3d = arr[:, np.newaxis, :]\n",
    "arr3d"
   ],
   "metadata": {
    "collapsed": false,
    "pycharm": {
     "name": "#%%\n"
    }
   }
  },
  {
   "cell_type": "code",
   "execution_count": 53,
   "outputs": [
    {
     "data": {
      "text/plain": "(4, 1, 4)"
     },
     "execution_count": 53,
     "metadata": {},
     "output_type": "execute_result"
    }
   ],
   "source": [
    "arr3d.shape\n",
    "#通过np.newaxis可以进行轴的添加"
   ],
   "metadata": {
    "collapsed": false,
    "pycharm": {
     "name": "#%%\n"
    }
   }
  },
  {
   "cell_type": "code",
   "execution_count": 55,
   "outputs": [
    {
     "name": "stdout",
     "output_type": "stream",
     "text": [
      "(3, 4)\n"
     ]
    },
    {
     "data": {
      "text/plain": "array([[-0.14547935, -0.61594014, -0.14080415, -0.42396552],\n       [ 0.35368529, -0.32293734, -0.21593901,  0.16666992],\n       [-0.43747388,  0.35689748, -0.27977821,  0.03877312]])"
     },
     "execution_count": 55,
     "metadata": {},
     "output_type": "execute_result"
    }
   ],
   "source": [
    "arr = np.random.randn(3,4,5)\n",
    "depth_means = arr.mean(2)\n",
    "print(depth_means.shape)\n",
    "depth_means"
   ],
   "metadata": {
    "collapsed": false,
    "pycharm": {
     "name": "#%%\n"
    }
   }
  },
  {
   "cell_type": "code",
   "execution_count": 56,
   "outputs": [
    {
     "name": "stdout",
     "output_type": "stream",
     "text": [
      "[[ 2.22044605e-17 -4.44089210e-17  2.22044605e-17 -4.44089210e-17]\n",
      " [ 2.22044605e-17 -2.22044605e-17  1.11022302e-17  6.66133815e-17]\n",
      " [ 3.33066907e-17 -4.44089210e-17  0.00000000e+00  0.00000000e+00]]\n"
     ]
    },
    {
     "data": {
      "text/plain": "array([[[ 0.63494971,  0.8861108 , -0.90316782, -0.88624152,\n          0.26834883],\n        [-0.11672944,  0.19840283,  0.8191057 ,  0.67225765,\n         -1.57303674],\n        [-0.21164569, -0.5837272 , -0.63472756,  1.2820709 ,\n          0.14802956],\n        [ 1.08562675, -0.76160766, -0.94925543,  1.2704091 ,\n         -0.64517276]],\n\n       [[-0.43461945,  0.67695798, -0.47364411,  0.36563939,\n         -0.1343338 ],\n        [ 0.19289978,  0.55700477,  0.08092581, -0.82320327,\n         -0.00762709],\n        [ 0.10878121, -1.28480818, -0.25728166,  1.28955082,\n          0.14375781],\n        [ 0.47793865,  1.33350707, -1.02732952,  0.10480638,\n         -0.88892257]],\n\n       [[-0.51591026,  0.05802051,  0.15602538,  0.60953775,\n         -0.30767338],\n        [-0.82232745,  0.43399065, -0.06403477, -1.07636256,\n          1.52873411],\n        [ 0.40126713, -1.16462457,  1.24544317, -0.1340077 ,\n         -0.34807803],\n        [ 1.37095411, -0.26970661, -0.33798058,  0.86328794,\n         -1.62655485]]])"
     },
     "execution_count": 56,
     "metadata": {},
     "output_type": "execute_result"
    }
   ],
   "source": [
    "demeaned2 = arr-depth_means[:,:,np.newaxis]\n",
    "print(demeaned2.mean(2))\n",
    "demeaned2\n",
    "#验证得到 是进行了广播行为 完成了矩平化"
   ],
   "metadata": {
    "collapsed": false,
    "pycharm": {
     "name": "#%%\n"
    }
   }
  },
  {
   "cell_type": "code",
   "execution_count": 57,
   "outputs": [
    {
     "data": {
      "text/plain": "array([[5., 5., 5.],\n       [5., 5., 5.],\n       [5., 5., 5.],\n       [5., 5., 5.]])"
     },
     "execution_count": 57,
     "metadata": {},
     "output_type": "execute_result"
    }
   ],
   "source": [
    "arr = np.zeros((4,3))\n",
    "arr[:] = 5\n",
    "arr\n",
    "#可以通过广播进行数组值的设置"
   ],
   "metadata": {
    "collapsed": false,
    "pycharm": {
     "name": "#%%\n"
    }
   }
  },
  {
   "cell_type": "code",
   "execution_count": 58,
   "outputs": [
    {
     "data": {
      "text/plain": "45"
     },
     "execution_count": 58,
     "metadata": {},
     "output_type": "execute_result"
    }
   ],
   "source": [
    "#ufunc方法 简洁的循环方法\n",
    "arr = np.arange(10)\n",
    "np.add.reduce(arr)"
   ],
   "metadata": {
    "collapsed": false,
    "pycharm": {
     "name": "#%%\n"
    }
   }
  },
  {
   "cell_type": "code",
   "execution_count": 59,
   "outputs": [
    {
     "data": {
      "text/plain": "array([[ 0,  1,  3,  6, 10],\n       [ 5, 11, 18, 26, 35],\n       [10, 21, 33, 46, 60]], dtype=int32)"
     },
     "execution_count": 59,
     "metadata": {},
     "output_type": "execute_result"
    }
   ],
   "source": [
    "#acculate和reduce就像cumsum和sum的关系\n",
    "#它产生一个跟数组大小相同的累计\n",
    "arr = np.arange(15).reshape((3,5))\n",
    "np.add.accumulate(arr,axis=1)\n",
    "#得到了累加的过程"
   ],
   "metadata": {
    "collapsed": false,
    "pycharm": {
     "name": "#%%\n"
    }
   }
  },
  {
   "cell_type": "code",
   "execution_count": 60,
   "outputs": [
    {
     "data": {
      "text/plain": "array([0, 1, 1, 2, 2])"
     },
     "execution_count": 60,
     "metadata": {},
     "output_type": "execute_result"
    }
   ],
   "source": [
    "#outer用于计算两个数组的叉积\n",
    "arr = np.arange(3).repeat([1,2,2])\n",
    "arr"
   ],
   "metadata": {
    "collapsed": false,
    "pycharm": {
     "name": "#%%\n"
    }
   }
  },
  {
   "cell_type": "code",
   "execution_count": 61,
   "outputs": [
    {
     "data": {
      "text/plain": "array([[0, 0, 0, 0, 0],\n       [0, 1, 2, 3, 4],\n       [0, 1, 2, 3, 4],\n       [0, 2, 4, 6, 8],\n       [0, 2, 4, 6, 8]])"
     },
     "execution_count": 61,
     "metadata": {},
     "output_type": "execute_result"
    }
   ],
   "source": [
    "np.multiply.outer(arr,np.arange(5))"
   ],
   "metadata": {
    "collapsed": false,
    "pycharm": {
     "name": "#%%\n"
    }
   }
  },
  {
   "cell_type": "code",
   "execution_count": null,
   "outputs": [],
   "source": [
    "#之前所有的ndarray是相同的数据类型：dtype\n",
    "#但是可以定义结构化ndarray\n",
    "#结构化 C中的struct 可以的"
   ],
   "metadata": {
    "collapsed": false,
    "pycharm": {
     "name": "#%%\n"
    }
   }
  },
  {
   "cell_type": "code",
   "execution_count": 62,
   "outputs": [
    {
     "data": {
      "text/plain": "array([(1.5       ,  6), (3.14159265, -2)],\n      dtype=[('x', '<f8'), ('y', '<i4')])"
     },
     "execution_count": 62,
     "metadata": {},
     "output_type": "execute_result"
    }
   ],
   "source": [
    "dtype = [('x',np.float64),('y',np.int32)]\n",
    "sarr = np.array([(1.5,6),(np.pi,-2)],dtype=dtype)\n",
    "sarr\n",
    "#显示定义dtype之后 每个元素都是一个结构体 对象数据类型按照定义的顺序进行"
   ],
   "metadata": {
    "collapsed": false,
    "pycharm": {
     "name": "#%%\n"
    }
   }
  },
  {
   "cell_type": "code",
   "execution_count": 63,
   "outputs": [
    {
     "name": "stdout",
     "output_type": "stream",
     "text": [
      "(1.5, 6)\n",
      "6\n"
     ]
    }
   ],
   "source": [
    "print(sarr[0])\n",
    "print(sarr[0]['y'])\n",
    "#可以通过定义时的名称进行索引"
   ],
   "metadata": {
    "collapsed": false,
    "pycharm": {
     "name": "#%%\n"
    }
   }
  },
  {
   "cell_type": "code",
   "execution_count": 64,
   "outputs": [
    {
     "data": {
      "text/plain": "array([([0., 0., 0.], 0), ([0., 0., 0.], 0), ([0., 0., 0.], 0),\n       ([0., 0., 0.], 0)], dtype=[('x', '<f8', (3,)), ('y', '<i4')])"
     },
     "execution_count": 64,
     "metadata": {},
     "output_type": "execute_result"
    }
   ],
   "source": [
    "dtype = [('x',np.float64,3),('y',np.int32)]\n",
    "arr = np.zeros(4,dtype=dtype)\n",
    "arr\n",
    "#定义了多维字段"
   ],
   "metadata": {
    "collapsed": false,
    "pycharm": {
     "name": "#%%\n"
    }
   }
  },
  {
   "cell_type": "code",
   "execution_count": 65,
   "outputs": [
    {
     "data": {
      "text/plain": "array([[(1, 2), 5],\n       [(3, 4), 6]], dtype=object)"
     },
     "execution_count": 65,
     "metadata": {},
     "output_type": "execute_result"
    }
   ],
   "source": [
    "dtype = [('x',[('a','f8'),('b','f4')]),('y',np.int32)]\n",
    "data = np.array([((1,2),5),((3,4),6)])\n",
    "data\n",
    "#使用了嵌套形式的dtype"
   ],
   "metadata": {
    "collapsed": false,
    "pycharm": {
     "name": "#%%\n"
    }
   }
  },
  {
   "cell_type": "code",
   "execution_count": 67,
   "outputs": [
    {
     "data": {
      "text/plain": "array([-1.05297122, -0.51631176, -0.34991311, -0.14948435, -0.10652187,\n        1.36700145])"
     },
     "execution_count": 67,
     "metadata": {},
     "output_type": "execute_result"
    }
   ],
   "source": [
    "#排序方法\n",
    "arr = np.random.randn(6)\n",
    "arr.sort()\n",
    "arr\n",
    "#sort进行排序"
   ],
   "metadata": {
    "collapsed": false,
    "pycharm": {
     "name": "#%%\n"
    }
   }
  },
  {
   "cell_type": "code",
   "execution_count": 68,
   "outputs": [
    {
     "data": {
      "text/plain": "array([[-1.35236875,  0.36309135, -0.23043739,  0.65039695, -0.31242147],\n       [ 0.23686882, -0.80417821,  0.7388366 ,  0.0393521 ,  0.90739913],\n       [-1.02881417,  0.2284782 , -1.19902548, -0.13778005, -1.36215117]])"
     },
     "execution_count": 68,
     "metadata": {},
     "output_type": "execute_result"
    }
   ],
   "source": [
    "arr = np.random.randn(3,5)\n",
    "arr"
   ],
   "metadata": {
    "collapsed": false,
    "pycharm": {
     "name": "#%%\n"
    }
   }
  },
  {
   "cell_type": "code",
   "execution_count": 69,
   "outputs": [
    {
     "data": {
      "text/plain": "array([[-1.35236875,  0.36309135, -0.23043739,  0.65039695, -0.31242147],\n       [-1.02881417, -0.80417821,  0.7388366 ,  0.0393521 ,  0.90739913],\n       [ 0.23686882,  0.2284782 , -1.19902548, -0.13778005, -1.36215117]])"
     },
     "execution_count": 69,
     "metadata": {},
     "output_type": "execute_result"
    }
   ],
   "source": [
    "arr[:,0].sort()\n",
    "arr\n",
    "#如果sort作用于对象的一个视图上 原对象也会被修改"
   ],
   "metadata": {
    "collapsed": false,
    "pycharm": {
     "name": "#%%\n"
    }
   }
  },
  {
   "cell_type": "code",
   "execution_count": 75,
   "outputs": [
    {
     "data": {
      "text/plain": "array([ 1.18394614, -1.08713977,  0.45138142,  0.43098959, -0.87090775])"
     },
     "execution_count": 75,
     "metadata": {},
     "output_type": "execute_result"
    }
   ],
   "source": [
    "#与之相反的是np.sort是会创建一个副本 对副本进行排序 对原样本没有影响\n",
    "arr = np.random.randn(5)\n",
    "arr"
   ],
   "metadata": {
    "collapsed": false,
    "pycharm": {
     "name": "#%%\n"
    }
   }
  },
  {
   "cell_type": "code",
   "execution_count": 71,
   "outputs": [
    {
     "name": "stdout",
     "output_type": "stream",
     "text": [
      "[-2.34824072 -0.55778142  0.36770613  1.54043507  1.95367701]\n"
     ]
    },
    {
     "data": {
      "text/plain": "array([-2.34824072,  1.95367701, -0.55778142,  0.36770613,  1.54043507])"
     },
     "execution_count": 71,
     "metadata": {},
     "output_type": "execute_result"
    }
   ],
   "source": [
    "print(np.sort(arr))\n",
    "arr"
   ],
   "metadata": {
    "collapsed": false,
    "pycharm": {
     "name": "#%%\n"
    }
   }
  },
  {
   "cell_type": "code",
   "execution_count": 81,
   "outputs": [
    {
     "name": "stdout",
     "output_type": "stream",
     "text": [
      "[-1.08713977 -0.87090775  0.43098959  0.45138142  1.18394614]\n"
     ]
    },
    {
     "data": {
      "text/plain": "array([ 1.18394614,  0.45138142,  0.43098959, -0.87090775, -1.08713977])"
     },
     "execution_count": 81,
     "metadata": {},
     "output_type": "execute_result"
    }
   ],
   "source": [
    "#值得注意的是没有降序操作 不过可以升序排序再反过来即可\n",
    "print(np.sort(arr))\n",
    "np.sort(arr)[::-1]\n",
    "#即为降序"
   ],
   "metadata": {
    "collapsed": false,
    "pycharm": {
     "name": "#%%\n"
    }
   }
  },
  {
   "cell_type": "code",
   "execution_count": 83,
   "outputs": [
    {
     "name": "stdout",
     "output_type": "stream",
     "text": [
      "[1 2 4 3 0]\n"
     ]
    },
    {
     "data": {
      "text/plain": "array([0, 1, 2, 3, 5])"
     },
     "execution_count": 83,
     "metadata": {},
     "output_type": "execute_result"
    }
   ],
   "source": [
    "#间接排序\n",
    "values = np.array([5,0,1,3,2])\n",
    "indexer = values.argsort()\n",
    "print(indexer)\n",
    "values[indexer]\n",
    "#获得的是表示顺序的索引位置"
   ],
   "metadata": {
    "collapsed": false,
    "pycharm": {
     "name": "#%%\n"
    }
   }
  },
  {
   "cell_type": "code",
   "execution_count": 84,
   "outputs": [
    {
     "data": {
      "text/plain": "array([[ 5.        ,  0.        ,  1.        ,  3.        ,  2.        ],\n       [ 1.02105816,  0.72347247, -0.97226951, -1.48290334,  0.96967941],\n       [-0.42835948,  0.61001378,  0.5510164 ,  0.63670246,  0.57692951]])"
     },
     "execution_count": 84,
     "metadata": {},
     "output_type": "execute_result"
    }
   ],
   "source": [
    "arr = np.random.randn(3,5)\n",
    "arr[0] = values\n",
    "arr"
   ],
   "metadata": {
    "collapsed": false,
    "pycharm": {
     "name": "#%%\n"
    }
   }
  },
  {
   "cell_type": "code",
   "execution_count": 85,
   "outputs": [
    {
     "data": {
      "text/plain": "array([[ 0.        ,  1.        ,  2.        ,  3.        ,  5.        ],\n       [ 0.72347247, -0.97226951,  0.96967941, -1.48290334,  1.02105816],\n       [ 0.61001378,  0.5510164 ,  0.57692951,  0.63670246, -0.42835948]])"
     },
     "execution_count": 85,
     "metadata": {},
     "output_type": "execute_result"
    }
   ],
   "source": [
    "arr[:,arr[0].argsort()]\n",
    "#索引排序是可以用来进行取值"
   ],
   "metadata": {
    "collapsed": false,
    "pycharm": {
     "name": "#%%\n"
    }
   }
  },
  {
   "cell_type": "code",
   "execution_count": 88,
   "outputs": [
    {
     "data": {
      "text/plain": "[('Arnold', 'Jane'),\n ('Arnold', 'Steve'),\n ('Jone', 'Bill'),\n ('Jones', 'Bob'),\n ('Walters', 'Barbara')]"
     },
     "execution_count": 88,
     "metadata": {},
     "output_type": "execute_result"
    }
   ],
   "source": [
    "first_name = np.array(['Bob','Jane','Steve','Bill','Barbara'])\n",
    "last_name = np.array(['Jones','Arnold','Arnold','Jone','Walters'])\n",
    "sorter = np.lexsort((first_name,last_name))\n",
    "list(zip(last_name[sorter],first_name[sorter]))\n",
    "#lexsort可以对多个键进行间接排序"
   ],
   "metadata": {
    "collapsed": false,
    "pycharm": {
     "name": "#%%\n"
    }
   }
  },
  {
   "cell_type": "code",
   "execution_count": 89,
   "outputs": [
    {
     "data": {
      "text/plain": "3"
     },
     "execution_count": 89,
     "metadata": {},
     "output_type": "execute_result"
    }
   ],
   "source": [
    "#searchsorted 在有序数组中查找元素位置 二分法！\n",
    "arr = np.array([0,1,7,12,15])\n",
    "arr.searchsorted(9)\n",
    "#获得索引位置 返回相等值组的左侧索引"
   ],
   "metadata": {
    "collapsed": false,
    "pycharm": {
     "name": "#%%\n"
    }
   }
  },
  {
   "cell_type": "code",
   "execution_count": 93,
   "outputs": [
    {
     "data": {
      "text/plain": "array([4304., 2097., 6064., 9600., 9013., 9561., 6768.,   53., 2537.,\n       1473., 4482., 1754., 1461., 1341., 2261.,  531.,  831., 2755.,\n       8361., 5799.,  857., 4669., 4409., 2258.,  628., 4143., 7592.,\n       6738., 6761., 2324., 8143., 8975., 4093., 5771., 5056., 6544.,\n       3901., 3062., 1649., 7414., 7537., 7358., 1571., 1790., 2559.,\n       7147., 5551., 6248.,  872., 5519.])"
     },
     "execution_count": 93,
     "metadata": {},
     "output_type": "execute_result"
    }
   ],
   "source": [
    "data = np.floor(np.random.uniform(0,10000,size=50))\n",
    "bins = np.array([0,100,1000,5000,10000])\n",
    "data"
   ],
   "metadata": {
    "collapsed": false,
    "pycharm": {
     "name": "#%%\n"
    }
   }
  },
  {
   "cell_type": "code",
   "execution_count": 94,
   "outputs": [
    {
     "data": {
      "text/plain": "array([3, 3, 4, 4, 4, 4, 4, 1, 3, 3, 3, 3, 3, 3, 3, 2, 2, 3, 4, 4, 2, 3,\n       3, 3, 2, 3, 4, 4, 4, 3, 4, 4, 3, 4, 4, 4, 3, 3, 3, 4, 4, 4, 3, 3,\n       3, 4, 4, 4, 2, 4], dtype=int64)"
     },
     "execution_count": 94,
     "metadata": {},
     "output_type": "execute_result"
    }
   ],
   "source": [
    "#为了得到所属区间的编号 可以使用searchsorted 1就代表[0,100)以此类推\n",
    "labels = bins.searchsorted(data)\n",
    "labels"
   ],
   "metadata": {
    "collapsed": false,
    "pycharm": {
     "name": "#%%\n"
    }
   }
  },
  {
   "cell_type": "code",
   "execution_count": 95,
   "outputs": [
    {
     "data": {
      "text/plain": "1     1\n2     5\n3    22\n4    22\ndtype: int64"
     },
     "execution_count": 95,
     "metadata": {},
     "output_type": "execute_result"
    }
   ],
   "source": [
    "from pandas import Series\n",
    "Series(data).groupby(labels).size()\n",
    "#之后可以通过groupby进行分组了"
   ],
   "metadata": {
    "collapsed": false,
    "pycharm": {
     "name": "#%%\n"
    }
   }
  },
  {
   "cell_type": "code",
   "execution_count": null,
   "outputs": [],
   "source": [
    "'''\n",
    "#性能建议：\n",
    "1.将python循环和条件逻辑转化为数组运算和布尔数组运算\n",
    "2.尽量使用广播\n",
    "3.避免复制数据，尽量使用数组视图（切片）\n",
    "4.利用ufunc及各种方法\n",
    "如果碰到值得注意\n",
    "'''\n",
    "\n"
   ],
   "metadata": {
    "collapsed": false,
    "pycharm": {
     "name": "#%%\n"
    }
   }
  }
 ],
 "metadata": {
  "kernelspec": {
   "display_name": "Python 3",
   "language": "python",
   "name": "python3"
  },
  "language_info": {
   "codemirror_mode": {
    "name": "ipython",
    "version": 2
   },
   "file_extension": ".py",
   "mimetype": "text/x-python",
   "name": "python",
   "nbconvert_exporter": "python",
   "pygments_lexer": "ipython2",
   "version": "2.7.6"
  }
 },
 "nbformat": 4,
 "nbformat_minor": 0
}