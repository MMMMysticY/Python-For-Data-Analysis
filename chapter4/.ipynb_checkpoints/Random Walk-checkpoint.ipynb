{
 "cells": [
  {
   "cell_type": "code",
   "execution_count": 5,
   "metadata": {},
   "outputs": [],
   "source": [
    "import numpy as np\n",
    "import random\n",
    "import matplotlib.pyplot as plt"
   ]
  },
  {
   "cell_type": "code",
   "execution_count": 8,
   "metadata": {},
   "outputs": [
    {
     "name": "stdout",
     "output_type": "stream",
     "text": [
      "[0, 1, 2, 3, 2, 1, 0, 1, 0, -1, -2, -1, -2, -3, -2, -1, -2, -1, -2, -1, 0, -1, -2, -1, 0, -1, 0, 1, 0, 1, 0, 1, 2, 1, 0, 1, 2, 3, 4, 5, 4, 3, 4, 5, 6, 7, 8, 7, 6, 7, 6, 7, 8, 9, 10, 11, 12, 11, 12, 13, 14, 15, 14, 13, 14, 15, 14, 15, 16, 15, 16, 17, 16, 17, 18, 17, 16, 17, 16, 17, 16, 15, 16, 15, 14, 15, 16, 15, 14, 15, 14, 15, 14, 13, 12, 11, 10, 9, 8, 7, 8, 7, 6, 5, 6, 5, 4, 5, 4, 3, 2, 1, 0, -1, 0, -1, 0, 1, 2, 3, 2, 3, 4, 3, 2, 1, 0, 1, 0, -1, 0, -1, 0, 1, 2, 1, 2, 3, 2, 3, 4, 5, 4, 5, 6, 5, 6, 7, 6, 5, 4, 3, 4, 3, 4, 3, 4, 3, 2, 3, 2, 3, 4, 3, 4, 3, 4, 3, 4, 3, 4, 3, 4, 5, 4, 3, 4, 3, 4, 3, 2, 1, 0, 1, 0, -1, -2, -1, 0, 1, 2, 1, 0, 1, 0, -1, -2, -3, -2, -1, -2, -3, -4, -5, -4, -5, -6, -5, -6, -5, -4, -5, -6, -5, -4, -3, -4, -3, -2, -1, 0, -1, -2, -3, -2, -3, -4, -3, -2, -1, 0, -1, 0, 1, 0, 1, 0, 1, 2, 3, 2, 1, 2, 3, 4, 3, 2, 1, 2, 1, 2, 1, 0, -1, -2, -1, -2, -1, 0, -1, 0, 1, 2, 1, 2, 1, 2, 1, 2, 3, 4, 5, 6, 5, 4, 5, 4, 3, 2, 3, 4, 3, 4, 5, 6, 5, 4, 5, 6, 7, 6, 5, 6, 5, 4, 3, 2, 3, 2, 3, 2, 1, 2, 1, 0, 1, 0, -1, -2, -1, 0, -1, -2, -3, -4, -3, -2, -3, -4, -3, -2, -3, -2, -3, -2, -1, 0, 1, 2, 1, 0, 1, 2, 3, 2, 3, 2, 3, 2, 3, 2, 1, 2, 3, 2, 3, 4, 3, 2, 3, 4, 3, 2, 1, 0, 1, 0, 1, 2, 1, 0, 1, 2, 3, 2, 3, 4, 5, 6, 5, 4, 3, 2, 1, 2, 1, 0, -1, 0, 1, 0, 1, 2, 3, 4, 5, 4, 5, 4, 5, 4, 3, 4, 5, 4, 5, 6, 5, 4, 3, 4, 5, 6, 7, 8, 7, 8, 7, 8, 7, 8, 7, 8, 9, 10, 11, 10, 11, 12, 13, 12, 13, 14, 13, 12, 13, 12, 13, 14, 15, 14, 13, 12, 13, 12, 11, 10, 9, 10, 11, 10, 9, 10, 9, 10, 11, 10, 9, 10, 9, 10, 11, 12, 13, 12, 13, 12, 11, 10, 9, 10, 11, 10, 9, 10, 11, 10, 11, 12, 11, 10, 9, 10, 11, 12, 11, 12, 11, 12, 13, 14, 13, 12, 13, 12, 11, 10, 9, 8, 7, 6, 5, 4, 5, 4, 5, 4, 5, 6, 5, 6, 7, 8, 7, 8, 9, 10, 9, 8, 7, 6, 7, 8, 9, 10, 11, 10, 11, 12, 11, 10, 9, 10, 11, 10, 9, 10, 9, 10, 11, 12, 13, 12, 11, 10, 11, 10, 11, 10, 9, 8, 7, 8, 9, 8, 9, 8, 9, 10, 11, 10, 11, 10, 11, 10, 11, 10, 9, 10, 9, 10, 9, 8, 9, 8, 9, 10, 9, 8, 7, 6, 7, 8, 7, 8, 9, 10, 11, 12, 11, 12, 13, 14, 15, 16, 15, 16, 17, 16, 17, 16, 15, 14, 15, 14, 13, 14, 13, 14, 15, 16, 17, 16, 17, 18, 17, 16, 15, 14, 13, 14, 13, 12, 13, 12, 13, 12, 13, 14, 15, 14, 13, 12, 13, 12, 13, 14, 13, 12, 11, 12, 11, 10, 11, 12, 11, 10, 9, 10, 11, 10, 11, 10, 9, 8, 7, 6, 5, 4, 3, 2, 1, 2, 3, 4, 5, 4, 3, 2, 3, 4, 3, 2, 3, 4, 3, 4, 5, 4, 3, 4, 3, 2, 1, 0, -1, -2, -1, -2, -1, 0, -1, 0, -1, 0, 1, 2, 1, 0, 1, 2, 1, 0, -1, 0, -1, 0, -1, -2, -3, -2, -3, -2, -1, -2, -1, 0, -1, -2, -3, -4, -3, -4, -5, -4, -5, -6, -7, -6, -5, -4, -5, -6, -5, -4, -5, -4, -3, -2, -1, -2, -3, -4, -5, -4, -3, -4, -5, -4, -5, -6, -5, -6, -7, -8, -7, -8, -9, -10, -9, -10, -11, -10, -11, -12, -13, -14, -13, -12, -13, -14, -15, -16, -15, -14, -15, -14, -15, -16, -17, -16, -17, -16, -15, -14, -13, -14, -13, -12, -13, -14, -15, -16, -15, -16, -15, -14, -15, -16, -15, -14, -15, -14, -15, -16, -17, -18, -19, -20, -19, -20, -21, -22, -23, -24, -23, -22, -23, -22, -23, -24, -25, -26, -27, -28, -29, -30, -31, -32, -31, -30, -31, -30, -31, -30, -31, -32, -31, -32, -33, -32, -31, -32, -33, -32, -31, -30, -31, -32, -33, -34, -33, -32, -33, -34, -35, -36, -37, -36, -35, -36, -35, -34, -35, -36, -37, -36, -37, -38, -39, -40, -41, -40, -39, -38, -39, -38, -39, -38, -37, -38, -37, -38, -39, -40, -41, -40, -41, -42, -41, -42, -41, -40, -41, -40, -41, -42, -41, -40, -39, -38, -37, -38, -39, -38, -37, -36, -37, -38, -39, -38, -37, -38, -39, -38, -39, -38, -37, -36, -37, -36, -35, -36, -35, -34, -35, -36, -37, -38, -39, -40, -41, -42, -43, -44, -43, -42, -41, -42, -41, -40, -39, -38, -39, -40, -39, -38, -39, -40, -41, -40, -39, -40, -39, -38, -39, -40, -39, -40, -39, -40, -41, -40, -39, -40, -39, -38, -39, -40, -39, -38, -39, -40, -41, -42, -43, -44, -43, -44, -45, -44, -43, -42, -43, -42, -41, -42, -41, -42, -43, -42, -43, -42, -43, -44, -45, -46, -47, -46, -47, -46, -47, -46, -47, -48, -47, -48, -49, -50, -49, -48]\n"
     ]
    },
    {
     "data": {
      "image/png": "[encoded data removed]",
      "text/plain": [
       "<Figure size 432x288 with 1 Axes>"
      ]
     },
     "metadata": {
      "needs_background": "light"
     },
     "output_type": "display_data"
    }
   ],
   "source": [
    "position =  0\n",
    "walk = [position]\n",
    "steps = 1000\n",
    "for i in range(steps):\n",
    "    step = 1 if random.randint(0,1) else -1\n",
    "    position += step\n",
    "    walk.append(position)\n",
    "print(walk)\n",
    "plt.plot(walk)\n",
    "plt.show()   #使用传统方法进行随机漫步"
   ]
  },
  {
   "cell_type": "code",
   "execution_count": 10,
   "metadata": {},
   "outputs": [
    {
     "name": "stdout",
     "output_type": "stream",
     "text": [
      "[ 1  0 -1  0  1  2  3  2  1  0  1  0  1  0 -1  0  1  2  3  4  3  2  3  4\n",
      "  5  6  5  6  5  6  7  8  7  8  7  6  7  8  9  8  9  8  9 10  9 10  9 10\n",
      " 11 10 11 10 11 12 13 12 13 14 13 14 13 12 11 10 11 12 13 12 11 10 11 12\n",
      " 13 14 15 14 15 16 15 14 15 14 13 14 15 16 17 18 19 18 19 18 17 18 19 20\n",
      " 21 20 21 20 21 22 21 20 21 22 21 20 21 22 21 20 21 22 21 22 21 20 21 22\n",
      " 23 24 25 26 27 26 27 26 25 26 27 26 27 26 27 26 27 26 25 24 23 24 23 24\n",
      " 23 22 21 20 19 18 19 18 17 16 17 18 17 16 17 18 19 18 17 16 15 16 15 16\n",
      " 17 18 17 18 17 18 19 20 19 18 17 16 17 16 15 16 17 16 15 16 17 18 17 16\n",
      " 17 18 17 18 17 16 17 16 15 16 15 16 17 16 17 16 17 18 17 16 15 16 15 14\n",
      " 15 14 13 14 15 14 13 12 13 12 13 12 13 14 15 14 13 12 13 14 15 14 15 14\n",
      " 13 14 15 16 17 18 19 18 17 18 17 16 15 16 15 16 17 16 17 18 17 18 17 18\n",
      " 17 18 19 18 19 20 21 22 23 22 21 20 19 18 17 16 15 16 17 16 15 14 15 14\n",
      " 13 12 13 12 11 12 11 10 11 10 11 10 11 10  9 10 11 12 11 12 13 14 15 16\n",
      " 17 18 19 18 17 18 19 18 17 18 17 18 19 20 19 20 21 20 21 22 23 22 21 20\n",
      " 21 22 23 24 25 24 25 24 25 24 25 26 27 26 25 24 25 24 25 26 25 26 25 26\n",
      " 27 28 27 28 29 28 27 28 27 28 29 30 29 28 29 30 31 30 31 30 29 30 31 32\n",
      " 33 34 35 34 35 36 37 38 37 36 35 34 35 34 35 36 37 38 39 38 39 40 41 42\n",
      " 43 42 43 42 41 40 39 38 39 40 41 42 43 44 45 46 47 46 45 44 43 44 43 42\n",
      " 43 42 41 42 43 44 45 44 45 44 45 46 47 48 47 48 47 46 45 44 43 44 45 46\n",
      " 47 48 47 46 47 48 49 48 49 50 51 50 49 48 49 50 51 52 51 50 49 48 47 48\n",
      " 47 46 45 46 45 46 47 46 47 48 49 48 49 48 47 46 47 48 49 48 47 46 47 48\n",
      " 47 48 47 46 47 48 49 50 51 50 51 50 49 48 49 50 51 50 51 52 53 54 55 54\n",
      " 55 54 53 54 53 54 53 52 53 54 53 52 51 52 53 52 51 50 49 48 47 48 47 46\n",
      " 47 46 45 46 45 44 45 46 47 46 47 48 49 50 51 52 51 50 51 52 51 52 51 52\n",
      " 51 52 51 52 53 54 53 52 51 50 49 48 47 46 47 46 45 44 43 42 43 42 41 40\n",
      " 39 38 37 38 37 36 37 36 35 36 35 34 33 34 33 32 31 30 29 30 29 30 29 28\n",
      " 29 28 27 28 27 26 25 26 27 26 27 26 27 26 25 26 27 28 29 28 27 28 27 28\n",
      " 27 26 27 26 27 26 25 24 25 24 23 22 23 24 23 24 25 26 27 26 27 26 27 28\n",
      " 27 28 27 26 25 24 25 24 25 24 23 22 23 24 23 24 25 26 27 28 27 26 25 24\n",
      " 25 24 23 24 23 22 23 22 23 22 23 22 21 20 19 20 19 20 21 22 23 24 23 24\n",
      " 23 24 23 22 21 22 21 22 23 24 25 26 25 24 25 26 25 24 23 22 21 22 23 22\n",
      " 23 24 25 26 27 26 27 28 29 28 27 26 27 26 25 24 25 26 25 24 23 22 21 20\n",
      " 19 20 21 22 23 24 23 22 21 22 23 24 25 24 25 24 23 24 23 24 25 24 23 24\n",
      " 23 22 23 22 21 20 19 20 21 22 21 20 21 20 21 20 21 22 23 24 23 22 23 22\n",
      " 21 20 21 22 23 22 21 22 21 22 21 20 19 18 17 18 17 16 17 18 19 20 21 20\n",
      " 21 22 21 20 19 20 21 22 23 24 23 22 23 22 23 24 25 24 23 22 23 22 23 22\n",
      " 21 22 21 20 21 22 21 20 19 18 19 20 21 22 21 20 21 20 21 20 21 20 19 20\n",
      " 21 22 21 20 19 20 19 18 19 18 17 18 17 16 17 16 15 14 15 14 15 16 15 14\n",
      " 15 14 15 14 13 12 13 12 13 12 13 14 15 16 15 14 13 14 13 12 13 14 15 16\n",
      " 15 16 17 16 15 16 17 18 19 20 19 20 19 20 19 18 19 18 17 18 17 18 17 18\n",
      " 17 16 15 16 15 16 17 16 17 16 17 16 15 14 13 12 11 10  9 10 11 12 13 12\n",
      " 11 12 13 12 13 14 13 12 13 14 13 12 11 12 13 14]\n"
     ]
    }
   ],
   "source": [
    "#使用Numpy进行随机漫步\n",
    "nsteps = 1000\n",
    "draws = np.random.randint(0,2,size = nsteps)\n",
    "steps = np.where(draws>0,1,-1)\n",
    "# print(steps)\n",
    "walk = steps.cumsum()\n",
    "print(walk)"
   ]
  },
  {
   "cell_type": "code",
   "execution_count": 11,
   "metadata": {},
   "outputs": [
    {
     "data": {
      "text/plain": [
       "-1"
      ]
     },
     "execution_count": 11,
     "metadata": {},
     "output_type": "execute_result"
    }
   ],
   "source": [
    "walk.min() #最负走到的位置"
   ]
  },
  {
   "cell_type": "code",
   "execution_count": 12,
   "metadata": {},
   "outputs": [
    {
     "data": {
      "text/plain": [
       "55"
      ]
     },
     "execution_count": 12,
     "metadata": {},
     "output_type": "execute_result"
    }
   ],
   "source": [
    "walk.max() #最正走到的位置"
   ]
  },
  {
   "cell_type": "code",
   "execution_count": 14,
   "metadata": {},
   "outputs": [
    {
     "data": {
      "text/plain": [
       "43"
      ]
     },
     "execution_count": 14,
     "metadata": {},
     "output_type": "execute_result"
    }
   ],
   "source": [
    "(np.abs(walk)>=10).argmax()  #内部的>10判断所有距离出发点距离大于10的位置 argmax取第一个索引"
   ]
  },
  {
   "cell_type": "code",
   "execution_count": 16,
   "metadata": {},
   "outputs": [
    {
     "data": {
      "text/plain": [
       "array([[0, 0, 1, ..., 0, 1, 0],\n",
       "       [0, 0, 1, ..., 0, 1, 0],\n",
       "       [1, 0, 1, ..., 1, 1, 1],\n",
       "       ...,\n",
       "       [0, 0, 1, ..., 1, 1, 0],\n",
       "       [1, 0, 0, ..., 0, 1, 1],\n",
       "       [0, 0, 0, ..., 1, 0, 0]])"
      ]
     },
     "execution_count": 16,
     "metadata": {},
     "output_type": "execute_result"
    }
   ],
   "source": [
    "#一次进行多个随机漫步\n",
    "#通过np.random 参数设置为二元组即可\n",
    "nwalks = 5000\n",
    "nsteps = 1000\n",
    "draw = np.random.randint(0,2,size=(nwalks,nsteps))\n",
    "draw"
   ]
  },
  {
   "cell_type": "code",
   "execution_count": 17,
   "metadata": {},
   "outputs": [
    {
     "data": {
      "text/plain": [
       "array([[ -1,  -2,  -1, ...,   6,   7,   6],\n",
       "       [ -1,  -2,  -1, ...,  46,  47,  46],\n",
       "       [  1,   0,   1, ...,   6,   7,   8],\n",
       "       ...,\n",
       "       [ -1,  -2,  -1, ...,   4,   5,   4],\n",
       "       [  1,   0,  -1, ...,  24,  25,  26],\n",
       "       [ -1,  -2,  -3, ..., -14, -15, -16]], dtype=int32)"
      ]
     },
     "execution_count": 17,
     "metadata": {},
     "output_type": "execute_result"
    }
   ],
   "source": [
    "steps = np.where(draw>0,1,-1)\n",
    "walks = steps.cumsum(1)\n",
    "walks"
   ]
  },
  {
   "cell_type": "code",
   "execution_count": 22,
   "metadata": {},
   "outputs": [
    {
     "name": "stdout",
     "output_type": "stream",
     "text": [
      "[  0 750   0 ... 228 918 348]\n"
     ]
    }
   ],
   "source": [
    "cross_30_time = (np.abs(walks)>30).argmax(1)\n",
    "print(cross_30_time)"
   ]
  },
  {
   "cell_type": "code",
   "execution_count": 25,
   "metadata": {},
   "outputs": [],
   "source": [
    "cross_30 = cross_30_time[(cross_30_time>0)]"
   ]
  },
  {
   "cell_type": "code",
   "execution_count": 26,
   "metadata": {},
   "outputs": [
    {
     "data": {
      "text/plain": [
       "array([750, 714, 668, ..., 228, 918, 348], dtype=int64)"
      ]
     },
     "execution_count": 26,
     "metadata": {},
     "output_type": "execute_result"
    }
   ],
   "source": [
    "cross_30"
   ]
  },
  {
   "cell_type": "code",
   "execution_count": 27,
   "metadata": {},
   "outputs": [
    {
     "data": {
      "text/plain": [
       "901"
      ]
     },
     "execution_count": 27,
     "metadata": {},
     "output_type": "execute_result"
    }
   ],
   "source": [
    "cross_30.argmin()"
   ]
  },
  {
   "cell_type": "code",
   "execution_count": 28,
   "metadata": {},
   "outputs": [
    {
     "data": {
      "text/plain": [
       "66"
      ]
     },
     "execution_count": 28,
     "metadata": {},
     "output_type": "execute_result"
    }
   ],
   "source": [
    "cross_30[901]  #第66步到达了30"
   ]
  },
  {
   "cell_type": "code",
   "execution_count": 30,
   "metadata": {},
   "outputs": [
    {
     "data": {
      "text/plain": [
       "514.2445003142677"
      ]
     },
     "execution_count": 30,
     "metadata": {},
     "output_type": "execute_result"
    }
   ],
   "source": [
    "cross_30.mean() #平均514步到达30"
   ]
  },
  {
   "cell_type": "code",
   "execution_count": null,
   "metadata": {},
   "outputs": [],
   "source": []
  }
 ],
 "metadata": {
  "kernelspec": {
   "display_name": "Python 3",
   "language": "python",
   "name": "python3"
  },
  "language_info": {
   "codemirror_mode": {
    "name": "ipython",
    "version": 3
   },
   "file_extension": ".py",
   "mimetype": "text/x-python",
   "name": "python",
   "nbconvert_exporter": "python",
   "pygments_lexer": "ipython3",
   "version": "3.7.7"
  }
 },
 "nbformat": 4,
 "nbformat_minor": 4
}
