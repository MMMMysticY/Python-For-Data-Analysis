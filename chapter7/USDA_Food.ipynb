{
 "cells": [
  {
   "cell_type": "code",
   "execution_count": 1,
   "metadata": {
    "collapsed": true
   },
   "outputs": [],
   "source": [
    "import pandas as pd\n",
    "import numpy as np\n",
    "from pandas import Series,DataFrame"
   ]
  },
  {
   "cell_type": "code",
   "execution_count": 3,
   "outputs": [
    {
     "data": {
      "text/plain": "6636"
     },
     "execution_count": 3,
     "metadata": {},
     "output_type": "execute_result"
    }
   ],
   "source": [
    "import json\n",
    "db = json.load(open('../data/usda_food/database.json'))\n",
    "len(db)\n",
    "#使用json.load加载json数据"
   ],
   "metadata": {
    "collapsed": false,
    "pycharm": {
     "name": "#%%\n"
    }
   }
  },
  {
   "cell_type": "code",
   "execution_count": 5,
   "outputs": [
    {
     "data": {
      "text/plain": "list"
     },
     "execution_count": 5,
     "metadata": {},
     "output_type": "execute_result"
    }
   ],
   "source": [
    "type(db)\n",
    "#我比较关心是什么类型 list类型"
   ],
   "metadata": {
    "collapsed": false,
    "pycharm": {
     "name": "#%%\n"
    }
   }
  },
  {
   "cell_type": "code",
   "execution_count": 6,
   "outputs": [
    {
     "data": {
      "text/plain": "dict_keys(['id', 'description', 'tags', 'manufacturer', 'group', 'portions', 'nutrients'])"
     },
     "execution_count": 6,
     "metadata": {},
     "output_type": "execute_result"
    }
   ],
   "source": [
    "db[0].keys()\n",
    "#先看有哪些属性项"
   ],
   "metadata": {
    "collapsed": false,
    "pycharm": {
     "name": "#%%\n"
    }
   }
  },
  {
   "cell_type": "code",
   "execution_count": 8,
   "outputs": [
    {
     "data": {
      "text/plain": "       value units                         description        group\n0     25.180     g                             Protein  Composition\n1     29.200     g                   Total lipid (fat)  Composition\n2      3.060     g         Carbohydrate, by difference  Composition\n3      3.280     g                                 Ash        Other\n4    376.000  kcal                              Energy       Energy\n..       ...   ...                                 ...          ...\n157    1.472     g                              Serine  Amino Acids\n158   93.000    mg                         Cholesterol        Other\n159   18.584     g        Fatty acids, total saturated        Other\n160    8.275     g  Fatty acids, total monounsaturated        Other\n161    0.830     g  Fatty acids, total polyunsaturated        Other\n\n[162 rows x 4 columns]",
      "text/html": "<div>\n<style scoped>\n    .dataframe tbody tr th:only-of-type {\n        vertical-align: middle;\n    }\n\n    .dataframe tbody tr th {\n        vertical-align: top;\n    }\n\n    .dataframe thead th {\n        text-align: right;\n    }\n</style>\n<table border=\"1\" class=\"dataframe\">\n  <thead>\n    <tr style=\"text-align: right;\">\n      <th></th>\n      <th>value</th>\n      <th>units</th>\n      <th>description</th>\n      <th>group</th>\n    </tr>\n  </thead>\n  <tbody>\n    <tr>\n      <th>0</th>\n      <td>25.180</td>\n      <td>g</td>\n      <td>Protein</td>\n      <td>Composition</td>\n    </tr>\n    <tr>\n      <th>1</th>\n      <td>29.200</td>\n      <td>g</td>\n      <td>Total lipid (fat)</td>\n      <td>Composition</td>\n    </tr>\n    <tr>\n      <th>2</th>\n      <td>3.060</td>\n      <td>g</td>\n      <td>Carbohydrate, by difference</td>\n      <td>Composition</td>\n    </tr>\n    <tr>\n      <th>3</th>\n      <td>3.280</td>\n      <td>g</td>\n      <td>Ash</td>\n      <td>Other</td>\n    </tr>\n    <tr>\n      <th>4</th>\n      <td>376.000</td>\n      <td>kcal</td>\n      <td>Energy</td>\n      <td>Energy</td>\n    </tr>\n    <tr>\n      <th>...</th>\n      <td>...</td>\n      <td>...</td>\n      <td>...</td>\n      <td>...</td>\n    </tr>\n    <tr>\n      <th>157</th>\n      <td>1.472</td>\n      <td>g</td>\n      <td>Serine</td>\n      <td>Amino Acids</td>\n    </tr>\n    <tr>\n      <th>158</th>\n      <td>93.000</td>\n      <td>mg</td>\n      <td>Cholesterol</td>\n      <td>Other</td>\n    </tr>\n    <tr>\n      <th>159</th>\n      <td>18.584</td>\n      <td>g</td>\n      <td>Fatty acids, total saturated</td>\n      <td>Other</td>\n    </tr>\n    <tr>\n      <th>160</th>\n      <td>8.275</td>\n      <td>g</td>\n      <td>Fatty acids, total monounsaturated</td>\n      <td>Other</td>\n    </tr>\n    <tr>\n      <th>161</th>\n      <td>0.830</td>\n      <td>g</td>\n      <td>Fatty acids, total polyunsaturated</td>\n      <td>Other</td>\n    </tr>\n  </tbody>\n</table>\n<p>162 rows × 4 columns</p>\n</div>"
     },
     "execution_count": 8,
     "metadata": {},
     "output_type": "execute_result"
    }
   ],
   "source": [
    "nutrients = DataFrame(db[0]['nutrients'])\n",
    "nutrients\n",
    "#可以看到在nutrients部分中也有group description和主键是重复的\n",
    "#之后要后续操作"
   ],
   "metadata": {
    "collapsed": false,
    "pycharm": {
     "name": "#%%\n"
    }
   }
  },
  {
   "cell_type": "code",
   "execution_count": 9,
   "outputs": [
    {
     "data": {
      "text/plain": "                          description                   group    id  \\\n0                     Cheese, caraway  Dairy and Egg Products  1008   \n1                     Cheese, cheddar  Dairy and Egg Products  1009   \n2                        Cheese, edam  Dairy and Egg Products  1018   \n3                        Cheese, feta  Dairy and Egg Products  1019   \n4  Cheese, mozzarella, part skim milk  Dairy and Egg Products  1028   \n\n  manufacturer  \n0               \n1               \n2               \n3               \n4               ",
      "text/html": "<div>\n<style scoped>\n    .dataframe tbody tr th:only-of-type {\n        vertical-align: middle;\n    }\n\n    .dataframe tbody tr th {\n        vertical-align: top;\n    }\n\n    .dataframe thead th {\n        text-align: right;\n    }\n</style>\n<table border=\"1\" class=\"dataframe\">\n  <thead>\n    <tr style=\"text-align: right;\">\n      <th></th>\n      <th>description</th>\n      <th>group</th>\n      <th>id</th>\n      <th>manufacturer</th>\n    </tr>\n  </thead>\n  <tbody>\n    <tr>\n      <th>0</th>\n      <td>Cheese, caraway</td>\n      <td>Dairy and Egg Products</td>\n      <td>1008</td>\n      <td></td>\n    </tr>\n    <tr>\n      <th>1</th>\n      <td>Cheese, cheddar</td>\n      <td>Dairy and Egg Products</td>\n      <td>1009</td>\n      <td></td>\n    </tr>\n    <tr>\n      <th>2</th>\n      <td>Cheese, edam</td>\n      <td>Dairy and Egg Products</td>\n      <td>1018</td>\n      <td></td>\n    </tr>\n    <tr>\n      <th>3</th>\n      <td>Cheese, feta</td>\n      <td>Dairy and Egg Products</td>\n      <td>1019</td>\n      <td></td>\n    </tr>\n    <tr>\n      <th>4</th>\n      <td>Cheese, mozzarella, part skim milk</td>\n      <td>Dairy and Egg Products</td>\n      <td>1028</td>\n      <td></td>\n    </tr>\n  </tbody>\n</table>\n</div>"
     },
     "execution_count": 9,
     "metadata": {},
     "output_type": "execute_result"
    }
   ],
   "source": [
    "info_keys = ['description','group','id','manufacturer']\n",
    "info = DataFrame(db,columns=info_keys)\n",
    "info.head()\n",
    "#选取四个属性出来"
   ],
   "metadata": {
    "collapsed": false,
    "pycharm": {
     "name": "#%%\n"
    }
   }
  },
  {
   "cell_type": "code",
   "execution_count": 11,
   "outputs": [
    {
     "data": {
      "text/plain": "Vegetables and Vegetable Products    812\nBeef Products                        618\nBaked Products                       496\nBreakfast Cereals                    403\nFast Foods                           365\nLegumes and Legume Products          365\nLamb, Veal, and Game Products        345\nSweets                               341\nFruits and Fruit Juices              328\nPork Products                        328\nBeverages                            278\nSoups, Sauces, and Gravies           275\nFinfish and Shellfish Products       255\nBaby Foods                           209\nCereal Grains and Pasta              183\nEthnic Foods                         165\nSnacks                               162\nNut and Seed Products                128\nPoultry Products                     116\nSausages and Luncheon Meats          111\nDairy and Egg Products               107\nFats and Oils                         97\nMeals, Entrees, and Sidedishes        57\nRestaurant Foods                      51\nSpices and Herbs                      41\nName: group, dtype: int64"
     },
     "execution_count": 11,
     "metadata": {},
     "output_type": "execute_result"
    }
   ],
   "source": [
    "pd.value_counts(info.group)\n",
    "#通过value_counts可以查看不同种类的数量"
   ],
   "metadata": {
    "collapsed": false,
    "pycharm": {
     "name": "#%%\n"
    }
   }
  },
  {
   "cell_type": "code",
   "execution_count": 25,
   "outputs": [],
   "source": [
    "nutrients = []\n",
    "\n",
    "#由于是个表中表结构 所以要循环处理（Maybe）\n",
    "for rec in db:\n",
    "    fnuts = DataFrame(rec['nutrients'])\n",
    "    fnuts['id'] = rec['id']\n",
    "    nutrients.append(fnuts)\n",
    "nutrients = pd.concat(nutrients,ignore_index=True)\n",
    "#合理\n",
    "#把nutrients单独拉出一个表"
   ],
   "metadata": {
    "collapsed": false,
    "pycharm": {
     "name": "#%%\n"
    }
   }
  },
  {
   "cell_type": "code",
   "execution_count": 14,
   "outputs": [
    {
     "data": {
      "text/plain": "False    375176\nTrue      14179\ndtype: int64"
     },
     "execution_count": 14,
     "metadata": {},
     "output_type": "execute_result"
    }
   ],
   "source": [
    "nutrients.duplicated().value_counts()\n",
    "#有大量重复"
   ],
   "metadata": {
    "collapsed": false,
    "pycharm": {
     "name": "#%%\n"
    }
   }
  },
  {
   "cell_type": "code",
   "execution_count": 26,
   "outputs": [
    {
     "data": {
      "text/plain": "          value units                         description        group     id\n0        25.180     g                             Protein  Composition   1008\n1        29.200     g                   Total lipid (fat)  Composition   1008\n2         3.060     g         Carbohydrate, by difference  Composition   1008\n3         3.280     g                                 Ash        Other   1008\n4       376.000  kcal                              Energy       Energy   1008\n...         ...   ...                                 ...          ...    ...\n389350    0.000   mcg                 Vitamin B-12, added     Vitamins  43546\n389351    0.000    mg                         Cholesterol        Other  43546\n389352    0.072     g        Fatty acids, total saturated        Other  43546\n389353    0.028     g  Fatty acids, total monounsaturated        Other  43546\n389354    0.041     g  Fatty acids, total polyunsaturated        Other  43546\n\n[375176 rows x 5 columns]",
      "text/html": "<div>\n<style scoped>\n    .dataframe tbody tr th:only-of-type {\n        vertical-align: middle;\n    }\n\n    .dataframe tbody tr th {\n        vertical-align: top;\n    }\n\n    .dataframe thead th {\n        text-align: right;\n    }\n</style>\n<table border=\"1\" class=\"dataframe\">\n  <thead>\n    <tr style=\"text-align: right;\">\n      <th></th>\n      <th>value</th>\n      <th>units</th>\n      <th>description</th>\n      <th>group</th>\n      <th>id</th>\n    </tr>\n  </thead>\n  <tbody>\n    <tr>\n      <th>0</th>\n      <td>25.180</td>\n      <td>g</td>\n      <td>Protein</td>\n      <td>Composition</td>\n      <td>1008</td>\n    </tr>\n    <tr>\n      <th>1</th>\n      <td>29.200</td>\n      <td>g</td>\n      <td>Total lipid (fat)</td>\n      <td>Composition</td>\n      <td>1008</td>\n    </tr>\n    <tr>\n      <th>2</th>\n      <td>3.060</td>\n      <td>g</td>\n      <td>Carbohydrate, by difference</td>\n      <td>Composition</td>\n      <td>1008</td>\n    </tr>\n    <tr>\n      <th>3</th>\n      <td>3.280</td>\n      <td>g</td>\n      <td>Ash</td>\n      <td>Other</td>\n      <td>1008</td>\n    </tr>\n    <tr>\n      <th>4</th>\n      <td>376.000</td>\n      <td>kcal</td>\n      <td>Energy</td>\n      <td>Energy</td>\n      <td>1008</td>\n    </tr>\n    <tr>\n      <th>...</th>\n      <td>...</td>\n      <td>...</td>\n      <td>...</td>\n      <td>...</td>\n      <td>...</td>\n    </tr>\n    <tr>\n      <th>389350</th>\n      <td>0.000</td>\n      <td>mcg</td>\n      <td>Vitamin B-12, added</td>\n      <td>Vitamins</td>\n      <td>43546</td>\n    </tr>\n    <tr>\n      <th>389351</th>\n      <td>0.000</td>\n      <td>mg</td>\n      <td>Cholesterol</td>\n      <td>Other</td>\n      <td>43546</td>\n    </tr>\n    <tr>\n      <th>389352</th>\n      <td>0.072</td>\n      <td>g</td>\n      <td>Fatty acids, total saturated</td>\n      <td>Other</td>\n      <td>43546</td>\n    </tr>\n    <tr>\n      <th>389353</th>\n      <td>0.028</td>\n      <td>g</td>\n      <td>Fatty acids, total monounsaturated</td>\n      <td>Other</td>\n      <td>43546</td>\n    </tr>\n    <tr>\n      <th>389354</th>\n      <td>0.041</td>\n      <td>g</td>\n      <td>Fatty acids, total polyunsaturated</td>\n      <td>Other</td>\n      <td>43546</td>\n    </tr>\n  </tbody>\n</table>\n<p>375176 rows × 5 columns</p>\n</div>"
     },
     "execution_count": 26,
     "metadata": {},
     "output_type": "execute_result"
    }
   ],
   "source": [
    "nutrients.drop_duplicates()"
   ],
   "metadata": {
    "collapsed": false,
    "pycharm": {
     "name": "#%%\n"
    }
   }
  },
  {
   "cell_type": "code",
   "execution_count": 21,
   "outputs": [
    {
     "data": {
      "text/plain": "                                                   food  \\\n0                                       Cheese, caraway   \n1                                       Cheese, cheddar   \n2                                          Cheese, edam   \n3                                          Cheese, feta   \n4                    Cheese, mozzarella, part skim milk   \n...                                                 ...   \n6631                             Bologna, beef, low fat   \n6632  Turkey and pork sausage, fresh, bulk, patty or...   \n6633                              Babyfood, juice, pear   \n6634         Babyfood, dessert, banana yogurt, strained   \n6635              Babyfood, banana no tapioca, strained   \n\n                           fgroup     id manufacturer  \n0          Dairy and Egg Products   1008               \n1          Dairy and Egg Products   1009               \n2          Dairy and Egg Products   1018               \n3          Dairy and Egg Products   1019               \n4          Dairy and Egg Products   1028               \n...                           ...    ...          ...  \n6631  Sausages and Luncheon Meats  42161               \n6632  Sausages and Luncheon Meats  42173               \n6633                   Baby Foods  43408         None  \n6634                   Baby Foods  43539         None  \n6635                   Baby Foods  43546         None  \n\n[6636 rows x 4 columns]",
      "text/html": "<div>\n<style scoped>\n    .dataframe tbody tr th:only-of-type {\n        vertical-align: middle;\n    }\n\n    .dataframe tbody tr th {\n        vertical-align: top;\n    }\n\n    .dataframe thead th {\n        text-align: right;\n    }\n</style>\n<table border=\"1\" class=\"dataframe\">\n  <thead>\n    <tr style=\"text-align: right;\">\n      <th></th>\n      <th>food</th>\n      <th>fgroup</th>\n      <th>id</th>\n      <th>manufacturer</th>\n    </tr>\n  </thead>\n  <tbody>\n    <tr>\n      <th>0</th>\n      <td>Cheese, caraway</td>\n      <td>Dairy and Egg Products</td>\n      <td>1008</td>\n      <td></td>\n    </tr>\n    <tr>\n      <th>1</th>\n      <td>Cheese, cheddar</td>\n      <td>Dairy and Egg Products</td>\n      <td>1009</td>\n      <td></td>\n    </tr>\n    <tr>\n      <th>2</th>\n      <td>Cheese, edam</td>\n      <td>Dairy and Egg Products</td>\n      <td>1018</td>\n      <td></td>\n    </tr>\n    <tr>\n      <th>3</th>\n      <td>Cheese, feta</td>\n      <td>Dairy and Egg Products</td>\n      <td>1019</td>\n      <td></td>\n    </tr>\n    <tr>\n      <th>4</th>\n      <td>Cheese, mozzarella, part skim milk</td>\n      <td>Dairy and Egg Products</td>\n      <td>1028</td>\n      <td></td>\n    </tr>\n    <tr>\n      <th>...</th>\n      <td>...</td>\n      <td>...</td>\n      <td>...</td>\n      <td>...</td>\n    </tr>\n    <tr>\n      <th>6631</th>\n      <td>Bologna, beef, low fat</td>\n      <td>Sausages and Luncheon Meats</td>\n      <td>42161</td>\n      <td></td>\n    </tr>\n    <tr>\n      <th>6632</th>\n      <td>Turkey and pork sausage, fresh, bulk, patty or...</td>\n      <td>Sausages and Luncheon Meats</td>\n      <td>42173</td>\n      <td></td>\n    </tr>\n    <tr>\n      <th>6633</th>\n      <td>Babyfood, juice, pear</td>\n      <td>Baby Foods</td>\n      <td>43408</td>\n      <td>None</td>\n    </tr>\n    <tr>\n      <th>6634</th>\n      <td>Babyfood, dessert, banana yogurt, strained</td>\n      <td>Baby Foods</td>\n      <td>43539</td>\n      <td>None</td>\n    </tr>\n    <tr>\n      <th>6635</th>\n      <td>Babyfood, banana no tapioca, strained</td>\n      <td>Baby Foods</td>\n      <td>43546</td>\n      <td>None</td>\n    </tr>\n  </tbody>\n</table>\n<p>6636 rows × 4 columns</p>\n</div>"
     },
     "execution_count": 21,
     "metadata": {},
     "output_type": "execute_result"
    }
   ],
   "source": [
    "col_mapping = {'description':'food','group':'fgroup'}\n",
    "info = info.rename(columns=col_mapping,copy=False)\n",
    "info"
   ],
   "metadata": {
    "collapsed": false,
    "pycharm": {
     "name": "#%%\n"
    }
   }
  },
  {
   "cell_type": "code",
   "execution_count": 27,
   "outputs": [
    {
     "data": {
      "text/plain": "          value units                            nutrient     nutgroup     id\n0        25.180     g                             Protein  Composition   1008\n1        29.200     g                   Total lipid (fat)  Composition   1008\n2         3.060     g         Carbohydrate, by difference  Composition   1008\n3         3.280     g                                 Ash        Other   1008\n4       376.000  kcal                              Energy       Energy   1008\n...         ...   ...                                 ...          ...    ...\n389350    0.000   mcg                 Vitamin B-12, added     Vitamins  43546\n389351    0.000    mg                         Cholesterol        Other  43546\n389352    0.072     g        Fatty acids, total saturated        Other  43546\n389353    0.028     g  Fatty acids, total monounsaturated        Other  43546\n389354    0.041     g  Fatty acids, total polyunsaturated        Other  43546\n\n[389355 rows x 5 columns]",
      "text/html": "<div>\n<style scoped>\n    .dataframe tbody tr th:only-of-type {\n        vertical-align: middle;\n    }\n\n    .dataframe tbody tr th {\n        vertical-align: top;\n    }\n\n    .dataframe thead th {\n        text-align: right;\n    }\n</style>\n<table border=\"1\" class=\"dataframe\">\n  <thead>\n    <tr style=\"text-align: right;\">\n      <th></th>\n      <th>value</th>\n      <th>units</th>\n      <th>nutrient</th>\n      <th>nutgroup</th>\n      <th>id</th>\n    </tr>\n  </thead>\n  <tbody>\n    <tr>\n      <th>0</th>\n      <td>25.180</td>\n      <td>g</td>\n      <td>Protein</td>\n      <td>Composition</td>\n      <td>1008</td>\n    </tr>\n    <tr>\n      <th>1</th>\n      <td>29.200</td>\n      <td>g</td>\n      <td>Total lipid (fat)</td>\n      <td>Composition</td>\n      <td>1008</td>\n    </tr>\n    <tr>\n      <th>2</th>\n      <td>3.060</td>\n      <td>g</td>\n      <td>Carbohydrate, by difference</td>\n      <td>Composition</td>\n      <td>1008</td>\n    </tr>\n    <tr>\n      <th>3</th>\n      <td>3.280</td>\n      <td>g</td>\n      <td>Ash</td>\n      <td>Other</td>\n      <td>1008</td>\n    </tr>\n    <tr>\n      <th>4</th>\n      <td>376.000</td>\n      <td>kcal</td>\n      <td>Energy</td>\n      <td>Energy</td>\n      <td>1008</td>\n    </tr>\n    <tr>\n      <th>...</th>\n      <td>...</td>\n      <td>...</td>\n      <td>...</td>\n      <td>...</td>\n      <td>...</td>\n    </tr>\n    <tr>\n      <th>389350</th>\n      <td>0.000</td>\n      <td>mcg</td>\n      <td>Vitamin B-12, added</td>\n      <td>Vitamins</td>\n      <td>43546</td>\n    </tr>\n    <tr>\n      <th>389351</th>\n      <td>0.000</td>\n      <td>mg</td>\n      <td>Cholesterol</td>\n      <td>Other</td>\n      <td>43546</td>\n    </tr>\n    <tr>\n      <th>389352</th>\n      <td>0.072</td>\n      <td>g</td>\n      <td>Fatty acids, total saturated</td>\n      <td>Other</td>\n      <td>43546</td>\n    </tr>\n    <tr>\n      <th>389353</th>\n      <td>0.028</td>\n      <td>g</td>\n      <td>Fatty acids, total monounsaturated</td>\n      <td>Other</td>\n      <td>43546</td>\n    </tr>\n    <tr>\n      <th>389354</th>\n      <td>0.041</td>\n      <td>g</td>\n      <td>Fatty acids, total polyunsaturated</td>\n      <td>Other</td>\n      <td>43546</td>\n    </tr>\n  </tbody>\n</table>\n<p>389355 rows × 5 columns</p>\n</div>"
     },
     "execution_count": 27,
     "metadata": {},
     "output_type": "execute_result"
    }
   ],
   "source": [
    "col_mapping2 = {'description':'nutrient','group':'nutgroup'}\n",
    "nutrients = nutrients.rename(columns=col_mapping2,copy=False)\n",
    "nutrients\n",
    "#由于是重复的group 和 description 字段\n",
    "#所以两次重命名"
   ],
   "metadata": {
    "collapsed": false,
    "pycharm": {
     "name": "#%%\n"
    }
   }
  },
  {
   "cell_type": "code",
   "execution_count": 29,
   "outputs": [
    {
     "data": {
      "text/plain": "          value units                            nutrient     nutgroup     id  \\\n0        25.180     g                             Protein  Composition   1008   \n1        29.200     g                   Total lipid (fat)  Composition   1008   \n2         3.060     g         Carbohydrate, by difference  Composition   1008   \n3         3.280     g                                 Ash        Other   1008   \n4       376.000  kcal                              Energy       Energy   1008   \n...         ...   ...                                 ...          ...    ...   \n389350    0.000   mcg                 Vitamin B-12, added     Vitamins  43546   \n389351    0.000    mg                         Cholesterol        Other  43546   \n389352    0.072     g        Fatty acids, total saturated        Other  43546   \n389353    0.028     g  Fatty acids, total monounsaturated        Other  43546   \n389354    0.041     g  Fatty acids, total polyunsaturated        Other  43546   \n\n                                         food                  fgroup  \\\n0                             Cheese, caraway  Dairy and Egg Products   \n1                             Cheese, caraway  Dairy and Egg Products   \n2                             Cheese, caraway  Dairy and Egg Products   \n3                             Cheese, caraway  Dairy and Egg Products   \n4                             Cheese, caraway  Dairy and Egg Products   \n...                                       ...                     ...   \n389350  Babyfood, banana no tapioca, strained              Baby Foods   \n389351  Babyfood, banana no tapioca, strained              Baby Foods   \n389352  Babyfood, banana no tapioca, strained              Baby Foods   \n389353  Babyfood, banana no tapioca, strained              Baby Foods   \n389354  Babyfood, banana no tapioca, strained              Baby Foods   \n\n       manufacturer  \n0                    \n1                    \n2                    \n3                    \n4                    \n...             ...  \n389350         None  \n389351         None  \n389352         None  \n389353         None  \n389354         None  \n\n[389355 rows x 8 columns]",
      "text/html": "<div>\n<style scoped>\n    .dataframe tbody tr th:only-of-type {\n        vertical-align: middle;\n    }\n\n    .dataframe tbody tr th {\n        vertical-align: top;\n    }\n\n    .dataframe thead th {\n        text-align: right;\n    }\n</style>\n<table border=\"1\" class=\"dataframe\">\n  <thead>\n    <tr style=\"text-align: right;\">\n      <th></th>\n      <th>value</th>\n      <th>units</th>\n      <th>nutrient</th>\n      <th>nutgroup</th>\n      <th>id</th>\n      <th>food</th>\n      <th>fgroup</th>\n      <th>manufacturer</th>\n    </tr>\n  </thead>\n  <tbody>\n    <tr>\n      <th>0</th>\n      <td>25.180</td>\n      <td>g</td>\n      <td>Protein</td>\n      <td>Composition</td>\n      <td>1008</td>\n      <td>Cheese, caraway</td>\n      <td>Dairy and Egg Products</td>\n      <td></td>\n    </tr>\n    <tr>\n      <th>1</th>\n      <td>29.200</td>\n      <td>g</td>\n      <td>Total lipid (fat)</td>\n      <td>Composition</td>\n      <td>1008</td>\n      <td>Cheese, caraway</td>\n      <td>Dairy and Egg Products</td>\n      <td></td>\n    </tr>\n    <tr>\n      <th>2</th>\n      <td>3.060</td>\n      <td>g</td>\n      <td>Carbohydrate, by difference</td>\n      <td>Composition</td>\n      <td>1008</td>\n      <td>Cheese, caraway</td>\n      <td>Dairy and Egg Products</td>\n      <td></td>\n    </tr>\n    <tr>\n      <th>3</th>\n      <td>3.280</td>\n      <td>g</td>\n      <td>Ash</td>\n      <td>Other</td>\n      <td>1008</td>\n      <td>Cheese, caraway</td>\n      <td>Dairy and Egg Products</td>\n      <td></td>\n    </tr>\n    <tr>\n      <th>4</th>\n      <td>376.000</td>\n      <td>kcal</td>\n      <td>Energy</td>\n      <td>Energy</td>\n      <td>1008</td>\n      <td>Cheese, caraway</td>\n      <td>Dairy and Egg Products</td>\n      <td></td>\n    </tr>\n    <tr>\n      <th>...</th>\n      <td>...</td>\n      <td>...</td>\n      <td>...</td>\n      <td>...</td>\n      <td>...</td>\n      <td>...</td>\n      <td>...</td>\n      <td>...</td>\n    </tr>\n    <tr>\n      <th>389350</th>\n      <td>0.000</td>\n      <td>mcg</td>\n      <td>Vitamin B-12, added</td>\n      <td>Vitamins</td>\n      <td>43546</td>\n      <td>Babyfood, banana no tapioca, strained</td>\n      <td>Baby Foods</td>\n      <td>None</td>\n    </tr>\n    <tr>\n      <th>389351</th>\n      <td>0.000</td>\n      <td>mg</td>\n      <td>Cholesterol</td>\n      <td>Other</td>\n      <td>43546</td>\n      <td>Babyfood, banana no tapioca, strained</td>\n      <td>Baby Foods</td>\n      <td>None</td>\n    </tr>\n    <tr>\n      <th>389352</th>\n      <td>0.072</td>\n      <td>g</td>\n      <td>Fatty acids, total saturated</td>\n      <td>Other</td>\n      <td>43546</td>\n      <td>Babyfood, banana no tapioca, strained</td>\n      <td>Baby Foods</td>\n      <td>None</td>\n    </tr>\n    <tr>\n      <th>389353</th>\n      <td>0.028</td>\n      <td>g</td>\n      <td>Fatty acids, total monounsaturated</td>\n      <td>Other</td>\n      <td>43546</td>\n      <td>Babyfood, banana no tapioca, strained</td>\n      <td>Baby Foods</td>\n      <td>None</td>\n    </tr>\n    <tr>\n      <th>389354</th>\n      <td>0.041</td>\n      <td>g</td>\n      <td>Fatty acids, total polyunsaturated</td>\n      <td>Other</td>\n      <td>43546</td>\n      <td>Babyfood, banana no tapioca, strained</td>\n      <td>Baby Foods</td>\n      <td>None</td>\n    </tr>\n  </tbody>\n</table>\n<p>389355 rows × 8 columns</p>\n</div>"
     },
     "execution_count": 29,
     "metadata": {},
     "output_type": "execute_result"
    }
   ],
   "source": [
    "ndata = pd.merge(nutrients,info,how='outer',on='id')\n",
    "ndata"
   ],
   "metadata": {
    "collapsed": false,
    "pycharm": {
     "name": "#%%\n"
    }
   }
  },
  {
   "cell_type": "code",
   "execution_count": 30,
   "outputs": [
    {
     "data": {
      "text/plain": "value                                                         473\nunits                                                     mcg_RAE\nnutrient                                           Vitamin A, RAE\nnutgroup                                                 Vitamins\nid                                                           3950\nfood            Infant formula, ABBOTT NUTRITION, SIMILAC, ADV...\nfgroup                                                 Baby Foods\nmanufacturer                                                 None\nName: 30000, dtype: object"
     },
     "execution_count": 30,
     "metadata": {},
     "output_type": "execute_result"
    }
   ],
   "source": [
    "ndata.iloc[30000]"
   ],
   "metadata": {
    "collapsed": false,
    "pycharm": {
     "name": "#%%\n"
    }
   }
  },
  {
   "cell_type": "code",
   "execution_count": 34,
   "outputs": [
    {
     "data": {
      "text/plain": "nutrient          fgroup                           \nAdjusted Protein  Sweets                               12.900\n                  Vegetables and Vegetable Products     2.180\nAlanine           Baby Foods                            0.107\n                  Baked Products                        0.248\n                  Beef Products                         1.550\n                                                        ...  \nZinc, Zn          Snacks                                1.470\n                  Soups, Sauces, and Gravies            0.200\n                  Spices and Herbs                      2.750\n                  Sweets                                0.360\n                  Vegetables and Vegetable Products     0.330\nName: value, Length: 2246, dtype: float64"
     },
     "execution_count": 34,
     "metadata": {},
     "output_type": "execute_result"
    }
   ],
   "source": [
    "# 未来两章的内容 可视化 聚合等\n",
    "ndata.groupby(['nutrient','fgroup'])['value'].quantile(0.5)\n",
    "# result['Zinc Zn'].order().plot(kind='barh')"
   ],
   "metadata": {
    "collapsed": false,
    "pycharm": {
     "name": "#%%\n"
    }
   }
  },
  {
   "cell_type": "code",
   "execution_count": 35,
   "outputs": [
    {
     "data": {
      "text/plain": "fgroup\nBaby Foods                           0.590\nBaked Products                       0.660\nBeef Products                        5.390\nBeverages                            0.040\nBreakfast Cereals                    2.885\nCereal Grains and Pasta              1.090\nDairy and Egg Products               1.330\nEthnic Foods                         1.045\nFast Foods                           1.250\nFats and Oils                        0.020\nFinfish and Shellfish Products       0.670\nFruits and Fruit Juices              0.100\nLamb, Veal, and Game Products        3.940\nLegumes and Legume Products          1.140\nMeals, Entrees, and Sidedishes       0.630\nNut and Seed Products                3.290\nPork Products                        2.320\nPoultry Products                     2.500\nRestaurant Foods                     0.800\nSausages and Luncheon Meats          2.130\nSnacks                               1.470\nSoups, Sauces, and Gravies           0.200\nSpices and Herbs                     2.750\nSweets                               0.360\nVegetables and Vegetable Products    0.330\nName: value, dtype: float64"
     },
     "execution_count": 35,
     "metadata": {},
     "output_type": "execute_result"
    }
   ],
   "source": [
    "ndata.groupby(['nutrient','fgroup'])['value'].quantile(0.5)['Zinc, Zn']\n"
   ],
   "metadata": {
    "collapsed": false,
    "pycharm": {
     "name": "#%%\n"
    }
   }
  },
  {
   "cell_type": "code",
   "execution_count": 41,
   "outputs": [
    {
     "data": {
      "text/plain": "<AxesSubplot:ylabel='fgroup'>"
     },
     "execution_count": 41,
     "metadata": {},
     "output_type": "execute_result"
    },
    {
     "data": {
      "text/plain": "<Figure size 432x288 with 1 Axes>",
      "image/png": "[encoded data removed]"
     },
     "metadata": {
      "needs_background": "light"
     },
     "output_type": "display_data"
    }
   ],
   "source": [
    "result = ndata.groupby(['nutrient','fgroup'])['value'].quantile(0.5)\n",
    "result['Zinc, Zn'].sort_values().plot(kind='barh')"
   ],
   "metadata": {
    "collapsed": false,
    "pycharm": {
     "name": "#%%\n"
    }
   }
  },
  {
   "cell_type": "code",
   "execution_count": 42,
   "outputs": [],
   "source": [
    "by_nutrient = ndata.groupby(['nutgroup','nutrient'])\n",
    "get_max = lambda x:x.xs(x.value.idxmax())\n",
    "get_min = lambda x:x.xs(x.value.idmin())"
   ],
   "metadata": {
    "collapsed": false,
    "pycharm": {
     "name": "#%%\n"
    }
   }
  },
  {
   "cell_type": "code",
   "execution_count": 43,
   "outputs": [
    {
     "data": {
      "text/plain": "                                             value  \\\nnutgroup    nutrient                                 \nAmino Acids Alanine                          8.009   \n            Arginine                         7.436   \n            Aspartic acid                   10.203   \n            Cystine                          1.307   \n            Glutamic acid                   17.452   \n...                                            ...   \nVitamins    Vitamin D2 (ergocalciferol)     28.100   \n            Vitamin D3 (cholecalciferol)    27.400   \n            Vitamin E (alpha-tocopherol)   149.400   \n            Vitamin E, added                46.550   \n            Vitamin K (phylloquinone)     1714.500   \n\n                                                                                       food  \nnutgroup    nutrient                                                                         \nAmino Acids Alanine                                       Gelatins, dry powder, unsweetened  \n            Arginine                                           Seeds, sesame flour, low-fat  \n            Aspartic acid                                               Soy protein isolate  \n            Cystine                            Seeds, cottonseed flour, low fat (glandless)  \n            Glutamic acid                                               Soy protein isolate  \n...                                                                                     ...  \nVitamins    Vitamin D2 (ergocalciferol)                             Mushrooms, maitake, raw  \n            Vitamin D3 (cholecalciferol)                      Fish, halibut, Greenland, raw  \n            Vitamin E (alpha-tocopherol)                                    Oil, wheat germ  \n            Vitamin E, added              Cereals ready-to-eat, GENERAL MILLS, Multi-Gra...  \n            Vitamin K (phylloquinone)                                  Spices, sage, ground  \n\n[94 rows x 2 columns]",
      "text/html": "<div>\n<style scoped>\n    .dataframe tbody tr th:only-of-type {\n        vertical-align: middle;\n    }\n\n    .dataframe tbody tr th {\n        vertical-align: top;\n    }\n\n    .dataframe thead th {\n        text-align: right;\n    }\n</style>\n<table border=\"1\" class=\"dataframe\">\n  <thead>\n    <tr style=\"text-align: right;\">\n      <th></th>\n      <th></th>\n      <th>value</th>\n      <th>food</th>\n    </tr>\n    <tr>\n      <th>nutgroup</th>\n      <th>nutrient</th>\n      <th></th>\n      <th></th>\n    </tr>\n  </thead>\n  <tbody>\n    <tr>\n      <th rowspan=\"5\" valign=\"top\">Amino Acids</th>\n      <th>Alanine</th>\n      <td>8.009</td>\n      <td>Gelatins, dry powder, unsweetened</td>\n    </tr>\n    <tr>\n      <th>Arginine</th>\n      <td>7.436</td>\n      <td>Seeds, sesame flour, low-fat</td>\n    </tr>\n    <tr>\n      <th>Aspartic acid</th>\n      <td>10.203</td>\n      <td>Soy protein isolate</td>\n    </tr>\n    <tr>\n      <th>Cystine</th>\n      <td>1.307</td>\n      <td>Seeds, cottonseed flour, low fat (glandless)</td>\n    </tr>\n    <tr>\n      <th>Glutamic acid</th>\n      <td>17.452</td>\n      <td>Soy protein isolate</td>\n    </tr>\n    <tr>\n      <th>...</th>\n      <th>...</th>\n      <td>...</td>\n      <td>...</td>\n    </tr>\n    <tr>\n      <th rowspan=\"5\" valign=\"top\">Vitamins</th>\n      <th>Vitamin D2 (ergocalciferol)</th>\n      <td>28.100</td>\n      <td>Mushrooms, maitake, raw</td>\n    </tr>\n    <tr>\n      <th>Vitamin D3 (cholecalciferol)</th>\n      <td>27.400</td>\n      <td>Fish, halibut, Greenland, raw</td>\n    </tr>\n    <tr>\n      <th>Vitamin E (alpha-tocopherol)</th>\n      <td>149.400</td>\n      <td>Oil, wheat germ</td>\n    </tr>\n    <tr>\n      <th>Vitamin E, added</th>\n      <td>46.550</td>\n      <td>Cereals ready-to-eat, GENERAL MILLS, Multi-Gra...</td>\n    </tr>\n    <tr>\n      <th>Vitamin K (phylloquinone)</th>\n      <td>1714.500</td>\n      <td>Spices, sage, ground</td>\n    </tr>\n  </tbody>\n</table>\n<p>94 rows × 2 columns</p>\n</div>"
     },
     "execution_count": 43,
     "metadata": {},
     "output_type": "execute_result"
    }
   ],
   "source": [
    "max_food = by_nutrient.apply(get_max)[['value','food']]\n",
    "max_food"
   ],
   "metadata": {
    "collapsed": false,
    "pycharm": {
     "name": "#%%\n"
    }
   }
  },
  {
   "cell_type": "code",
   "execution_count": 45,
   "outputs": [
    {
     "data": {
      "text/plain": "                                             value  \\\nnutgroup    nutrient                                 \nAmino Acids Alanine                          8.009   \n            Arginine                         7.436   \n            Aspartic acid                   10.203   \n            Cystine                          1.307   \n            Glutamic acid                   17.452   \n...                                            ...   \nVitamins    Vitamin D2 (ergocalciferol)     28.100   \n            Vitamin D3 (cholecalciferol)    27.400   \n            Vitamin E (alpha-tocopherol)   149.400   \n            Vitamin E, added                46.550   \n            Vitamin K (phylloquinone)     1714.500   \n\n                                                                                       food  \nnutgroup    nutrient                                                                         \nAmino Acids Alanine                                       Gelatins, dry powder, unsweetened  \n            Arginine                                           Seeds, sesame flour, low-fat  \n            Aspartic acid                                               Soy protein isolate  \n            Cystine                            Seeds, cottonseed flour, low fat (glandless)  \n            Glutamic acid                                               Soy protein isolate  \n...                                                                                     ...  \nVitamins    Vitamin D2 (ergocalciferol)                             Mushrooms, maitake, raw  \n            Vitamin D3 (cholecalciferol)                      Fish, halibut, Greenland, raw  \n            Vitamin E (alpha-tocopherol)                                    Oil, wheat germ  \n            Vitamin E, added              Cereals ready-to-eat, GENERAL MILLS, Multi-Gra...  \n            Vitamin K (phylloquinone)                                  Spices, sage, ground  \n\n[94 rows x 2 columns]",
      "text/html": "<div>\n<style scoped>\n    .dataframe tbody tr th:only-of-type {\n        vertical-align: middle;\n    }\n\n    .dataframe tbody tr th {\n        vertical-align: top;\n    }\n\n    .dataframe thead th {\n        text-align: right;\n    }\n</style>\n<table border=\"1\" class=\"dataframe\">\n  <thead>\n    <tr style=\"text-align: right;\">\n      <th></th>\n      <th></th>\n      <th>value</th>\n      <th>food</th>\n    </tr>\n    <tr>\n      <th>nutgroup</th>\n      <th>nutrient</th>\n      <th></th>\n      <th></th>\n    </tr>\n  </thead>\n  <tbody>\n    <tr>\n      <th rowspan=\"5\" valign=\"top\">Amino Acids</th>\n      <th>Alanine</th>\n      <td>8.009</td>\n      <td>Gelatins, dry powder, unsweetened</td>\n    </tr>\n    <tr>\n      <th>Arginine</th>\n      <td>7.436</td>\n      <td>Seeds, sesame flour, low-fat</td>\n    </tr>\n    <tr>\n      <th>Aspartic acid</th>\n      <td>10.203</td>\n      <td>Soy protein isolate</td>\n    </tr>\n    <tr>\n      <th>Cystine</th>\n      <td>1.307</td>\n      <td>Seeds, cottonseed flour, low fat (glandless)</td>\n    </tr>\n    <tr>\n      <th>Glutamic acid</th>\n      <td>17.452</td>\n      <td>Soy protein isolate</td>\n    </tr>\n    <tr>\n      <th>...</th>\n      <th>...</th>\n      <td>...</td>\n      <td>...</td>\n    </tr>\n    <tr>\n      <th rowspan=\"5\" valign=\"top\">Vitamins</th>\n      <th>Vitamin D2 (ergocalciferol)</th>\n      <td>28.100</td>\n      <td>Mushrooms, maitake, raw</td>\n    </tr>\n    <tr>\n      <th>Vitamin D3 (cholecalciferol)</th>\n      <td>27.400</td>\n      <td>Fish, halibut, Greenland, raw</td>\n    </tr>\n    <tr>\n      <th>Vitamin E (alpha-tocopherol)</th>\n      <td>149.400</td>\n      <td>Oil, wheat germ</td>\n    </tr>\n    <tr>\n      <th>Vitamin E, added</th>\n      <td>46.550</td>\n      <td>Cereals ready-to-eat, GENERAL MILLS, Multi-Gra...</td>\n    </tr>\n    <tr>\n      <th>Vitamin K (phylloquinone)</th>\n      <td>1714.500</td>\n      <td>Spices, sage, ground</td>\n    </tr>\n  </tbody>\n</table>\n<p>94 rows × 2 columns</p>\n</div>"
     },
     "execution_count": 45,
     "metadata": {},
     "output_type": "execute_result"
    }
   ],
   "source": [
    "max_food.food = max_food.food.str[:50]\n",
    "max_food"
   ],
   "metadata": {
    "collapsed": false,
    "pycharm": {
     "name": "#%%\n"
    }
   }
  },
  {
   "cell_type": "code",
   "execution_count": 46,
   "outputs": [
    {
     "data": {
      "text/plain": "nutrient\nAlanine                           Gelatins, dry powder, unsweetened\nArginine                               Seeds, sesame flour, low-fat\nAspartic acid                                   Soy protein isolate\nCystine                Seeds, cottonseed flour, low fat (glandless)\nGlutamic acid                                   Soy protein isolate\nGlycine                           Gelatins, dry powder, unsweetened\nHistidine                Whale, beluga, meat, dried (Alaska Native)\nHydroxyproline    KENTUCKY FRIED CHICKEN, Fried Chicken, ORIGINA...\nIsoleucine        Soy protein isolate, PROTEIN TECHNOLOGIES INTE...\nLeucine           Soy protein isolate, PROTEIN TECHNOLOGIES INTE...\nLysine            Seal, bearded (Oogruk), meat, dried (Alaska Na...\nMethionine                    Fish, cod, Atlantic, dried and salted\nPhenylalanine     Soy protein isolate, PROTEIN TECHNOLOGIES INTE...\nProline                           Gelatins, dry powder, unsweetened\nSerine            Soy protein isolate, PROTEIN TECHNOLOGIES INTE...\nThreonine         Soy protein isolate, PROTEIN TECHNOLOGIES INTE...\nTryptophan         Sea lion, Steller, meat with fat (Alaska Native)\nTyrosine          Soy protein isolate, PROTEIN TECHNOLOGIES INTE...\nValine            Soy protein isolate, PROTEIN TECHNOLOGIES INTE...\nName: food, dtype: object"
     },
     "execution_count": 46,
     "metadata": {},
     "output_type": "execute_result"
    }
   ],
   "source": [
    "max_food.loc['Amino Acids','food']"
   ],
   "metadata": {
    "collapsed": false,
    "pycharm": {
     "name": "#%%\n"
    }
   }
  }
 ],
 "metadata": {
  "kernelspec": {
   "display_name": "Python 3",
   "language": "python",
   "name": "python3"
  },
  "language_info": {
   "codemirror_mode": {
    "name": "ipython",
    "version": 2
   },
   "file_extension": ".py",
   "mimetype": "text/x-python",
   "name": "python",
   "nbconvert_exporter": "python",
   "pygments_lexer": "ipython2",
   "version": "2.7.6"
  }
 },
 "nbformat": 4,
 "nbformat_minor": 0
}