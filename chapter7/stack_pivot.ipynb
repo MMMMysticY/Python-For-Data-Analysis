{
 "cells": [
  {
   "cell_type": "code",
   "execution_count": 1,
   "metadata": {
    "collapsed": true
   },
   "outputs": [],
   "source": [
    "import pandas as pd\n",
    "import numpy as np\n",
    "from pandas import Series,DataFrame"
   ]
  },
  {
   "cell_type": "code",
   "execution_count": 2,
   "outputs": [],
   "source": [
    "#重塑层次化索引\n",
    "#stack:将数据的列“旋转”为行 \"叠\"操作 二维变成一维叠起来放得高\n",
    "#unstack:将数据的行“旋转”为列 “不叠”操作 将一维变成二维 铺开"
   ],
   "metadata": {
    "collapsed": false,
    "pycharm": {
     "name": "#%%\n"
    }
   }
  },
  {
   "cell_type": "code",
   "execution_count": 4,
   "outputs": [
    {
     "data": {
      "text/plain": "number    one  two  three\nstate                    \nOhio        0    1      2\nColorado    3    4      5",
      "text/html": "<div>\n<style scoped>\n    .dataframe tbody tr th:only-of-type {\n        vertical-align: middle;\n    }\n\n    .dataframe tbody tr th {\n        vertical-align: top;\n    }\n\n    .dataframe thead th {\n        text-align: right;\n    }\n</style>\n<table border=\"1\" class=\"dataframe\">\n  <thead>\n    <tr style=\"text-align: right;\">\n      <th>number</th>\n      <th>one</th>\n      <th>two</th>\n      <th>three</th>\n    </tr>\n    <tr>\n      <th>state</th>\n      <th></th>\n      <th></th>\n      <th></th>\n    </tr>\n  </thead>\n  <tbody>\n    <tr>\n      <th>Ohio</th>\n      <td>0</td>\n      <td>1</td>\n      <td>2</td>\n    </tr>\n    <tr>\n      <th>Colorado</th>\n      <td>3</td>\n      <td>4</td>\n      <td>5</td>\n    </tr>\n  </tbody>\n</table>\n</div>"
     },
     "execution_count": 4,
     "metadata": {},
     "output_type": "execute_result"
    }
   ],
   "source": [
    "data = DataFrame(np.arange(6).reshape(2,3),\n",
    "                 index=pd.Index(['Ohio','Colorado'],name='state'),\n",
    "                 columns=pd.Index(['one','two','three'],name='number'))\n",
    "data"
   ],
   "metadata": {
    "collapsed": false,
    "pycharm": {
     "name": "#%%\n"
    }
   }
  },
  {
   "cell_type": "code",
   "execution_count": 6,
   "outputs": [
    {
     "data": {
      "text/plain": "state     number\nOhio      one       0\n          two       1\n          three     2\nColorado  one       3\n          two       4\n          three     5\ndtype: int32"
     },
     "execution_count": 6,
     "metadata": {},
     "output_type": "execute_result"
    }
   ],
   "source": [
    "result = data.stack()\n",
    "result\n",
    "#使用stack将二维的DataFrame转换成了一维的Series\n",
    "#很明显 由于一行有多列，这种特殊的结构可以轻松地合并为二层索引"
   ],
   "metadata": {
    "collapsed": false,
    "pycharm": {
     "name": "#%%\n"
    }
   }
  },
  {
   "cell_type": "code",
   "execution_count": 7,
   "outputs": [
    {
     "data": {
      "text/plain": "number    one  two  three\nstate                    \nOhio        0    1      2\nColorado    3    4      5",
      "text/html": "<div>\n<style scoped>\n    .dataframe tbody tr th:only-of-type {\n        vertical-align: middle;\n    }\n\n    .dataframe tbody tr th {\n        vertical-align: top;\n    }\n\n    .dataframe thead th {\n        text-align: right;\n    }\n</style>\n<table border=\"1\" class=\"dataframe\">\n  <thead>\n    <tr style=\"text-align: right;\">\n      <th>number</th>\n      <th>one</th>\n      <th>two</th>\n      <th>three</th>\n    </tr>\n    <tr>\n      <th>state</th>\n      <th></th>\n      <th></th>\n      <th></th>\n    </tr>\n  </thead>\n  <tbody>\n    <tr>\n      <th>Ohio</th>\n      <td>0</td>\n      <td>1</td>\n      <td>2</td>\n    </tr>\n    <tr>\n      <th>Colorado</th>\n      <td>3</td>\n      <td>4</td>\n      <td>5</td>\n    </tr>\n  </tbody>\n</table>\n</div>"
     },
     "execution_count": 7,
     "metadata": {},
     "output_type": "execute_result"
    }
   ],
   "source": [
    "result.unstack()\n",
    "#unstack可以将一维的Series的多层索引结构变为DataFrame"
   ],
   "metadata": {
    "collapsed": false,
    "pycharm": {
     "name": "#%%\n"
    }
   }
  },
  {
   "cell_type": "code",
   "execution_count": 10,
   "outputs": [
    {
     "name": "stdout",
     "output_type": "stream",
     "text": [
      "state   Ohio  Colorado\n",
      "number                \n",
      "one        0         3\n",
      "two        1         4\n",
      "three      2         5\n"
     ]
    },
    {
     "data": {
      "text/plain": "state   Ohio  Colorado\nnumber                \none        0         3\ntwo        1         4\nthree      2         5",
      "text/html": "<div>\n<style scoped>\n    .dataframe tbody tr th:only-of-type {\n        vertical-align: middle;\n    }\n\n    .dataframe tbody tr th {\n        vertical-align: top;\n    }\n\n    .dataframe thead th {\n        text-align: right;\n    }\n</style>\n<table border=\"1\" class=\"dataframe\">\n  <thead>\n    <tr style=\"text-align: right;\">\n      <th>state</th>\n      <th>Ohio</th>\n      <th>Colorado</th>\n    </tr>\n    <tr>\n      <th>number</th>\n      <th></th>\n      <th></th>\n    </tr>\n  </thead>\n  <tbody>\n    <tr>\n      <th>one</th>\n      <td>0</td>\n      <td>3</td>\n    </tr>\n    <tr>\n      <th>two</th>\n      <td>1</td>\n      <td>4</td>\n    </tr>\n    <tr>\n      <th>three</th>\n      <td>2</td>\n      <td>5</td>\n    </tr>\n  </tbody>\n</table>\n</div>"
     },
     "execution_count": 10,
     "metadata": {},
     "output_type": "execute_result"
    }
   ],
   "source": [
    "#默认情况下 stack/unstack操作的都是最内层，比如unstack将内层索引变成column stack将column变成最内层索引\n",
    "#设定参数可以改变stack/unstack的内容\n",
    "print(result.unstack(0)) #可以使用数字声明\n",
    "result.unstack('state') #可以显式声明属性名"
   ],
   "metadata": {
    "collapsed": false,
    "pycharm": {
     "name": "#%%\n"
    }
   }
  },
  {
   "cell_type": "code",
   "execution_count": 12,
   "outputs": [
    {
     "data": {
      "text/plain": "one  a    0\n     b    1\n     c    2\n     d    3\ntwo  c    4\n     d    5\n     e    6\ndtype: int64"
     },
     "execution_count": 12,
     "metadata": {},
     "output_type": "execute_result"
    }
   ],
   "source": [
    "s1 = Series([0,1,2,3],index=['a','b','c','d'])\n",
    "s2 = Series([4,5,6],index=['c','d','e'])\n",
    "data2 = pd.concat([s1,s2],keys=['one','two'])\n",
    "data2"
   ],
   "metadata": {
    "collapsed": false,
    "pycharm": {
     "name": "#%%\n"
    }
   }
  },
  {
   "cell_type": "code",
   "execution_count": 13,
   "outputs": [
    {
     "data": {
      "text/plain": "       a    b    c    d    e\none  0.0  1.0  2.0  3.0  NaN\ntwo  NaN  NaN  4.0  5.0  6.0",
      "text/html": "<div>\n<style scoped>\n    .dataframe tbody tr th:only-of-type {\n        vertical-align: middle;\n    }\n\n    .dataframe tbody tr th {\n        vertical-align: top;\n    }\n\n    .dataframe thead th {\n        text-align: right;\n    }\n</style>\n<table border=\"1\" class=\"dataframe\">\n  <thead>\n    <tr style=\"text-align: right;\">\n      <th></th>\n      <th>a</th>\n      <th>b</th>\n      <th>c</th>\n      <th>d</th>\n      <th>e</th>\n    </tr>\n  </thead>\n  <tbody>\n    <tr>\n      <th>one</th>\n      <td>0.0</td>\n      <td>1.0</td>\n      <td>2.0</td>\n      <td>3.0</td>\n      <td>NaN</td>\n    </tr>\n    <tr>\n      <th>two</th>\n      <td>NaN</td>\n      <td>NaN</td>\n      <td>4.0</td>\n      <td>5.0</td>\n      <td>6.0</td>\n    </tr>\n  </tbody>\n</table>\n</div>"
     },
     "execution_count": 13,
     "metadata": {},
     "output_type": "execute_result"
    }
   ],
   "source": [
    "data2.unstack()\n",
    "#unstack时很明显列会取每个内层索引的并集 所以会产生没有数据的情况NaN"
   ],
   "metadata": {
    "collapsed": false,
    "pycharm": {
     "name": "#%%\n"
    }
   }
  },
  {
   "cell_type": "code",
   "execution_count": 14,
   "outputs": [
    {
     "data": {
      "text/plain": "one  a    0.0\n     b    1.0\n     c    2.0\n     d    3.0\ntwo  c    4.0\n     d    5.0\n     e    6.0\ndtype: float64"
     },
     "execution_count": 14,
     "metadata": {},
     "output_type": "execute_result"
    }
   ],
   "source": [
    "data2.unstack().stack()\n",
    "#同样地 如果DataFrame中有NaN stack时不会保留会去掉"
   ],
   "metadata": {
    "collapsed": false,
    "pycharm": {
     "name": "#%%\n"
    }
   }
  },
  {
   "cell_type": "code",
   "execution_count": 15,
   "outputs": [
    {
     "data": {
      "text/plain": "side             left  right\nstate    number             \nOhio     one        0      5\n         two        1      6\n         three      2      7\nColorado one        3      8\n         two        4      9\n         three      5     10",
      "text/html": "<div>\n<style scoped>\n    .dataframe tbody tr th:only-of-type {\n        vertical-align: middle;\n    }\n\n    .dataframe tbody tr th {\n        vertical-align: top;\n    }\n\n    .dataframe thead th {\n        text-align: right;\n    }\n</style>\n<table border=\"1\" class=\"dataframe\">\n  <thead>\n    <tr style=\"text-align: right;\">\n      <th></th>\n      <th>side</th>\n      <th>left</th>\n      <th>right</th>\n    </tr>\n    <tr>\n      <th>state</th>\n      <th>number</th>\n      <th></th>\n      <th></th>\n    </tr>\n  </thead>\n  <tbody>\n    <tr>\n      <th rowspan=\"3\" valign=\"top\">Ohio</th>\n      <th>one</th>\n      <td>0</td>\n      <td>5</td>\n    </tr>\n    <tr>\n      <th>two</th>\n      <td>1</td>\n      <td>6</td>\n    </tr>\n    <tr>\n      <th>three</th>\n      <td>2</td>\n      <td>7</td>\n    </tr>\n    <tr>\n      <th rowspan=\"3\" valign=\"top\">Colorado</th>\n      <th>one</th>\n      <td>3</td>\n      <td>8</td>\n    </tr>\n    <tr>\n      <th>two</th>\n      <td>4</td>\n      <td>9</td>\n    </tr>\n    <tr>\n      <th>three</th>\n      <td>5</td>\n      <td>10</td>\n    </tr>\n  </tbody>\n</table>\n</div>"
     },
     "execution_count": 15,
     "metadata": {},
     "output_type": "execute_result"
    }
   ],
   "source": [
    "df = DataFrame({'left':result,'right':result+5},\n",
    "               columns=pd.Index(['left','right'],name='side'))\n",
    "df"
   ],
   "metadata": {
    "collapsed": false,
    "pycharm": {
     "name": "#%%\n"
    }
   }
  },
  {
   "cell_type": "code",
   "execution_count": 16,
   "outputs": [
    {
     "data": {
      "text/plain": "side     left           right          \nnumber    one two three   one two three\nstate                                  \nOhio        0   1     2     5   6     7\nColorado    3   4     5     8   9    10",
      "text/html": "<div>\n<style scoped>\n    .dataframe tbody tr th:only-of-type {\n        vertical-align: middle;\n    }\n\n    .dataframe tbody tr th {\n        vertical-align: top;\n    }\n\n    .dataframe thead tr th {\n        text-align: left;\n    }\n\n    .dataframe thead tr:last-of-type th {\n        text-align: right;\n    }\n</style>\n<table border=\"1\" class=\"dataframe\">\n  <thead>\n    <tr>\n      <th>side</th>\n      <th colspan=\"3\" halign=\"left\">left</th>\n      <th colspan=\"3\" halign=\"left\">right</th>\n    </tr>\n    <tr>\n      <th>number</th>\n      <th>one</th>\n      <th>two</th>\n      <th>three</th>\n      <th>one</th>\n      <th>two</th>\n      <th>three</th>\n    </tr>\n    <tr>\n      <th>state</th>\n      <th></th>\n      <th></th>\n      <th></th>\n      <th></th>\n      <th></th>\n      <th></th>\n    </tr>\n  </thead>\n  <tbody>\n    <tr>\n      <th>Ohio</th>\n      <td>0</td>\n      <td>1</td>\n      <td>2</td>\n      <td>5</td>\n      <td>6</td>\n      <td>7</td>\n    </tr>\n    <tr>\n      <th>Colorado</th>\n      <td>3</td>\n      <td>4</td>\n      <td>5</td>\n      <td>8</td>\n      <td>9</td>\n      <td>10</td>\n    </tr>\n  </tbody>\n</table>\n</div>"
     },
     "execution_count": 16,
     "metadata": {},
     "output_type": "execute_result"
    }
   ],
   "source": [
    "df.unstack()\n",
    "#DataFrame当然也可以unstack 只要index是层次索引就可以unstack\n",
    "#此时内层被抽出来放在columns上的最内层"
   ],
   "metadata": {
    "collapsed": false,
    "pycharm": {
     "name": "#%%\n"
    }
   }
  },
  {
   "cell_type": "code",
   "execution_count": 17,
   "outputs": [
    {
     "data": {
      "text/plain": "side   left          right         \nstate  Ohio Colorado  Ohio Colorado\nnumber                             \none       0        3     5        8\ntwo       1        4     6        9\nthree     2        5     7       10",
      "text/html": "<div>\n<style scoped>\n    .dataframe tbody tr th:only-of-type {\n        vertical-align: middle;\n    }\n\n    .dataframe tbody tr th {\n        vertical-align: top;\n    }\n\n    .dataframe thead tr th {\n        text-align: left;\n    }\n\n    .dataframe thead tr:last-of-type th {\n        text-align: right;\n    }\n</style>\n<table border=\"1\" class=\"dataframe\">\n  <thead>\n    <tr>\n      <th>side</th>\n      <th colspan=\"2\" halign=\"left\">left</th>\n      <th colspan=\"2\" halign=\"left\">right</th>\n    </tr>\n    <tr>\n      <th>state</th>\n      <th>Ohio</th>\n      <th>Colorado</th>\n      <th>Ohio</th>\n      <th>Colorado</th>\n    </tr>\n    <tr>\n      <th>number</th>\n      <th></th>\n      <th></th>\n      <th></th>\n      <th></th>\n    </tr>\n  </thead>\n  <tbody>\n    <tr>\n      <th>one</th>\n      <td>0</td>\n      <td>3</td>\n      <td>5</td>\n      <td>8</td>\n    </tr>\n    <tr>\n      <th>two</th>\n      <td>1</td>\n      <td>4</td>\n      <td>6</td>\n      <td>9</td>\n    </tr>\n    <tr>\n      <th>three</th>\n      <td>2</td>\n      <td>5</td>\n      <td>7</td>\n      <td>10</td>\n    </tr>\n  </tbody>\n</table>\n</div>"
     },
     "execution_count": 17,
     "metadata": {},
     "output_type": "execute_result"
    }
   ],
   "source": [
    "df.unstack('state')"
   ],
   "metadata": {
    "collapsed": false,
    "pycharm": {
     "name": "#%%\n"
    }
   }
  },
  {
   "cell_type": "code",
   "execution_count": 18,
   "outputs": [
    {
     "data": {
      "text/plain": "state         Colorado  Ohio\nnumber side                 \none    left          3     0\n       right         8     5\ntwo    left          4     1\n       right         9     6\nthree  left          5     2\n       right        10     7",
      "text/html": "<div>\n<style scoped>\n    .dataframe tbody tr th:only-of-type {\n        vertical-align: middle;\n    }\n\n    .dataframe tbody tr th {\n        vertical-align: top;\n    }\n\n    .dataframe thead th {\n        text-align: right;\n    }\n</style>\n<table border=\"1\" class=\"dataframe\">\n  <thead>\n    <tr style=\"text-align: right;\">\n      <th></th>\n      <th>state</th>\n      <th>Colorado</th>\n      <th>Ohio</th>\n    </tr>\n    <tr>\n      <th>number</th>\n      <th>side</th>\n      <th></th>\n      <th></th>\n    </tr>\n  </thead>\n  <tbody>\n    <tr>\n      <th rowspan=\"2\" valign=\"top\">one</th>\n      <th>left</th>\n      <td>3</td>\n      <td>0</td>\n    </tr>\n    <tr>\n      <th>right</th>\n      <td>8</td>\n      <td>5</td>\n    </tr>\n    <tr>\n      <th rowspan=\"2\" valign=\"top\">two</th>\n      <th>left</th>\n      <td>4</td>\n      <td>1</td>\n    </tr>\n    <tr>\n      <th>right</th>\n      <td>9</td>\n      <td>6</td>\n    </tr>\n    <tr>\n      <th rowspan=\"2\" valign=\"top\">three</th>\n      <th>left</th>\n      <td>5</td>\n      <td>2</td>\n    </tr>\n    <tr>\n      <th>right</th>\n      <td>10</td>\n      <td>7</td>\n    </tr>\n  </tbody>\n</table>\n</div>"
     },
     "execution_count": 18,
     "metadata": {},
     "output_type": "execute_result"
    }
   ],
   "source": [
    "df.unstack('state').stack('side')"
   ],
   "metadata": {
    "collapsed": false,
    "pycharm": {
     "name": "#%%\n"
    }
   }
  },
  {
   "cell_type": "code",
   "execution_count": 34,
   "outputs": [
    {
     "data": {
      "text/plain": "                     time    value     item\n0     1990-02-01 00:00:00   328.79  unknown\n1     1990-02-02 00:00:00   330.92  unknown\n2     1990-02-05 00:00:00   331.85  unknown\n3     1990-02-06 00:00:00   329.66  unknown\n4     1990-02-07 00:00:00   333.75  unknown\n...                   ...      ...      ...\n5467  2011-10-10 00:00:00  1194.89  unknown\n5468  2011-10-11 00:00:00  1195.54  unknown\n5469  2011-10-12 00:00:00  1207.25  unknown\n5470  2011-10-13 00:00:00  1203.66  unknown\n5471  2011-10-14 00:00:00  1224.58  unknown\n\n[5472 rows x 3 columns]",
      "text/html": "<div>\n<style scoped>\n    .dataframe tbody tr th:only-of-type {\n        vertical-align: middle;\n    }\n\n    .dataframe tbody tr th {\n        vertical-align: top;\n    }\n\n    .dataframe thead th {\n        text-align: right;\n    }\n</style>\n<table border=\"1\" class=\"dataframe\">\n  <thead>\n    <tr style=\"text-align: right;\">\n      <th></th>\n      <th>time</th>\n      <th>value</th>\n      <th>item</th>\n    </tr>\n  </thead>\n  <tbody>\n    <tr>\n      <th>0</th>\n      <td>1990-02-01 00:00:00</td>\n      <td>328.79</td>\n      <td>unknown</td>\n    </tr>\n    <tr>\n      <th>1</th>\n      <td>1990-02-02 00:00:00</td>\n      <td>330.92</td>\n      <td>unknown</td>\n    </tr>\n    <tr>\n      <th>2</th>\n      <td>1990-02-05 00:00:00</td>\n      <td>331.85</td>\n      <td>unknown</td>\n    </tr>\n    <tr>\n      <th>3</th>\n      <td>1990-02-06 00:00:00</td>\n      <td>329.66</td>\n      <td>unknown</td>\n    </tr>\n    <tr>\n      <th>4</th>\n      <td>1990-02-07 00:00:00</td>\n      <td>333.75</td>\n      <td>unknown</td>\n    </tr>\n    <tr>\n      <th>...</th>\n      <td>...</td>\n      <td>...</td>\n      <td>...</td>\n    </tr>\n    <tr>\n      <th>5467</th>\n      <td>2011-10-10 00:00:00</td>\n      <td>1194.89</td>\n      <td>unknown</td>\n    </tr>\n    <tr>\n      <th>5468</th>\n      <td>2011-10-11 00:00:00</td>\n      <td>1195.54</td>\n      <td>unknown</td>\n    </tr>\n    <tr>\n      <th>5469</th>\n      <td>2011-10-12 00:00:00</td>\n      <td>1207.25</td>\n      <td>unknown</td>\n    </tr>\n    <tr>\n      <th>5470</th>\n      <td>2011-10-13 00:00:00</td>\n      <td>1203.66</td>\n      <td>unknown</td>\n    </tr>\n    <tr>\n      <th>5471</th>\n      <td>2011-10-14 00:00:00</td>\n      <td>1224.58</td>\n      <td>unknown</td>\n    </tr>\n  </tbody>\n</table>\n<p>5472 rows × 3 columns</p>\n</div>"
     },
     "execution_count": 34,
     "metadata": {},
     "output_type": "execute_result"
    }
   ],
   "source": [
    "ldata = pd.read_csv('../examples/spx.csv',skiprows=1,header=None)\n",
    "ldata.columns=['time','value']\n",
    "ldata['item']='unknown'\n",
    "ldata"
   ],
   "metadata": {
    "collapsed": false,
    "pycharm": {
     "name": "#%%\n"
    }
   }
  },
  {
   "cell_type": "code",
   "execution_count": 36,
   "outputs": [
    {
     "data": {
      "text/plain": "item                 unknown\ntime                        \n1990-02-01 00:00:00   328.79\n1990-02-02 00:00:00   330.92\n1990-02-05 00:00:00   331.85\n1990-02-06 00:00:00   329.66\n1990-02-07 00:00:00   333.75",
      "text/html": "<div>\n<style scoped>\n    .dataframe tbody tr th:only-of-type {\n        vertical-align: middle;\n    }\n\n    .dataframe tbody tr th {\n        vertical-align: top;\n    }\n\n    .dataframe thead th {\n        text-align: right;\n    }\n</style>\n<table border=\"1\" class=\"dataframe\">\n  <thead>\n    <tr style=\"text-align: right;\">\n      <th>item</th>\n      <th>unknown</th>\n    </tr>\n    <tr>\n      <th>time</th>\n      <th></th>\n    </tr>\n  </thead>\n  <tbody>\n    <tr>\n      <th>1990-02-01 00:00:00</th>\n      <td>328.79</td>\n    </tr>\n    <tr>\n      <th>1990-02-02 00:00:00</th>\n      <td>330.92</td>\n    </tr>\n    <tr>\n      <th>1990-02-05 00:00:00</th>\n      <td>331.85</td>\n    </tr>\n    <tr>\n      <th>1990-02-06 00:00:00</th>\n      <td>329.66</td>\n    </tr>\n    <tr>\n      <th>1990-02-07 00:00:00</th>\n      <td>333.75</td>\n    </tr>\n  </tbody>\n</table>\n</div>"
     },
     "execution_count": 36,
     "metadata": {},
     "output_type": "execute_result"
    }
   ],
   "source": [
    "print(\"######################################################\")\n",
    "#pivot 枢轴 不同于stack/unstack的叠操作 它们应用于层次索引的情况\n",
    "#而pivot应用于一层索引铺开表示"
   ],
   "metadata": {
    "collapsed": false,
    "pycharm": {
     "name": "#%%\n"
    }
   }
  },
  {
   "cell_type": "code",
   "source": [
    "#在关系型数据库中如ldata存储，一般而言time和item列是主键，value是不同时刻的值\n",
    "#如果让它们变得更具有DataFrame风格 值在特定的位置 有index和column的概念 使用pivot\n",
    "pivoted = ldata.pivot('time','item','value')\n",
    "pivoted.head()\n",
    "#pivot第一个参数是index 第二个参数是column 第三个参数是在形成index-column对时\n",
    "#在该位置放置的数据"
   ],
   "metadata": {
    "collapsed": false,
    "pycharm": {
     "name": "#%%\n"
    }
   },
   "execution_count": 37,
   "outputs": [
    {
     "data": {
      "text/plain": "item                 unknown\ntime                        \n1990-02-01 00:00:00   328.79\n1990-02-02 00:00:00   330.92\n1990-02-05 00:00:00   331.85\n1990-02-06 00:00:00   329.66\n1990-02-07 00:00:00   333.75",
      "text/html": "<div>\n<style scoped>\n    .dataframe tbody tr th:only-of-type {\n        vertical-align: middle;\n    }\n\n    .dataframe tbody tr th {\n        vertical-align: top;\n    }\n\n    .dataframe thead th {\n        text-align: right;\n    }\n</style>\n<table border=\"1\" class=\"dataframe\">\n  <thead>\n    <tr style=\"text-align: right;\">\n      <th>item</th>\n      <th>unknown</th>\n    </tr>\n    <tr>\n      <th>time</th>\n      <th></th>\n    </tr>\n  </thead>\n  <tbody>\n    <tr>\n      <th>1990-02-01 00:00:00</th>\n      <td>328.79</td>\n    </tr>\n    <tr>\n      <th>1990-02-02 00:00:00</th>\n      <td>330.92</td>\n    </tr>\n    <tr>\n      <th>1990-02-05 00:00:00</th>\n      <td>331.85</td>\n    </tr>\n    <tr>\n      <th>1990-02-06 00:00:00</th>\n      <td>329.66</td>\n    </tr>\n    <tr>\n      <th>1990-02-07 00:00:00</th>\n      <td>333.75</td>\n    </tr>\n  </tbody>\n</table>\n</div>"
     },
     "execution_count": 37,
     "metadata": {},
     "output_type": "execute_result"
    }
   ]
  },
  {
   "cell_type": "code",
   "execution_count": 38,
   "outputs": [
    {
     "data": {
      "text/plain": "                     time    value     item    value2\n0     1990-02-01 00:00:00   328.79  unknown -0.128324\n1     1990-02-02 00:00:00   330.92  unknown -0.556554\n2     1990-02-05 00:00:00   331.85  unknown  0.951119\n3     1990-02-06 00:00:00   329.66  unknown  0.569570\n4     1990-02-07 00:00:00   333.75  unknown  0.893959\n...                   ...      ...      ...       ...\n5467  2011-10-10 00:00:00  1194.89  unknown -1.253363\n5468  2011-10-11 00:00:00  1195.54  unknown  0.491323\n5469  2011-10-12 00:00:00  1207.25  unknown  1.515392\n5470  2011-10-13 00:00:00  1203.66  unknown -0.099124\n5471  2011-10-14 00:00:00  1224.58  unknown -0.422477\n\n[5472 rows x 4 columns]",
      "text/html": "<div>\n<style scoped>\n    .dataframe tbody tr th:only-of-type {\n        vertical-align: middle;\n    }\n\n    .dataframe tbody tr th {\n        vertical-align: top;\n    }\n\n    .dataframe thead th {\n        text-align: right;\n    }\n</style>\n<table border=\"1\" class=\"dataframe\">\n  <thead>\n    <tr style=\"text-align: right;\">\n      <th></th>\n      <th>time</th>\n      <th>value</th>\n      <th>item</th>\n      <th>value2</th>\n    </tr>\n  </thead>\n  <tbody>\n    <tr>\n      <th>0</th>\n      <td>1990-02-01 00:00:00</td>\n      <td>328.79</td>\n      <td>unknown</td>\n      <td>-0.128324</td>\n    </tr>\n    <tr>\n      <th>1</th>\n      <td>1990-02-02 00:00:00</td>\n      <td>330.92</td>\n      <td>unknown</td>\n      <td>-0.556554</td>\n    </tr>\n    <tr>\n      <th>2</th>\n      <td>1990-02-05 00:00:00</td>\n      <td>331.85</td>\n      <td>unknown</td>\n      <td>0.951119</td>\n    </tr>\n    <tr>\n      <th>3</th>\n      <td>1990-02-06 00:00:00</td>\n      <td>329.66</td>\n      <td>unknown</td>\n      <td>0.569570</td>\n    </tr>\n    <tr>\n      <th>4</th>\n      <td>1990-02-07 00:00:00</td>\n      <td>333.75</td>\n      <td>unknown</td>\n      <td>0.893959</td>\n    </tr>\n    <tr>\n      <th>...</th>\n      <td>...</td>\n      <td>...</td>\n      <td>...</td>\n      <td>...</td>\n    </tr>\n    <tr>\n      <th>5467</th>\n      <td>2011-10-10 00:00:00</td>\n      <td>1194.89</td>\n      <td>unknown</td>\n      <td>-1.253363</td>\n    </tr>\n    <tr>\n      <th>5468</th>\n      <td>2011-10-11 00:00:00</td>\n      <td>1195.54</td>\n      <td>unknown</td>\n      <td>0.491323</td>\n    </tr>\n    <tr>\n      <th>5469</th>\n      <td>2011-10-12 00:00:00</td>\n      <td>1207.25</td>\n      <td>unknown</td>\n      <td>1.515392</td>\n    </tr>\n    <tr>\n      <th>5470</th>\n      <td>2011-10-13 00:00:00</td>\n      <td>1203.66</td>\n      <td>unknown</td>\n      <td>-0.099124</td>\n    </tr>\n    <tr>\n      <th>5471</th>\n      <td>2011-10-14 00:00:00</td>\n      <td>1224.58</td>\n      <td>unknown</td>\n      <td>-0.422477</td>\n    </tr>\n  </tbody>\n</table>\n<p>5472 rows × 4 columns</p>\n</div>"
     },
     "execution_count": 38,
     "metadata": {},
     "output_type": "execute_result"
    }
   ],
   "source": [
    "ldata['value2'] = np.random.randn(len(ldata))\n",
    "ldata"
   ],
   "metadata": {
    "collapsed": false,
    "pycharm": {
     "name": "#%%\n"
    }
   }
  },
  {
   "cell_type": "code",
   "execution_count": 39,
   "outputs": [
    {
     "data": {
      "text/plain": "                       value    value2\nitem                 unknown   unknown\ntime                                  \n1990-02-01 00:00:00   328.79 -0.128324\n1990-02-02 00:00:00   330.92 -0.556554\n1990-02-05 00:00:00   331.85  0.951119\n1990-02-06 00:00:00   329.66  0.569570\n1990-02-07 00:00:00   333.75  0.893959\n...                      ...       ...\n2011-10-10 00:00:00  1194.89 -1.253363\n2011-10-11 00:00:00  1195.54  0.491323\n2011-10-12 00:00:00  1207.25  1.515392\n2011-10-13 00:00:00  1203.66 -0.099124\n2011-10-14 00:00:00  1224.58 -0.422477\n\n[5472 rows x 2 columns]",
      "text/html": "<div>\n<style scoped>\n    .dataframe tbody tr th:only-of-type {\n        vertical-align: middle;\n    }\n\n    .dataframe tbody tr th {\n        vertical-align: top;\n    }\n\n    .dataframe thead tr th {\n        text-align: left;\n    }\n\n    .dataframe thead tr:last-of-type th {\n        text-align: right;\n    }\n</style>\n<table border=\"1\" class=\"dataframe\">\n  <thead>\n    <tr>\n      <th></th>\n      <th>value</th>\n      <th>value2</th>\n    </tr>\n    <tr>\n      <th>item</th>\n      <th>unknown</th>\n      <th>unknown</th>\n    </tr>\n    <tr>\n      <th>time</th>\n      <th></th>\n      <th></th>\n    </tr>\n  </thead>\n  <tbody>\n    <tr>\n      <th>1990-02-01 00:00:00</th>\n      <td>328.79</td>\n      <td>-0.128324</td>\n    </tr>\n    <tr>\n      <th>1990-02-02 00:00:00</th>\n      <td>330.92</td>\n      <td>-0.556554</td>\n    </tr>\n    <tr>\n      <th>1990-02-05 00:00:00</th>\n      <td>331.85</td>\n      <td>0.951119</td>\n    </tr>\n    <tr>\n      <th>1990-02-06 00:00:00</th>\n      <td>329.66</td>\n      <td>0.569570</td>\n    </tr>\n    <tr>\n      <th>1990-02-07 00:00:00</th>\n      <td>333.75</td>\n      <td>0.893959</td>\n    </tr>\n    <tr>\n      <th>...</th>\n      <td>...</td>\n      <td>...</td>\n    </tr>\n    <tr>\n      <th>2011-10-10 00:00:00</th>\n      <td>1194.89</td>\n      <td>-1.253363</td>\n    </tr>\n    <tr>\n      <th>2011-10-11 00:00:00</th>\n      <td>1195.54</td>\n      <td>0.491323</td>\n    </tr>\n    <tr>\n      <th>2011-10-12 00:00:00</th>\n      <td>1207.25</td>\n      <td>1.515392</td>\n    </tr>\n    <tr>\n      <th>2011-10-13 00:00:00</th>\n      <td>1203.66</td>\n      <td>-0.099124</td>\n    </tr>\n    <tr>\n      <th>2011-10-14 00:00:00</th>\n      <td>1224.58</td>\n      <td>-0.422477</td>\n    </tr>\n  </tbody>\n</table>\n<p>5472 rows × 2 columns</p>\n</div>"
     },
     "execution_count": 39,
     "metadata": {},
     "output_type": "execute_result"
    }
   ],
   "source": [
    "pivoted2 = ldata.pivot('time','item')\n",
    "pivoted2\n",
    "#会形成层次索引 会将未指明的数据变为层次索引"
   ],
   "metadata": {
    "collapsed": false,
    "pycharm": {
     "name": "#%%\n"
    }
   }
  },
  {
   "cell_type": "code",
   "execution_count": 41,
   "outputs": [
    {
     "data": {
      "text/plain": "                               value    value2\ntime                item                      \n1990-02-01 00:00:00 unknown   328.79 -0.128324\n1990-02-02 00:00:00 unknown   330.92 -0.556554\n1990-02-05 00:00:00 unknown   331.85  0.951119\n1990-02-06 00:00:00 unknown   329.66  0.569570\n1990-02-07 00:00:00 unknown   333.75  0.893959\n...                              ...       ...\n2011-10-10 00:00:00 unknown  1194.89 -1.253363\n2011-10-11 00:00:00 unknown  1195.54  0.491323\n2011-10-12 00:00:00 unknown  1207.25  1.515392\n2011-10-13 00:00:00 unknown  1203.66 -0.099124\n2011-10-14 00:00:00 unknown  1224.58 -0.422477\n\n[5472 rows x 2 columns]",
      "text/html": "<div>\n<style scoped>\n    .dataframe tbody tr th:only-of-type {\n        vertical-align: middle;\n    }\n\n    .dataframe tbody tr th {\n        vertical-align: top;\n    }\n\n    .dataframe thead th {\n        text-align: right;\n    }\n</style>\n<table border=\"1\" class=\"dataframe\">\n  <thead>\n    <tr style=\"text-align: right;\">\n      <th></th>\n      <th></th>\n      <th>value</th>\n      <th>value2</th>\n    </tr>\n    <tr>\n      <th>time</th>\n      <th>item</th>\n      <th></th>\n      <th></th>\n    </tr>\n  </thead>\n  <tbody>\n    <tr>\n      <th>1990-02-01 00:00:00</th>\n      <th>unknown</th>\n      <td>328.79</td>\n      <td>-0.128324</td>\n    </tr>\n    <tr>\n      <th>1990-02-02 00:00:00</th>\n      <th>unknown</th>\n      <td>330.92</td>\n      <td>-0.556554</td>\n    </tr>\n    <tr>\n      <th>1990-02-05 00:00:00</th>\n      <th>unknown</th>\n      <td>331.85</td>\n      <td>0.951119</td>\n    </tr>\n    <tr>\n      <th>1990-02-06 00:00:00</th>\n      <th>unknown</th>\n      <td>329.66</td>\n      <td>0.569570</td>\n    </tr>\n    <tr>\n      <th>1990-02-07 00:00:00</th>\n      <th>unknown</th>\n      <td>333.75</td>\n      <td>0.893959</td>\n    </tr>\n    <tr>\n      <th>...</th>\n      <th>...</th>\n      <td>...</td>\n      <td>...</td>\n    </tr>\n    <tr>\n      <th>2011-10-10 00:00:00</th>\n      <th>unknown</th>\n      <td>1194.89</td>\n      <td>-1.253363</td>\n    </tr>\n    <tr>\n      <th>2011-10-11 00:00:00</th>\n      <th>unknown</th>\n      <td>1195.54</td>\n      <td>0.491323</td>\n    </tr>\n    <tr>\n      <th>2011-10-12 00:00:00</th>\n      <th>unknown</th>\n      <td>1207.25</td>\n      <td>1.515392</td>\n    </tr>\n    <tr>\n      <th>2011-10-13 00:00:00</th>\n      <th>unknown</th>\n      <td>1203.66</td>\n      <td>-0.099124</td>\n    </tr>\n    <tr>\n      <th>2011-10-14 00:00:00</th>\n      <th>unknown</th>\n      <td>1224.58</td>\n      <td>-0.422477</td>\n    </tr>\n  </tbody>\n</table>\n<p>5472 rows × 2 columns</p>\n</div>"
     },
     "execution_count": 41,
     "metadata": {},
     "output_type": "execute_result"
    }
   ],
   "source": [
    "#使用set_index也可以将列变成index存在\n",
    "ununstacked = ldata.set_index(['time','item'])\n",
    "ununstacked"
   ],
   "metadata": {
    "collapsed": false,
    "pycharm": {
     "name": "#%%\n"
    }
   }
  },
  {
   "cell_type": "code",
   "execution_count": 42,
   "outputs": [
    {
     "data": {
      "text/plain": "                       value    value2\nitem                 unknown   unknown\ntime                                  \n1990-02-01 00:00:00   328.79 -0.128324\n1990-02-02 00:00:00   330.92 -0.556554\n1990-02-05 00:00:00   331.85  0.951119\n1990-02-06 00:00:00   329.66  0.569570\n1990-02-07 00:00:00   333.75  0.893959\n...                      ...       ...\n2011-10-10 00:00:00  1194.89 -1.253363\n2011-10-11 00:00:00  1195.54  0.491323\n2011-10-12 00:00:00  1207.25  1.515392\n2011-10-13 00:00:00  1203.66 -0.099124\n2011-10-14 00:00:00  1224.58 -0.422477\n\n[5472 rows x 2 columns]",
      "text/html": "<div>\n<style scoped>\n    .dataframe tbody tr th:only-of-type {\n        vertical-align: middle;\n    }\n\n    .dataframe tbody tr th {\n        vertical-align: top;\n    }\n\n    .dataframe thead tr th {\n        text-align: left;\n    }\n\n    .dataframe thead tr:last-of-type th {\n        text-align: right;\n    }\n</style>\n<table border=\"1\" class=\"dataframe\">\n  <thead>\n    <tr>\n      <th></th>\n      <th>value</th>\n      <th>value2</th>\n    </tr>\n    <tr>\n      <th>item</th>\n      <th>unknown</th>\n      <th>unknown</th>\n    </tr>\n    <tr>\n      <th>time</th>\n      <th></th>\n      <th></th>\n    </tr>\n  </thead>\n  <tbody>\n    <tr>\n      <th>1990-02-01 00:00:00</th>\n      <td>328.79</td>\n      <td>-0.128324</td>\n    </tr>\n    <tr>\n      <th>1990-02-02 00:00:00</th>\n      <td>330.92</td>\n      <td>-0.556554</td>\n    </tr>\n    <tr>\n      <th>1990-02-05 00:00:00</th>\n      <td>331.85</td>\n      <td>0.951119</td>\n    </tr>\n    <tr>\n      <th>1990-02-06 00:00:00</th>\n      <td>329.66</td>\n      <td>0.569570</td>\n    </tr>\n    <tr>\n      <th>1990-02-07 00:00:00</th>\n      <td>333.75</td>\n      <td>0.893959</td>\n    </tr>\n    <tr>\n      <th>...</th>\n      <td>...</td>\n      <td>...</td>\n    </tr>\n    <tr>\n      <th>2011-10-10 00:00:00</th>\n      <td>1194.89</td>\n      <td>-1.253363</td>\n    </tr>\n    <tr>\n      <th>2011-10-11 00:00:00</th>\n      <td>1195.54</td>\n      <td>0.491323</td>\n    </tr>\n    <tr>\n      <th>2011-10-12 00:00:00</th>\n      <td>1207.25</td>\n      <td>1.515392</td>\n    </tr>\n    <tr>\n      <th>2011-10-13 00:00:00</th>\n      <td>1203.66</td>\n      <td>-0.099124</td>\n    </tr>\n    <tr>\n      <th>2011-10-14 00:00:00</th>\n      <td>1224.58</td>\n      <td>-0.422477</td>\n    </tr>\n  </tbody>\n</table>\n<p>5472 rows × 2 columns</p>\n</div>"
     },
     "execution_count": 42,
     "metadata": {},
     "output_type": "execute_result"
    }
   ],
   "source": [
    "ununstacked.unstack()"
   ],
   "metadata": {
    "collapsed": false,
    "pycharm": {
     "name": "#%%\n"
    }
   }
  }
 ],
 "metadata": {
  "kernelspec": {
   "display_name": "Python 3",
   "language": "python",
   "name": "python3"
  },
  "language_info": {
   "codemirror_mode": {
    "name": "ipython",
    "version": 2
   },
   "file_extension": ".py",
   "mimetype": "text/x-python",
   "name": "python",
   "nbconvert_exporter": "python",
   "pygments_lexer": "ipython2",
   "version": "2.7.6"
  }
 },
 "nbformat": 4,
 "nbformat_minor": 0
}