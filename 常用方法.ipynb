{
 "cells": [
  {
   "cell_type": "markdown",
   "metadata": {
    "collapsed": true,
    "pycharm": {
     "name": "#%% md\n"
    }
   },
   "source": [
    "# 常用方法目录\n",
    "## 过滤\n",
    "算数表达式和apply方法\n",
    "\n",
    "## 采样\n",
    "sample方法\n",
    "\n",
    "## 分箱\n",
    "cut方法(qcut) (可以结合get_dummies)\n",
    "\n",
    "## NaN值处理\n",
    "np.isnan  np.isna\n",
    "\n",
    "## get_loc获取索引位置方法\n"
   ]
  },
  {
   "cell_type": "code",
   "execution_count": 1,
   "outputs": [],
   "source": [
    "import pandas as pd\n",
    "import numpy as np"
   ],
   "metadata": {
    "collapsed": false,
    "pycharm": {
     "name": "#%%\n"
    }
   }
  },
  {
   "cell_type": "code",
   "execution_count": 2,
   "outputs": [],
   "source": [
    "frame = pd.DataFrame(np.arange(9).reshape(3,3),index=['a','c','d'],columns=['Ohio','Texas','California'])"
   ],
   "metadata": {
    "collapsed": false,
    "pycharm": {
     "name": "#%%\n"
    }
   }
  },
  {
   "cell_type": "code",
   "execution_count": 3,
   "outputs": [
    {
     "data": {
      "text/plain": "   Ohio  Texas  California\na     0      1           2\nc     3      4           5\nd     6      7           8",
      "text/html": "<div>\n<style scoped>\n    .dataframe tbody tr th:only-of-type {\n        vertical-align: middle;\n    }\n\n    .dataframe tbody tr th {\n        vertical-align: top;\n    }\n\n    .dataframe thead th {\n        text-align: right;\n    }\n</style>\n<table border=\"1\" class=\"dataframe\">\n  <thead>\n    <tr style=\"text-align: right;\">\n      <th></th>\n      <th>Ohio</th>\n      <th>Texas</th>\n      <th>California</th>\n    </tr>\n  </thead>\n  <tbody>\n    <tr>\n      <th>a</th>\n      <td>0</td>\n      <td>1</td>\n      <td>2</td>\n    </tr>\n    <tr>\n      <th>c</th>\n      <td>3</td>\n      <td>4</td>\n      <td>5</td>\n    </tr>\n    <tr>\n      <th>d</th>\n      <td>6</td>\n      <td>7</td>\n      <td>8</td>\n    </tr>\n  </tbody>\n</table>\n</div>"
     },
     "execution_count": 3,
     "metadata": {},
     "output_type": "execute_result"
    }
   ],
   "source": [
    "frame"
   ],
   "metadata": {
    "collapsed": false,
    "pycharm": {
     "name": "#%%\n"
    }
   }
  },
  {
   "cell_type": "code",
   "execution_count": 4,
   "outputs": [],
   "source": [
    "frame['str_'] = ['efg','hij','klm']"
   ],
   "metadata": {
    "collapsed": false,
    "pycharm": {
     "name": "#%%\n"
    }
   }
  },
  {
   "cell_type": "code",
   "execution_count": 5,
   "outputs": [
    {
     "data": {
      "text/plain": "   Ohio  Texas  California str_\na     0      1           2  efg\nc     3      4           5  hij\nd     6      7           8  klm",
      "text/html": "<div>\n<style scoped>\n    .dataframe tbody tr th:only-of-type {\n        vertical-align: middle;\n    }\n\n    .dataframe tbody tr th {\n        vertical-align: top;\n    }\n\n    .dataframe thead th {\n        text-align: right;\n    }\n</style>\n<table border=\"1\" class=\"dataframe\">\n  <thead>\n    <tr style=\"text-align: right;\">\n      <th></th>\n      <th>Ohio</th>\n      <th>Texas</th>\n      <th>California</th>\n      <th>str_</th>\n    </tr>\n  </thead>\n  <tbody>\n    <tr>\n      <th>a</th>\n      <td>0</td>\n      <td>1</td>\n      <td>2</td>\n      <td>efg</td>\n    </tr>\n    <tr>\n      <th>c</th>\n      <td>3</td>\n      <td>4</td>\n      <td>5</td>\n      <td>hij</td>\n    </tr>\n    <tr>\n      <th>d</th>\n      <td>6</td>\n      <td>7</td>\n      <td>8</td>\n      <td>klm</td>\n    </tr>\n  </tbody>\n</table>\n</div>"
     },
     "execution_count": 5,
     "metadata": {},
     "output_type": "execute_result"
    }
   ],
   "source": [
    "frame"
   ],
   "metadata": {
    "collapsed": false,
    "pycharm": {
     "name": "#%%\n"
    }
   }
  },
  {
   "cell_type": "markdown",
   "source": [
    "## 过滤\n",
    "1. 对于数字可以直接使用算数表达式进行过滤\n",
    "2. 可以使用通用的lambda表达式+apply方法进行过滤"
   ],
   "metadata": {
    "collapsed": false,
    "pycharm": {
     "name": "#%% md\n"
    }
   }
  },
  {
   "cell_type": "code",
   "execution_count": 6,
   "outputs": [
    {
     "data": {
      "text/plain": "   Ohio  Texas  California str_\na     0      1           2  efg",
      "text/html": "<div>\n<style scoped>\n    .dataframe tbody tr th:only-of-type {\n        vertical-align: middle;\n    }\n\n    .dataframe tbody tr th {\n        vertical-align: top;\n    }\n\n    .dataframe thead th {\n        text-align: right;\n    }\n</style>\n<table border=\"1\" class=\"dataframe\">\n  <thead>\n    <tr style=\"text-align: right;\">\n      <th></th>\n      <th>Ohio</th>\n      <th>Texas</th>\n      <th>California</th>\n      <th>str_</th>\n    </tr>\n  </thead>\n  <tbody>\n    <tr>\n      <th>a</th>\n      <td>0</td>\n      <td>1</td>\n      <td>2</td>\n      <td>efg</td>\n    </tr>\n  </tbody>\n</table>\n</div>"
     },
     "execution_count": 6,
     "metadata": {},
     "output_type": "execute_result"
    }
   ],
   "source": [
    "# 对于数字可以直接用算数表达式过滤\n",
    "frame[frame['California'] == 2]"
   ],
   "metadata": {
    "collapsed": false,
    "pycharm": {
     "name": "#%%\n"
    }
   }
  },
  {
   "cell_type": "code",
   "execution_count": 7,
   "outputs": [
    {
     "data": {
      "text/plain": "   Ohio  Texas  California str_\nc     3      4           5  hij\nd     6      7           8  klm",
      "text/html": "<div>\n<style scoped>\n    .dataframe tbody tr th:only-of-type {\n        vertical-align: middle;\n    }\n\n    .dataframe tbody tr th {\n        vertical-align: top;\n    }\n\n    .dataframe thead th {\n        text-align: right;\n    }\n</style>\n<table border=\"1\" class=\"dataframe\">\n  <thead>\n    <tr style=\"text-align: right;\">\n      <th></th>\n      <th>Ohio</th>\n      <th>Texas</th>\n      <th>California</th>\n      <th>str_</th>\n    </tr>\n  </thead>\n  <tbody>\n    <tr>\n      <th>c</th>\n      <td>3</td>\n      <td>4</td>\n      <td>5</td>\n      <td>hij</td>\n    </tr>\n    <tr>\n      <th>d</th>\n      <td>6</td>\n      <td>7</td>\n      <td>8</td>\n      <td>klm</td>\n    </tr>\n  </tbody>\n</table>\n</div>"
     },
     "execution_count": 7,
     "metadata": {},
     "output_type": "execute_result"
    }
   ],
   "source": [
    "frame[frame['California'] != 2]"
   ],
   "metadata": {
    "collapsed": false,
    "pycharm": {
     "name": "#%%\n"
    }
   }
  },
  {
   "cell_type": "code",
   "execution_count": 8,
   "outputs": [
    {
     "data": {
      "text/plain": "False"
     },
     "execution_count": 8,
     "metadata": {},
     "output_type": "execute_result"
    }
   ],
   "source": [
    "# 对于字符串就无法用算数表达式\n",
    "'ef' in frame['str_']"
   ],
   "metadata": {
    "collapsed": false,
    "pycharm": {
     "name": "#%%\n"
    }
   }
  },
  {
   "cell_type": "code",
   "execution_count": 9,
   "outputs": [
    {
     "data": {
      "text/plain": "   Ohio  Texas  California str_\na     0      1           2  efg",
      "text/html": "<div>\n<style scoped>\n    .dataframe tbody tr th:only-of-type {\n        vertical-align: middle;\n    }\n\n    .dataframe tbody tr th {\n        vertical-align: top;\n    }\n\n    .dataframe thead th {\n        text-align: right;\n    }\n</style>\n<table border=\"1\" class=\"dataframe\">\n  <thead>\n    <tr style=\"text-align: right;\">\n      <th></th>\n      <th>Ohio</th>\n      <th>Texas</th>\n      <th>California</th>\n      <th>str_</th>\n    </tr>\n  </thead>\n  <tbody>\n    <tr>\n      <th>a</th>\n      <td>0</td>\n      <td>1</td>\n      <td>2</td>\n      <td>efg</td>\n    </tr>\n  </tbody>\n</table>\n</div>"
     },
     "execution_count": 9,
     "metadata": {},
     "output_type": "execute_result"
    }
   ],
   "source": [
    "# 这时候可以使用lambda表达式和apply\n",
    "\n",
    "frame[frame['str_'].apply(\n",
    "    lambda x: 'ef' in x\n",
    ")]"
   ],
   "metadata": {
    "collapsed": false,
    "pycharm": {
     "name": "#%%\n"
    }
   }
  },
  {
   "cell_type": "code",
   "execution_count": 10,
   "outputs": [
    {
     "data": {
      "text/plain": "   Ohio  Texas  California str_\na     0      1           2  efg",
      "text/html": "<div>\n<style scoped>\n    .dataframe tbody tr th:only-of-type {\n        vertical-align: middle;\n    }\n\n    .dataframe tbody tr th {\n        vertical-align: top;\n    }\n\n    .dataframe thead th {\n        text-align: right;\n    }\n</style>\n<table border=\"1\" class=\"dataframe\">\n  <thead>\n    <tr style=\"text-align: right;\">\n      <th></th>\n      <th>Ohio</th>\n      <th>Texas</th>\n      <th>California</th>\n      <th>str_</th>\n    </tr>\n  </thead>\n  <tbody>\n    <tr>\n      <th>a</th>\n      <td>0</td>\n      <td>1</td>\n      <td>2</td>\n      <td>efg</td>\n    </tr>\n  </tbody>\n</table>\n</div>"
     },
     "execution_count": 10,
     "metadata": {},
     "output_type": "execute_result"
    }
   ],
   "source": [
    "frame[frame.apply(\n",
    "    lambda x: 'ef' in x['str_'],\n",
    "    axis=1\n",
    ")]"
   ],
   "metadata": {
    "collapsed": false,
    "pycharm": {
     "name": "#%%\n"
    }
   }
  },
  {
   "cell_type": "markdown",
   "source": [
    "## 采样\n",
    "sample方法"
   ],
   "metadata": {
    "collapsed": false,
    "pycharm": {
     "name": "#%% md\n"
    }
   }
  },
  {
   "cell_type": "code",
   "execution_count": 11,
   "outputs": [
    {
     "data": {
      "text/plain": "          0         1         2         3         4         5         6   \\\n0   0.230603  0.834597  0.342913  0.031295  0.180457 -0.234097 -2.424245   \n1   0.163401  1.090600  0.334230  0.535558 -0.707782 -0.369553 -0.946494   \n2  -0.807238 -0.717824  1.098300  0.068557  0.132801  0.779544 -0.491930   \n3  -1.221739  0.935772  0.200589  1.420446  0.053898 -0.709178  0.784342   \n4   0.955098  0.765991 -0.586287  0.144951  0.256791 -0.211577  0.554379   \n..       ...       ...       ...       ...       ...       ...       ...   \n95  0.167286  0.099322 -0.551905  0.442787 -0.544264 -0.635809 -0.798185   \n96 -0.304781  0.003339 -0.124213  0.222890 -0.918438 -0.676177 -0.609575   \n97 -0.351984  0.786169  2.314066 -0.921971 -0.166078  0.804020 -1.330246   \n98  1.279924  1.139237  0.146228 -0.648773 -1.612138 -1.264511 -0.681285   \n99  1.342118  0.677055 -0.639745 -0.954846  0.735236 -0.445912  0.662663   \n\n          7         8         9   ...        90        91        92        93  \\\n0  -0.657908 -0.783054 -0.306815  ... -0.270778  1.819665  0.552151  1.835066   \n1   1.520891  0.160030  0.575480  ...  0.146462 -0.481962  0.063384 -0.739888   \n2  -0.417676  1.237036 -1.073530  ...  0.473836  0.188107  1.160275  0.691953   \n3   2.353937  0.986430  0.366745  ... -0.432109 -0.026906 -0.511103  0.845383   \n4   1.369737  0.112440  0.210745  ... -0.550071 -0.763420 -0.595302  0.071002   \n..       ...       ...       ...  ...       ...       ...       ...       ...   \n95 -1.799258  0.059399  0.295239  ... -0.158882 -0.777087 -0.177983 -1.486383   \n96 -1.556721  0.655440  0.699931  ... -1.728426  0.975492  1.924767  2.342392   \n97  0.614154  0.258918 -0.987874  ... -0.264947 -0.391517 -0.444901 -1.201416   \n98  1.627361 -0.593920 -0.736226  ... -1.889776 -1.790556  1.080232 -0.848579   \n99  0.905020  0.738582 -1.471868  ...  1.627879  0.175337 -0.475043 -0.472035   \n\n          94        95        96        97        98        99  \n0   0.081447  0.528402  0.706339 -0.278140 -0.550446 -0.052469  \n1  -1.468405  1.082837  0.946369 -0.629116  0.132687  1.799955  \n2   0.057411 -0.527350  0.227627  0.929897  0.681418 -0.841656  \n3   0.392055 -0.342742 -1.562208  0.472756  0.290593  0.835939  \n4   0.003833  2.282112  0.440409  1.198650  0.325687  0.025607  \n..       ...       ...       ...       ...       ...       ...  \n95 -0.696964 -1.279347  1.764195  0.450988  1.241676 -0.111374  \n96 -1.438476  0.795660  0.039168 -0.755796 -1.505568 -1.375809  \n97 -1.614696  0.036384 -0.960932  0.158721  0.304547  0.042700  \n98 -0.470515 -0.185066  1.671600 -0.471696  0.224416 -0.183031  \n99  1.758631  0.162996 -0.158254  0.818579 -2.175423 -0.906088  \n\n[100 rows x 100 columns]",
      "text/html": "<div>\n<style scoped>\n    .dataframe tbody tr th:only-of-type {\n        vertical-align: middle;\n    }\n\n    .dataframe tbody tr th {\n        vertical-align: top;\n    }\n\n    .dataframe thead th {\n        text-align: right;\n    }\n</style>\n<table border=\"1\" class=\"dataframe\">\n  <thead>\n    <tr style=\"text-align: right;\">\n      <th></th>\n      <th>0</th>\n      <th>1</th>\n      <th>2</th>\n      <th>3</th>\n      <th>4</th>\n      <th>5</th>\n      <th>6</th>\n      <th>7</th>\n      <th>8</th>\n      <th>9</th>\n      <th>...</th>\n      <th>90</th>\n      <th>91</th>\n      <th>92</th>\n      <th>93</th>\n      <th>94</th>\n      <th>95</th>\n      <th>96</th>\n      <th>97</th>\n      <th>98</th>\n      <th>99</th>\n    </tr>\n  </thead>\n  <tbody>\n    <tr>\n      <th>0</th>\n      <td>0.230603</td>\n      <td>0.834597</td>\n      <td>0.342913</td>\n      <td>0.031295</td>\n      <td>0.180457</td>\n      <td>-0.234097</td>\n      <td>-2.424245</td>\n      <td>-0.657908</td>\n      <td>-0.783054</td>\n      <td>-0.306815</td>\n      <td>...</td>\n      <td>-0.270778</td>\n      <td>1.819665</td>\n      <td>0.552151</td>\n      <td>1.835066</td>\n      <td>0.081447</td>\n      <td>0.528402</td>\n      <td>0.706339</td>\n      <td>-0.278140</td>\n      <td>-0.550446</td>\n      <td>-0.052469</td>\n    </tr>\n    <tr>\n      <th>1</th>\n      <td>0.163401</td>\n      <td>1.090600</td>\n      <td>0.334230</td>\n      <td>0.535558</td>\n      <td>-0.707782</td>\n      <td>-0.369553</td>\n      <td>-0.946494</td>\n      <td>1.520891</td>\n      <td>0.160030</td>\n      <td>0.575480</td>\n      <td>...</td>\n      <td>0.146462</td>\n      <td>-0.481962</td>\n      <td>0.063384</td>\n      <td>-0.739888</td>\n      <td>-1.468405</td>\n      <td>1.082837</td>\n      <td>0.946369</td>\n      <td>-0.629116</td>\n      <td>0.132687</td>\n      <td>1.799955</td>\n    </tr>\n    <tr>\n      <th>2</th>\n      <td>-0.807238</td>\n      <td>-0.717824</td>\n      <td>1.098300</td>\n      <td>0.068557</td>\n      <td>0.132801</td>\n      <td>0.779544</td>\n      <td>-0.491930</td>\n      <td>-0.417676</td>\n      <td>1.237036</td>\n      <td>-1.073530</td>\n      <td>...</td>\n      <td>0.473836</td>\n      <td>0.188107</td>\n      <td>1.160275</td>\n      <td>0.691953</td>\n      <td>0.057411</td>\n      <td>-0.527350</td>\n      <td>0.227627</td>\n      <td>0.929897</td>\n      <td>0.681418</td>\n      <td>-0.841656</td>\n    </tr>\n    <tr>\n      <th>3</th>\n      <td>-1.221739</td>\n      <td>0.935772</td>\n      <td>0.200589</td>\n      <td>1.420446</td>\n      <td>0.053898</td>\n      <td>-0.709178</td>\n      <td>0.784342</td>\n      <td>2.353937</td>\n      <td>0.986430</td>\n      <td>0.366745</td>\n      <td>...</td>\n      <td>-0.432109</td>\n      <td>-0.026906</td>\n      <td>-0.511103</td>\n      <td>0.845383</td>\n      <td>0.392055</td>\n      <td>-0.342742</td>\n      <td>-1.562208</td>\n      <td>0.472756</td>\n      <td>0.290593</td>\n      <td>0.835939</td>\n    </tr>\n    <tr>\n      <th>4</th>\n      <td>0.955098</td>\n      <td>0.765991</td>\n      <td>-0.586287</td>\n      <td>0.144951</td>\n      <td>0.256791</td>\n      <td>-0.211577</td>\n      <td>0.554379</td>\n      <td>1.369737</td>\n      <td>0.112440</td>\n      <td>0.210745</td>\n      <td>...</td>\n      <td>-0.550071</td>\n      <td>-0.763420</td>\n      <td>-0.595302</td>\n      <td>0.071002</td>\n      <td>0.003833</td>\n      <td>2.282112</td>\n      <td>0.440409</td>\n      <td>1.198650</td>\n      <td>0.325687</td>\n      <td>0.025607</td>\n    </tr>\n    <tr>\n      <th>...</th>\n      <td>...</td>\n      <td>...</td>\n      <td>...</td>\n      <td>...</td>\n      <td>...</td>\n      <td>...</td>\n      <td>...</td>\n      <td>...</td>\n      <td>...</td>\n      <td>...</td>\n      <td>...</td>\n      <td>...</td>\n      <td>...</td>\n      <td>...</td>\n      <td>...</td>\n      <td>...</td>\n      <td>...</td>\n      <td>...</td>\n      <td>...</td>\n      <td>...</td>\n      <td>...</td>\n    </tr>\n    <tr>\n      <th>95</th>\n      <td>0.167286</td>\n      <td>0.099322</td>\n      <td>-0.551905</td>\n      <td>0.442787</td>\n      <td>-0.544264</td>\n      <td>-0.635809</td>\n      <td>-0.798185</td>\n      <td>-1.799258</td>\n      <td>0.059399</td>\n      <td>0.295239</td>\n      <td>...</td>\n      <td>-0.158882</td>\n      <td>-0.777087</td>\n      <td>-0.177983</td>\n      <td>-1.486383</td>\n      <td>-0.696964</td>\n      <td>-1.279347</td>\n      <td>1.764195</td>\n      <td>0.450988</td>\n      <td>1.241676</td>\n      <td>-0.111374</td>\n    </tr>\n    <tr>\n      <th>96</th>\n      <td>-0.304781</td>\n      <td>0.003339</td>\n      <td>-0.124213</td>\n      <td>0.222890</td>\n      <td>-0.918438</td>\n      <td>-0.676177</td>\n      <td>-0.609575</td>\n      <td>-1.556721</td>\n      <td>0.655440</td>\n      <td>0.699931</td>\n      <td>...</td>\n      <td>-1.728426</td>\n      <td>0.975492</td>\n      <td>1.924767</td>\n      <td>2.342392</td>\n      <td>-1.438476</td>\n      <td>0.795660</td>\n      <td>0.039168</td>\n      <td>-0.755796</td>\n      <td>-1.505568</td>\n      <td>-1.375809</td>\n    </tr>\n    <tr>\n      <th>97</th>\n      <td>-0.351984</td>\n      <td>0.786169</td>\n      <td>2.314066</td>\n      <td>-0.921971</td>\n      <td>-0.166078</td>\n      <td>0.804020</td>\n      <td>-1.330246</td>\n      <td>0.614154</td>\n      <td>0.258918</td>\n      <td>-0.987874</td>\n      <td>...</td>\n      <td>-0.264947</td>\n      <td>-0.391517</td>\n      <td>-0.444901</td>\n      <td>-1.201416</td>\n      <td>-1.614696</td>\n      <td>0.036384</td>\n      <td>-0.960932</td>\n      <td>0.158721</td>\n      <td>0.304547</td>\n      <td>0.042700</td>\n    </tr>\n    <tr>\n      <th>98</th>\n      <td>1.279924</td>\n      <td>1.139237</td>\n      <td>0.146228</td>\n      <td>-0.648773</td>\n      <td>-1.612138</td>\n      <td>-1.264511</td>\n      <td>-0.681285</td>\n      <td>1.627361</td>\n      <td>-0.593920</td>\n      <td>-0.736226</td>\n      <td>...</td>\n      <td>-1.889776</td>\n      <td>-1.790556</td>\n      <td>1.080232</td>\n      <td>-0.848579</td>\n      <td>-0.470515</td>\n      <td>-0.185066</td>\n      <td>1.671600</td>\n      <td>-0.471696</td>\n      <td>0.224416</td>\n      <td>-0.183031</td>\n    </tr>\n    <tr>\n      <th>99</th>\n      <td>1.342118</td>\n      <td>0.677055</td>\n      <td>-0.639745</td>\n      <td>-0.954846</td>\n      <td>0.735236</td>\n      <td>-0.445912</td>\n      <td>0.662663</td>\n      <td>0.905020</td>\n      <td>0.738582</td>\n      <td>-1.471868</td>\n      <td>...</td>\n      <td>1.627879</td>\n      <td>0.175337</td>\n      <td>-0.475043</td>\n      <td>-0.472035</td>\n      <td>1.758631</td>\n      <td>0.162996</td>\n      <td>-0.158254</td>\n      <td>0.818579</td>\n      <td>-2.175423</td>\n      <td>-0.906088</td>\n    </tr>\n  </tbody>\n</table>\n<p>100 rows × 100 columns</p>\n</div>"
     },
     "execution_count": 11,
     "metadata": {},
     "output_type": "execute_result"
    }
   ],
   "source": [
    "number_df = pd.DataFrame(np.random.randn(100,100))\n",
    "number_df"
   ],
   "metadata": {
    "collapsed": false,
    "pycharm": {
     "name": "#%%\n"
    }
   }
  },
  {
   "cell_type": "code",
   "execution_count": 12,
   "outputs": [
    {
     "data": {
      "text/plain": "          0         1         2         3         4         5         6   \\\n37  0.213867 -0.975121 -1.022436 -0.581143 -0.198402 -0.262624  0.635392   \n87  0.508701  1.072521 -0.082557 -1.568178  0.145693 -0.408259 -1.927558   \n17 -0.419487  0.172825  1.518319  0.557477  0.918224  1.043988 -0.719260   \n80  0.485315 -0.405395  0.000910 -0.272468  0.007203  0.347218  0.260274   \n88 -0.628511 -1.435894  0.931709 -0.908225  2.111969 -0.939904  0.840360   \n39 -1.278316  0.513887  2.023497 -0.770144 -2.157327  1.331252 -0.347183   \n74  0.535268  0.019566 -0.845953 -0.534064  1.638032 -0.790555 -0.275041   \n25  1.555453  0.201739  0.904958  0.189858 -0.259943 -1.470249 -0.198523   \n67 -0.166189 -0.771674  2.343186  0.322057  1.174963  0.550073 -0.773507   \n16  0.175526  0.974333 -0.239212  0.546250  1.728483 -1.585161  0.341454   \n\n          7         8         9   ...        90        91        92        93  \\\n37 -2.100124 -0.054843 -0.124142  ... -0.448808  0.902449 -0.688617 -0.307368   \n87 -1.264961 -0.399815 -0.604275  ...  0.416521 -0.897192  0.427035 -0.249143   \n17 -0.186141 -0.599051  0.248722  ...  0.912194  0.770220  0.870718 -0.051336   \n80  0.253453 -1.343802 -0.895530  ...  1.497272 -0.217252 -2.957755 -0.606792   \n88 -0.752054 -0.168032 -2.268546  ...  0.696944 -0.333654  1.813297  1.026505   \n39  0.535910  0.478922  0.836008  ... -0.174698  0.784491 -0.430512  1.697471   \n74 -1.348774 -0.892939  0.693390  ... -1.861705  0.096005  0.718978  0.489483   \n25 -0.700161 -0.116382  1.312323  ... -0.411346  0.900738 -0.139835 -1.454068   \n67  0.726758 -0.046104 -0.769975  ...  0.104612 -0.902517  0.830230 -0.578186   \n16 -0.329175  1.796325 -0.715293  ... -1.029369  0.707166 -0.506514 -0.315766   \n\n          94        95        96        97        98        99  \n37 -0.504129  0.692339  0.586088  0.791444  1.329516  0.381979  \n87 -0.771870 -0.576288  0.111073 -1.632290  0.364362  2.949002  \n17  0.388183 -0.713841  0.400403  0.705006  0.798790  0.795328  \n80 -0.117288  0.461339 -1.137657  1.214248 -0.136968  1.365431  \n88  0.547482  0.754678  2.446868 -0.733116 -0.062919  0.197370  \n39  0.838463 -0.599331  0.479955  0.319820 -0.128433  0.686190  \n74 -0.459586  1.503589 -0.162812 -0.524446 -1.768958 -0.423128  \n25  0.504108  1.130785 -0.573027  0.090214 -0.965501  0.343897  \n67  1.147136  0.505680 -0.354200 -0.159909 -1.500922 -1.791022  \n16 -0.202183  2.416330  1.103970  1.710554  0.488228 -0.630132  \n\n[10 rows x 100 columns]",
      "text/html": "<div>\n<style scoped>\n    .dataframe tbody tr th:only-of-type {\n        vertical-align: middle;\n    }\n\n    .dataframe tbody tr th {\n        vertical-align: top;\n    }\n\n    .dataframe thead th {\n        text-align: right;\n    }\n</style>\n<table border=\"1\" class=\"dataframe\">\n  <thead>\n    <tr style=\"text-align: right;\">\n      <th></th>\n      <th>0</th>\n      <th>1</th>\n      <th>2</th>\n      <th>3</th>\n      <th>4</th>\n      <th>5</th>\n      <th>6</th>\n      <th>7</th>\n      <th>8</th>\n      <th>9</th>\n      <th>...</th>\n      <th>90</th>\n      <th>91</th>\n      <th>92</th>\n      <th>93</th>\n      <th>94</th>\n      <th>95</th>\n      <th>96</th>\n      <th>97</th>\n      <th>98</th>\n      <th>99</th>\n    </tr>\n  </thead>\n  <tbody>\n    <tr>\n      <th>37</th>\n      <td>0.213867</td>\n      <td>-0.975121</td>\n      <td>-1.022436</td>\n      <td>-0.581143</td>\n      <td>-0.198402</td>\n      <td>-0.262624</td>\n      <td>0.635392</td>\n      <td>-2.100124</td>\n      <td>-0.054843</td>\n      <td>-0.124142</td>\n      <td>...</td>\n      <td>-0.448808</td>\n      <td>0.902449</td>\n      <td>-0.688617</td>\n      <td>-0.307368</td>\n      <td>-0.504129</td>\n      <td>0.692339</td>\n      <td>0.586088</td>\n      <td>0.791444</td>\n      <td>1.329516</td>\n      <td>0.381979</td>\n    </tr>\n    <tr>\n      <th>87</th>\n      <td>0.508701</td>\n      <td>1.072521</td>\n      <td>-0.082557</td>\n      <td>-1.568178</td>\n      <td>0.145693</td>\n      <td>-0.408259</td>\n      <td>-1.927558</td>\n      <td>-1.264961</td>\n      <td>-0.399815</td>\n      <td>-0.604275</td>\n      <td>...</td>\n      <td>0.416521</td>\n      <td>-0.897192</td>\n      <td>0.427035</td>\n      <td>-0.249143</td>\n      <td>-0.771870</td>\n      <td>-0.576288</td>\n      <td>0.111073</td>\n      <td>-1.632290</td>\n      <td>0.364362</td>\n      <td>2.949002</td>\n    </tr>\n    <tr>\n      <th>17</th>\n      <td>-0.419487</td>\n      <td>0.172825</td>\n      <td>1.518319</td>\n      <td>0.557477</td>\n      <td>0.918224</td>\n      <td>1.043988</td>\n      <td>-0.719260</td>\n      <td>-0.186141</td>\n      <td>-0.599051</td>\n      <td>0.248722</td>\n      <td>...</td>\n      <td>0.912194</td>\n      <td>0.770220</td>\n      <td>0.870718</td>\n      <td>-0.051336</td>\n      <td>0.388183</td>\n      <td>-0.713841</td>\n      <td>0.400403</td>\n      <td>0.705006</td>\n      <td>0.798790</td>\n      <td>0.795328</td>\n    </tr>\n    <tr>\n      <th>80</th>\n      <td>0.485315</td>\n      <td>-0.405395</td>\n      <td>0.000910</td>\n      <td>-0.272468</td>\n      <td>0.007203</td>\n      <td>0.347218</td>\n      <td>0.260274</td>\n      <td>0.253453</td>\n      <td>-1.343802</td>\n      <td>-0.895530</td>\n      <td>...</td>\n      <td>1.497272</td>\n      <td>-0.217252</td>\n      <td>-2.957755</td>\n      <td>-0.606792</td>\n      <td>-0.117288</td>\n      <td>0.461339</td>\n      <td>-1.137657</td>\n      <td>1.214248</td>\n      <td>-0.136968</td>\n      <td>1.365431</td>\n    </tr>\n    <tr>\n      <th>88</th>\n      <td>-0.628511</td>\n      <td>-1.435894</td>\n      <td>0.931709</td>\n      <td>-0.908225</td>\n      <td>2.111969</td>\n      <td>-0.939904</td>\n      <td>0.840360</td>\n      <td>-0.752054</td>\n      <td>-0.168032</td>\n      <td>-2.268546</td>\n      <td>...</td>\n      <td>0.696944</td>\n      <td>-0.333654</td>\n      <td>1.813297</td>\n      <td>1.026505</td>\n      <td>0.547482</td>\n      <td>0.754678</td>\n      <td>2.446868</td>\n      <td>-0.733116</td>\n      <td>-0.062919</td>\n      <td>0.197370</td>\n    </tr>\n    <tr>\n      <th>39</th>\n      <td>-1.278316</td>\n      <td>0.513887</td>\n      <td>2.023497</td>\n      <td>-0.770144</td>\n      <td>-2.157327</td>\n      <td>1.331252</td>\n      <td>-0.347183</td>\n      <td>0.535910</td>\n      <td>0.478922</td>\n      <td>0.836008</td>\n      <td>...</td>\n      <td>-0.174698</td>\n      <td>0.784491</td>\n      <td>-0.430512</td>\n      <td>1.697471</td>\n      <td>0.838463</td>\n      <td>-0.599331</td>\n      <td>0.479955</td>\n      <td>0.319820</td>\n      <td>-0.128433</td>\n      <td>0.686190</td>\n    </tr>\n    <tr>\n      <th>74</th>\n      <td>0.535268</td>\n      <td>0.019566</td>\n      <td>-0.845953</td>\n      <td>-0.534064</td>\n      <td>1.638032</td>\n      <td>-0.790555</td>\n      <td>-0.275041</td>\n      <td>-1.348774</td>\n      <td>-0.892939</td>\n      <td>0.693390</td>\n      <td>...</td>\n      <td>-1.861705</td>\n      <td>0.096005</td>\n      <td>0.718978</td>\n      <td>0.489483</td>\n      <td>-0.459586</td>\n      <td>1.503589</td>\n      <td>-0.162812</td>\n      <td>-0.524446</td>\n      <td>-1.768958</td>\n      <td>-0.423128</td>\n    </tr>\n    <tr>\n      <th>25</th>\n      <td>1.555453</td>\n      <td>0.201739</td>\n      <td>0.904958</td>\n      <td>0.189858</td>\n      <td>-0.259943</td>\n      <td>-1.470249</td>\n      <td>-0.198523</td>\n      <td>-0.700161</td>\n      <td>-0.116382</td>\n      <td>1.312323</td>\n      <td>...</td>\n      <td>-0.411346</td>\n      <td>0.900738</td>\n      <td>-0.139835</td>\n      <td>-1.454068</td>\n      <td>0.504108</td>\n      <td>1.130785</td>\n      <td>-0.573027</td>\n      <td>0.090214</td>\n      <td>-0.965501</td>\n      <td>0.343897</td>\n    </tr>\n    <tr>\n      <th>67</th>\n      <td>-0.166189</td>\n      <td>-0.771674</td>\n      <td>2.343186</td>\n      <td>0.322057</td>\n      <td>1.174963</td>\n      <td>0.550073</td>\n      <td>-0.773507</td>\n      <td>0.726758</td>\n      <td>-0.046104</td>\n      <td>-0.769975</td>\n      <td>...</td>\n      <td>0.104612</td>\n      <td>-0.902517</td>\n      <td>0.830230</td>\n      <td>-0.578186</td>\n      <td>1.147136</td>\n      <td>0.505680</td>\n      <td>-0.354200</td>\n      <td>-0.159909</td>\n      <td>-1.500922</td>\n      <td>-1.791022</td>\n    </tr>\n    <tr>\n      <th>16</th>\n      <td>0.175526</td>\n      <td>0.974333</td>\n      <td>-0.239212</td>\n      <td>0.546250</td>\n      <td>1.728483</td>\n      <td>-1.585161</td>\n      <td>0.341454</td>\n      <td>-0.329175</td>\n      <td>1.796325</td>\n      <td>-0.715293</td>\n      <td>...</td>\n      <td>-1.029369</td>\n      <td>0.707166</td>\n      <td>-0.506514</td>\n      <td>-0.315766</td>\n      <td>-0.202183</td>\n      <td>2.416330</td>\n      <td>1.103970</td>\n      <td>1.710554</td>\n      <td>0.488228</td>\n      <td>-0.630132</td>\n    </tr>\n  </tbody>\n</table>\n<p>10 rows × 100 columns</p>\n</div>"
     },
     "execution_count": 12,
     "metadata": {},
     "output_type": "execute_result"
    }
   ],
   "source": [
    "# 如果要随机对DataFrame进行采样 使用sample方法\n",
    "number_df.sample(frac=0.1, axis=0)"
   ],
   "metadata": {
    "collapsed": false,
    "pycharm": {
     "name": "#%%\n"
    }
   }
  },
  {
   "cell_type": "code",
   "execution_count": 13,
   "outputs": [
    {
     "data": {
      "text/plain": "          98        97        67        42        81        61        38  \\\n0  -0.550446 -0.278140 -0.373093 -1.364747 -0.055888  0.354707 -0.053080   \n1   0.132687 -0.629116 -0.267959  2.622948 -0.981975  0.000471  1.152590   \n2   0.681418  0.929897  0.245252  0.194809  0.255818 -0.019940 -0.774081   \n3   0.290593  0.472756  0.230131 -0.173300  1.025948  1.302172  0.689763   \n4   0.325687  1.198650 -1.021078 -0.904119 -0.440217 -1.077617 -0.899320   \n..       ...       ...       ...       ...       ...       ...       ...   \n95  1.241676  0.450988 -0.746286  0.430313 -0.629720 -0.899647  1.133420   \n96 -1.505568 -0.755796  0.791250 -0.574320  0.453976  1.197835 -0.119270   \n97  0.304547  0.158721 -0.253157  0.983700 -0.943887  1.285406 -1.735964   \n98  0.224416 -0.471696  0.329887 -0.932034  0.825478  0.376310 -1.373260   \n99 -2.175423  0.818579  0.790084  1.373847 -0.182328  0.117650 -0.848133   \n\n          70        72        74  \n0   0.350260 -0.786006 -0.517959  \n1  -0.264254 -0.680803  0.886198  \n2   0.757336  1.361084 -1.278708  \n3  -0.891532 -1.049288  0.322351  \n4   0.187257 -0.406594 -1.419121  \n..       ...       ...       ...  \n95 -0.939252  0.093644 -1.522321  \n96 -0.626947  0.074072 -0.105102  \n97 -0.706325 -0.219474  0.506533  \n98 -1.079513  0.263175 -1.069784  \n99 -0.548560  2.121396  0.098206  \n\n[100 rows x 10 columns]",
      "text/html": "<div>\n<style scoped>\n    .dataframe tbody tr th:only-of-type {\n        vertical-align: middle;\n    }\n\n    .dataframe tbody tr th {\n        vertical-align: top;\n    }\n\n    .dataframe thead th {\n        text-align: right;\n    }\n</style>\n<table border=\"1\" class=\"dataframe\">\n  <thead>\n    <tr style=\"text-align: right;\">\n      <th></th>\n      <th>98</th>\n      <th>97</th>\n      <th>67</th>\n      <th>42</th>\n      <th>81</th>\n      <th>61</th>\n      <th>38</th>\n      <th>70</th>\n      <th>72</th>\n      <th>74</th>\n    </tr>\n  </thead>\n  <tbody>\n    <tr>\n      <th>0</th>\n      <td>-0.550446</td>\n      <td>-0.278140</td>\n      <td>-0.373093</td>\n      <td>-1.364747</td>\n      <td>-0.055888</td>\n      <td>0.354707</td>\n      <td>-0.053080</td>\n      <td>0.350260</td>\n      <td>-0.786006</td>\n      <td>-0.517959</td>\n    </tr>\n    <tr>\n      <th>1</th>\n      <td>0.132687</td>\n      <td>-0.629116</td>\n      <td>-0.267959</td>\n      <td>2.622948</td>\n      <td>-0.981975</td>\n      <td>0.000471</td>\n      <td>1.152590</td>\n      <td>-0.264254</td>\n      <td>-0.680803</td>\n      <td>0.886198</td>\n    </tr>\n    <tr>\n      <th>2</th>\n      <td>0.681418</td>\n      <td>0.929897</td>\n      <td>0.245252</td>\n      <td>0.194809</td>\n      <td>0.255818</td>\n      <td>-0.019940</td>\n      <td>-0.774081</td>\n      <td>0.757336</td>\n      <td>1.361084</td>\n      <td>-1.278708</td>\n    </tr>\n    <tr>\n      <th>3</th>\n      <td>0.290593</td>\n      <td>0.472756</td>\n      <td>0.230131</td>\n      <td>-0.173300</td>\n      <td>1.025948</td>\n      <td>1.302172</td>\n      <td>0.689763</td>\n      <td>-0.891532</td>\n      <td>-1.049288</td>\n      <td>0.322351</td>\n    </tr>\n    <tr>\n      <th>4</th>\n      <td>0.325687</td>\n      <td>1.198650</td>\n      <td>-1.021078</td>\n      <td>-0.904119</td>\n      <td>-0.440217</td>\n      <td>-1.077617</td>\n      <td>-0.899320</td>\n      <td>0.187257</td>\n      <td>-0.406594</td>\n      <td>-1.419121</td>\n    </tr>\n    <tr>\n      <th>...</th>\n      <td>...</td>\n      <td>...</td>\n      <td>...</td>\n      <td>...</td>\n      <td>...</td>\n      <td>...</td>\n      <td>...</td>\n      <td>...</td>\n      <td>...</td>\n      <td>...</td>\n    </tr>\n    <tr>\n      <th>95</th>\n      <td>1.241676</td>\n      <td>0.450988</td>\n      <td>-0.746286</td>\n      <td>0.430313</td>\n      <td>-0.629720</td>\n      <td>-0.899647</td>\n      <td>1.133420</td>\n      <td>-0.939252</td>\n      <td>0.093644</td>\n      <td>-1.522321</td>\n    </tr>\n    <tr>\n      <th>96</th>\n      <td>-1.505568</td>\n      <td>-0.755796</td>\n      <td>0.791250</td>\n      <td>-0.574320</td>\n      <td>0.453976</td>\n      <td>1.197835</td>\n      <td>-0.119270</td>\n      <td>-0.626947</td>\n      <td>0.074072</td>\n      <td>-0.105102</td>\n    </tr>\n    <tr>\n      <th>97</th>\n      <td>0.304547</td>\n      <td>0.158721</td>\n      <td>-0.253157</td>\n      <td>0.983700</td>\n      <td>-0.943887</td>\n      <td>1.285406</td>\n      <td>-1.735964</td>\n      <td>-0.706325</td>\n      <td>-0.219474</td>\n      <td>0.506533</td>\n    </tr>\n    <tr>\n      <th>98</th>\n      <td>0.224416</td>\n      <td>-0.471696</td>\n      <td>0.329887</td>\n      <td>-0.932034</td>\n      <td>0.825478</td>\n      <td>0.376310</td>\n      <td>-1.373260</td>\n      <td>-1.079513</td>\n      <td>0.263175</td>\n      <td>-1.069784</td>\n    </tr>\n    <tr>\n      <th>99</th>\n      <td>-2.175423</td>\n      <td>0.818579</td>\n      <td>0.790084</td>\n      <td>1.373847</td>\n      <td>-0.182328</td>\n      <td>0.117650</td>\n      <td>-0.848133</td>\n      <td>-0.548560</td>\n      <td>2.121396</td>\n      <td>0.098206</td>\n    </tr>\n  </tbody>\n</table>\n<p>100 rows × 10 columns</p>\n</div>"
     },
     "execution_count": 13,
     "metadata": {},
     "output_type": "execute_result"
    }
   ],
   "source": [
    "number_df.sample(frac=0.1, axis=1)"
   ],
   "metadata": {
    "collapsed": false,
    "pycharm": {
     "name": "#%%\n"
    }
   }
  },
  {
   "cell_type": "markdown",
   "source": [
    "## 分享\n",
    "1. 固定分箱 设定bins\n",
    "2. 自适应分箱 qcut"
   ],
   "metadata": {
    "collapsed": false,
    "pycharm": {
     "name": "#%% md\n"
    }
   }
  },
  {
   "cell_type": "code",
   "execution_count": 14,
   "outputs": [
    {
     "data": {
      "text/plain": "[(18, 25], (18, 25], (18, 25], (25, 35], (18, 25], ..., (25, 35], (60, 100], (35, 60], (35, 60], (25, 35]]\nLength: 12\nCategories (4, interval[int64]): [(18, 25] < (25, 35] < (35, 60] < (60, 100]]"
     },
     "execution_count": 14,
     "metadata": {},
     "output_type": "execute_result"
    }
   ],
   "source": [
    "ages = [20,22,25,27,21,23,37,31,61,45,41,32]\n",
    "#将离散值进行更加离散化，即区间化\n",
    "bins = [18,25,35,60,100]\n",
    "cat = pd.cut(ages,bins)\n",
    "cat"
   ],
   "metadata": {
    "collapsed": false,
    "pycharm": {
     "name": "#%%\n"
    }
   }
  },
  {
   "cell_type": "code",
   "execution_count": 15,
   "outputs": [
    {
     "name": "stdout",
     "output_type": "stream",
     "text": [
      "code:  [0 0 0 1 0 0 2 1 3 2 2 1]\n",
      "category:  IntervalIndex([(18, 25], (25, 35], (35, 60], (60, 100]],\n",
      "              closed='right',\n",
      "              dtype='interval[int64]')\n"
     ]
    }
   ],
   "source": [
    "# codes属性可以获得对应的分类值\n",
    "print('code: ', cat.codes)\n",
    "# category属性可以获得区间情况\n",
    "print('category: ',cat.categories)"
   ],
   "metadata": {
    "collapsed": false,
    "pycharm": {
     "name": "#%%\n"
    }
   }
  },
  {
   "cell_type": "code",
   "execution_count": 16,
   "outputs": [
    {
     "data": {
      "text/plain": "[(0.783, 0.961], (0.248, 0.426], (0.783, 0.961], (0.783, 0.961], (0.604, 0.783], ..., (0.604, 0.783], (0.0684, 0.248], (0.0684, 0.248], (0.604, 0.783], (0.426, 0.604]]\nLength: 20\nCategories (5, interval[float64]): [(0.0684, 0.248] < (0.248, 0.426] < (0.426, 0.604] < (0.604, 0.783] < (0.783, 0.961]]"
     },
     "execution_count": 16,
     "metadata": {},
     "output_type": "execute_result"
    }
   ],
   "source": [
    "data_bins = np.random.rand(20)\n",
    "\n",
    "pd.cut(data_bins, 5)\n",
    "# 如果仅提供分箱个数 那么就会按照最大最小值菊粉"
   ],
   "metadata": {
    "collapsed": false,
    "pycharm": {
     "name": "#%%\n"
    }
   }
  },
  {
   "cell_type": "code",
   "execution_count": 17,
   "outputs": [
    {
     "data": {
      "text/plain": "(18, 25]     5\n(25, 35]     3\n(35, 60]     3\n(60, 100]    1\ndtype: int64"
     },
     "execution_count": 17,
     "metadata": {},
     "output_type": "execute_result"
    }
   ],
   "source": [
    "# 使用value_counts方法可以对分箱个数进行统计 (就可以画直方图了)\n",
    "pd.value_counts(cat)"
   ],
   "metadata": {
    "collapsed": false,
    "pycharm": {
     "name": "#%%\n"
    }
   }
  },
  {
   "cell_type": "code",
   "execution_count": 18,
   "outputs": [
    {
     "data": {
      "text/plain": "   (0.0342, 0.22]  (0.22, 0.405]  (0.405, 0.589]  (0.589, 0.774]  \\\n0               1              0               0               0   \n1               0              0               0               0   \n2               1              0               0               0   \n3               1              0               0               0   \n4               0              0               0               0   \n5               1              0               0               0   \n6               0              1               0               0   \n7               0              0               1               0   \n8               1              0               0               0   \n9               0              0               0               0   \n\n   (0.774, 0.959]  \n0               0  \n1               1  \n2               0  \n3               0  \n4               1  \n5               0  \n6               0  \n7               0  \n8               0  \n9               1  ",
      "text/html": "<div>\n<style scoped>\n    .dataframe tbody tr th:only-of-type {\n        vertical-align: middle;\n    }\n\n    .dataframe tbody tr th {\n        vertical-align: top;\n    }\n\n    .dataframe thead th {\n        text-align: right;\n    }\n</style>\n<table border=\"1\" class=\"dataframe\">\n  <thead>\n    <tr style=\"text-align: right;\">\n      <th></th>\n      <th>(0.0342, 0.22]</th>\n      <th>(0.22, 0.405]</th>\n      <th>(0.405, 0.589]</th>\n      <th>(0.589, 0.774]</th>\n      <th>(0.774, 0.959]</th>\n    </tr>\n  </thead>\n  <tbody>\n    <tr>\n      <th>0</th>\n      <td>1</td>\n      <td>0</td>\n      <td>0</td>\n      <td>0</td>\n      <td>0</td>\n    </tr>\n    <tr>\n      <th>1</th>\n      <td>0</td>\n      <td>0</td>\n      <td>0</td>\n      <td>0</td>\n      <td>1</td>\n    </tr>\n    <tr>\n      <th>2</th>\n      <td>1</td>\n      <td>0</td>\n      <td>0</td>\n      <td>0</td>\n      <td>0</td>\n    </tr>\n    <tr>\n      <th>3</th>\n      <td>1</td>\n      <td>0</td>\n      <td>0</td>\n      <td>0</td>\n      <td>0</td>\n    </tr>\n    <tr>\n      <th>4</th>\n      <td>0</td>\n      <td>0</td>\n      <td>0</td>\n      <td>0</td>\n      <td>1</td>\n    </tr>\n    <tr>\n      <th>5</th>\n      <td>1</td>\n      <td>0</td>\n      <td>0</td>\n      <td>0</td>\n      <td>0</td>\n    </tr>\n    <tr>\n      <th>6</th>\n      <td>0</td>\n      <td>1</td>\n      <td>0</td>\n      <td>0</td>\n      <td>0</td>\n    </tr>\n    <tr>\n      <th>7</th>\n      <td>0</td>\n      <td>0</td>\n      <td>1</td>\n      <td>0</td>\n      <td>0</td>\n    </tr>\n    <tr>\n      <th>8</th>\n      <td>1</td>\n      <td>0</td>\n      <td>0</td>\n      <td>0</td>\n      <td>0</td>\n    </tr>\n    <tr>\n      <th>9</th>\n      <td>0</td>\n      <td>0</td>\n      <td>0</td>\n      <td>0</td>\n      <td>1</td>\n    </tr>\n  </tbody>\n</table>\n</div>"
     },
     "execution_count": 18,
     "metadata": {},
     "output_type": "execute_result"
    }
   ],
   "source": [
    "data_bins2 = np.random.rand(10)\n",
    "# one-hot编码与分箱\n",
    "pd.get_dummies(pd.cut(data_bins2,5))\n",
    "#这样可以对原始数据分箱 并转化为one-hot向量 在对连续数据区间化的过程中很有用"
   ],
   "metadata": {
    "collapsed": false,
    "pycharm": {
     "name": "#%%\n"
    }
   }
  },
  {
   "cell_type": "markdown",
   "source": [
    "## NaN值的处理\n",
    "1. pandas中的na和np.nan不同，甚至np.nan和np.nan的等于判断也是False；\n",
    "2. pd.isna可以判断是否为NaN；\n",
    "3. pd.isna().any()可以判断某列是否有nan\n",
    "4. fillna方法来处理NaN值；"
   ],
   "metadata": {
    "collapsed": false,
    "pycharm": {
     "name": "#%% md\n"
    }
   }
  },
  {
   "cell_type": "code",
   "execution_count": 19,
   "outputs": [],
   "source": [
    "# -------------------------------------------------------\n",
    "# 4.NaN值处理\n",
    "\n",
    "# 在DataFrame中遇到NaN很正常 处理NaN的方法"
   ],
   "metadata": {
    "collapsed": false,
    "pycharm": {
     "name": "#%%\n"
    }
   }
  },
  {
   "cell_type": "code",
   "execution_count": 36,
   "outputs": [
    {
     "data": {
      "text/plain": "          0         1         2         3         4\n0 -0.018293 -1.200357 -0.319466  2.641274  0.828005\n1 -0.666931  1.023409 -1.986883 -0.548731 -0.394851\n2  1.593285 -0.477018 -0.803859 -0.263111  0.119009\n3  0.696954 -1.415269 -0.287635  0.773946 -0.125149\n4 -0.084341  0.953830  0.368894 -0.813979 -0.709605",
      "text/html": "<div>\n<style scoped>\n    .dataframe tbody tr th:only-of-type {\n        vertical-align: middle;\n    }\n\n    .dataframe tbody tr th {\n        vertical-align: top;\n    }\n\n    .dataframe thead th {\n        text-align: right;\n    }\n</style>\n<table border=\"1\" class=\"dataframe\">\n  <thead>\n    <tr style=\"text-align: right;\">\n      <th></th>\n      <th>0</th>\n      <th>1</th>\n      <th>2</th>\n      <th>3</th>\n      <th>4</th>\n    </tr>\n  </thead>\n  <tbody>\n    <tr>\n      <th>0</th>\n      <td>-0.018293</td>\n      <td>-1.200357</td>\n      <td>-0.319466</td>\n      <td>2.641274</td>\n      <td>0.828005</td>\n    </tr>\n    <tr>\n      <th>1</th>\n      <td>-0.666931</td>\n      <td>1.023409</td>\n      <td>-1.986883</td>\n      <td>-0.548731</td>\n      <td>-0.394851</td>\n    </tr>\n    <tr>\n      <th>2</th>\n      <td>1.593285</td>\n      <td>-0.477018</td>\n      <td>-0.803859</td>\n      <td>-0.263111</td>\n      <td>0.119009</td>\n    </tr>\n    <tr>\n      <th>3</th>\n      <td>0.696954</td>\n      <td>-1.415269</td>\n      <td>-0.287635</td>\n      <td>0.773946</td>\n      <td>-0.125149</td>\n    </tr>\n    <tr>\n      <th>4</th>\n      <td>-0.084341</td>\n      <td>0.953830</td>\n      <td>0.368894</td>\n      <td>-0.813979</td>\n      <td>-0.709605</td>\n    </tr>\n  </tbody>\n</table>\n</div>"
     },
     "execution_count": 36,
     "metadata": {},
     "output_type": "execute_result"
    }
   ],
   "source": [
    "test_for_nan = pd.DataFrame(np.random.randn(5,5))\n",
    "test_for_nan"
   ],
   "metadata": {
    "collapsed": false,
    "pycharm": {
     "name": "#%%\n"
    }
   }
  },
  {
   "cell_type": "code",
   "execution_count": 37,
   "outputs": [],
   "source": [
    "test_for_nan.iloc[2][2] = np.nan"
   ],
   "metadata": {
    "collapsed": false,
    "pycharm": {
     "name": "#%%\n"
    }
   }
  },
  {
   "cell_type": "code",
   "execution_count": 33,
   "outputs": [],
   "source": [
    "the_nan = test_for_nan.iloc[2][2]"
   ],
   "metadata": {
    "collapsed": false,
    "pycharm": {
     "name": "#%%\n"
    }
   }
  },
  {
   "cell_type": "code",
   "execution_count": 34,
   "outputs": [
    {
     "name": "stdout",
     "output_type": "stream",
     "text": [
      "False\n"
     ]
    },
    {
     "data": {
      "text/plain": "False"
     },
     "execution_count": 34,
     "metadata": {},
     "output_type": "execute_result"
    }
   ],
   "source": [
    "# 即便是np.nan直接判断也不相同 the_nan 和np,nan自然也不相等\n",
    "print(np.nan == np.nan)\n",
    "the_nan == np.nan"
   ],
   "metadata": {
    "collapsed": false,
    "pycharm": {
     "name": "#%%\n"
    }
   }
  },
  {
   "cell_type": "code",
   "execution_count": 24,
   "outputs": [
    {
     "data": {
      "text/plain": "True"
     },
     "execution_count": 24,
     "metadata": {},
     "output_type": "execute_result"
    }
   ],
   "source": [
    "# 当需要检测时 使用np.isnan\n",
    "np.isnan(the_nan)"
   ],
   "metadata": {
    "collapsed": false,
    "pycharm": {
     "name": "#%%\n"
    }
   }
  },
  {
   "cell_type": "code",
   "execution_count": 38,
   "outputs": [
    {
     "data": {
      "text/plain": "       0      1      2      3      4\n0  False  False  False  False  False\n1  False  False  False  False  False\n2  False  False   True  False  False\n3  False  False  False  False  False\n4  False  False  False  False  False",
      "text/html": "<div>\n<style scoped>\n    .dataframe tbody tr th:only-of-type {\n        vertical-align: middle;\n    }\n\n    .dataframe tbody tr th {\n        vertical-align: top;\n    }\n\n    .dataframe thead th {\n        text-align: right;\n    }\n</style>\n<table border=\"1\" class=\"dataframe\">\n  <thead>\n    <tr style=\"text-align: right;\">\n      <th></th>\n      <th>0</th>\n      <th>1</th>\n      <th>2</th>\n      <th>3</th>\n      <th>4</th>\n    </tr>\n  </thead>\n  <tbody>\n    <tr>\n      <th>0</th>\n      <td>False</td>\n      <td>False</td>\n      <td>False</td>\n      <td>False</td>\n      <td>False</td>\n    </tr>\n    <tr>\n      <th>1</th>\n      <td>False</td>\n      <td>False</td>\n      <td>False</td>\n      <td>False</td>\n      <td>False</td>\n    </tr>\n    <tr>\n      <th>2</th>\n      <td>False</td>\n      <td>False</td>\n      <td>True</td>\n      <td>False</td>\n      <td>False</td>\n    </tr>\n    <tr>\n      <th>3</th>\n      <td>False</td>\n      <td>False</td>\n      <td>False</td>\n      <td>False</td>\n      <td>False</td>\n    </tr>\n    <tr>\n      <th>4</th>\n      <td>False</td>\n      <td>False</td>\n      <td>False</td>\n      <td>False</td>\n      <td>False</td>\n    </tr>\n  </tbody>\n</table>\n</div>"
     },
     "execution_count": 38,
     "metadata": {},
     "output_type": "execute_result"
    }
   ],
   "source": [
    "# 当对DataFrame批量操作时 可以使用pd.isna\n",
    "pd.isna(test_for_nan)"
   ],
   "metadata": {
    "collapsed": false,
    "pycharm": {
     "name": "#%%\n"
    }
   }
  },
  {
   "cell_type": "code",
   "execution_count": 39,
   "outputs": [
    {
     "data": {
      "text/plain": "0    False\n1    False\n2     True\n3    False\n4    False\ndtype: bool"
     },
     "execution_count": 39,
     "metadata": {},
     "output_type": "execute_result"
    }
   ],
   "source": [
    "test_for_nan.isna().any()\n",
    "# 可以获得某列是否有nan"
   ],
   "metadata": {
    "collapsed": false,
    "pycharm": {
     "name": "#%%\n"
    }
   }
  },
  {
   "cell_type": "code",
   "execution_count": 26,
   "outputs": [
    {
     "data": {
      "text/plain": "          0         1   2       3         4\n2  0.418941 -0.437199 NaN -0.2617 -0.349626",
      "text/html": "<div>\n<style scoped>\n    .dataframe tbody tr th:only-of-type {\n        vertical-align: middle;\n    }\n\n    .dataframe tbody tr th {\n        vertical-align: top;\n    }\n\n    .dataframe thead th {\n        text-align: right;\n    }\n</style>\n<table border=\"1\" class=\"dataframe\">\n  <thead>\n    <tr style=\"text-align: right;\">\n      <th></th>\n      <th>0</th>\n      <th>1</th>\n      <th>2</th>\n      <th>3</th>\n      <th>4</th>\n    </tr>\n  </thead>\n  <tbody>\n    <tr>\n      <th>2</th>\n      <td>0.418941</td>\n      <td>-0.437199</td>\n      <td>NaN</td>\n      <td>-0.2617</td>\n      <td>-0.349626</td>\n    </tr>\n  </tbody>\n</table>\n</div>"
     },
     "execution_count": 26,
     "metadata": {},
     "output_type": "execute_result"
    }
   ],
   "source": [
    "# 用其进行过滤\n",
    "test_for_nan[pd.isna(test_for_nan[2])]"
   ],
   "metadata": {
    "collapsed": false,
    "pycharm": {
     "name": "#%%\n"
    }
   }
  },
  {
   "cell_type": "code",
   "execution_count": 35,
   "outputs": [
    {
     "data": {
      "text/plain": "          0         1         2         3         4\n0  0.386705  1.740946 -0.167043  0.065908 -0.260793\n1  1.259807 -1.297512 -0.476708 -0.431429  0.695003\n2 -0.713533  0.664800       0.0 -1.109088  0.920453\n3  0.179955 -0.004545   0.36354 -1.147992  0.550288\n4  2.097021 -0.357472  1.462833  1.781074 -1.465377",
      "text/html": "<div>\n<style scoped>\n    .dataframe tbody tr th:only-of-type {\n        vertical-align: middle;\n    }\n\n    .dataframe tbody tr th {\n        vertical-align: top;\n    }\n\n    .dataframe thead th {\n        text-align: right;\n    }\n</style>\n<table border=\"1\" class=\"dataframe\">\n  <thead>\n    <tr style=\"text-align: right;\">\n      <th></th>\n      <th>0</th>\n      <th>1</th>\n      <th>2</th>\n      <th>3</th>\n      <th>4</th>\n    </tr>\n  </thead>\n  <tbody>\n    <tr>\n      <th>0</th>\n      <td>0.386705</td>\n      <td>1.740946</td>\n      <td>-0.167043</td>\n      <td>0.065908</td>\n      <td>-0.260793</td>\n    </tr>\n    <tr>\n      <th>1</th>\n      <td>1.259807</td>\n      <td>-1.297512</td>\n      <td>-0.476708</td>\n      <td>-0.431429</td>\n      <td>0.695003</td>\n    </tr>\n    <tr>\n      <th>2</th>\n      <td>-0.713533</td>\n      <td>0.664800</td>\n      <td>0.0</td>\n      <td>-1.109088</td>\n      <td>0.920453</td>\n    </tr>\n    <tr>\n      <th>3</th>\n      <td>0.179955</td>\n      <td>-0.004545</td>\n      <td>0.36354</td>\n      <td>-1.147992</td>\n      <td>0.550288</td>\n    </tr>\n    <tr>\n      <th>4</th>\n      <td>2.097021</td>\n      <td>-0.357472</td>\n      <td>1.462833</td>\n      <td>1.781074</td>\n      <td>-1.465377</td>\n    </tr>\n  </tbody>\n</table>\n</div>"
     },
     "execution_count": 35,
     "metadata": {},
     "output_type": "execute_result"
    }
   ],
   "source": [
    "# 使用fillna进行替换\n",
    "test_for_nan.fillna('0.0', inplace=True)\n",
    "test_for_nan"
   ],
   "metadata": {
    "collapsed": false,
    "pycharm": {
     "name": "#%%\n"
    }
   }
  },
  {
   "cell_type": "markdown",
   "source": [
    "## get_loc/iloc/loc等方法\n",
    "1. get_loc可以作用在列和行商来获取索引位置；"
   ],
   "metadata": {
    "collapsed": false,
    "pycharm": {
     "name": "#%% md\n"
    }
   }
  },
  {
   "cell_type": "code",
   "execution_count": 27,
   "outputs": [
    {
     "data": {
      "text/plain": "          a         b         c\n0 -1.344769  0.503440  0.520011\n1 -0.557821 -0.473207 -0.091789\n2  0.878631  0.598788  0.130798",
      "text/html": "<div>\n<style scoped>\n    .dataframe tbody tr th:only-of-type {\n        vertical-align: middle;\n    }\n\n    .dataframe tbody tr th {\n        vertical-align: top;\n    }\n\n    .dataframe thead th {\n        text-align: right;\n    }\n</style>\n<table border=\"1\" class=\"dataframe\">\n  <thead>\n    <tr style=\"text-align: right;\">\n      <th></th>\n      <th>a</th>\n      <th>b</th>\n      <th>c</th>\n    </tr>\n  </thead>\n  <tbody>\n    <tr>\n      <th>0</th>\n      <td>-1.344769</td>\n      <td>0.503440</td>\n      <td>0.520011</td>\n    </tr>\n    <tr>\n      <th>1</th>\n      <td>-0.557821</td>\n      <td>-0.473207</td>\n      <td>-0.091789</td>\n    </tr>\n    <tr>\n      <th>2</th>\n      <td>0.878631</td>\n      <td>0.598788</td>\n      <td>0.130798</td>\n    </tr>\n  </tbody>\n</table>\n</div>"
     },
     "execution_count": 27,
     "metadata": {},
     "output_type": "execute_result"
    }
   ],
   "source": [
    "# -------------------------------------------------------\n",
    "# 5.get_loc方法\n",
    "\n",
    "test_for_get_loc = pd.DataFrame(np.random.randn(3,3))\n",
    "test_for_get_loc.columns = ['a','b','c']\n",
    "test_for_get_loc"
   ],
   "metadata": {
    "collapsed": false,
    "pycharm": {
     "name": "#%%\n"
    }
   }
  },
  {
   "cell_type": "code",
   "execution_count": 28,
   "outputs": [
    {
     "name": "stdout",
     "output_type": "stream",
     "text": [
      "type of columns:  <class 'pandas.core.indexes.base.Index'>\n",
      "type of index:  <class 'pandas.core.indexes.range.RangeIndex'>\n"
     ]
    }
   ],
   "source": [
    "print('type of columns: ', type(test_for_get_loc.columns))\n",
    "print('type of index: ', type(test_for_get_loc.index))"
   ],
   "metadata": {
    "collapsed": false,
    "pycharm": {
     "name": "#%%\n"
    }
   }
  },
  {
   "cell_type": "code",
   "execution_count": 29,
   "outputs": [
    {
     "data": {
      "text/plain": "1"
     },
     "execution_count": 29,
     "metadata": {},
     "output_type": "execute_result"
    }
   ],
   "source": [
    "test_for_get_loc.columns.get_loc('b')\n",
    "# get_loc方法可以columns获取 索引位置"
   ],
   "metadata": {
    "collapsed": false,
    "pycharm": {
     "name": "#%%\n"
    }
   }
  },
  {
   "cell_type": "code",
   "execution_count": 30,
   "outputs": [
    {
     "data": {
      "text/plain": "2"
     },
     "execution_count": 30,
     "metadata": {},
     "output_type": "execute_result"
    }
   ],
   "source": [
    "test_for_get_loc.index.get_loc(2)\n",
    "# get_loc方法可以获取index的索引位置"
   ],
   "metadata": {
    "collapsed": false,
    "pycharm": {
     "name": "#%%\n"
    }
   }
  },
  {
   "cell_type": "markdown",
   "source": [
    "## dtypes astype\n",
    "1. 一个DataFrame对象的dtypes属性表明了其列的数据类型；\n",
    "2. astype方法可以改变其数据类型 参数为一个dict"
   ],
   "metadata": {
    "collapsed": false,
    "pycharm": {
     "name": "#%% md\n"
    }
   }
  },
  {
   "cell_type": "code",
   "execution_count": 40,
   "outputs": [
    {
     "data": {
      "text/plain": "   int_num str  float_num\na        1   a        1.0\nc        2   b        2.0\nd        3   c        3.0",
      "text/html": "<div>\n<style scoped>\n    .dataframe tbody tr th:only-of-type {\n        vertical-align: middle;\n    }\n\n    .dataframe tbody tr th {\n        vertical-align: top;\n    }\n\n    .dataframe thead th {\n        text-align: right;\n    }\n</style>\n<table border=\"1\" class=\"dataframe\">\n  <thead>\n    <tr style=\"text-align: right;\">\n      <th></th>\n      <th>int_num</th>\n      <th>str</th>\n      <th>float_num</th>\n    </tr>\n  </thead>\n  <tbody>\n    <tr>\n      <th>a</th>\n      <td>1</td>\n      <td>a</td>\n      <td>1.0</td>\n    </tr>\n    <tr>\n      <th>c</th>\n      <td>2</td>\n      <td>b</td>\n      <td>2.0</td>\n    </tr>\n    <tr>\n      <th>d</th>\n      <td>3</td>\n      <td>c</td>\n      <td>3.0</td>\n    </tr>\n  </tbody>\n</table>\n</div>"
     },
     "execution_count": 40,
     "metadata": {},
     "output_type": "execute_result"
    }
   ],
   "source": [
    "frame = pd.DataFrame([[1, 'a', 1.0],\n",
    "                      [2, 'b', 2.0],\n",
    "                      [3, 'c', 3.0]]\n",
    ",index=['a','c','d'],columns=['int_num','str','float_num'])\n",
    "frame"
   ],
   "metadata": {
    "collapsed": false,
    "pycharm": {
     "name": "#%%\n"
    }
   }
  },
  {
   "cell_type": "code",
   "execution_count": 41,
   "outputs": [
    {
     "data": {
      "text/plain": "int_num        int64\nstr           object\nfloat_num    float64\ndtype: object"
     },
     "execution_count": 41,
     "metadata": {},
     "output_type": "execute_result"
    }
   ],
   "source": [
    "# 显示数据类型\n",
    "frame.dtypes"
   ],
   "metadata": {
    "collapsed": false,
    "pycharm": {
     "name": "#%%\n"
    }
   }
  },
  {
   "cell_type": "code",
   "execution_count": 42,
   "outputs": [
    {
     "data": {
      "text/plain": "   int_num str  float_num\na      1.0   a        1.0\nc      2.0   b        2.0\nd      3.0   c        3.0",
      "text/html": "<div>\n<style scoped>\n    .dataframe tbody tr th:only-of-type {\n        vertical-align: middle;\n    }\n\n    .dataframe tbody tr th {\n        vertical-align: top;\n    }\n\n    .dataframe thead th {\n        text-align: right;\n    }\n</style>\n<table border=\"1\" class=\"dataframe\">\n  <thead>\n    <tr style=\"text-align: right;\">\n      <th></th>\n      <th>int_num</th>\n      <th>str</th>\n      <th>float_num</th>\n    </tr>\n  </thead>\n  <tbody>\n    <tr>\n      <th>a</th>\n      <td>1.0</td>\n      <td>a</td>\n      <td>1.0</td>\n    </tr>\n    <tr>\n      <th>c</th>\n      <td>2.0</td>\n      <td>b</td>\n      <td>2.0</td>\n    </tr>\n    <tr>\n      <th>d</th>\n      <td>3.0</td>\n      <td>c</td>\n      <td>3.0</td>\n    </tr>\n  </tbody>\n</table>\n</div>"
     },
     "execution_count": 42,
     "metadata": {},
     "output_type": "execute_result"
    }
   ],
   "source": [
    "frame = frame.astype({\n",
    "    'int_num' : 'float'\n",
    "})\n",
    "frame"
   ],
   "metadata": {
    "collapsed": false,
    "pycharm": {
     "name": "#%%\n"
    }
   }
  }
 ],
 "metadata": {
  "kernelspec": {
   "display_name": "Python 3",
   "language": "python",
   "name": "python3"
  },
  "language_info": {
   "codemirror_mode": {
    "name": "ipython",
    "version": 2
   },
   "file_extension": ".py",
   "mimetype": "text/x-python",
   "name": "python",
   "nbconvert_exporter": "python",
   "pygments_lexer": "ipython2",
   "version": "2.7.6"
  }
 },
 "nbformat": 4,
 "nbformat_minor": 0
}