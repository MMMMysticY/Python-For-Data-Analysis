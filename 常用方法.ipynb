{
 "cells": [
  {
   "cell_type": "code",
   "execution_count": 1,
   "metadata": {
    "collapsed": true
   },
   "outputs": [],
   "source": [
    "import pandas as pd\n",
    "import numpy as np"
   ]
  },
  {
   "cell_type": "code",
   "execution_count": 3,
   "outputs": [],
   "source": [
    "frame = pd.DataFrame(np.arange(9).reshape(3,3),index=['a','c','d'],columns=['Ohio','Texas','California'])"
   ],
   "metadata": {
    "collapsed": false,
    "pycharm": {
     "name": "#%%\n"
    }
   }
  },
  {
   "cell_type": "code",
   "execution_count": 5,
   "outputs": [
    {
     "data": {
      "text/plain": "   Ohio  Texas  California\na     0      1           2\nc     3      4           5\nd     6      7           8",
      "text/html": "<div>\n<style scoped>\n    .dataframe tbody tr th:only-of-type {\n        vertical-align: middle;\n    }\n\n    .dataframe tbody tr th {\n        vertical-align: top;\n    }\n\n    .dataframe thead th {\n        text-align: right;\n    }\n</style>\n<table border=\"1\" class=\"dataframe\">\n  <thead>\n    <tr style=\"text-align: right;\">\n      <th></th>\n      <th>Ohio</th>\n      <th>Texas</th>\n      <th>California</th>\n    </tr>\n  </thead>\n  <tbody>\n    <tr>\n      <th>a</th>\n      <td>0</td>\n      <td>1</td>\n      <td>2</td>\n    </tr>\n    <tr>\n      <th>c</th>\n      <td>3</td>\n      <td>4</td>\n      <td>5</td>\n    </tr>\n    <tr>\n      <th>d</th>\n      <td>6</td>\n      <td>7</td>\n      <td>8</td>\n    </tr>\n  </tbody>\n</table>\n</div>"
     },
     "execution_count": 5,
     "metadata": {},
     "output_type": "execute_result"
    }
   ],
   "source": [
    "frame"
   ],
   "metadata": {
    "collapsed": false,
    "pycharm": {
     "name": "#%%\n"
    }
   }
  },
  {
   "cell_type": "code",
   "execution_count": 6,
   "outputs": [],
   "source": [
    "frame['str_'] = ['efg','hij','klm']"
   ],
   "metadata": {
    "collapsed": false,
    "pycharm": {
     "name": "#%%\n"
    }
   }
  },
  {
   "cell_type": "code",
   "execution_count": 7,
   "outputs": [
    {
     "data": {
      "text/plain": "   Ohio  Texas  California str_\na     0      1           2  efg\nc     3      4           5  hij\nd     6      7           8  klm",
      "text/html": "<div>\n<style scoped>\n    .dataframe tbody tr th:only-of-type {\n        vertical-align: middle;\n    }\n\n    .dataframe tbody tr th {\n        vertical-align: top;\n    }\n\n    .dataframe thead th {\n        text-align: right;\n    }\n</style>\n<table border=\"1\" class=\"dataframe\">\n  <thead>\n    <tr style=\"text-align: right;\">\n      <th></th>\n      <th>Ohio</th>\n      <th>Texas</th>\n      <th>California</th>\n      <th>str_</th>\n    </tr>\n  </thead>\n  <tbody>\n    <tr>\n      <th>a</th>\n      <td>0</td>\n      <td>1</td>\n      <td>2</td>\n      <td>efg</td>\n    </tr>\n    <tr>\n      <th>c</th>\n      <td>3</td>\n      <td>4</td>\n      <td>5</td>\n      <td>hij</td>\n    </tr>\n    <tr>\n      <th>d</th>\n      <td>6</td>\n      <td>7</td>\n      <td>8</td>\n      <td>klm</td>\n    </tr>\n  </tbody>\n</table>\n</div>"
     },
     "execution_count": 7,
     "metadata": {},
     "output_type": "execute_result"
    }
   ],
   "source": [
    "frame"
   ],
   "metadata": {
    "collapsed": false,
    "pycharm": {
     "name": "#%%\n"
    }
   }
  },
  {
   "cell_type": "code",
   "execution_count": 8,
   "outputs": [
    {
     "data": {
      "text/plain": "   Ohio  Texas  California str_\na     0      1           2  efg",
      "text/html": "<div>\n<style scoped>\n    .dataframe tbody tr th:only-of-type {\n        vertical-align: middle;\n    }\n\n    .dataframe tbody tr th {\n        vertical-align: top;\n    }\n\n    .dataframe thead th {\n        text-align: right;\n    }\n</style>\n<table border=\"1\" class=\"dataframe\">\n  <thead>\n    <tr style=\"text-align: right;\">\n      <th></th>\n      <th>Ohio</th>\n      <th>Texas</th>\n      <th>California</th>\n      <th>str_</th>\n    </tr>\n  </thead>\n  <tbody>\n    <tr>\n      <th>a</th>\n      <td>0</td>\n      <td>1</td>\n      <td>2</td>\n      <td>efg</td>\n    </tr>\n  </tbody>\n</table>\n</div>"
     },
     "execution_count": 8,
     "metadata": {},
     "output_type": "execute_result"
    }
   ],
   "source": [
    "# ------------------------------------------------------------------\n",
    "# 1. 过滤\n",
    "# 对于数字可以直接用算数表达式过滤\n",
    "frame[frame['California'] == 2]"
   ],
   "metadata": {
    "collapsed": false,
    "pycharm": {
     "name": "#%%\n"
    }
   }
  },
  {
   "cell_type": "code",
   "execution_count": 9,
   "outputs": [
    {
     "data": {
      "text/plain": "   Ohio  Texas  California str_\nc     3      4           5  hij\nd     6      7           8  klm",
      "text/html": "<div>\n<style scoped>\n    .dataframe tbody tr th:only-of-type {\n        vertical-align: middle;\n    }\n\n    .dataframe tbody tr th {\n        vertical-align: top;\n    }\n\n    .dataframe thead th {\n        text-align: right;\n    }\n</style>\n<table border=\"1\" class=\"dataframe\">\n  <thead>\n    <tr style=\"text-align: right;\">\n      <th></th>\n      <th>Ohio</th>\n      <th>Texas</th>\n      <th>California</th>\n      <th>str_</th>\n    </tr>\n  </thead>\n  <tbody>\n    <tr>\n      <th>c</th>\n      <td>3</td>\n      <td>4</td>\n      <td>5</td>\n      <td>hij</td>\n    </tr>\n    <tr>\n      <th>d</th>\n      <td>6</td>\n      <td>7</td>\n      <td>8</td>\n      <td>klm</td>\n    </tr>\n  </tbody>\n</table>\n</div>"
     },
     "execution_count": 9,
     "metadata": {},
     "output_type": "execute_result"
    }
   ],
   "source": [
    "frame[frame['California'] != 2]"
   ],
   "metadata": {
    "collapsed": false,
    "pycharm": {
     "name": "#%%\n"
    }
   }
  },
  {
   "cell_type": "code",
   "execution_count": 11,
   "outputs": [
    {
     "data": {
      "text/plain": "False"
     },
     "execution_count": 11,
     "metadata": {},
     "output_type": "execute_result"
    }
   ],
   "source": [
    "# 对于字符串就无法用算数表达式\n",
    "'ef' in frame['str_']"
   ],
   "metadata": {
    "collapsed": false,
    "pycharm": {
     "name": "#%%\n"
    }
   }
  },
  {
   "cell_type": "code",
   "execution_count": 12,
   "outputs": [
    {
     "data": {
      "text/plain": "   Ohio  Texas  California str_\na     0      1           2  efg",
      "text/html": "<div>\n<style scoped>\n    .dataframe tbody tr th:only-of-type {\n        vertical-align: middle;\n    }\n\n    .dataframe tbody tr th {\n        vertical-align: top;\n    }\n\n    .dataframe thead th {\n        text-align: right;\n    }\n</style>\n<table border=\"1\" class=\"dataframe\">\n  <thead>\n    <tr style=\"text-align: right;\">\n      <th></th>\n      <th>Ohio</th>\n      <th>Texas</th>\n      <th>California</th>\n      <th>str_</th>\n    </tr>\n  </thead>\n  <tbody>\n    <tr>\n      <th>a</th>\n      <td>0</td>\n      <td>1</td>\n      <td>2</td>\n      <td>efg</td>\n    </tr>\n  </tbody>\n</table>\n</div>"
     },
     "execution_count": 12,
     "metadata": {},
     "output_type": "execute_result"
    }
   ],
   "source": [
    "# 这时候可以使用lambda表达式和apply\n",
    "\n",
    "frame[frame['str_'].apply(\n",
    "    lambda x: 'ef' in x\n",
    ")]"
   ],
   "metadata": {
    "collapsed": false,
    "pycharm": {
     "name": "#%%\n"
    }
   }
  },
  {
   "cell_type": "code",
   "execution_count": 13,
   "outputs": [
    {
     "data": {
      "text/plain": "   Ohio  Texas  California str_\na     0      1           2  efg",
      "text/html": "<div>\n<style scoped>\n    .dataframe tbody tr th:only-of-type {\n        vertical-align: middle;\n    }\n\n    .dataframe tbody tr th {\n        vertical-align: top;\n    }\n\n    .dataframe thead th {\n        text-align: right;\n    }\n</style>\n<table border=\"1\" class=\"dataframe\">\n  <thead>\n    <tr style=\"text-align: right;\">\n      <th></th>\n      <th>Ohio</th>\n      <th>Texas</th>\n      <th>California</th>\n      <th>str_</th>\n    </tr>\n  </thead>\n  <tbody>\n    <tr>\n      <th>a</th>\n      <td>0</td>\n      <td>1</td>\n      <td>2</td>\n      <td>efg</td>\n    </tr>\n  </tbody>\n</table>\n</div>"
     },
     "execution_count": 13,
     "metadata": {},
     "output_type": "execute_result"
    }
   ],
   "source": [
    "frame[frame.apply(\n",
    "    lambda x: 'ef' in x['str_'],\n",
    "    axis=1\n",
    ")]"
   ],
   "metadata": {
    "collapsed": false,
    "pycharm": {
     "name": "#%%\n"
    }
   }
  },
  {
   "cell_type": "code",
   "execution_count": 14,
   "outputs": [
    {
     "data": {
      "text/plain": "          0         1         2         3         4         5         6   \\\n0   0.592475  1.116430 -0.365319  0.457649  0.309431 -0.377373 -0.030262   \n1   0.374501  0.958215 -1.259853 -0.979916  0.580493 -0.754620 -0.187125   \n2   0.033374 -0.566140 -1.255958 -0.557734 -0.053255  0.259498 -0.022783   \n3   1.197311 -1.141903  2.236230  0.417721  1.501165  0.168749 -0.840942   \n4   0.721615  0.192960 -1.058252 -0.830908 -0.413827 -0.863355 -1.219640   \n..       ...       ...       ...       ...       ...       ...       ...   \n95 -2.320628  2.433841  0.943018 -0.924220 -1.143284 -0.876877 -1.661988   \n96  0.294399  0.546256  0.483033 -0.111188  1.544374  0.880997 -0.131782   \n97 -0.054529  0.688405 -0.705012 -0.498605  2.513077 -0.712891 -0.010800   \n98 -0.011315  0.709136 -0.544391 -0.825778  0.202579  1.600227 -1.066969   \n99  0.079394 -0.440107  0.671444  1.494739  0.220473  0.649937 -0.173326   \n\n          7         8         9   ...        90        91        92        93  \\\n0  -0.178664 -0.799780 -0.572798  ...  1.114207  1.017182 -0.647558  0.437702   \n1   0.780715  1.856776  0.599452  ...  0.412913 -0.575744  1.100878  1.727154   \n2  -1.169992 -0.516334  1.823355  ...  1.808705 -1.490600  0.224572  0.355221   \n3  -1.336724  2.550984 -0.253064  ...  0.437573 -2.078266  0.627899 -1.664520   \n4  -0.017629  0.955085 -0.051665  ...  0.185044 -0.761638  0.482006 -1.514325   \n..       ...       ...       ...  ...       ...       ...       ...       ...   \n95  0.292613 -1.071087  1.041939  ...  0.563357  1.330353 -0.804073  0.187088   \n96 -0.140631 -1.107127 -0.857627  ... -0.410781  0.158373  1.529110  0.666271   \n97  0.167885  0.618646 -0.220361  ... -0.474595  0.554546  0.537072  0.154152   \n98  0.330918  0.065468 -0.065740  ... -0.520810  0.973809  3.197758 -0.330411   \n99  0.786920  2.290498 -0.477733  ...  0.185817 -0.804866  1.191988  0.751708   \n\n          94        95        96        97        98        99  \n0  -0.042928 -0.815909  2.462817 -0.990057 -0.906549  0.081180  \n1   0.491073 -2.234363 -0.228015 -0.749409  0.131566 -0.372485  \n2   0.224622 -1.766945  0.294125 -0.642200 -0.473550 -0.215373  \n3   0.498793  1.386447 -0.015501 -1.781114 -0.102016  0.110058  \n4   0.528517  1.257965 -0.648677 -0.914091 -0.635842  0.936035  \n..       ...       ...       ...       ...       ...       ...  \n95 -0.018751 -1.327312 -1.407521 -1.063719  0.461420 -1.241028  \n96  0.908982  1.276491  0.178273 -0.542475  1.110108  1.118216  \n97  0.549853  0.328745 -0.292283 -0.602030  1.471590 -1.230554  \n98  0.456259  0.102216 -2.174267  0.270920 -0.429209 -0.156559  \n99 -1.129703 -0.322912 -0.450994  1.928021 -0.092755  1.315909  \n\n[100 rows x 100 columns]",
      "text/html": "<div>\n<style scoped>\n    .dataframe tbody tr th:only-of-type {\n        vertical-align: middle;\n    }\n\n    .dataframe tbody tr th {\n        vertical-align: top;\n    }\n\n    .dataframe thead th {\n        text-align: right;\n    }\n</style>\n<table border=\"1\" class=\"dataframe\">\n  <thead>\n    <tr style=\"text-align: right;\">\n      <th></th>\n      <th>0</th>\n      <th>1</th>\n      <th>2</th>\n      <th>3</th>\n      <th>4</th>\n      <th>5</th>\n      <th>6</th>\n      <th>7</th>\n      <th>8</th>\n      <th>9</th>\n      <th>...</th>\n      <th>90</th>\n      <th>91</th>\n      <th>92</th>\n      <th>93</th>\n      <th>94</th>\n      <th>95</th>\n      <th>96</th>\n      <th>97</th>\n      <th>98</th>\n      <th>99</th>\n    </tr>\n  </thead>\n  <tbody>\n    <tr>\n      <th>0</th>\n      <td>0.592475</td>\n      <td>1.116430</td>\n      <td>-0.365319</td>\n      <td>0.457649</td>\n      <td>0.309431</td>\n      <td>-0.377373</td>\n      <td>-0.030262</td>\n      <td>-0.178664</td>\n      <td>-0.799780</td>\n      <td>-0.572798</td>\n      <td>...</td>\n      <td>1.114207</td>\n      <td>1.017182</td>\n      <td>-0.647558</td>\n      <td>0.437702</td>\n      <td>-0.042928</td>\n      <td>-0.815909</td>\n      <td>2.462817</td>\n      <td>-0.990057</td>\n      <td>-0.906549</td>\n      <td>0.081180</td>\n    </tr>\n    <tr>\n      <th>1</th>\n      <td>0.374501</td>\n      <td>0.958215</td>\n      <td>-1.259853</td>\n      <td>-0.979916</td>\n      <td>0.580493</td>\n      <td>-0.754620</td>\n      <td>-0.187125</td>\n      <td>0.780715</td>\n      <td>1.856776</td>\n      <td>0.599452</td>\n      <td>...</td>\n      <td>0.412913</td>\n      <td>-0.575744</td>\n      <td>1.100878</td>\n      <td>1.727154</td>\n      <td>0.491073</td>\n      <td>-2.234363</td>\n      <td>-0.228015</td>\n      <td>-0.749409</td>\n      <td>0.131566</td>\n      <td>-0.372485</td>\n    </tr>\n    <tr>\n      <th>2</th>\n      <td>0.033374</td>\n      <td>-0.566140</td>\n      <td>-1.255958</td>\n      <td>-0.557734</td>\n      <td>-0.053255</td>\n      <td>0.259498</td>\n      <td>-0.022783</td>\n      <td>-1.169992</td>\n      <td>-0.516334</td>\n      <td>1.823355</td>\n      <td>...</td>\n      <td>1.808705</td>\n      <td>-1.490600</td>\n      <td>0.224572</td>\n      <td>0.355221</td>\n      <td>0.224622</td>\n      <td>-1.766945</td>\n      <td>0.294125</td>\n      <td>-0.642200</td>\n      <td>-0.473550</td>\n      <td>-0.215373</td>\n    </tr>\n    <tr>\n      <th>3</th>\n      <td>1.197311</td>\n      <td>-1.141903</td>\n      <td>2.236230</td>\n      <td>0.417721</td>\n      <td>1.501165</td>\n      <td>0.168749</td>\n      <td>-0.840942</td>\n      <td>-1.336724</td>\n      <td>2.550984</td>\n      <td>-0.253064</td>\n      <td>...</td>\n      <td>0.437573</td>\n      <td>-2.078266</td>\n      <td>0.627899</td>\n      <td>-1.664520</td>\n      <td>0.498793</td>\n      <td>1.386447</td>\n      <td>-0.015501</td>\n      <td>-1.781114</td>\n      <td>-0.102016</td>\n      <td>0.110058</td>\n    </tr>\n    <tr>\n      <th>4</th>\n      <td>0.721615</td>\n      <td>0.192960</td>\n      <td>-1.058252</td>\n      <td>-0.830908</td>\n      <td>-0.413827</td>\n      <td>-0.863355</td>\n      <td>-1.219640</td>\n      <td>-0.017629</td>\n      <td>0.955085</td>\n      <td>-0.051665</td>\n      <td>...</td>\n      <td>0.185044</td>\n      <td>-0.761638</td>\n      <td>0.482006</td>\n      <td>-1.514325</td>\n      <td>0.528517</td>\n      <td>1.257965</td>\n      <td>-0.648677</td>\n      <td>-0.914091</td>\n      <td>-0.635842</td>\n      <td>0.936035</td>\n    </tr>\n    <tr>\n      <th>...</th>\n      <td>...</td>\n      <td>...</td>\n      <td>...</td>\n      <td>...</td>\n      <td>...</td>\n      <td>...</td>\n      <td>...</td>\n      <td>...</td>\n      <td>...</td>\n      <td>...</td>\n      <td>...</td>\n      <td>...</td>\n      <td>...</td>\n      <td>...</td>\n      <td>...</td>\n      <td>...</td>\n      <td>...</td>\n      <td>...</td>\n      <td>...</td>\n      <td>...</td>\n      <td>...</td>\n    </tr>\n    <tr>\n      <th>95</th>\n      <td>-2.320628</td>\n      <td>2.433841</td>\n      <td>0.943018</td>\n      <td>-0.924220</td>\n      <td>-1.143284</td>\n      <td>-0.876877</td>\n      <td>-1.661988</td>\n      <td>0.292613</td>\n      <td>-1.071087</td>\n      <td>1.041939</td>\n      <td>...</td>\n      <td>0.563357</td>\n      <td>1.330353</td>\n      <td>-0.804073</td>\n      <td>0.187088</td>\n      <td>-0.018751</td>\n      <td>-1.327312</td>\n      <td>-1.407521</td>\n      <td>-1.063719</td>\n      <td>0.461420</td>\n      <td>-1.241028</td>\n    </tr>\n    <tr>\n      <th>96</th>\n      <td>0.294399</td>\n      <td>0.546256</td>\n      <td>0.483033</td>\n      <td>-0.111188</td>\n      <td>1.544374</td>\n      <td>0.880997</td>\n      <td>-0.131782</td>\n      <td>-0.140631</td>\n      <td>-1.107127</td>\n      <td>-0.857627</td>\n      <td>...</td>\n      <td>-0.410781</td>\n      <td>0.158373</td>\n      <td>1.529110</td>\n      <td>0.666271</td>\n      <td>0.908982</td>\n      <td>1.276491</td>\n      <td>0.178273</td>\n      <td>-0.542475</td>\n      <td>1.110108</td>\n      <td>1.118216</td>\n    </tr>\n    <tr>\n      <th>97</th>\n      <td>-0.054529</td>\n      <td>0.688405</td>\n      <td>-0.705012</td>\n      <td>-0.498605</td>\n      <td>2.513077</td>\n      <td>-0.712891</td>\n      <td>-0.010800</td>\n      <td>0.167885</td>\n      <td>0.618646</td>\n      <td>-0.220361</td>\n      <td>...</td>\n      <td>-0.474595</td>\n      <td>0.554546</td>\n      <td>0.537072</td>\n      <td>0.154152</td>\n      <td>0.549853</td>\n      <td>0.328745</td>\n      <td>-0.292283</td>\n      <td>-0.602030</td>\n      <td>1.471590</td>\n      <td>-1.230554</td>\n    </tr>\n    <tr>\n      <th>98</th>\n      <td>-0.011315</td>\n      <td>0.709136</td>\n      <td>-0.544391</td>\n      <td>-0.825778</td>\n      <td>0.202579</td>\n      <td>1.600227</td>\n      <td>-1.066969</td>\n      <td>0.330918</td>\n      <td>0.065468</td>\n      <td>-0.065740</td>\n      <td>...</td>\n      <td>-0.520810</td>\n      <td>0.973809</td>\n      <td>3.197758</td>\n      <td>-0.330411</td>\n      <td>0.456259</td>\n      <td>0.102216</td>\n      <td>-2.174267</td>\n      <td>0.270920</td>\n      <td>-0.429209</td>\n      <td>-0.156559</td>\n    </tr>\n    <tr>\n      <th>99</th>\n      <td>0.079394</td>\n      <td>-0.440107</td>\n      <td>0.671444</td>\n      <td>1.494739</td>\n      <td>0.220473</td>\n      <td>0.649937</td>\n      <td>-0.173326</td>\n      <td>0.786920</td>\n      <td>2.290498</td>\n      <td>-0.477733</td>\n      <td>...</td>\n      <td>0.185817</td>\n      <td>-0.804866</td>\n      <td>1.191988</td>\n      <td>0.751708</td>\n      <td>-1.129703</td>\n      <td>-0.322912</td>\n      <td>-0.450994</td>\n      <td>1.928021</td>\n      <td>-0.092755</td>\n      <td>1.315909</td>\n    </tr>\n  </tbody>\n</table>\n<p>100 rows × 100 columns</p>\n</div>"
     },
     "execution_count": 14,
     "metadata": {},
     "output_type": "execute_result"
    }
   ],
   "source": [
    "# --------------------------------------------------------\n",
    "# 2.采样\n",
    "number_df = pd.DataFrame(np.random.randn(100,100))\n",
    "number_df"
   ],
   "metadata": {
    "collapsed": false,
    "pycharm": {
     "name": "#%%\n"
    }
   }
  },
  {
   "cell_type": "code",
   "execution_count": 15,
   "outputs": [
    {
     "data": {
      "text/plain": "          0         1         2         3         4         5         6   \\\n55  1.844346  0.345371 -0.027995 -0.764912 -0.131724 -0.118413 -0.305034   \n57 -0.202423 -0.535999 -0.143389  0.726967  1.690629  0.865230  0.083456   \n98 -0.011315  0.709136 -0.544391 -0.825778  0.202579  1.600227 -1.066969   \n39  0.597058  0.285007 -0.601165 -1.641454  0.015462  0.492969 -0.688019   \n67  0.462434  0.344342 -0.208465 -0.484966  0.429794  1.048135  0.848390   \n69 -0.217747 -0.079379  1.911492 -0.912604 -1.016827 -1.036741  1.180743   \n87  0.341385 -0.092008  1.155676 -2.444333 -0.865228  2.128367  0.974288   \n31 -0.692457  1.309679 -1.173085 -0.188791  0.252568 -1.083750 -1.419837   \n93  1.422905  0.555795  1.196406 -0.136117 -1.026661 -0.446134 -0.862006   \n37  0.407466  0.249535  0.336391  0.398363 -0.108199  0.561968 -0.740905   \n\n          7         8         9   ...        90        91        92        93  \\\n55 -0.552774  1.043390  0.173123  ... -1.511429  0.823221 -0.161342  1.297861   \n57 -1.828339  0.092679  0.206647  ... -1.872062  1.178505 -0.093005  1.727256   \n98  0.330918  0.065468 -0.065740  ... -0.520810  0.973809  3.197758 -0.330411   \n39 -0.497421  0.393942 -1.827367  ...  0.972155 -0.509758  0.006198 -0.190336   \n67 -1.779916 -0.509349 -0.625839  ... -2.668795  0.532555 -0.165756 -1.167332   \n69 -0.594446  0.540378  0.444349  ... -0.674848 -0.917262 -0.303278  0.719336   \n87 -0.473150  0.861569 -1.536501  ...  0.324230 -2.426955 -1.502367 -1.014481   \n31 -0.343871  0.622578  0.159465  ...  1.422547 -1.551054 -1.978176  0.053775   \n93 -0.874007 -1.614794  0.355529  ...  0.673411 -1.950477 -0.784174  0.626375   \n37 -0.939970 -0.099463  1.321845  ...  0.622672 -0.612598 -0.611493 -2.180741   \n\n          94        95        96        97        98        99  \n55 -0.764219 -0.656983  0.065929  1.323957 -0.821286 -0.084589  \n57 -0.196621 -0.435872  0.657141  1.075974  0.664023  0.305387  \n98  0.456259  0.102216 -2.174267  0.270920 -0.429209 -0.156559  \n39 -0.407443  0.559900 -0.142347  1.054846  1.271676  0.605556  \n67  0.738440 -1.014010 -0.774219 -0.854717 -0.366367  0.508968  \n69  1.458972  0.514777  1.356235 -0.451909  0.507931 -0.840738  \n87  0.337421 -1.223793 -0.883704 -1.758288  1.793420 -1.196281  \n31 -0.064264 -0.412242 -0.146288  1.081082 -1.627772  0.835775  \n93  0.210708 -1.011919  1.017601 -0.964186 -0.502459  0.332567  \n37 -0.110460 -0.158036  0.732832 -0.752760 -1.621302  1.891906  \n\n[10 rows x 100 columns]",
      "text/html": "<div>\n<style scoped>\n    .dataframe tbody tr th:only-of-type {\n        vertical-align: middle;\n    }\n\n    .dataframe tbody tr th {\n        vertical-align: top;\n    }\n\n    .dataframe thead th {\n        text-align: right;\n    }\n</style>\n<table border=\"1\" class=\"dataframe\">\n  <thead>\n    <tr style=\"text-align: right;\">\n      <th></th>\n      <th>0</th>\n      <th>1</th>\n      <th>2</th>\n      <th>3</th>\n      <th>4</th>\n      <th>5</th>\n      <th>6</th>\n      <th>7</th>\n      <th>8</th>\n      <th>9</th>\n      <th>...</th>\n      <th>90</th>\n      <th>91</th>\n      <th>92</th>\n      <th>93</th>\n      <th>94</th>\n      <th>95</th>\n      <th>96</th>\n      <th>97</th>\n      <th>98</th>\n      <th>99</th>\n    </tr>\n  </thead>\n  <tbody>\n    <tr>\n      <th>55</th>\n      <td>1.844346</td>\n      <td>0.345371</td>\n      <td>-0.027995</td>\n      <td>-0.764912</td>\n      <td>-0.131724</td>\n      <td>-0.118413</td>\n      <td>-0.305034</td>\n      <td>-0.552774</td>\n      <td>1.043390</td>\n      <td>0.173123</td>\n      <td>...</td>\n      <td>-1.511429</td>\n      <td>0.823221</td>\n      <td>-0.161342</td>\n      <td>1.297861</td>\n      <td>-0.764219</td>\n      <td>-0.656983</td>\n      <td>0.065929</td>\n      <td>1.323957</td>\n      <td>-0.821286</td>\n      <td>-0.084589</td>\n    </tr>\n    <tr>\n      <th>57</th>\n      <td>-0.202423</td>\n      <td>-0.535999</td>\n      <td>-0.143389</td>\n      <td>0.726967</td>\n      <td>1.690629</td>\n      <td>0.865230</td>\n      <td>0.083456</td>\n      <td>-1.828339</td>\n      <td>0.092679</td>\n      <td>0.206647</td>\n      <td>...</td>\n      <td>-1.872062</td>\n      <td>1.178505</td>\n      <td>-0.093005</td>\n      <td>1.727256</td>\n      <td>-0.196621</td>\n      <td>-0.435872</td>\n      <td>0.657141</td>\n      <td>1.075974</td>\n      <td>0.664023</td>\n      <td>0.305387</td>\n    </tr>\n    <tr>\n      <th>98</th>\n      <td>-0.011315</td>\n      <td>0.709136</td>\n      <td>-0.544391</td>\n      <td>-0.825778</td>\n      <td>0.202579</td>\n      <td>1.600227</td>\n      <td>-1.066969</td>\n      <td>0.330918</td>\n      <td>0.065468</td>\n      <td>-0.065740</td>\n      <td>...</td>\n      <td>-0.520810</td>\n      <td>0.973809</td>\n      <td>3.197758</td>\n      <td>-0.330411</td>\n      <td>0.456259</td>\n      <td>0.102216</td>\n      <td>-2.174267</td>\n      <td>0.270920</td>\n      <td>-0.429209</td>\n      <td>-0.156559</td>\n    </tr>\n    <tr>\n      <th>39</th>\n      <td>0.597058</td>\n      <td>0.285007</td>\n      <td>-0.601165</td>\n      <td>-1.641454</td>\n      <td>0.015462</td>\n      <td>0.492969</td>\n      <td>-0.688019</td>\n      <td>-0.497421</td>\n      <td>0.393942</td>\n      <td>-1.827367</td>\n      <td>...</td>\n      <td>0.972155</td>\n      <td>-0.509758</td>\n      <td>0.006198</td>\n      <td>-0.190336</td>\n      <td>-0.407443</td>\n      <td>0.559900</td>\n      <td>-0.142347</td>\n      <td>1.054846</td>\n      <td>1.271676</td>\n      <td>0.605556</td>\n    </tr>\n    <tr>\n      <th>67</th>\n      <td>0.462434</td>\n      <td>0.344342</td>\n      <td>-0.208465</td>\n      <td>-0.484966</td>\n      <td>0.429794</td>\n      <td>1.048135</td>\n      <td>0.848390</td>\n      <td>-1.779916</td>\n      <td>-0.509349</td>\n      <td>-0.625839</td>\n      <td>...</td>\n      <td>-2.668795</td>\n      <td>0.532555</td>\n      <td>-0.165756</td>\n      <td>-1.167332</td>\n      <td>0.738440</td>\n      <td>-1.014010</td>\n      <td>-0.774219</td>\n      <td>-0.854717</td>\n      <td>-0.366367</td>\n      <td>0.508968</td>\n    </tr>\n    <tr>\n      <th>69</th>\n      <td>-0.217747</td>\n      <td>-0.079379</td>\n      <td>1.911492</td>\n      <td>-0.912604</td>\n      <td>-1.016827</td>\n      <td>-1.036741</td>\n      <td>1.180743</td>\n      <td>-0.594446</td>\n      <td>0.540378</td>\n      <td>0.444349</td>\n      <td>...</td>\n      <td>-0.674848</td>\n      <td>-0.917262</td>\n      <td>-0.303278</td>\n      <td>0.719336</td>\n      <td>1.458972</td>\n      <td>0.514777</td>\n      <td>1.356235</td>\n      <td>-0.451909</td>\n      <td>0.507931</td>\n      <td>-0.840738</td>\n    </tr>\n    <tr>\n      <th>87</th>\n      <td>0.341385</td>\n      <td>-0.092008</td>\n      <td>1.155676</td>\n      <td>-2.444333</td>\n      <td>-0.865228</td>\n      <td>2.128367</td>\n      <td>0.974288</td>\n      <td>-0.473150</td>\n      <td>0.861569</td>\n      <td>-1.536501</td>\n      <td>...</td>\n      <td>0.324230</td>\n      <td>-2.426955</td>\n      <td>-1.502367</td>\n      <td>-1.014481</td>\n      <td>0.337421</td>\n      <td>-1.223793</td>\n      <td>-0.883704</td>\n      <td>-1.758288</td>\n      <td>1.793420</td>\n      <td>-1.196281</td>\n    </tr>\n    <tr>\n      <th>31</th>\n      <td>-0.692457</td>\n      <td>1.309679</td>\n      <td>-1.173085</td>\n      <td>-0.188791</td>\n      <td>0.252568</td>\n      <td>-1.083750</td>\n      <td>-1.419837</td>\n      <td>-0.343871</td>\n      <td>0.622578</td>\n      <td>0.159465</td>\n      <td>...</td>\n      <td>1.422547</td>\n      <td>-1.551054</td>\n      <td>-1.978176</td>\n      <td>0.053775</td>\n      <td>-0.064264</td>\n      <td>-0.412242</td>\n      <td>-0.146288</td>\n      <td>1.081082</td>\n      <td>-1.627772</td>\n      <td>0.835775</td>\n    </tr>\n    <tr>\n      <th>93</th>\n      <td>1.422905</td>\n      <td>0.555795</td>\n      <td>1.196406</td>\n      <td>-0.136117</td>\n      <td>-1.026661</td>\n      <td>-0.446134</td>\n      <td>-0.862006</td>\n      <td>-0.874007</td>\n      <td>-1.614794</td>\n      <td>0.355529</td>\n      <td>...</td>\n      <td>0.673411</td>\n      <td>-1.950477</td>\n      <td>-0.784174</td>\n      <td>0.626375</td>\n      <td>0.210708</td>\n      <td>-1.011919</td>\n      <td>1.017601</td>\n      <td>-0.964186</td>\n      <td>-0.502459</td>\n      <td>0.332567</td>\n    </tr>\n    <tr>\n      <th>37</th>\n      <td>0.407466</td>\n      <td>0.249535</td>\n      <td>0.336391</td>\n      <td>0.398363</td>\n      <td>-0.108199</td>\n      <td>0.561968</td>\n      <td>-0.740905</td>\n      <td>-0.939970</td>\n      <td>-0.099463</td>\n      <td>1.321845</td>\n      <td>...</td>\n      <td>0.622672</td>\n      <td>-0.612598</td>\n      <td>-0.611493</td>\n      <td>-2.180741</td>\n      <td>-0.110460</td>\n      <td>-0.158036</td>\n      <td>0.732832</td>\n      <td>-0.752760</td>\n      <td>-1.621302</td>\n      <td>1.891906</td>\n    </tr>\n  </tbody>\n</table>\n<p>10 rows × 100 columns</p>\n</div>"
     },
     "execution_count": 15,
     "metadata": {},
     "output_type": "execute_result"
    }
   ],
   "source": [
    "# 如果要随机对DataFrame进行采样 使用sample方法\n",
    "number_df.sample(frac=0.1, axis=0)"
   ],
   "metadata": {
    "collapsed": false,
    "pycharm": {
     "name": "#%%\n"
    }
   }
  },
  {
   "cell_type": "code",
   "execution_count": 16,
   "outputs": [
    {
     "data": {
      "text/plain": "          3         13        9         96        49        69        38  \\\n0   0.457649 -1.817999 -0.572798  2.462817 -0.945118 -0.535802 -0.424793   \n1  -0.979916  1.949848  0.599452 -0.228015  0.063248  1.156391 -1.182630   \n2  -0.557734 -0.497974  1.823355  0.294125 -0.079803 -0.039785 -0.037522   \n3   0.417721  1.544599 -0.253064 -0.015501  0.568316  1.579480  0.589244   \n4  -0.830908  0.482157 -0.051665 -0.648677 -0.315540  1.702893 -0.814271   \n..       ...       ...       ...       ...       ...       ...       ...   \n95 -0.924220 -0.527748  1.041939 -1.407521 -0.373590  1.751417  1.674493   \n96 -0.111188  0.380104 -0.857627  0.178273  2.652913 -0.838672  1.170782   \n97 -0.498605 -0.706648 -0.220361 -0.292283 -0.440695  0.988504  0.725962   \n98 -0.825778 -1.508147 -0.065740 -2.174267 -0.400549 -0.941218 -0.615498   \n99  1.494739  0.279768 -0.477733 -0.450994 -0.890162  0.319184  1.736897   \n\n          81        84        78  \n0   0.695045  1.094818 -1.149163  \n1   0.804145  0.041684 -0.262330  \n2   0.374986  0.823388  0.983451  \n3  -0.340886 -1.051550 -0.993523  \n4   0.704275 -2.608809 -0.383608  \n..       ...       ...       ...  \n95  0.256920 -1.338365  0.520434  \n96 -1.515666  1.290780 -0.925972  \n97 -1.314445 -0.758894 -2.240100  \n98 -1.161675 -1.031132 -0.372420  \n99  0.487302  0.537984  0.393195  \n\n[100 rows x 10 columns]",
      "text/html": "<div>\n<style scoped>\n    .dataframe tbody tr th:only-of-type {\n        vertical-align: middle;\n    }\n\n    .dataframe tbody tr th {\n        vertical-align: top;\n    }\n\n    .dataframe thead th {\n        text-align: right;\n    }\n</style>\n<table border=\"1\" class=\"dataframe\">\n  <thead>\n    <tr style=\"text-align: right;\">\n      <th></th>\n      <th>3</th>\n      <th>13</th>\n      <th>9</th>\n      <th>96</th>\n      <th>49</th>\n      <th>69</th>\n      <th>38</th>\n      <th>81</th>\n      <th>84</th>\n      <th>78</th>\n    </tr>\n  </thead>\n  <tbody>\n    <tr>\n      <th>0</th>\n      <td>0.457649</td>\n      <td>-1.817999</td>\n      <td>-0.572798</td>\n      <td>2.462817</td>\n      <td>-0.945118</td>\n      <td>-0.535802</td>\n      <td>-0.424793</td>\n      <td>0.695045</td>\n      <td>1.094818</td>\n      <td>-1.149163</td>\n    </tr>\n    <tr>\n      <th>1</th>\n      <td>-0.979916</td>\n      <td>1.949848</td>\n      <td>0.599452</td>\n      <td>-0.228015</td>\n      <td>0.063248</td>\n      <td>1.156391</td>\n      <td>-1.182630</td>\n      <td>0.804145</td>\n      <td>0.041684</td>\n      <td>-0.262330</td>\n    </tr>\n    <tr>\n      <th>2</th>\n      <td>-0.557734</td>\n      <td>-0.497974</td>\n      <td>1.823355</td>\n      <td>0.294125</td>\n      <td>-0.079803</td>\n      <td>-0.039785</td>\n      <td>-0.037522</td>\n      <td>0.374986</td>\n      <td>0.823388</td>\n      <td>0.983451</td>\n    </tr>\n    <tr>\n      <th>3</th>\n      <td>0.417721</td>\n      <td>1.544599</td>\n      <td>-0.253064</td>\n      <td>-0.015501</td>\n      <td>0.568316</td>\n      <td>1.579480</td>\n      <td>0.589244</td>\n      <td>-0.340886</td>\n      <td>-1.051550</td>\n      <td>-0.993523</td>\n    </tr>\n    <tr>\n      <th>4</th>\n      <td>-0.830908</td>\n      <td>0.482157</td>\n      <td>-0.051665</td>\n      <td>-0.648677</td>\n      <td>-0.315540</td>\n      <td>1.702893</td>\n      <td>-0.814271</td>\n      <td>0.704275</td>\n      <td>-2.608809</td>\n      <td>-0.383608</td>\n    </tr>\n    <tr>\n      <th>...</th>\n      <td>...</td>\n      <td>...</td>\n      <td>...</td>\n      <td>...</td>\n      <td>...</td>\n      <td>...</td>\n      <td>...</td>\n      <td>...</td>\n      <td>...</td>\n      <td>...</td>\n    </tr>\n    <tr>\n      <th>95</th>\n      <td>-0.924220</td>\n      <td>-0.527748</td>\n      <td>1.041939</td>\n      <td>-1.407521</td>\n      <td>-0.373590</td>\n      <td>1.751417</td>\n      <td>1.674493</td>\n      <td>0.256920</td>\n      <td>-1.338365</td>\n      <td>0.520434</td>\n    </tr>\n    <tr>\n      <th>96</th>\n      <td>-0.111188</td>\n      <td>0.380104</td>\n      <td>-0.857627</td>\n      <td>0.178273</td>\n      <td>2.652913</td>\n      <td>-0.838672</td>\n      <td>1.170782</td>\n      <td>-1.515666</td>\n      <td>1.290780</td>\n      <td>-0.925972</td>\n    </tr>\n    <tr>\n      <th>97</th>\n      <td>-0.498605</td>\n      <td>-0.706648</td>\n      <td>-0.220361</td>\n      <td>-0.292283</td>\n      <td>-0.440695</td>\n      <td>0.988504</td>\n      <td>0.725962</td>\n      <td>-1.314445</td>\n      <td>-0.758894</td>\n      <td>-2.240100</td>\n    </tr>\n    <tr>\n      <th>98</th>\n      <td>-0.825778</td>\n      <td>-1.508147</td>\n      <td>-0.065740</td>\n      <td>-2.174267</td>\n      <td>-0.400549</td>\n      <td>-0.941218</td>\n      <td>-0.615498</td>\n      <td>-1.161675</td>\n      <td>-1.031132</td>\n      <td>-0.372420</td>\n    </tr>\n    <tr>\n      <th>99</th>\n      <td>1.494739</td>\n      <td>0.279768</td>\n      <td>-0.477733</td>\n      <td>-0.450994</td>\n      <td>-0.890162</td>\n      <td>0.319184</td>\n      <td>1.736897</td>\n      <td>0.487302</td>\n      <td>0.537984</td>\n      <td>0.393195</td>\n    </tr>\n  </tbody>\n</table>\n<p>100 rows × 10 columns</p>\n</div>"
     },
     "execution_count": 16,
     "metadata": {},
     "output_type": "execute_result"
    }
   ],
   "source": [
    "number_df.sample(frac=0.1, axis=1)"
   ],
   "metadata": {
    "collapsed": false,
    "pycharm": {
     "name": "#%%\n"
    }
   }
  },
  {
   "cell_type": "code",
   "execution_count": 17,
   "outputs": [
    {
     "data": {
      "text/plain": "[(18, 25], (18, 25], (18, 25], (25, 35], (18, 25], ..., (25, 35], (60, 100], (35, 60], (35, 60], (25, 35]]\nLength: 12\nCategories (4, interval[int64]): [(18, 25] < (25, 35] < (35, 60] < (60, 100]]"
     },
     "execution_count": 17,
     "metadata": {},
     "output_type": "execute_result"
    }
   ],
   "source": [
    "# -------------------------------------------------------\n",
    "# 3.分箱\n",
    "\n",
    "ages = [20,22,25,27,21,23,37,31,61,45,41,32]\n",
    "#将离散值进行更加离散化，即区间化\n",
    "bins = [18,25,35,60,100]\n",
    "cat = pd.cut(ages,bins)\n",
    "cat"
   ],
   "metadata": {
    "collapsed": false,
    "pycharm": {
     "name": "#%%\n"
    }
   }
  },
  {
   "cell_type": "code",
   "execution_count": 18,
   "outputs": [
    {
     "name": "stdout",
     "output_type": "stream",
     "text": [
      "code:  [0 0 0 1 0 0 2 1 3 2 2 1]\n",
      "category:  IntervalIndex([(18, 25], (25, 35], (35, 60], (60, 100]],\n",
      "              closed='right',\n",
      "              dtype='interval[int64]')\n"
     ]
    }
   ],
   "source": [
    "# codes属性可以获得对应的分类值\n",
    "print('code: ', cat.codes)\n",
    "# category属性可以获得区间情况\n",
    "print('category: ',cat.categories)"
   ],
   "metadata": {
    "collapsed": false,
    "pycharm": {
     "name": "#%%\n"
    }
   }
  },
  {
   "cell_type": "code",
   "execution_count": 20,
   "outputs": [
    {
     "data": {
      "text/plain": "[(0.00202, 0.19], (0.377, 0.564], (0.19, 0.377], (0.751, 0.938], (0.564, 0.751], ..., (0.751, 0.938], (0.00202, 0.19], (0.00202, 0.19], (0.751, 0.938], (0.377, 0.564]]\nLength: 20\nCategories (5, interval[float64]): [(0.00202, 0.19] < (0.19, 0.377] < (0.377, 0.564] < (0.564, 0.751] < (0.751, 0.938]]"
     },
     "execution_count": 20,
     "metadata": {},
     "output_type": "execute_result"
    }
   ],
   "source": [
    "data_bins = np.random.rand(20)\n",
    "\n",
    "pd.cut(data_bins, 5)\n",
    "# 如果仅提供分箱个数 那么就会按照最大最小值菊粉"
   ],
   "metadata": {
    "collapsed": false,
    "pycharm": {
     "name": "#%%\n"
    }
   }
  },
  {
   "cell_type": "code",
   "execution_count": 21,
   "outputs": [
    {
     "data": {
      "text/plain": "(18, 25]     5\n(35, 60]     3\n(25, 35]     3\n(60, 100]    1\ndtype: int64"
     },
     "execution_count": 21,
     "metadata": {},
     "output_type": "execute_result"
    }
   ],
   "source": [
    "# 使用value_counts方法可以对分箱个数进行统计 (就可以画直方图了)\n",
    "pd.value_counts(cat)"
   ],
   "metadata": {
    "collapsed": false,
    "pycharm": {
     "name": "#%%\n"
    }
   }
  },
  {
   "cell_type": "code",
   "execution_count": 23,
   "outputs": [
    {
     "data": {
      "text/plain": "   (0.0473, 0.199]  (0.199, 0.35]  (0.35, 0.501]  (0.501, 0.651]  \\\n0                1              0              0               0   \n1                0              0              0               0   \n2                1              0              0               0   \n3                0              0              1               0   \n4                0              0              0               0   \n5                1              0              0               0   \n6                0              0              0               0   \n7                0              0              1               0   \n8                1              0              0               0   \n9                0              0              0               1   \n\n   (0.651, 0.802]  \n0               0  \n1               1  \n2               0  \n3               0  \n4               1  \n5               0  \n6               1  \n7               0  \n8               0  \n9               0  ",
      "text/html": "<div>\n<style scoped>\n    .dataframe tbody tr th:only-of-type {\n        vertical-align: middle;\n    }\n\n    .dataframe tbody tr th {\n        vertical-align: top;\n    }\n\n    .dataframe thead th {\n        text-align: right;\n    }\n</style>\n<table border=\"1\" class=\"dataframe\">\n  <thead>\n    <tr style=\"text-align: right;\">\n      <th></th>\n      <th>(0.0473, 0.199]</th>\n      <th>(0.199, 0.35]</th>\n      <th>(0.35, 0.501]</th>\n      <th>(0.501, 0.651]</th>\n      <th>(0.651, 0.802]</th>\n    </tr>\n  </thead>\n  <tbody>\n    <tr>\n      <th>0</th>\n      <td>1</td>\n      <td>0</td>\n      <td>0</td>\n      <td>0</td>\n      <td>0</td>\n    </tr>\n    <tr>\n      <th>1</th>\n      <td>0</td>\n      <td>0</td>\n      <td>0</td>\n      <td>0</td>\n      <td>1</td>\n    </tr>\n    <tr>\n      <th>2</th>\n      <td>1</td>\n      <td>0</td>\n      <td>0</td>\n      <td>0</td>\n      <td>0</td>\n    </tr>\n    <tr>\n      <th>3</th>\n      <td>0</td>\n      <td>0</td>\n      <td>1</td>\n      <td>0</td>\n      <td>0</td>\n    </tr>\n    <tr>\n      <th>4</th>\n      <td>0</td>\n      <td>0</td>\n      <td>0</td>\n      <td>0</td>\n      <td>1</td>\n    </tr>\n    <tr>\n      <th>5</th>\n      <td>1</td>\n      <td>0</td>\n      <td>0</td>\n      <td>0</td>\n      <td>0</td>\n    </tr>\n    <tr>\n      <th>6</th>\n      <td>0</td>\n      <td>0</td>\n      <td>0</td>\n      <td>0</td>\n      <td>1</td>\n    </tr>\n    <tr>\n      <th>7</th>\n      <td>0</td>\n      <td>0</td>\n      <td>1</td>\n      <td>0</td>\n      <td>0</td>\n    </tr>\n    <tr>\n      <th>8</th>\n      <td>1</td>\n      <td>0</td>\n      <td>0</td>\n      <td>0</td>\n      <td>0</td>\n    </tr>\n    <tr>\n      <th>9</th>\n      <td>0</td>\n      <td>0</td>\n      <td>0</td>\n      <td>1</td>\n      <td>0</td>\n    </tr>\n  </tbody>\n</table>\n</div>"
     },
     "execution_count": 23,
     "metadata": {},
     "output_type": "execute_result"
    }
   ],
   "source": [
    "data_bins2 = np.random.rand(10)\n",
    "# one-hot编码与分箱\n",
    "pd.get_dummies(pd.cut(data_bins2,5))\n",
    "#这样可以对原始数据分箱 并转化为one-hot向量 在对连续数据区间化的过程中很有用"
   ],
   "metadata": {
    "collapsed": false,
    "pycharm": {
     "name": "#%%\n"
    }
   }
  },
  {
   "cell_type": "code",
   "execution_count": null,
   "outputs": [],
   "source": [],
   "metadata": {
    "collapsed": false,
    "pycharm": {
     "name": "#%%\n"
    }
   }
  }
 ],
 "metadata": {
  "kernelspec": {
   "display_name": "Python 3",
   "language": "python",
   "name": "python3"
  },
  "language_info": {
   "codemirror_mode": {
    "name": "ipython",
    "version": 2
   },
   "file_extension": ".py",
   "mimetype": "text/x-python",
   "name": "python",
   "nbconvert_exporter": "python",
   "pygments_lexer": "ipython2",
   "version": "2.7.6"
  }
 },
 "nbformat": 4,
 "nbformat_minor": 0
}